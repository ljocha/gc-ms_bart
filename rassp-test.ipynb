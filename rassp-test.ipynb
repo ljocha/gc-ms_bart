{
 "cells": [
  {
   "cell_type": "code",
   "execution_count": 1,
   "id": "afc32db1",
   "metadata": {
    "tags": []
   },
   "outputs": [],
   "source": [
    "threads=8\n",
    "import os\n",
    "os.environ['OMP_NUM_THREADS']=str(threads)\n",
    "import torch"
   ]
  },
  {
   "cell_type": "code",
   "execution_count": 2,
   "id": "7d49d3eb",
   "metadata": {
    "tags": []
   },
   "outputs": [],
   "source": [
    "import pandas as pd\n",
    "import urllib\n",
    "import pickle\n",
    "import rassp\n",
    "from rassp import netutil\n",
    "from rdkit import Chem\n",
    "import numpy as np"
   ]
  },
  {
   "cell_type": "code",
   "execution_count": null,
   "id": "2f742dc4",
   "metadata": {
    "tags": []
   },
   "outputs": [],
   "source": [
    "# XXX: needed by pickle.load of rassp models\n",
    "\n",
    "from rassp import msutil,model\n",
    "import sys\n",
    "sys.modules['msutil'] = msutil\n",
    "sys.modules['model'] = model"
   ]
  },
  {
   "cell_type": "code",
   "execution_count": null,
   "id": "e23cb82e",
   "metadata": {
    "tags": []
   },
   "outputs": [],
   "source": [
    "s = pd.read_parquet('rassp-public/sample_data/smallmols_cfm_pred_public_sample.parquet')"
   ]
  },
  {
   "cell_type": "code",
   "execution_count": null,
   "id": "376d8935",
   "metadata": {
    "tags": []
   },
   "outputs": [],
   "source": [
    "s.iloc[0].spect"
   ]
  },
  {
   "cell_type": "code",
   "execution_count": null,
   "id": "83274c14",
   "metadata": {
    "tags": []
   },
   "outputs": [],
   "source": [
    "s.iloc[0].spect_sparse"
   ]
  },
  {
   "cell_type": "code",
   "execution_count": null,
   "id": "b750b9df",
   "metadata": {
    "tags": []
   },
   "outputs": [],
   "source": [
    "s.iloc[0]"
   ]
  },
  {
   "cell_type": "code",
   "execution_count": null,
   "id": "3cf98b93",
   "metadata": {
    "tags": []
   },
   "outputs": [],
   "source": [
    "m = Chem.Mol(s.iloc[1].rdmol)\n",
    "m"
   ]
  },
  {
   "cell_type": "code",
   "execution_count": null,
   "id": "c7620d7b",
   "metadata": {
    "tags": []
   },
   "outputs": [],
   "source": [
    "[ a.GetAtomicNum() for a in m.GetAtoms()]"
   ]
  },
  {
   "cell_type": "markdown",
   "id": "b1e6b0bb",
   "metadata": {},
   "source": [
    "### TODO \n",
    "\n",
    "Z toho pouziva RASSP jen spect a rdmol\n",
    "rdmol je serializovany rdkit.Chem.Mol\n",
    "\n",
    "to budeme umet z MSP vyrobit"
   ]
  },
  {
   "cell_type": "code",
   "execution_count": null,
   "id": "71aa4037",
   "metadata": {
    "tags": []
   },
   "outputs": [],
   "source": [
    "base='https://people.cs.uchicago.edu/~ericj/rassp/'\n",
    "files=[ 'formulanet_best_candidate_pcsim_pretrain.nist-fromscratch-3x9x128.35790555.00000740.model',    \n",
    "'formulanet_best_candidate_pcsim_pretrain.nist-fromscratch-3x9x128.35790555.meta',\n",
    "'subsetnet_best_candidate_nist_fromscratch.nist-fromscratch-test01-old-1x2048.36688199.00001000.model', \n",
    "'subsetnet_best_candidate_nist_fromscratch.nist-fromscratch-test01-old-1x2048.36688199.meta',   \n",
    "'subsetnet_best_candidate_nist_posttrain_cluster.cluster-nist-posttrain.35946017.00000480.model',\n",
    "'subsetnet_best_candidate_nist_posttrain_cluster.cluster-nist-posttrain.35946017.meta']\n",
    "\n",
    "for f in files:\n",
    "    urllib.request.urlretrieve(f'{base}/{f}',f)"
   ]
  },
  {
   "cell_type": "code",
   "execution_count": null,
   "id": "3371ed03",
   "metadata": {
    "tags": []
   },
   "outputs": [],
   "source": [
    "# from original run_rassp.py\n",
    "\n",
    "use_gpu=True\n",
    "model_dir='.'\n",
    "\n",
    "MODELS = {\n",
    "    'FormulaNet': {\n",
    "        'checkpoint': os.path.join(model_dir, 'formulanet_best_candidate_pcsim_pretrain.nist-fromscratch-3x9x128.35790555.00000740.model'),\n",
    "        'meta': os.path.join(model_dir, 'formulanet_best_candidate_pcsim_pretrain.nist-fromscratch-3x9x128.35790555.meta'),\n",
    "\n",
    "        # NOTE(2023-01-24): FN currently has a reduced set of valid mol constraints bc this is what we trained with\n",
    "        # and there is currently an outstanding bug where changing N_ATOMS here breaks FN predictions in subtle ways.\n",
    "        'override_constraints': {\n",
    "            'n_atom': 48,\n",
    "            # 'n_formula': 4096,\n",
    "            'n_formula': 32768,\n",
    "            # 'n_subset': 12288,\n",
    "            'n_subset': 49152,\n",
    "        },\n",
    "    },\n",
    "    'SubsetNet': {\n",
    "        'checkpoint': os.path.join(model_dir, 'subsetnet_best_candidate_nist_fromscratch.nist-fromscratch-test01-old-1x2048.36688199.00001000.model'),\n",
    "        'meta': os.path.join(model_dir, 'subsetnet_best_candidate_nist_fromscratch.nist-fromscratch-test01-old-1x2048.36688199.meta'),\n",
    "\n",
    "        # NOTE: this set of params works for SN GPU inference on a single RTX 2080 Ti (12GB VRAM)\n",
    "        # despite SN being trained on <= 48 atoms like FN, it also scales well to mols up to <= 64 atoms (tested)\n",
    "        'override_constraints': {\n",
    "            'n_atom': 64,\n",
    "            'n_formula': 32768,\n",
    "            'n_subset': 49152,\n",
    "        },\n",
    "    },\n",
    "}\n",
    "\n",
    "model_name='FormulaNet'\n",
    "meta_path = MODELS[model_name]['meta']\n",
    "ckpt_path = MODELS[model_name]['checkpoint']\n",
    "override_constraints = MODELS[model_name]['override_constraints']\n",
    "meta = pickle.load(open(meta_path, 'rb'))\n",
    "\n",
    "feat_config = meta['featurize_config']\n",
    "for key, val in override_constraints.items():\n",
    "    if key == 'n_atom':\n",
    "        feat_config['MAX_N'] = val\n",
    "    if key == 'n_formula':\n",
    "        feat_config['explicit_formulae_config']['max_formulae'] = val\n",
    "    if key == 'n_subset':\n",
    "        feat_config['vert_subset_samples_n'] = val\n",
    "\n",
    "if use_gpu and not torch.cuda.is_available():\n",
    "    use_gpu = False\n",
    "\n",
    "predictor = netutil.PredModel(\n",
    "    meta_path,\n",
    "    ckpt_path,\n",
    "    USE_CUDA=use_gpu,\n",
    "    data_parallel=False,\n",
    "    featurize_config_update=feat_config,\n",
    ")\n"
   ]
  },
  {
   "cell_type": "code",
   "execution_count": null,
   "id": "a13f60a0",
   "metadata": {
    "tags": []
   },
   "outputs": [],
   "source": [
    "smiles = ['C1=CNN=C1','CC(C)C#N','CCC(=C)C','CC[N+](=O)[O-]','C1=CSC(=N1)N=C(C(C(F)(F)F)(OC(C(C(F)(F)F)(OC(C(C(F)(F)F)(F)F)(F)F)F)(F)F)F)N'] \n",
    "\n",
    "valid_mols = [ Chem.AddHs(Chem.MolFromSmiles(s)) for s in smiles ]"
   ]
  },
  {
   "cell_type": "code",
   "execution_count": null,
   "id": "9498d60c",
   "metadata": {},
   "outputs": [],
   "source": [
    "predictions = predictor.pred(\n",
    "    valid_mols,\n",
    "    progress_bar=True,\n",
    "    normalize_pred=True,\n",
    "    output_hist_bins=True,\n",
    "    batch_size=2, # XXX\n",
    "    dataloader_config={\n",
    "        'pin_memory': False,\n",
    "        'num_workers': 0, # XXX\n",
    "        'persistent_workers': False,\n",
    "    },\n",
    "    benchmark_dataloader=False,\n",
    ")\n"
   ]
  },
  {
   "cell_type": "code",
   "execution_count": null,
   "id": "8ab1fabd",
   "metadata": {
    "tags": []
   },
   "outputs": [],
   "source": [
    "shit_pred17 = predictions['pred_binned']"
   ]
  },
  {
   "cell_type": "code",
   "execution_count": null,
   "id": "51f8b96d",
   "metadata": {},
   "outputs": [],
   "source": []
  },
  {
   "cell_type": "code",
   "execution_count": null,
   "id": "c9a4e22d",
   "metadata": {},
   "outputs": [],
   "source": []
  },
  {
   "cell_type": "code",
   "execution_count": null,
   "id": "45db3991",
   "metadata": {
    "tags": []
   },
   "outputs": [],
   "source": [
    "nist_path = '20210925_NIST_EI_MS_cleaned.msp'\n",
    "\n",
    "from matchms.importing import load_from_msp\n",
    "nist = list(load_from_msp(nist_path, metadata_harmonization=False))"
   ]
  },
  {
   "cell_type": "code",
   "execution_count": null,
   "id": "ebdc4406",
   "metadata": {
    "tags": []
   },
   "outputs": [],
   "source": [
    "len(nist)"
   ]
  },
  {
   "cell_type": "code",
   "execution_count": null,
   "id": "5fbad88c",
   "metadata": {
    "tags": []
   },
   "outputs": [],
   "source": [
    "nist[42].metadata"
   ]
  },
  {
   "cell_type": "code",
   "execution_count": null,
   "id": "bdfd9753",
   "metadata": {
    "tags": []
   },
   "outputs": [],
   "source": [
    "Chem.MolToSmiles(Chem.inchi.MolFromInchi(nist[42].metadata['inchi']))"
   ]
  },
  {
   "cell_type": "code",
   "execution_count": null,
   "id": "2887adfc",
   "metadata": {
    "tags": []
   },
   "outputs": [],
   "source": [
    "nist[42].peaks.mz"
   ]
  },
  {
   "cell_type": "code",
   "execution_count": null,
   "id": "34af89b2",
   "metadata": {
    "tags": []
   },
   "outputs": [],
   "source": [
    "nist[42].peaks.intensities"
   ]
  },
  {
   "cell_type": "code",
   "execution_count": null,
   "id": "fd055e11",
   "metadata": {
    "tags": []
   },
   "outputs": [],
   "source": [
    "mol = Chem.AddHs(Chem.MolFromSmiles(nist[42].metadata['smiles']))\n",
    "len(mol.GetPropNames())"
   ]
  },
  {
   "cell_type": "code",
   "execution_count": null,
   "id": "c82b4d6f",
   "metadata": {
    "tags": []
   },
   "outputs": [],
   "source": [
    "b = mol.ToBinary()\n",
    "b"
   ]
  },
  {
   "cell_type": "code",
   "execution_count": null,
   "id": "5e4f754b",
   "metadata": {
    "tags": []
   },
   "outputs": [],
   "source": [
    "m2 = Chem.Mol(b)\n",
    "m2"
   ]
  },
  {
   "cell_type": "code",
   "execution_count": null,
   "id": "0817bc93",
   "metadata": {
    "tags": []
   },
   "outputs": [],
   "source": [
    "import numpy as np\n",
    "a=np.stack([nist[42].peaks.mz,nist[42].peaks.intensities],axis=1)\n",
    "a"
   ]
  },
  {
   "cell_type": "code",
   "execution_count": null,
   "id": "203b8a36",
   "metadata": {
    "tags": []
   },
   "outputs": [],
   "source": [
    "bb = np.empty(shape=(a.shape[0],),dtype=object)\n",
    "bb[:] = list(a)\n",
    "bb"
   ]
  },
  {
   "cell_type": "code",
   "execution_count": null,
   "id": "348116d2",
   "metadata": {
    "tags": []
   },
   "outputs": [],
   "source": [
    "np.array(list(a),dtype=object)"
   ]
  },
  {
   "cell_type": "code",
   "execution_count": null,
   "id": "e9715a5e",
   "metadata": {
    "tags": []
   },
   "outputs": [],
   "source": [
    "n=nist[42]\n",
    "np.array([ np.array(p,dtype=object) for p in zip(n.peaks.mz, n.peaks.intensities)])\n",
    "#[ np.array(p) for p in zip(n.peaks.mz, n.peaks.intensities)]"
   ]
  },
  {
   "cell_type": "code",
   "execution_count": null,
   "id": "1d09b01d",
   "metadata": {
    "tags": []
   },
   "outputs": [],
   "source": [
    "# valid_atoms = {1, 6, 7, 8, 9, 15, 16, 17}\n",
    "# FIXME: rassp/msutil/shared.h\n",
    "# not acceptable, narrows down the model too much, we need Br, Si at least\n",
    "\n",
    "# fixed:\n",
    "valid_atoms = {1, 5, 6, 7, 8, 9, 14, 15, 16, 17, 35, 53}\n",
    "\n",
    "# requires isotopic data in rassp/msutil/floatmasseval_per_elt_peaks.h\n",
    "\n",
    "# dtto MAX_N == 48\n",
    "\n",
    "def mkdf(nist2):\n",
    "    missing = dict()\n",
    "    mols = [ ]\n",
    "    spects = []\n",
    "    smiles = []\n",
    "    for i,n in enumerate(nist2):\n",
    "        if n.metadata.get('smiles') is None:\n",
    "            print(i,'no smiles')\n",
    "            continue\n",
    "        mol = Chem.MolFromSmiles(n.metadata['smiles'])\n",
    "        if mol is None: \n",
    "            print(i,n.metadata['smiles'][:100],'... cant parse')\n",
    "            continue \n",
    "        mol = Chem.AddHs(mol)\n",
    "        if mol is None: \n",
    "            print(i,n.metadata['smiles'],'... cant add Hs')\n",
    "            continue \n",
    "            \n",
    "        if len(mol.GetAtoms()) > 48:\n",
    "            print(i,n.metadata['smiles'],'... too many atoms')\n",
    "            continue\n",
    "        \n",
    "        atoms = { a.GetAtomicNum() for a in mol.GetAtoms() }\n",
    "        if not atoms < valid_atoms:\n",
    "            for e in atoms - valid_atoms:\n",
    "                missing[e] = missing.get(e,0)+1\n",
    "                \n",
    "            print(i,n.metadata['smiles'],atoms,'... invalid atom')\n",
    "            continue\n",
    "        \n",
    "        mols.append(mol.ToBinary())\n",
    "        a = np.stack([n.peaks.mz, n.peaks.intensities], axis=1)\n",
    "        b = np.empty(shape=(a.shape[0],),dtype=object)\n",
    "        b[:] = list(a)\n",
    "        spects.append(b)\n",
    "        smiles.append(n.metadata['smiles'])\n",
    "\n",
    "    df = pd.DataFrame.from_dict({ 'rdmol' : mols, 'spect' : spects, 'smiles' : smiles })\n",
    "    return df,missing"
   ]
  },
  {
   "cell_type": "code",
   "execution_count": null,
   "id": "ba037bef",
   "metadata": {
    "tags": []
   },
   "outputs": [],
   "source": [
    "%%capture\n",
    "trd,missing = mkdf(nist)"
   ]
  },
  {
   "cell_type": "code",
   "execution_count": null,
   "id": "71a0abf6",
   "metadata": {
    "tags": []
   },
   "outputs": [],
   "source": [
    "sorted(missing.items(),key=lambda x: x[1])"
   ]
  },
  {
   "cell_type": "code",
   "execution_count": null,
   "id": "8d77b85c",
   "metadata": {
    "tags": []
   },
   "outputs": [],
   "source": [
    "test_mask = np.random.choice([True, False], p=[.2,.8], size=len(trd))"
   ]
  },
  {
   "cell_type": "code",
   "execution_count": null,
   "id": "a10ec59e",
   "metadata": {
    "tags": []
   },
   "outputs": [],
   "source": [
    "trd[test_mask == False].to_parquet('train.pq')"
   ]
  },
  {
   "cell_type": "code",
   "execution_count": 4,
   "id": "f4c6d1cc",
   "metadata": {
    "tags": []
   },
   "outputs": [],
   "source": [
    "td = pd.read_parquet('train.pq')                    "
   ]
  },
  {
   "cell_type": "code",
   "execution_count": 7,
   "id": "2c7f3ba0",
   "metadata": {},
   "outputs": [],
   "source": [
    "td[:200].to_parquet('fake_train.pq')"
   ]
  },
  {
   "cell_type": "code",
   "execution_count": 5,
   "id": "b21d3f9f",
   "metadata": {
    "tags": []
   },
   "outputs": [
    {
     "data": {
      "text/plain": [
       "array([array([ 1.  , 20.98]), array([  2., 999.])], dtype=object)"
      ]
     },
     "execution_count": 5,
     "metadata": {},
     "output_type": "execute_result"
    }
   ],
   "source": [
    "td.iloc[0].spect"
   ]
  },
  {
   "cell_type": "code",
   "execution_count": null,
   "id": "70a7a80e",
   "metadata": {
    "tags": []
   },
   "outputs": [],
   "source": [
    "%%capture\n",
    "tstd = mkdf(nist[1:1000:2])"
   ]
  },
  {
   "cell_type": "code",
   "execution_count": null,
   "id": "986e8cdb",
   "metadata": {
    "tags": []
   },
   "outputs": [],
   "source": [
    "#tstd.to_parquet('test.pq')\n",
    "trd[test_mask].to_parquet('test.pq')"
   ]
  },
  {
   "cell_type": "code",
   "execution_count": null,
   "id": "50a3ae49",
   "metadata": {
    "tags": []
   },
   "outputs": [],
   "source": [
    "tstd"
   ]
  },
  {
   "cell_type": "code",
   "execution_count": null,
   "id": "a81f6099",
   "metadata": {},
   "outputs": [],
   "source": [
    "import sys\n",
    "sys.path.append('./rassp-public/rassp')\n",
    "from forward_train import train"
   ]
  },
  {
   "cell_type": "code",
   "execution_count": null,
   "id": "96716ecf",
   "metadata": {
    "tags": []
   },
   "outputs": [],
   "source": [
    "import yaml\n",
    "with open('rassp-public/rassp/expconfig/demo.yaml') as cf:\n",
    "    exp_config = yaml.load(cf,Loader=yaml.FullLoader)"
   ]
  },
  {
   "cell_type": "code",
   "execution_count": null,
   "id": "a936f49c",
   "metadata": {
    "tags": []
   },
   "outputs": [],
   "source": [
    "exp_config['cluster_config']['data_dir'] = '.'\n",
    "exp_config['DATALOADER_NUM_WORKERS'] = 8\n",
    "exp_config['max_epochs'] = 200\n",
    "exp_config['epoch_size'] = 4096\n",
    "exp_config['batch_size'] = 4\n",
    "exp_config['automatic_mixed_precision'] = False # broken\n",
    "exp_config['featurize_config']['explicit_formulae_config']['max_formulae'] = 80000 # XXX\n",
    "exp_config['featurize_config']['element_oh']=list(valid_atoms)\n",
    "exp_config['featurize_config']['explicit_formulae_config']['formula_possible_atomicno'] = list(valid_atoms)\n",
    "\n",
    "exp_config['exp_data']['data'][0]['db_filename'] = 'train.pq'\n",
    "exp_config['exp_data']['data'][1]['db_filename'] = 'test.pq'\n",
    "\n",
    "with open('exp.yml','w') as y:\n",
    "    yaml.dump(exp_config,y)"
   ]
  },
  {
   "cell_type": "code",
   "execution_count": null,
   "id": "c7917b11",
   "metadata": {},
   "outputs": [],
   "source": [
    "import os\n",
    "os.environ[\"PYTORCH_CUDA_ALLOC_CONF\"] = \"max_split_size_mb:512\""
   ]
  },
  {
   "cell_type": "code",
   "execution_count": null,
   "id": "0bd7dc7f",
   "metadata": {
    "tags": []
   },
   "outputs": [],
   "source": [
    "train('test',exp_config,exp_config_filename='exp.yml',USE_CUDA=True)"
   ]
  },
  {
   "cell_type": "code",
   "execution_count": null,
   "id": "c00d5641",
   "metadata": {},
   "outputs": [],
   "source": [
    "trd[trd.smiles.str.contains('C(Cl)Br',regex=False)]\n",
    "#trd[trd.smiles.str.contains('Br',regex=False)]"
   ]
  },
  {
   "cell_type": "code",
   "execution_count": null,
   "id": "fe1bb807",
   "metadata": {
    "tags": []
   },
   "outputs": [],
   "source": [
    "m=Chem.Mol(trd.iloc[7208].rdmol)\n",
    "m"
   ]
  },
  {
   "cell_type": "code",
   "execution_count": null,
   "id": "ea6c0597",
   "metadata": {
    "tags": []
   },
   "outputs": [],
   "source": [
    "not {a.GetAtomicNum() for a in m.GetAtoms()} < {1,2,6,7,8,9,15,16,17}"
   ]
  },
  {
   "cell_type": "code",
   "execution_count": null,
   "id": "4f71a94f",
   "metadata": {
    "tags": []
   },
   "outputs": [],
   "source": [
    "trd = pd.read_parquet('train.pq')"
   ]
  },
  {
   "cell_type": "code",
   "execution_count": null,
   "id": "1fb411eb",
   "metadata": {},
   "outputs": [],
   "source": [
    "shit_nist=trd[trd.smiles.str.contains({*smiles},regex=False)]"
   ]
  },
  {
   "cell_type": "code",
   "execution_count": null,
   "id": "1bca4ee9",
   "metadata": {
    "tags": []
   },
   "outputs": [],
   "source": [
    "idx=4"
   ]
  },
  {
   "cell_type": "code",
   "execution_count": null,
   "id": "381c4ffb",
   "metadata": {
    "tags": []
   },
   "outputs": [],
   "source": [
    "shit_nist=trd[trd.smiles == smiles[idx]]\n",
    "shit_nist"
   ]
  },
  {
   "cell_type": "code",
   "execution_count": null,
   "id": "9524829d",
   "metadata": {
    "tags": []
   },
   "outputs": [],
   "source": [
    "idx2=0"
   ]
  },
  {
   "cell_type": "code",
   "execution_count": null,
   "id": "ecd618ca",
   "metadata": {
    "tags": []
   },
   "outputs": [],
   "source": [
    "import matchms\n",
    "mzi=np.array(list(shit_nist.iloc[idx2].spect))\n",
    "shit1 = matchms.Spectrum(mz=mzi[:,0],intensities=mzi[:,1])\n",
    "mzi=shit_pred17[idx].astype(float)\n",
    "shit2 = matchms.Spectrum(mz=mzi[:,0],intensities=mzi[:,1])"
   ]
  },
  {
   "cell_type": "code",
   "execution_count": null,
   "id": "01158eb1",
   "metadata": {
    "tags": []
   },
   "outputs": [],
   "source": [
    "from matchms.plotting import plot_spectra_mirror\n",
    "plot_spectra_mirror(shit1,shit2)"
   ]
  },
  {
   "cell_type": "code",
   "execution_count": null,
   "id": "a410ecb0",
   "metadata": {},
   "outputs": [],
   "source": [
    "nist[42]"
   ]
  },
  {
   "cell_type": "code",
   "execution_count": null,
   "id": "53785d92",
   "metadata": {},
   "outputs": [],
   "source": [
    "from rdkit import Chem\n",
    "len(Chem.AddHs(Chem.MolFromSmiles('CC(C)(C)N(CC(COC1=C(C=CC(=C1)Cl)Cl)OC(=O)C(F)(F)F)C(=O)C(F)(F)F')).GetAtoms())"
   ]
  },
  {
   "cell_type": "code",
   "execution_count": null,
   "id": "73f898f4",
   "metadata": {},
   "outputs": [],
   "source": [
    "valid_atoms"
   ]
  },
  {
   "cell_type": "code",
   "execution_count": null,
   "id": "b0a1bec8",
   "metadata": {},
   "outputs": [],
   "source": []
  },
  {
   "cell_type": "code",
   "execution_count": null,
   "id": "9fe8c5eb-6368-4a84-9169-25a930e9eefc",
   "metadata": {},
   "outputs": [],
   "source": [
    "from matchms.importing import load_from_msp\n",
    "ni = load_from_msp('../train-new.msp',"
   ]
  }
 ],
 "metadata": {
  "kernelspec": {
   "display_name": "Python 3 (ipykernel)",
   "language": "python",
   "name": "python3"
  },
  "language_info": {
   "codemirror_mode": {
    "name": "ipython",
    "version": 3
   },
   "file_extension": ".py",
   "mimetype": "text/x-python",
   "name": "python",
   "nbconvert_exporter": "python",
   "pygments_lexer": "ipython3",
   "version": "3.8.10"
  }
 },
 "nbformat": 4,
 "nbformat_minor": 5
}
