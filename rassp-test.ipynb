{
 "cells": [
  {
   "cell_type": "code",
   "execution_count": 1,
   "id": "b960323b-8f0b-4112-848b-12b17deb6ab8",
   "metadata": {
    "tags": []
   },
   "outputs": [
    {
     "name": "stderr",
     "output_type": "stream",
     "text": [
      "/opt/conda/lib/python3.8/site-packages/tqdm/auto.py:22: TqdmWarning: IProgress not found. Please update jupyter and ipywidgets. See https://ipywidgets.readthedocs.io/en/stable/user_install.html\n",
      "  from .autonotebook import tqdm as notebook_tqdm\n"
     ]
    }
   ],
   "source": [
    "threads=16\n",
    "import os\n",
    "os.environ['OMP_NUM_THREADS']=str(threads)\n",
    "import torch"
   ]
  },
  {
   "cell_type": "code",
   "execution_count": 2,
   "id": "bac6a059-bec6-4824-a7fa-66976b35abf0",
   "metadata": {
    "tags": []
   },
   "outputs": [],
   "source": [
    "import pandas as pd\n",
    "import urllib\n",
    "import pickle\n",
    "import rassp\n",
    "from rassp import netutil\n",
    "from rdkit import Chem"
   ]
  },
  {
   "cell_type": "code",
   "execution_count": 3,
   "id": "147df318-78bc-4372-b9bb-c386173bef68",
   "metadata": {
    "tags": []
   },
   "outputs": [],
   "source": [
    "# XXX: needed by pickle.load of rassp models\n",
    "\n",
    "from rassp import msutil,model\n",
    "import sys\n",
    "sys.modules['msutil'] = msutil\n",
    "sys.modules['model'] = model"
   ]
  },
  {
   "cell_type": "code",
   "execution_count": 4,
   "id": "a6d8f738-67ef-4d87-977c-cc5343d8b7d8",
   "metadata": {
    "tags": []
   },
   "outputs": [],
   "source": [
    "s = pd.read_parquet('rassp-public/sample_data/smallmols_cfm_pred_public_sample.parquet')"
   ]
  },
  {
   "cell_type": "code",
   "execution_count": 5,
   "id": "5dea2721-d7a3-40c0-8753-cf048e5d7104",
   "metadata": {
    "tags": []
   },
   "outputs": [
    {
     "data": {
      "text/plain": [
       "array([array([15.02292522,  0.91388646]),\n",
       "       array([25.00727602,  0.96256718]),\n",
       "       array([27.02292522,  3.49654964]),\n",
       "       array([29.03857442,  2.88757419]),\n",
       "       array([39.02292522,  0.92641582]),\n",
       "       array([41.03857442,  3.63968496]),\n",
       "       array([42.04639902,  2.29737418]),\n",
       "       array([43.05422362,  8.79653005]),\n",
       "       array([43.97152142,  2.10668418]),\n",
       "       array([44.06204822,  1.32544061]),\n",
       "       array([44.97934602,  2.70170413]),\n",
       "       array([45.06987282,  1.27590546]),\n",
       "       array([55.05422362,  2.72504282]),\n",
       "       array([58.98241922,  4.22013733]),\n",
       "       array([59.99024382,  2.07733632]),\n",
       "       array([69.06987282,  2.20343483]),\n",
       "       array([70.07769742,  1.42581885]),\n",
       "       array([71.08552202,  9.44191393]),\n",
       "       array([84.99806842,  1.50804528]),\n",
       "       array([86.00589302, 18.14332272]),\n",
       "       array([87.01371762,  1.56864662]),\n",
       "       array([88.02154222,  1.06527212]),\n",
       "       array([114.0371914 ,   2.45328396]),\n",
       "       array([129.0606652 ,   2.26316959])], dtype=object)"
      ]
     },
     "execution_count": 5,
     "metadata": {},
     "output_type": "execute_result"
    }
   ],
   "source": [
    "s.iloc[0].spect"
   ]
  },
  {
   "cell_type": "code",
   "execution_count": 63,
   "id": "97126243-4778-49e2-a17d-a069f73e5474",
   "metadata": {
    "tags": []
   },
   "outputs": [
    {
     "ename": "NameError",
     "evalue": "name 'self' is not defined",
     "output_type": "error",
     "traceback": [
      "\u001b[0;31m---------------------------------------------------------------------------\u001b[0m",
      "\u001b[0;31mNameError\u001b[0m                                 Traceback (most recent call last)",
      "Cell \u001b[0;32mIn[63], line 4\u001b[0m\n\u001b[1;32m      2\u001b[0m sparse_spect \u001b[38;5;241m=\u001b[39m s\u001b[38;5;241m.\u001b[39miloc[\u001b[38;5;241m0\u001b[39m]\u001b[38;5;241m.\u001b[39mspect\n\u001b[1;32m      3\u001b[0m record_spect \u001b[38;5;241m=\u001b[39m np\u001b[38;5;241m.\u001b[39mstack(sparse_spect)\n\u001b[0;32m----> 4\u001b[0m spect_idx, spect_p, spect_out \u001b[38;5;241m=\u001b[39m \u001b[38;5;28;43mself\u001b[39;49m\u001b[38;5;241m.\u001b[39mspect_bin_config\u001b[38;5;241m.\u001b[39mhistogram(record_spect[:, \u001b[38;5;241m0\u001b[39m],\n\u001b[1;32m      5\u001b[0m                                                                 record_spect[:, \u001b[38;5;241m1\u001b[39m])\n\u001b[1;32m      6\u001b[0m spect_out \u001b[38;5;241m=\u001b[39m spect_out\u001b[38;5;241m.\u001b[39mastype(np\u001b[38;5;241m.\u001b[39mfloat32)\n",
      "\u001b[0;31mNameError\u001b[0m: name 'self' is not defined"
     ]
    }
   ],
   "source": [
    "# PredFeaturizer\n",
    "sparse_spect = s.iloc[0].spect\n",
    "record_spect = np.stack(sparse_spect)\n",
    "spect_idx, spect_p, spect_out = self.spect_bin_config.histogram(record_spect[:, 0],\n",
    "                                                                record_spect[:, 1])\n",
    "spect_out = spect_out.astype(np.float32)\n"
   ]
  },
  {
   "cell_type": "code",
   "execution_count": null,
   "id": "d9cb4e83-5162-45ce-aab0-00d6646bb03d",
   "metadata": {
    "tags": []
   },
   "outputs": [],
   "source": [
    "s.iloc[0].spect_sparse"
   ]
  },
  {
   "cell_type": "code",
   "execution_count": 6,
   "id": "f8cf215f-ee7e-4096-a464-56b3b677ce07",
   "metadata": {
    "tags": []
   },
   "outputs": [
    {
     "data": {
      "text/plain": [
       "mol_id                                              NIST2014_10006\n",
       "inchi                InChI=1S/C6H11NS/c1-5(2)6(3)7-4-8/h5-6H,1-3H3\n",
       "smiles                                              CC(C)C(C)N=C=S\n",
       "rdmol            b'\\xef\\xbe\\xad\\xde\\x00\\x00\\x00\\x00\\x0c\\x00\\x00...\n",
       "cv_id                                                            7\n",
       "morgan4_crc32                                           3981836209\n",
       "spect            [[15.02292522, 0.9138864566], [25.00727602, 0....\n",
       "spect_sparse     [[15.0, 0.9138864566], [25.0, 0.9625671785], [...\n",
       "inchi_key                              YAVRRVJBEIYPRH-UHFFFAOYSA-N\n",
       "Name: 0, dtype: object"
      ]
     },
     "execution_count": 6,
     "metadata": {},
     "output_type": "execute_result"
    }
   ],
   "source": [
    "s.iloc[0]"
   ]
  },
  {
   "cell_type": "code",
   "execution_count": 61,
   "id": "8a061a2e-133c-49f2-b654-c6e58bbcb122",
   "metadata": {
    "tags": []
   },
   "outputs": [
    {
     "data": {
      "image/png": "[encoded data removed]",
      "text/html": [
       "<table><tr><td colspan=\"2\" style=\"text-align: center;\"><image src=\"data:image/png;base64,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\"></td></tr>\n",
       "<tr><th style=\"text-align: right\">name</th><td style=\"text-align: left\">4-Carbethoxy-2-oxazolidone</td></tr>\n",
       "<tr><th style=\"text-align: right\">program</th><td style=\"text-align: left\">  -NISTMS-12099911132D 1   1.0         0.0          </td></tr></table>"
      ],
      "text/plain": [
       "<rdkit.Chem.rdchem.Mol at 0x7fa86cefe810>"
      ]
     },
     "execution_count": 61,
     "metadata": {},
     "output_type": "execute_result"
    }
   ],
   "source": [
    "m = Chem.Mol(s.iloc[1].rdmol)\n",
    "m"
   ]
  },
  {
   "cell_type": "code",
   "execution_count": 42,
   "id": "d0459504-fc74-4678-9df2-0ed8c51a9ecd",
   "metadata": {
    "tags": []
   },
   "outputs": [
    {
     "data": {
      "text/plain": [
       "[6, 6, 7, 6, 8, 7, 6, 6, 6, 6, 6, 6, 1, 1, 1, 1, 1, 1, 1, 1, 1, 1]"
      ]
     },
     "execution_count": 42,
     "metadata": {},
     "output_type": "execute_result"
    }
   ],
   "source": [
    "[ a.GetAtomicNum() for a in m.GetAtoms()]"
   ]
  },
  {
   "cell_type": "markdown",
   "id": "28389677-597b-4132-a57a-5d2ea43189f4",
   "metadata": {},
   "source": [
    "### TODO \n",
    "\n",
    "Z toho pouziva RASSP jen spect a rdmol\n",
    "rdmol je serializovany rdkit.Chem.Mol\n",
    "\n",
    "to budeme umet z MSP vyrobit"
   ]
  },
  {
   "cell_type": "code",
   "execution_count": null,
   "id": "87250934-56d7-46cc-9d28-76603d1eff2d",
   "metadata": {
    "tags": []
   },
   "outputs": [],
   "source": [
    "base='https://people.cs.uchicago.edu/~ericj/rassp/'\n",
    "files=[ 'formulanet_best_candidate_pcsim_pretrain.nist-fromscratch-3x9x128.35790555.00000740.model',    \n",
    "'formulanet_best_candidate_pcsim_pretrain.nist-fromscratch-3x9x128.35790555.meta',\n",
    "'subsetnet_best_candidate_nist_fromscratch.nist-fromscratch-test01-old-1x2048.36688199.00001000.model', \n",
    "'subsetnet_best_candidate_nist_fromscratch.nist-fromscratch-test01-old-1x2048.36688199.meta',   \n",
    "'subsetnet_best_candidate_nist_posttrain_cluster.cluster-nist-posttrain.35946017.00000480.model',\n",
    "'subsetnet_best_candidate_nist_posttrain_cluster.cluster-nist-posttrain.35946017.meta']\n",
    "\n",
    "for f in files:\n",
    "    urllib.request.urlretrieve(f'{base}/{f}',f)"
   ]
  },
  {
   "cell_type": "code",
   "execution_count": 4,
   "id": "9f9852d2-7aa0-49fa-bd1f-352509e04834",
   "metadata": {
    "tags": []
   },
   "outputs": [],
   "source": [
    "# from original run_rassp.py\n",
    "\n",
    "use_gpu=True\n",
    "model_dir='.'\n",
    "\n",
    "MODELS = {\n",
    "    'FormulaNet': {\n",
    "        'checkpoint': os.path.join(model_dir, 'formulanet_best_candidate_pcsim_pretrain.nist-fromscratch-3x9x128.35790555.00000740.model'),\n",
    "        'meta': os.path.join(model_dir, 'formulanet_best_candidate_pcsim_pretrain.nist-fromscratch-3x9x128.35790555.meta'),\n",
    "\n",
    "        # NOTE(2023-01-24): FN currently has a reduced set of valid mol constraints bc this is what we trained with\n",
    "        # and there is currently an outstanding bug where changing N_ATOMS here breaks FN predictions in subtle ways.\n",
    "        'override_constraints': {\n",
    "            'n_atom': 48,\n",
    "            # 'n_formula': 4096,\n",
    "            'n_formula': 32768,\n",
    "            # 'n_subset': 12288,\n",
    "            'n_subset': 49152,\n",
    "        },\n",
    "    },\n",
    "    'SubsetNet': {\n",
    "        'checkpoint': os.path.join(model_dir, 'subsetnet_best_candidate_nist_fromscratch.nist-fromscratch-test01-old-1x2048.36688199.00001000.model'),\n",
    "        'meta': os.path.join(model_dir, 'subsetnet_best_candidate_nist_fromscratch.nist-fromscratch-test01-old-1x2048.36688199.meta'),\n",
    "\n",
    "        # NOTE: this set of params works for SN GPU inference on a single RTX 2080 Ti (12GB VRAM)\n",
    "        # despite SN being trained on <= 48 atoms like FN, it also scales well to mols up to <= 64 atoms (tested)\n",
    "        'override_constraints': {\n",
    "            'n_atom': 64,\n",
    "            'n_formula': 32768,\n",
    "            'n_subset': 49152,\n",
    "        },\n",
    "    },\n",
    "}\n",
    "\n",
    "model_name='FormulaNet'\n",
    "meta_path = MODELS[model_name]['meta']\n",
    "ckpt_path = MODELS[model_name]['checkpoint']\n",
    "override_constraints = MODELS[model_name]['override_constraints']\n",
    "meta = pickle.load(open(meta_path, 'rb'))\n",
    "\n",
    "feat_config = meta['featurize_config']\n",
    "for key, val in override_constraints.items():\n",
    "    if key == 'n_atom':\n",
    "        feat_config['MAX_N'] = val\n",
    "    if key == 'n_formula':\n",
    "        feat_config['explicit_formulae_config']['max_formulae'] = val\n",
    "    if key == 'n_subset':\n",
    "        feat_config['vert_subset_samples_n'] = val\n",
    "\n",
    "if use_gpu and not torch.cuda.is_available():\n",
    "    use_gpu = False\n",
    "\n",
    "predictor = netutil.PredModel(\n",
    "    meta_path,\n",
    "    ckpt_path,\n",
    "    USE_CUDA=use_gpu,\n",
    "    data_parallel=False,\n",
    "    featurize_config_update=feat_config,\n",
    ")\n"
   ]
  },
  {
   "cell_type": "code",
   "execution_count": 5,
   "id": "55a4e443-9e7f-46b5-be42-c1acd89ee525",
   "metadata": {
    "tags": []
   },
   "outputs": [],
   "source": [
    "smiles = ['C1=CNN=C1','CC(C)C#N','CCC(=C)C','CC[N+](=O)[O-]']*1000\n",
    "\n",
    "valid_mols = [ Chem.AddHs(Chem.MolFromSmiles(s)) for s in smiles ]"
   ]
  },
  {
   "cell_type": "code",
   "execution_count": 6,
   "id": "c1e42f7a-48b6-4200-bb8a-7016f739792e",
   "metadata": {},
   "outputs": [
    {
     "name": "stderr",
     "output_type": "stream",
     "text": [
      "100%|█████████████████████████████████████████████████████████████████████████████████████████████████| 4000/4000 [08:19<00:00,  8.02it/s]\n"
     ]
    }
   ],
   "source": [
    "predictions = predictor.pred(\n",
    "    valid_mols,\n",
    "    progress_bar=True,\n",
    "    normalize_pred=True,\n",
    "    output_hist_bins=True,\n",
    "    batch_size=2, # XXX\n",
    "    dataloader_config={\n",
    "        'pin_memory': False,\n",
    "        'num_workers': 0, # XXX\n",
    "        'persistent_workers': False,\n",
    "    },\n",
    "    benchmark_dataloader=False,\n",
    ")\n"
   ]
  },
  {
   "cell_type": "code",
   "execution_count": null,
   "id": "4a55773f-cd24-4cbd-a15a-8f449c90e17d",
   "metadata": {
    "tags": []
   },
   "outputs": [],
   "source": [
    "predictions['pred_binned'][0]"
   ]
  },
  {
   "cell_type": "code",
   "execution_count": null,
   "id": "980c9306-f3a5-4380-b1b4-0cfc27905b70",
   "metadata": {},
   "outputs": [],
   "source": []
  },
  {
   "cell_type": "code",
   "execution_count": null,
   "id": "3c6c9f6e-2937-478b-85e2-5f2be43dbeec",
   "metadata": {},
   "outputs": [],
   "source": []
  },
  {
   "cell_type": "code",
   "execution_count": 29,
   "id": "5fdc0a5e-672e-4abf-baea-1875e597fdd8",
   "metadata": {
    "tags": []
   },
   "outputs": [],
   "source": [
    "nist_path = '20210925_NIST_EI_MS_cleaned.msp'\n",
    "\n",
    "from matchms.importing import load_from_msp\n",
    "nist = list(load_from_msp(nist_path, metadata_harmonization=False))"
   ]
  },
  {
   "cell_type": "code",
   "execution_count": 30,
   "id": "34b00e48-39ea-4ef9-8a4e-64875923cd8c",
   "metadata": {
    "tags": []
   },
   "outputs": [
    {
     "data": {
      "text/plain": [
       "350618"
      ]
     },
     "execution_count": 30,
     "metadata": {},
     "output_type": "execute_result"
    }
   ],
   "source": [
    "len(nist)"
   ]
  },
  {
   "cell_type": "code",
   "execution_count": 45,
   "id": "f383ac7c-0ca6-4814-9334-64a545ef2d20",
   "metadata": {
    "tags": []
   },
   "outputs": [
    {
     "data": {
      "text/plain": [
       "{'formula': 'CH3F',\n",
       " 'mw': '34',\n",
       " 'casno': '593-53-3',\n",
       " 'id': '43',\n",
       " 'comment': 'SemiStdNP=173 StdNP=217 ; NIST MS# 41, Seq# M1969',\n",
       " 'inchi': 'InChI=1S/CH3F/c1-2/h1H3',\n",
       " 'inchikey': 'NBVXSUQYWXRMNV-UHFFFAOYSA-N',\n",
       " 'iupac_name': 'fluoromethane',\n",
       " 'smiles': 'CF',\n",
       " 'num_peaks': '9',\n",
       " 'compound_name': 'Methyl fluoride'}"
      ]
     },
     "execution_count": 45,
     "metadata": {},
     "output_type": "execute_result"
    }
   ],
   "source": [
    "nist[42].metadata"
   ]
  },
  {
   "cell_type": "code",
   "execution_count": 47,
   "id": "1ee4a514-2260-436f-8027-b5cd92497c5d",
   "metadata": {
    "tags": []
   },
   "outputs": [
    {
     "data": {
      "text/plain": [
       "array([12., 13., 14., 15., 31., 32., 33., 34., 35.])"
      ]
     },
     "execution_count": 47,
     "metadata": {},
     "output_type": "execute_result"
    }
   ],
   "source": [
    "nist[42].peaks.mz"
   ]
  },
  {
   "cell_type": "code",
   "execution_count": 51,
   "id": "d847e967-594a-4079-9081-d8f3705f075d",
   "metadata": {
    "tags": []
   },
   "outputs": [
    {
     "data": {
      "text/plain": [
       "array([  5.  ,  11.99,  30.97, 115.9 ,  76.93,  43.96, 887.2 , 999.  ,\n",
       "        11.99])"
      ]
     },
     "execution_count": 51,
     "metadata": {},
     "output_type": "execute_result"
    }
   ],
   "source": [
    "nist[42].peaks.intensities"
   ]
  },
  {
   "cell_type": "code",
   "execution_count": 52,
   "id": "8a0cb946-58f7-45f6-9183-13b8fb3705b5",
   "metadata": {
    "tags": []
   },
   "outputs": [
    {
     "data": {
      "image/png": "[encoded data removed]",
      "text/plain": [
       "<rdkit.Chem.rdchem.Mol at 0x7fa86cf57190>"
      ]
     },
     "execution_count": 52,
     "metadata": {},
     "output_type": "execute_result"
    }
   ],
   "source": [
    "mol = Chem.AddHs(Chem.MolFromSmiles(nist[42].metadata['smiles']))\n",
    "mol"
   ]
  },
  {
   "cell_type": "code",
   "execution_count": 53,
   "id": "d65781ea-9795-4324-a52a-664258e9aff7",
   "metadata": {
    "tags": []
   },
   "outputs": [
    {
     "data": {
      "text/plain": [
       "b'\\xef\\xbe\\xad\\xde\\x00\\x00\\x00\\x00\\r\\x00\\x00\\x00\\x00\\x00\\x00\\x00\\x02\\x00\\x00\\x00\\x05\\x00\\x00\\x00\\x04\\x00\\x00\\x00\\x80\\x01\\x06 `\\x00\\x00\\x00\\x04\\x03\\t  \\x00\\x00\\x00\\x01\\x01\\x00(\\x00\\x00\\x00\\x00\\x01\\x01\\x00(\\x00\\x00\\x00\\x00\\x01\\x01\\x00(\\x00\\x00\\x00\\x00\\x01\\x0b\\x00\\x01\\x00\\x00\\x02\\x00\\x00\\x03\\x00\\x00\\x04\\x00\\x14\\x00\\x00\\x00\\x00\\x17\\t\\x00\\x00\\x00\\x00\\x00\\x00\\x00?\\x00\\x00\\x00\\x00\\x12 \\x00\\x00\\x00\\x01\\x00\\x00\\x00\\x0f\\x00\\x00\\x00__computedProps\\x06\\x00\\x00\\x00\\x00\\x00\\x00\\x00\\x00\\x13:\\xd1\\x00\\x00\\x00\\x02\\x00\\x00\\x00\\x0f\\x00\\x00\\x00__computedProps\\x06\\x01\\x00\\x00\\x00\\x00\\x00\\x00\\x00\\x0e\\x00\\x00\\x00origNoImplicit\\x0e\\x00\\x00\\x00origNoImplicit\\x03\\x00\\x02\\x00\\x00\\x00\\x0f\\x00\\x00\\x00__computedProps\\x06\\x01\\x00\\x00\\x00\\x00\\x00\\x00\\x00\\x0e\\x00\\x00\\x00origNoImplicit\\x0e\\x00\\x00\\x00origNoImplicit\\x03\\x00\\x01\\x00\\x00\\x00\\n\\x00\\x00\\x00isImplicit\\x01\\x01\\x00\\x00\\x00\\x01\\x00\\x00\\x00\\n\\x00\\x00\\x00isImplicit\\x01\\x01\\x00\\x00\\x00\\x01\\x00\\x00\\x00\\n\\x00\\x00\\x00isImplicit\\x01\\x01\\x00\\x00\\x00\\x13;\\x10\\x00\\x00\\x00\\x00\\x00\\x00\\x00\\x00\\x00\\x00\\x00\\x00\\x00\\x00\\x00\\x00\\x00\\x00\\x00\\x13\\x16'"
      ]
     },
     "execution_count": 53,
     "metadata": {},
     "output_type": "execute_result"
    }
   ],
   "source": [
    "b = mol.ToBinary()\n",
    "b"
   ]
  },
  {
   "cell_type": "code",
   "execution_count": 55,
   "id": "786c71a8-705e-4c02-9ef3-63f1191e0932",
   "metadata": {
    "tags": []
   },
   "outputs": [
    {
     "data": {
      "image/png": "[encoded data removed]",
      "text/plain": [
       "<rdkit.Chem.rdchem.Mol at 0x7fa86cf7cf40>"
      ]
     },
     "execution_count": 55,
     "metadata": {},
     "output_type": "execute_result"
    }
   ],
   "source": [
    "m2 = Chem.Mol(b)\n",
    "m2"
   ]
  },
  {
   "cell_type": "code",
   "execution_count": 100,
   "id": "4299d0e5-802c-4d1b-8a3b-ed9fd1ab8e9c",
   "metadata": {
    "tags": []
   },
   "outputs": [
    {
     "data": {
      "text/plain": [
       "array([[ 12.  ,   5.  ],\n",
       "       [ 13.  ,  11.99],\n",
       "       [ 14.  ,  30.97],\n",
       "       [ 15.  , 115.9 ],\n",
       "       [ 31.  ,  76.93],\n",
       "       [ 32.  ,  43.96],\n",
       "       [ 33.  , 887.2 ],\n",
       "       [ 34.  , 999.  ],\n",
       "       [ 35.  ,  11.99]])"
      ]
     },
     "execution_count": 100,
     "metadata": {},
     "output_type": "execute_result"
    }
   ],
   "source": [
    "import numpy as np\n",
    "a=np.stack([nist[42].peaks.mz,nist[42].peaks.intensities],axis=1)\n",
    "a"
   ]
  },
  {
   "cell_type": "code",
   "execution_count": 110,
   "id": "f8336ae3-fe9b-4a4a-99a9-25b79cbdc852",
   "metadata": {
    "tags": []
   },
   "outputs": [
    {
     "data": {
      "text/plain": [
       "array([array([12.,  5.]), array([13.  , 11.99]), array([14.  , 30.97]),\n",
       "       array([ 15. , 115.9]), array([31.  , 76.93]),\n",
       "       array([32.  , 43.96]), array([ 33. , 887.2]), array([ 34., 999.]),\n",
       "       array([35.  , 11.99])], dtype=object)"
      ]
     },
     "execution_count": 110,
     "metadata": {},
     "output_type": "execute_result"
    }
   ],
   "source": [
    "bb = np.empty(shape=(a.shape[0],),dtype=object)\n",
    "bb[:] = list(a)\n",
    "bb"
   ]
  },
  {
   "cell_type": "code",
   "execution_count": 111,
   "id": "4712be15-8611-4150-98a6-ce54d20becae",
   "metadata": {
    "tags": []
   },
   "outputs": [
    {
     "data": {
      "text/plain": [
       "array([[12.0, 5.0],\n",
       "       [13.0, 11.99],\n",
       "       [14.0, 30.97],\n",
       "       [15.0, 115.9],\n",
       "       [31.0, 76.93],\n",
       "       [32.0, 43.96],\n",
       "       [33.0, 887.2],\n",
       "       [34.0, 999.0],\n",
       "       [35.0, 11.99]], dtype=object)"
      ]
     },
     "execution_count": 111,
     "metadata": {},
     "output_type": "execute_result"
    }
   ],
   "source": [
    "np.array(list(a),dtype=object)"
   ]
  },
  {
   "cell_type": "code",
   "execution_count": 99,
   "id": "2b676167-a9be-4d85-8430-43dc38ec5172",
   "metadata": {
    "tags": []
   },
   "outputs": [
    {
     "data": {
      "text/plain": [
       "array([[12.0, 5.0],\n",
       "       [13.0, 11.99],\n",
       "       [14.0, 30.97],\n",
       "       [15.0, 115.9],\n",
       "       [31.0, 76.93],\n",
       "       [32.0, 43.96],\n",
       "       [33.0, 887.2],\n",
       "       [34.0, 999.0],\n",
       "       [35.0, 11.99]], dtype=object)"
      ]
     },
     "execution_count": 99,
     "metadata": {},
     "output_type": "execute_result"
    }
   ],
   "source": [
    "n=nist[42]\n",
    "np.array([ np.array(p,dtype=object) for p in zip(n.peaks.mz, n.peaks.intensities)])\n",
    "#[ np.array(p) for p in zip(n.peaks.mz, n.peaks.intensities)]"
   ]
  },
  {
   "cell_type": "code",
   "execution_count": 200,
   "id": "5933122b-9591-4a4b-8aed-2bd667cf546a",
   "metadata": {
    "tags": []
   },
   "outputs": [],
   "source": [
    "def mkdf(nist2):\n",
    "    mols = [ ]\n",
    "    spects = []\n",
    "    for i,n in enumerate(nist2):\n",
    "        if n.metadata.get('smiles') is None:\n",
    "            print(i,'no smiles')\n",
    "            continue\n",
    "        mol = Chem.MolFromSmiles(n.metadata['smiles'])\n",
    "        if mol is None: \n",
    "            print(i,n.metadata['smiles'][:100],'... cant parse')\n",
    "            continue \n",
    "        mol = Chem.AddHs(mol)\n",
    "        if mol is None: \n",
    "            print(i.n.metadata['smiles'],'... cant add Hs')\n",
    "            continue \n",
    "        mols.append(mol.ToBinary())\n",
    "        a = np.stack([n.peaks.mz, n.peaks.intensities], axis=1)\n",
    "        b = np.empty(shape=(a.shape[0],),dtype=object)\n",
    "        b[:] = list(a)\n",
    "        spects.append(b)\n",
    "\n",
    "    df = pd.DataFrame.from_dict({ 'rdmol' : mols, 'spect' : spects })\n",
    "    return df"
   ]
  },
  {
   "cell_type": "code",
   "execution_count": 214,
   "id": "267fa070-3050-45e7-8a39-1a1b9a45e417",
   "metadata": {
    "tags": []
   },
   "outputs": [],
   "source": [
    "%%capture\n",
    "df = mkdf(nist[:20000:2])"
   ]
  },
  {
   "cell_type": "code",
   "execution_count": 215,
   "id": "4d02d469-97dc-4cac-a90d-681876148e31",
   "metadata": {
    "tags": []
   },
   "outputs": [
    {
     "data": {
      "text/html": [
       "<div>\n",
       "<style scoped>\n",
       "    .dataframe tbody tr th:only-of-type {\n",
       "        vertical-align: middle;\n",
       "    }\n",
       "\n",
       "    .dataframe tbody tr th {\n",
       "        vertical-align: top;\n",
       "    }\n",
       "\n",
       "    .dataframe thead th {\n",
       "        text-align: right;\n",
       "    }\n",
       "</style>\n",
       "<table border=\"1\" class=\"dataframe\">\n",
       "  <thead>\n",
       "    <tr style=\"text-align: right;\">\n",
       "      <th></th>\n",
       "      <th>rdmol</th>\n",
       "      <th>spect</th>\n",
       "    </tr>\n",
       "  </thead>\n",
       "  <tbody>\n",
       "    <tr>\n",
       "      <th>0</th>\n",
       "      <td>b'\\xef\\xbe\\xad\\xde\\x00\\x00\\x00\\x00\\r\\x00\\x00\\x...</td>\n",
       "      <td>[[1.0, 20.98], [2.0, 999.0]]</td>\n",
       "    </tr>\n",
       "    <tr>\n",
       "      <th>1</th>\n",
       "      <td>b'\\xef\\xbe\\xad\\xde\\x00\\x00\\x00\\x00\\r\\x00\\x00\\x...</td>\n",
       "      <td>[[12.0, 37.97], [13.0, 105.9], [14.0, 203.82],...</td>\n",
       "    </tr>\n",
       "    <tr>\n",
       "      <th>2</th>\n",
       "      <td>b'\\xef\\xbe\\xad\\xde\\x00\\x00\\x00\\x00\\r\\x00\\x00\\x...</td>\n",
       "      <td>[[12.0, 7.99], [13.0, 28.97], [14.0, 74.93], [...</td>\n",
       "    </tr>\n",
       "    <tr>\n",
       "      <th>3</th>\n",
       "      <td>b'\\xef\\xbe\\xad\\xde\\x00\\x00\\x00\\x00\\r\\x00\\x00\\x...</td>\n",
       "      <td>[[1.0, 31.97], [12.0, 23.98], [13.0, 78.93], [...</td>\n",
       "    </tr>\n",
       "    <tr>\n",
       "      <th>4</th>\n",
       "      <td>b'\\xef\\xbe\\xad\\xde\\x00\\x00\\x00\\x00\\r\\x00\\x00\\x...</td>\n",
       "      <td>[[16.0, 8.99], [17.0, 211.81], [18.0, 999.0], ...</td>\n",
       "    </tr>\n",
       "    <tr>\n",
       "      <th>...</th>\n",
       "      <td>...</td>\n",
       "      <td>...</td>\n",
       "    </tr>\n",
       "    <tr>\n",
       "      <th>9840</th>\n",
       "      <td>b'\\xef\\xbe\\xad\\xde\\x00\\x00\\x00\\x00\\r\\x00\\x00\\x...</td>\n",
       "      <td>[[27.0, 23.98], [29.0, 62.94], [39.0, 9.99], [...</td>\n",
       "    </tr>\n",
       "    <tr>\n",
       "      <th>9841</th>\n",
       "      <td>b'\\xef\\xbe\\xad\\xde\\x00\\x00\\x00\\x00\\r\\x00\\x00\\x...</td>\n",
       "      <td>[[26.0, 15.99], [27.0, 121.89], [28.0, 6.99], ...</td>\n",
       "    </tr>\n",
       "    <tr>\n",
       "      <th>9842</th>\n",
       "      <td>b'\\xef\\xbe\\xad\\xde\\x00\\x00\\x00\\x00\\r\\x00\\x00\\x...</td>\n",
       "      <td>[[25.0, 2.0], [26.0, 44.96], [27.0, 297.73], [...</td>\n",
       "    </tr>\n",
       "    <tr>\n",
       "      <th>9843</th>\n",
       "      <td>b'\\xef\\xbe\\xad\\xde\\x00\\x00\\x00\\x00\\r\\x00\\x00\\x...</td>\n",
       "      <td>[[13.0, 11.99], [14.0, 27.97], [15.0, 106.9], ...</td>\n",
       "    </tr>\n",
       "    <tr>\n",
       "      <th>9844</th>\n",
       "      <td>b'\\xef\\xbe\\xad\\xde\\x00\\x00\\x00\\x00\\r\\x00\\x00\\x...</td>\n",
       "      <td>[[25.0, 4.0], [26.0, 49.95], [27.0, 290.74], [...</td>\n",
       "    </tr>\n",
       "  </tbody>\n",
       "</table>\n",
       "<p>9845 rows × 2 columns</p>\n",
       "</div>"
      ],
      "text/plain": [
       "                                                  rdmol  \\\n",
       "0     b'\\xef\\xbe\\xad\\xde\\x00\\x00\\x00\\x00\\r\\x00\\x00\\x...   \n",
       "1     b'\\xef\\xbe\\xad\\xde\\x00\\x00\\x00\\x00\\r\\x00\\x00\\x...   \n",
       "2     b'\\xef\\xbe\\xad\\xde\\x00\\x00\\x00\\x00\\r\\x00\\x00\\x...   \n",
       "3     b'\\xef\\xbe\\xad\\xde\\x00\\x00\\x00\\x00\\r\\x00\\x00\\x...   \n",
       "4     b'\\xef\\xbe\\xad\\xde\\x00\\x00\\x00\\x00\\r\\x00\\x00\\x...   \n",
       "...                                                 ...   \n",
       "9840  b'\\xef\\xbe\\xad\\xde\\x00\\x00\\x00\\x00\\r\\x00\\x00\\x...   \n",
       "9841  b'\\xef\\xbe\\xad\\xde\\x00\\x00\\x00\\x00\\r\\x00\\x00\\x...   \n",
       "9842  b'\\xef\\xbe\\xad\\xde\\x00\\x00\\x00\\x00\\r\\x00\\x00\\x...   \n",
       "9843  b'\\xef\\xbe\\xad\\xde\\x00\\x00\\x00\\x00\\r\\x00\\x00\\x...   \n",
       "9844  b'\\xef\\xbe\\xad\\xde\\x00\\x00\\x00\\x00\\r\\x00\\x00\\x...   \n",
       "\n",
       "                                                  spect  \n",
       "0                          [[1.0, 20.98], [2.0, 999.0]]  \n",
       "1     [[12.0, 37.97], [13.0, 105.9], [14.0, 203.82],...  \n",
       "2     [[12.0, 7.99], [13.0, 28.97], [14.0, 74.93], [...  \n",
       "3     [[1.0, 31.97], [12.0, 23.98], [13.0, 78.93], [...  \n",
       "4     [[16.0, 8.99], [17.0, 211.81], [18.0, 999.0], ...  \n",
       "...                                                 ...  \n",
       "9840  [[27.0, 23.98], [29.0, 62.94], [39.0, 9.99], [...  \n",
       "9841  [[26.0, 15.99], [27.0, 121.89], [28.0, 6.99], ...  \n",
       "9842  [[25.0, 2.0], [26.0, 44.96], [27.0, 297.73], [...  \n",
       "9843  [[13.0, 11.99], [14.0, 27.97], [15.0, 106.9], ...  \n",
       "9844  [[25.0, 4.0], [26.0, 49.95], [27.0, 290.74], [...  \n",
       "\n",
       "[9845 rows x 2 columns]"
      ]
     },
     "execution_count": 215,
     "metadata": {},
     "output_type": "execute_result"
    }
   ],
   "source": [
    "df"
   ]
  },
  {
   "cell_type": "code",
   "execution_count": 216,
   "id": "34764a10-8799-46bb-ae3f-0e79fc6a72db",
   "metadata": {
    "tags": []
   },
   "outputs": [],
   "source": [
    "df.to_parquet('train.pq')"
   ]
  },
  {
   "cell_type": "code",
   "execution_count": 217,
   "id": "8d29b970-4dbf-4584-871e-43b8b322b3c3",
   "metadata": {
    "tags": []
   },
   "outputs": [],
   "source": [
    "td = pd.read_parquet('train.pq')                    "
   ]
  },
  {
   "cell_type": "code",
   "execution_count": 218,
   "id": "f62ee9f4-b186-47c9-99f2-3a4389aec70f",
   "metadata": {
    "tags": []
   },
   "outputs": [
    {
     "data": {
      "text/plain": [
       "array([array([ 1.  , 20.98]), array([  2., 999.])], dtype=object)"
      ]
     },
     "execution_count": 218,
     "metadata": {},
     "output_type": "execute_result"
    }
   ],
   "source": [
    "td.iloc[0].spect"
   ]
  },
  {
   "cell_type": "code",
   "execution_count": 219,
   "id": "808bc36e-4ed3-4502-9f3a-a35bd75d79db",
   "metadata": {
    "tags": []
   },
   "outputs": [],
   "source": [
    "%%capture\n",
    "df = mkdf(nist[1:1000:2])\n",
    "df.to_parquet('test.pq')"
   ]
  },
  {
   "cell_type": "code",
   "execution_count": 220,
   "id": "ef603beb-50f2-47d2-8161-f791c87d5704",
   "metadata": {
    "tags": []
   },
   "outputs": [
    {
     "data": {
      "text/html": [
       "<div>\n",
       "<style scoped>\n",
       "    .dataframe tbody tr th:only-of-type {\n",
       "        vertical-align: middle;\n",
       "    }\n",
       "\n",
       "    .dataframe tbody tr th {\n",
       "        vertical-align: top;\n",
       "    }\n",
       "\n",
       "    .dataframe thead th {\n",
       "        text-align: right;\n",
       "    }\n",
       "</style>\n",
       "<table border=\"1\" class=\"dataframe\">\n",
       "  <thead>\n",
       "    <tr style=\"text-align: right;\">\n",
       "      <th></th>\n",
       "      <th>rdmol</th>\n",
       "      <th>spect</th>\n",
       "    </tr>\n",
       "  </thead>\n",
       "  <tbody>\n",
       "    <tr>\n",
       "      <th>0</th>\n",
       "      <td>b'\\xef\\xbe\\xad\\xde\\x00\\x00\\x00\\x00\\r\\x00\\x00\\x...</td>\n",
       "      <td>[[2.0, 14.99], [4.0, 999.0]]</td>\n",
       "    </tr>\n",
       "    <tr>\n",
       "      <th>1</th>\n",
       "      <td>b'\\xef\\xbe\\xad\\xde\\x00\\x00\\x00\\x00\\r\\x00\\x00\\x...</td>\n",
       "      <td>[[12.0, 25.98], [13.0, 85.92], [14.0, 170.85],...</td>\n",
       "    </tr>\n",
       "    <tr>\n",
       "      <th>2</th>\n",
       "      <td>b'\\xef\\xbe\\xad\\xde\\x00\\x00\\x00\\x00\\r\\x00\\x00\\x...</td>\n",
       "      <td>[[12.0, 25.98], [13.0, 74.93], [14.0, 152.86],...</td>\n",
       "    </tr>\n",
       "    <tr>\n",
       "      <th>3</th>\n",
       "      <td>b'\\xef\\xbe\\xad\\xde\\x00\\x00\\x00\\x00\\r\\x00\\x00\\x...</td>\n",
       "      <td>[[14.0, 21.98], [15.0, 74.93], [16.0, 799.28],...</td>\n",
       "    </tr>\n",
       "    <tr>\n",
       "      <th>4</th>\n",
       "      <td>b'\\xef\\xbe\\xad\\xde\\x00\\x00\\x00\\x00\\r\\x00\\x00\\x...</td>\n",
       "      <td>[[12.0, 6.99], [13.0, 31.97], [14.0, 1.0], [24...</td>\n",
       "    </tr>\n",
       "    <tr>\n",
       "      <th>...</th>\n",
       "      <td>...</td>\n",
       "      <td>...</td>\n",
       "    </tr>\n",
       "    <tr>\n",
       "      <th>490</th>\n",
       "      <td>b'\\xef\\xbe\\xad\\xde\\x00\\x00\\x00\\x00\\r\\x00\\x00\\x...</td>\n",
       "      <td>[[14.0, 5.0], [15.0, 26.98], [16.0, 1.0], [17....</td>\n",
       "    </tr>\n",
       "    <tr>\n",
       "      <th>491</th>\n",
       "      <td>b'\\xef\\xbe\\xad\\xde\\x00\\x00\\x00\\x00\\r\\x00\\x00\\x...</td>\n",
       "      <td>[[15.0, 28.97], [27.0, 37.97], [28.0, 11.99], ...</td>\n",
       "    </tr>\n",
       "    <tr>\n",
       "      <th>492</th>\n",
       "      <td>b'\\xef\\xbe\\xad\\xde\\x00\\x00\\x00\\x00\\r\\x00\\x00\\x...</td>\n",
       "      <td>[[16.0, 25.98], [17.0, 79.93], [18.0, 361.67],...</td>\n",
       "    </tr>\n",
       "    <tr>\n",
       "      <th>493</th>\n",
       "      <td>b'\\xef\\xbe\\xad\\xde\\x00\\x00\\x00\\x00\\r\\x00\\x00\\x...</td>\n",
       "      <td>[[12.0, 150.86], [13.0, 93.92], [14.0, 99.91],...</td>\n",
       "    </tr>\n",
       "    <tr>\n",
       "      <th>494</th>\n",
       "      <td>b'\\xef\\xbe\\xad\\xde\\x00\\x00\\x00\\x00\\r\\x00\\x00\\x...</td>\n",
       "      <td>[[12.0, 5.0], [13.0, 3.0], [15.0, 2.0], [16.0,...</td>\n",
       "    </tr>\n",
       "  </tbody>\n",
       "</table>\n",
       "<p>495 rows × 2 columns</p>\n",
       "</div>"
      ],
      "text/plain": [
       "                                                 rdmol  \\\n",
       "0    b'\\xef\\xbe\\xad\\xde\\x00\\x00\\x00\\x00\\r\\x00\\x00\\x...   \n",
       "1    b'\\xef\\xbe\\xad\\xde\\x00\\x00\\x00\\x00\\r\\x00\\x00\\x...   \n",
       "2    b'\\xef\\xbe\\xad\\xde\\x00\\x00\\x00\\x00\\r\\x00\\x00\\x...   \n",
       "3    b'\\xef\\xbe\\xad\\xde\\x00\\x00\\x00\\x00\\r\\x00\\x00\\x...   \n",
       "4    b'\\xef\\xbe\\xad\\xde\\x00\\x00\\x00\\x00\\r\\x00\\x00\\x...   \n",
       "..                                                 ...   \n",
       "490  b'\\xef\\xbe\\xad\\xde\\x00\\x00\\x00\\x00\\r\\x00\\x00\\x...   \n",
       "491  b'\\xef\\xbe\\xad\\xde\\x00\\x00\\x00\\x00\\r\\x00\\x00\\x...   \n",
       "492  b'\\xef\\xbe\\xad\\xde\\x00\\x00\\x00\\x00\\r\\x00\\x00\\x...   \n",
       "493  b'\\xef\\xbe\\xad\\xde\\x00\\x00\\x00\\x00\\r\\x00\\x00\\x...   \n",
       "494  b'\\xef\\xbe\\xad\\xde\\x00\\x00\\x00\\x00\\r\\x00\\x00\\x...   \n",
       "\n",
       "                                                 spect  \n",
       "0                         [[2.0, 14.99], [4.0, 999.0]]  \n",
       "1    [[12.0, 25.98], [13.0, 85.92], [14.0, 170.85],...  \n",
       "2    [[12.0, 25.98], [13.0, 74.93], [14.0, 152.86],...  \n",
       "3    [[14.0, 21.98], [15.0, 74.93], [16.0, 799.28],...  \n",
       "4    [[12.0, 6.99], [13.0, 31.97], [14.0, 1.0], [24...  \n",
       "..                                                 ...  \n",
       "490  [[14.0, 5.0], [15.0, 26.98], [16.0, 1.0], [17....  \n",
       "491  [[15.0, 28.97], [27.0, 37.97], [28.0, 11.99], ...  \n",
       "492  [[16.0, 25.98], [17.0, 79.93], [18.0, 361.67],...  \n",
       "493  [[12.0, 150.86], [13.0, 93.92], [14.0, 99.91],...  \n",
       "494  [[12.0, 5.0], [13.0, 3.0], [15.0, 2.0], [16.0,...  \n",
       "\n",
       "[495 rows x 2 columns]"
      ]
     },
     "execution_count": 220,
     "metadata": {},
     "output_type": "execute_result"
    }
   ],
   "source": [
    "df"
   ]
  },
  {
   "cell_type": "code",
   "execution_count": 176,
   "id": "40419726-6c5e-4a4a-8e92-b40e01740cd5",
   "metadata": {},
   "outputs": [],
   "source": [
    "sys.path.append('./rassp-public/rassp')\n",
    "from forward_train import train"
   ]
  },
  {
   "cell_type": "code",
   "execution_count": 177,
   "id": "83b3961b-e7e2-4b94-bdae-06b643a14afe",
   "metadata": {
    "tags": []
   },
   "outputs": [],
   "source": [
    "import yaml\n",
    "with open('rassp-public/rassp/expconfig/demo.yaml') as cf:\n",
    "    exp_config = yaml.load(cf,Loader=yaml.FullLoader)"
   ]
  },
  {
   "cell_type": "code",
   "execution_count": 224,
   "id": "961123f2-3a8d-4319-b886-58af93f96afc",
   "metadata": {
    "tags": []
   },
   "outputs": [],
   "source": [
    "exp_config['cluster_config']['data_dir'] = '.'\n",
    "exp_config['DATALOADER_NUM_WORKERS'] = 8\n",
    "exp_config['max_epochs'] = 10\n",
    "exp_config['epoch_size'] = 10\n",
    "exp_config['exp_data']['data'][0]['db_filename'] = 'train.pq'\n",
    "exp_config['exp_data']['data'][1]['db_filename'] = 'test.pq'\n",
    "\n",
    "with open('exp.yml','w') as y:\n",
    "    yaml.dump(exp_config,y)"
   ]
  },
  {
   "cell_type": "code",
   "execution_count": null,
   "id": "3627f9b5-1e47-47e3-ba03-7617f56f77eb",
   "metadata": {},
   "outputs": [],
   "source": []
  },
  {
   "cell_type": "code",
   "execution_count": 226,
   "id": "8bef65dd-4c4b-41dc-97a7-3026777a10bc",
   "metadata": {
    "tags": []
   },
   "outputs": [
    {
     "name": "stdout",
     "output_type": "stream",
     "text": [
      "using checkpoint_dir: checkpoints\n",
      "we are training with 9845\n",
      "we are testing with 495\n",
      "it took 0.1s to load the data\n",
      "{'init_noise': 0.01, 'init_bias': 0.0, 'resnet': True, 'int_d': 512, 'layer_n': 16, 'agg_func': 'goodmax', 'gml_class': 'GraphMatLayersNormAfterRes', 'gml_config': {'layer_class': 'GraphMatLayerFast3', 'layer_config': {'dropout': 0.0, 'nonlin': 'leakyrelu', 'swap_init': False}}, 'g_feature_n': 45, 'inner_norm': 'layer', 'input_norm': 'batch', 'spect_out_class': 'MolAttentionGRU', 'spect_out_config': {'formula_oh_sizes': [50, 46, 30, 30, 30, 30, 30, 30], 'formula_oh_accum': True, 'internal_d': 128, 'embedding_key_size': 8, 'gru_layer_n': 3, 'linear_layer_n': 9}, 'GS': 4, 'spect_bin': <rassp.msutil.binutils.SpectrumBins object at 0x7fa6e2d07b80>}\n"
     ]
    },
    {
     "name": "stderr",
     "output_type": "stream",
     "text": [
      "/opt/conda/lib/python3.8/site-packages/torch/nn/_reduction.py:42: UserWarning: size_average and reduce args will be deprecated, please use reduction='mean' instead.\n",
      "  warnings.warn(warning.format(ret))\n"
     ]
    },
    {
     "name": "stdout",
     "output_type": "stream",
     "text": [
      "GCN module had 15869952 nparams\n",
      "Spectral module had 3862321 nparams\n",
      "Net overall had 19732363 nparams\n",
      "NOT LOADING FROM ANY CHECKPOINT\n",
      "NOT USING CUSTOM COLLATE_FN\n",
      "gml.gl.0.weight                                     (4, 512, 45) \n",
      "gml.gl.0.bias                                       (4, 1, 1, 51 \n",
      "gml.gl.1.weight                                     (4, 512, 512 \n",
      "gml.gl.1.bias                                       (4, 1, 1, 51 \n",
      "gml.gl.2.weight                                     (4, 512, 512 \n",
      "gml.gl.2.bias                                       (4, 1, 1, 51 \n",
      "gml.gl.3.weight                                     (4, 512, 512 \n",
      "gml.gl.3.bias                                       (4, 1, 1, 51 \n",
      "gml.gl.4.weight                                     (4, 512, 512 \n",
      "gml.gl.4.bias                                       (4, 1, 1, 51 \n",
      "gml.gl.5.weight                                     (4, 512, 512 \n",
      "gml.gl.5.bias                                       (4, 1, 1, 51 \n",
      "gml.gl.6.weight                                     (4, 512, 512 \n",
      "gml.gl.6.bias                                       (4, 1, 1, 51 \n",
      "gml.gl.7.weight                                     (4, 512, 512 \n",
      "gml.gl.7.bias                                       (4, 1, 1, 51 \n",
      "gml.gl.8.weight                                     (4, 512, 512 \n",
      "gml.gl.8.bias                                       (4, 1, 1, 51 \n",
      "gml.gl.9.weight                                     (4, 512, 512 \n",
      "gml.gl.9.bias                                       (4, 1, 1, 51 \n",
      "gml.gl.10.weight                                    (4, 512, 512 \n",
      "gml.gl.10.bias                                      (4, 1, 1, 51 \n",
      "gml.gl.11.weight                                    (4, 512, 512 \n",
      "gml.gl.11.bias                                      (4, 1, 1, 51 \n",
      "gml.gl.12.weight                                    (4, 512, 512 \n",
      "gml.gl.12.bias                                      (4, 1, 1, 51 \n",
      "gml.gl.13.weight                                    (4, 512, 512 \n",
      "gml.gl.13.bias                                      (4, 1, 1, 51 \n",
      "gml.gl.14.weight                                    (4, 512, 512 \n",
      "gml.gl.14.bias                                      (4, 1, 1, 51 \n",
      "gml.gl.15.weight                                    (4, 512, 512 \n",
      "gml.gl.15.bias                                      (4, 1, 1, 51 \n",
      "gml.bn.0.bn.weight                                  (512,)       \n",
      "gml.bn.0.bn.bias                                    (512,)       \n",
      "gml.bn.1.bn.weight                                  (512,)       \n",
      "gml.bn.1.bn.bias                                    (512,)       \n",
      "gml.bn.2.bn.weight                                  (512,)       \n",
      "gml.bn.2.bn.bias                                    (512,)       \n",
      "gml.bn.3.bn.weight                                  (512,)       \n",
      "gml.bn.3.bn.bias                                    (512,)       \n",
      "gml.bn.4.bn.weight                                  (512,)       \n",
      "gml.bn.4.bn.bias                                    (512,)       \n",
      "gml.bn.5.bn.weight                                  (512,)       \n",
      "gml.bn.5.bn.bias                                    (512,)       \n",
      "gml.bn.6.bn.weight                                  (512,)       \n",
      "gml.bn.6.bn.bias                                    (512,)       \n",
      "gml.bn.7.bn.weight                                  (512,)       \n",
      "gml.bn.7.bn.bias                                    (512,)       \n",
      "gml.bn.8.bn.weight                                  (512,)       \n",
      "gml.bn.8.bn.bias                                    (512,)       \n",
      "gml.bn.9.bn.weight                                  (512,)       \n",
      "gml.bn.9.bn.bias                                    (512,)       \n",
      "gml.bn.10.bn.weight                                 (512,)       \n",
      "gml.bn.10.bn.bias                                   (512,)       \n",
      "gml.bn.11.bn.weight                                 (512,)       \n",
      "gml.bn.11.bn.bias                                   (512,)       \n",
      "gml.bn.12.bn.weight                                 (512,)       \n",
      "gml.bn.12.bn.bias                                   (512,)       \n",
      "gml.bn.13.bn.weight                                 (512,)       \n",
      "gml.bn.13.bn.bias                                   (512,)       \n",
      "gml.bn.14.bn.weight                                 (512,)       \n",
      "gml.bn.14.bn.bias                                   (512,)       \n",
      "gml.bn.15.bn.weight                                 (512,)       \n",
      "gml.bn.15.bn.bias                                   (512,)       \n",
      "input_norm.bn.weight                                (45,)        \n",
      "input_norm.bn.bias                                  (45,)        \n",
      "spect_out.norm.weight                               (512,)       \n",
      "spect_out.norm.bias                                 (512,)       \n",
      "spect_out.embed_g_feat.weight                       (8, 512)     \n",
      "spect_out.embed_g_feat.bias                         (8,)         \n",
      "spect_out.embed_formulae_feat.weight                (8, 276)     \n",
      "spect_out.embed_formulae_feat.bias                  (8,)         \n",
      "spect_out.norm2.weight                              (128,)       \n",
      "spect_out.norm2.bias                                (128,)       \n",
      "spect_out.combine_layers.0.weight_ih                (1536, 276)  \n",
      "spect_out.combine_layers.0.weight_hh                (1536, 512)  \n",
      "spect_out.combine_layers.0.bias_ih                  (1536,)      \n",
      "spect_out.combine_layers.0.bias_hh                  (1536,)      \n",
      "spect_out.combine_layers.1.weight_ih                (1536, 276)  \n",
      "spect_out.combine_layers.1.weight_hh                (1536, 512)  \n",
      "spect_out.combine_layers.1.bias_ih                  (1536,)      \n",
      "spect_out.combine_layers.1.bias_hh                  (1536,)      \n",
      "spect_out.combine_layers.2.weight_ih                (1536, 276)  \n",
      "spect_out.combine_layers.2.weight_hh                (1536, 512)  \n",
      "spect_out.combine_layers.2.bias_ih                  (1536,)      \n",
      "spect_out.combine_layers.2.bias_hh                  (1536,)      \n",
      "spect_out.f_combine_l1.weight                       (128, 512)   \n",
      "spect_out.f_combine_l1.bias                         (128,)       \n",
      "spect_out.f_combine_l2.0.0.weight                   (128, 128)   \n",
      "spect_out.f_combine_l2.0.0.bias                     (128,)       \n",
      "spect_out.f_combine_l2.1.0.weight                   (128, 128)   \n",
      "spect_out.f_combine_l2.1.0.bias                     (128,)       \n",
      "spect_out.f_combine_l2.2.0.weight                   (128, 128)   \n",
      "spect_out.f_combine_l2.2.0.bias                     (128,)       \n",
      "spect_out.f_combine_l2.3.0.weight                   (128, 128)   \n",
      "spect_out.f_combine_l2.3.0.bias                     (128,)       \n",
      "spect_out.f_combine_l2.4.0.weight                   (128, 128)   \n",
      "spect_out.f_combine_l2.4.0.bias                     (128,)       \n",
      "spect_out.f_combine_l2.5.0.weight                   (128, 128)   \n",
      "spect_out.f_combine_l2.5.0.bias                     (128,)       \n",
      "spect_out.f_combine_l2.6.0.weight                   (128, 128)   \n",
      "spect_out.f_combine_l2.6.0.bias                     (128,)       \n",
      "spect_out.f_combine_l2.7.0.weight                   (128, 128)   \n",
      "spect_out.f_combine_l2.7.0.bias                     (128,)       \n",
      "spect_out.f_combine_l2.8.0.weight                   (128, 128)   \n",
      "spect_out.f_combine_l2.8.0.bias                     (128,)       \n",
      "spect_out.f_combine_score.weight                    (1, 128)     \n",
      "spect_out.f_combine_score.bias                      (1,)         \n",
      "checkpoint: checkpoints/test.78121846.{epoch_i:08d}\n",
      "MODEL_NAME= test.78121846\n"
     ]
    },
    {
     "name": "stderr",
     "output_type": "stream",
     "text": [
      "  0%|                                                                                     | 0/10 [00:00<?, ?it/s]\n",
      "train:   0%|                                                                               | 0/2 [00:00<?, ?it/s]\u001b[A\n",
      "train:  50%|███████████████████████████████████▌                                   | 1/2 [00:01<00:01,  1.33s/it]\u001b[A\n",
      "train: 100%|███████████████████████████████████████████████████████████████████████| 2/2 [00:01<00:00,  1.33it/s]\u001b[A\n",
      "                                                                                                                 \u001b[A\n",
      "validate:   0%|                                                                            | 0/2 [00:00<?, ?it/s]\u001b[A\n",
      "validate:  50%|██████████████████████████████████                                  | 1/2 [00:00<00:00,  3.63it/s]\u001b[A\n",
      " 10%|███████▋                                                                     | 1/10 [00:03<00:29,  3.24s/it]\u001b[A\n",
      "train:   0%|                                                                               | 0/2 [00:00<?, ?it/s]\u001b[A\n",
      "train:  50%|███████████████████████████████████▌                                   | 1/2 [00:00<00:00,  1.52it/s]\u001b[A\n",
      "train: 100%|███████████████████████████████████████████████████████████████████████| 2/2 [00:00<00:00,  2.19it/s]\u001b[A\n",
      " 20%|███████████████▍                                                             | 2/10 [00:04<00:17,  2.21s/it]\u001b[A\n",
      "train:   0%|                                                                               | 0/2 [00:00<?, ?it/s]\u001b[A\n",
      "train:  50%|███████████████████████████████████▌                                   | 1/2 [00:00<00:00,  1.76it/s]\u001b[A\n",
      "train: 100%|███████████████████████████████████████████████████████████████████████| 2/2 [00:00<00:00,  2.32it/s]\u001b[A\n",
      " 30%|███████████████████████                                                      | 3/10 [00:06<00:13,  1.86s/it]\u001b[A\n",
      "train:   0%|                                                                               | 0/2 [00:00<?, ?it/s]\u001b[A\n",
      "train:  50%|███████████████████████████████████▌                                   | 1/2 [00:00<00:00,  1.53it/s]\u001b[A\n",
      "train: 100%|███████████████████████████████████████████████████████████████████████| 2/2 [00:00<00:00,  2.22it/s]\u001b[A\n",
      " 40%|██████████████████████████████▊                                              | 4/10 [00:07<00:10,  1.72s/it]\u001b[A\n",
      "train:   0%|                                                                               | 0/2 [00:00<?, ?it/s]\u001b[A\n",
      "train:  50%|███████████████████████████████████▌                                   | 1/2 [00:00<00:00,  1.53it/s]\u001b[A\n",
      "train: 100%|███████████████████████████████████████████████████████████████████████| 2/2 [00:01<00:00,  2.10it/s]\u001b[A\n",
      " 50%|██████████████████████████████████████▌                                      | 5/10 [00:09<00:08,  1.66s/it]\u001b[A\n",
      "train:   0%|                                                                               | 0/2 [00:00<?, ?it/s]\u001b[A\n",
      "train:  50%|███████████████████████████████████▌                                   | 1/2 [00:00<00:00,  1.47it/s]\u001b[A\n",
      "train: 100%|███████████████████████████████████████████████████████████████████████| 2/2 [00:00<00:00,  2.88it/s]\u001b[A\n",
      " 60%|██████████████████████████████████████████████▏                              | 6/10 [00:10<00:06,  1.61s/it]\u001b[A\n",
      "train:   0%|                                                                               | 0/2 [00:00<?, ?it/s]\u001b[A\n",
      "train:  50%|███████████████████████████████████▌                                   | 1/2 [00:00<00:00,  1.49it/s]\u001b[A\n",
      "train: 100%|███████████████████████████████████████████████████████████████████████| 2/2 [00:00<00:00,  2.92it/s]\u001b[A\n",
      " 70%|█████████████████████████████████████████████████████▉                       | 7/10 [00:12<00:04,  1.52s/it]\u001b[A\n",
      "train:   0%|                                                                               | 0/2 [00:00<?, ?it/s]\u001b[A\n",
      "train:  50%|███████████████████████████████████▌                                   | 1/2 [00:00<00:00,  1.56it/s]\u001b[A\n",
      " 70%|█████████████████████████████████████████████████████▉                       | 7/10 [00:13<00:05,  1.88s/it]\u001b[A\n"
     ]
    },
    {
     "ename": "KeyError",
     "evalue": "Caught KeyError in DataLoader worker process 1.\nOriginal Traceback (most recent call last):\n  File \"/opt/conda/lib/python3.8/site-packages/torch/utils/data/_utils/worker.py\", line 302, in _worker_loop\n    data = fetcher.fetch(index)\n  File \"/opt/conda/lib/python3.8/site-packages/torch/utils/data/_utils/fetch.py\", line 49, in fetch\n    data = [self.dataset[idx] for idx in possibly_batched_index]\n  File \"/opt/conda/lib/python3.8/site-packages/torch/utils/data/_utils/fetch.py\", line 49, in <listcomp>\n    data = [self.dataset[idx] for idx in possibly_batched_index]\n  File \"/build/rassp/dataset/__init__.py\", line 95, in __getitem__\n    features_dict = self.featurizer(mol)\n  File \"/build/rassp/featurize/featurize.py\", line 126, in __call__\n    formulae_feats, formulae_peaks = self.pff(mol)\n  File \"/build/rassp/featurize/molecule_features.py\", line 640, in __call__\n    formulae, masses = self.ffe.get_frag_formulae(mol)\n  File \"/build/rassp/msutil/masscompute.py\", line 94, in get_frag_formulae\n    np_out = masseval.py_get_all_frag_spect_highres(formula_dict ,\n  File \"rassp/msutil/masseval.pyx\", line 325, in rassp.masseval.py_get_all_frag_spect_highres\n  File \"rassp/msutil/masseval.pyx\", line 327, in rassp.masseval.py_get_all_frag_spect_highres\n  File \"rassp/msutil/masseval.pyx\", line 149, in rassp.masseval.Formula.__cinit__\nKeyError: 35\n",
     "output_type": "error",
     "traceback": [
      "\u001b[0;31m---------------------------------------------------------------------------\u001b[0m",
      "\u001b[0;31mKeyError\u001b[0m                                  Traceback (most recent call last)",
      "Cell \u001b[0;32mIn[226], line 1\u001b[0m\n\u001b[0;32m----> 1\u001b[0m \u001b[43mtrain\u001b[49m\u001b[43m(\u001b[49m\u001b[38;5;124;43m'\u001b[39;49m\u001b[38;5;124;43mtest\u001b[39;49m\u001b[38;5;124;43m'\u001b[39;49m\u001b[43m,\u001b[49m\u001b[43mexp_config\u001b[49m\u001b[43m,\u001b[49m\u001b[43mexp_config_filename\u001b[49m\u001b[38;5;241;43m=\u001b[39;49m\u001b[38;5;124;43m'\u001b[39;49m\u001b[38;5;124;43mexp.yml\u001b[39;49m\u001b[38;5;124;43m'\u001b[39;49m\u001b[43m,\u001b[49m\u001b[43mUSE_CUDA\u001b[49m\u001b[38;5;241;43m=\u001b[39;49m\u001b[38;5;28;43;01mTrue\u001b[39;49;00m\u001b[43m)\u001b[49m\n",
      "File \u001b[0;32m~/./rassp-public/rassp/forward_train.py:364\u001b[0m, in \u001b[0;36mtrain\u001b[0;34m(exp_config_name, exp_config, exp_extra_name, USE_CUDA, exp_config_filename, add_timestamp, profile, checkpoint_dir, checkpoint_every)\u001b[0m\n\u001b[1;32m    361\u001b[0m \u001b[38;5;28;01melse\u001b[39;00m:\n\u001b[1;32m    362\u001b[0m     n_epochs \u001b[38;5;241m=\u001b[39m exp_config[\u001b[38;5;124m'\u001b[39m\u001b[38;5;124mmax_epochs\u001b[39m\u001b[38;5;124m'\u001b[39m]\n\u001b[0;32m--> 364\u001b[0m \u001b[43mnetutil\u001b[49m\u001b[38;5;241;43m.\u001b[39;49m\u001b[43mgeneric_runner\u001b[49m\u001b[43m(\u001b[49m\n\u001b[1;32m    365\u001b[0m \u001b[43m    \u001b[49m\u001b[43mnet\u001b[49m\u001b[43m,\u001b[49m\u001b[43m \u001b[49m\u001b[43moptimizer\u001b[49m\u001b[43m,\u001b[49m\u001b[43m \u001b[49m\u001b[43mscheduler\u001b[49m\u001b[43m,\u001b[49m\u001b[43m \u001b[49m\u001b[43mcriterion\u001b[49m\u001b[43m,\u001b[49m\u001b[43m \u001b[49m\n\u001b[1;32m    366\u001b[0m \u001b[43m    \u001b[49m\u001b[43mdl_train\u001b[49m\u001b[43m,\u001b[49m\u001b[43m \u001b[49m\u001b[43mdl_test\u001b[49m\u001b[43m,\u001b[49m\u001b[43m \u001b[49m\n\u001b[1;32m    367\u001b[0m \u001b[43m    \u001b[49m\u001b[43mMAX_EPOCHS\u001b[49m\u001b[38;5;241;43m=\u001b[39;49m\u001b[43mn_epochs\u001b[49m\u001b[43m,\u001b[49m\n\u001b[1;32m    368\u001b[0m \u001b[43m    \u001b[49m\u001b[43mepochs_trained\u001b[49m\u001b[38;5;241;43m=\u001b[39;49m\u001b[43mepochs_trained\u001b[49m\u001b[43m,\u001b[49m\n\u001b[1;32m    369\u001b[0m \u001b[43m    \u001b[49m\u001b[43mUSE_CUDA\u001b[49m\u001b[38;5;241;43m=\u001b[39;49m\u001b[43mUSE_CUDA\u001b[49m\u001b[43m,\u001b[49m\u001b[43m \u001b[49m\u001b[43mwriter\u001b[49m\u001b[38;5;241;43m=\u001b[39;49m\u001b[43mwriter\u001b[49m\u001b[43m,\u001b[49m\u001b[43m \u001b[49m\n\u001b[1;32m    370\u001b[0m \u001b[43m    \u001b[49m\u001b[43mvalidate_funcs\u001b[49m\u001b[38;5;241;43m=\u001b[39;49m\u001b[43m \u001b[49m\u001b[43mvalidate_funcs\u001b[49m\u001b[43m,\u001b[49m\u001b[43m \u001b[49m\n\u001b[1;32m    371\u001b[0m \u001b[43m    \u001b[49m\u001b[43mcheckpoint_func\u001b[49m\u001b[38;5;241;43m=\u001b[39;49m\u001b[43m \u001b[49m\u001b[43mcheckpoint_func\u001b[49m\u001b[43m,\u001b[49m\n\u001b[1;32m    372\u001b[0m \u001b[43m    \u001b[49m\u001b[43mclip_grad_value\u001b[49m\u001b[38;5;241;43m=\u001b[39;49m\u001b[43mexp_config\u001b[49m\u001b[38;5;241;43m.\u001b[39;49m\u001b[43mget\u001b[49m\u001b[43m(\u001b[49m\u001b[38;5;124;43m'\u001b[39;49m\u001b[38;5;124;43mclip_grad_value\u001b[39;49m\u001b[38;5;124;43m'\u001b[39;49m\u001b[43m,\u001b[49m\u001b[43m \u001b[49m\u001b[38;5;28;43;01mNone\u001b[39;49;00m\u001b[43m)\u001b[49m\u001b[43m,\u001b[49m\n\u001b[1;32m    373\u001b[0m \u001b[43m    \u001b[49m\u001b[43mVALIDATE_EVERY\u001b[49m\u001b[43m \u001b[49m\u001b[38;5;241;43m=\u001b[39;49m\u001b[43m \u001b[49m\u001b[43mexp_config\u001b[49m\u001b[38;5;241;43m.\u001b[39;49m\u001b[43mget\u001b[49m\u001b[43m(\u001b[49m\u001b[38;5;124;43m'\u001b[39;49m\u001b[38;5;124;43mvalidate_every\u001b[39;49m\u001b[38;5;124;43m'\u001b[39;49m\u001b[43m,\u001b[49m\u001b[43m \u001b[49m\u001b[38;5;241;43m1\u001b[39;49m\u001b[43m)\u001b[49m\u001b[43m,\u001b[49m\n\u001b[1;32m    374\u001b[0m \u001b[43m    \u001b[49m\u001b[43maccumulate_steps\u001b[49m\u001b[38;5;241;43m=\u001b[39;49m\u001b[43mexp_config\u001b[49m\u001b[38;5;241;43m.\u001b[39;49m\u001b[43mget\u001b[49m\u001b[43m(\u001b[49m\u001b[38;5;124;43m'\u001b[39;49m\u001b[38;5;124;43maccumulate_steps\u001b[39;49m\u001b[38;5;124;43m'\u001b[39;49m\u001b[43m,\u001b[49m\u001b[43m \u001b[49m\u001b[38;5;241;43m1\u001b[39;49m\u001b[43m)\u001b[49m\u001b[43m,\u001b[49m\n\u001b[1;32m    375\u001b[0m \u001b[43m    \u001b[49m\u001b[43mprofile\u001b[49m\u001b[38;5;241;43m=\u001b[39;49m\u001b[43mprofile\u001b[49m\u001b[43m,\u001b[49m\n\u001b[1;32m    376\u001b[0m \u001b[43m    \u001b[49m\u001b[43mautomatic_mixed_precision\u001b[49m\u001b[38;5;241;43m=\u001b[39;49m\u001b[43mexp_config\u001b[49m\u001b[38;5;241;43m.\u001b[39;49m\u001b[43mget\u001b[49m\u001b[43m(\u001b[49m\u001b[38;5;124;43m'\u001b[39;49m\u001b[38;5;124;43mautomatic_mixed_precision\u001b[39;49m\u001b[38;5;124;43m'\u001b[39;49m\u001b[43m,\u001b[49m\u001b[43m \u001b[49m\u001b[38;5;28;43;01mFalse\u001b[39;49;00m\u001b[43m)\u001b[49m\u001b[43m,\u001b[49m\n\u001b[1;32m    377\u001b[0m \u001b[43m\u001b[49m\u001b[43m)\u001b[49m\n",
      "File \u001b[0;32m/build/rassp/netutil.py:422\u001b[0m, in \u001b[0;36mgeneric_runner\u001b[0;34m(net, optimizer, scheduler, criterion, dl_train, dl_test, MAX_EPOCHS, epochs_trained, USE_CUDA, use_std, writer, validate_funcs, checkpoint_func, prog_bar, clip_grad_value, VALIDATE_EVERY, accumulate_steps, profile, automatic_mixed_precision)\u001b[0m\n\u001b[1;32m    420\u001b[0m net\u001b[38;5;241m.\u001b[39mtrain()\n\u001b[1;32m    421\u001b[0m t1_train \u001b[38;5;241m=\u001b[39m time\u001b[38;5;241m.\u001b[39mtime()\n\u001b[0;32m--> 422\u001b[0m train_res \u001b[38;5;241m=\u001b[39m \u001b[43mrun_epoch\u001b[49m\u001b[43m(\u001b[49m\n\u001b[1;32m    423\u001b[0m \u001b[43m    \u001b[49m\u001b[43mnet\u001b[49m\u001b[43m,\u001b[49m\u001b[43m \u001b[49m\u001b[43moptimizer\u001b[49m\u001b[43m,\u001b[49m\u001b[43m \u001b[49m\u001b[43mcriterion\u001b[49m\u001b[43m,\u001b[49m\u001b[43m \u001b[49m\u001b[43mdl_train\u001b[49m\u001b[43m,\u001b[49m\u001b[43m \u001b[49m\n\u001b[1;32m    424\u001b[0m \u001b[43m    \u001b[49m\u001b[43mpred_only\u001b[49m\u001b[43m \u001b[49m\u001b[38;5;241;43m=\u001b[39;49m\u001b[43m \u001b[49m\u001b[38;5;28;43;01mFalse\u001b[39;49;00m\u001b[43m,\u001b[49m\u001b[43m \u001b[49m\u001b[43mUSE_CUDA\u001b[49m\u001b[38;5;241;43m=\u001b[39;49m\u001b[43mUSE_CUDA\u001b[49m\u001b[43m,\u001b[49m\u001b[43m \u001b[49m\n\u001b[1;32m    425\u001b[0m \u001b[43m    \u001b[49m\u001b[43mreturn_pred\u001b[49m\u001b[38;5;241;43m=\u001b[39;49m\u001b[38;5;28;43;01mTrue\u001b[39;49;00m\u001b[43m,\u001b[49m\u001b[43m \u001b[49m\u001b[43mprogress_bar\u001b[49m\u001b[38;5;241;43m=\u001b[39;49m\u001b[43mprog_bar\u001b[49m\u001b[43m,\u001b[49m\n\u001b[1;32m    426\u001b[0m \u001b[43m    \u001b[49m\u001b[43mdesc\u001b[49m\u001b[38;5;241;43m=\u001b[39;49m\u001b[38;5;124;43m'\u001b[39;49m\u001b[38;5;124;43mtrain\u001b[39;49m\u001b[38;5;124;43m'\u001b[39;49m\u001b[43m,\u001b[49m\u001b[43m \u001b[49m\u001b[43mwriter\u001b[49m\u001b[38;5;241;43m=\u001b[39;49m\u001b[43mwriter\u001b[49m\u001b[43m,\u001b[49m\u001b[43m \u001b[49m\u001b[43mepoch_i\u001b[49m\u001b[38;5;241;43m=\u001b[39;49m\u001b[43mepoch_i\u001b[49m\u001b[43m,\u001b[49m\u001b[43m \u001b[49m\n\u001b[1;32m    427\u001b[0m \u001b[43m    \u001b[49m\u001b[43mres_skip_keys\u001b[49m\u001b[43m \u001b[49m\u001b[38;5;241;43m=\u001b[39;49m\u001b[43m \u001b[49m\u001b[43mres_skip_keys\u001b[49m\u001b[43m,\u001b[49m\n\u001b[1;32m    428\u001b[0m \u001b[43m    \u001b[49m\u001b[43mclip_grad_value\u001b[49m\u001b[43m \u001b[49m\u001b[38;5;241;43m=\u001b[39;49m\u001b[43m \u001b[49m\u001b[43mclip_grad_value\u001b[49m\u001b[43m,\u001b[49m\n\u001b[1;32m    429\u001b[0m \u001b[43m    \u001b[49m\u001b[43mscheduler\u001b[49m\u001b[38;5;241;43m=\u001b[39;49m\u001b[43mper_batch_scheduler\u001b[49m\u001b[43m,\u001b[49m\u001b[43m \u001b[49m\n\u001b[1;32m    430\u001b[0m \u001b[43m    \u001b[49m\u001b[43maccumulate_steps\u001b[49m\u001b[38;5;241;43m=\u001b[39;49m\u001b[43maccumulate_steps\u001b[49m\u001b[43m,\u001b[49m\n\u001b[1;32m    431\u001b[0m \u001b[43m    \u001b[49m\u001b[43mprofile\u001b[49m\u001b[38;5;241;43m=\u001b[39;49m\u001b[43mprofile\u001b[49m\u001b[43m,\u001b[49m\n\u001b[1;32m    432\u001b[0m \u001b[43m    \u001b[49m\u001b[43mautomatic_mixed_precision\u001b[49m\u001b[38;5;241;43m=\u001b[39;49m\u001b[43mautomatic_mixed_precision\u001b[49m\u001b[43m,\u001b[49m\n\u001b[1;32m    433\u001b[0m \u001b[43m\u001b[49m\u001b[43m)\u001b[49m\n\u001b[1;32m    434\u001b[0m t2_train \u001b[38;5;241m=\u001b[39m time\u001b[38;5;241m.\u001b[39mtime()\n\u001b[1;32m    435\u001b[0m [v(train_res, \u001b[38;5;124m\"\u001b[39m\u001b[38;5;124mtrain_\u001b[39m\u001b[38;5;124m\"\u001b[39m, epoch_i) \u001b[38;5;28;01mfor\u001b[39;00m v \u001b[38;5;129;01min\u001b[39;00m validate_funcs]\n",
      "File \u001b[0;32m/build/rassp/netutil.py:232\u001b[0m, in \u001b[0;36mrun_epoch\u001b[0;34m(net, optimizer, criterion, dl, pred_only, USE_CUDA, return_pred, desc, print_shapes, progress_bar, writer, epoch_i, res_skip_keys, clip_grad_value, scheduler, accumulate_steps, profile, automatic_mixed_precision, postprocess_batch_fn, return_subset_fields)\u001b[0m\n\u001b[1;32m    230\u001b[0m input_row_count \u001b[38;5;241m=\u001b[39m \u001b[38;5;241m0\u001b[39m\n\u001b[1;32m    231\u001b[0m \u001b[38;5;28;01mwith\u001b[39;00m profile_context():\n\u001b[0;32m--> 232\u001b[0m     \u001b[38;5;28;01mfor\u001b[39;00m i_batch, batch \u001b[38;5;129;01min\u001b[39;00m iterator:\n\u001b[1;32m    234\u001b[0m         t1 \u001b[38;5;241m=\u001b[39m time\u001b[38;5;241m.\u001b[39mtime()\n\u001b[1;32m    235\u001b[0m         \u001b[38;5;28;01mif\u001b[39;00m print_shapes:\n",
      "File \u001b[0;32m/opt/conda/lib/python3.8/site-packages/tqdm/std.py:1195\u001b[0m, in \u001b[0;36mtqdm.__iter__\u001b[0;34m(self)\u001b[0m\n\u001b[1;32m   1192\u001b[0m time \u001b[38;5;241m=\u001b[39m \u001b[38;5;28mself\u001b[39m\u001b[38;5;241m.\u001b[39m_time\n\u001b[1;32m   1194\u001b[0m \u001b[38;5;28;01mtry\u001b[39;00m:\n\u001b[0;32m-> 1195\u001b[0m     \u001b[38;5;28;01mfor\u001b[39;00m obj \u001b[38;5;129;01min\u001b[39;00m iterable:\n\u001b[1;32m   1196\u001b[0m         \u001b[38;5;28;01myield\u001b[39;00m obj\n\u001b[1;32m   1197\u001b[0m         \u001b[38;5;66;03m# Update and possibly print the progressbar.\u001b[39;00m\n\u001b[1;32m   1198\u001b[0m         \u001b[38;5;66;03m# Note: does not call self.update(1) for speed optimisation.\u001b[39;00m\n",
      "File \u001b[0;32m/opt/conda/lib/python3.8/site-packages/torch/utils/data/dataloader.py:681\u001b[0m, in \u001b[0;36m_BaseDataLoaderIter.__next__\u001b[0;34m(self)\u001b[0m\n\u001b[1;32m    678\u001b[0m \u001b[38;5;28;01mif\u001b[39;00m \u001b[38;5;28mself\u001b[39m\u001b[38;5;241m.\u001b[39m_sampler_iter \u001b[38;5;129;01mis\u001b[39;00m \u001b[38;5;28;01mNone\u001b[39;00m:\n\u001b[1;32m    679\u001b[0m     \u001b[38;5;66;03m# TODO(https://github.com/pytorch/pytorch/issues/76750)\u001b[39;00m\n\u001b[1;32m    680\u001b[0m     \u001b[38;5;28mself\u001b[39m\u001b[38;5;241m.\u001b[39m_reset()  \u001b[38;5;66;03m# type: ignore[call-arg]\u001b[39;00m\n\u001b[0;32m--> 681\u001b[0m data \u001b[38;5;241m=\u001b[39m \u001b[38;5;28;43mself\u001b[39;49m\u001b[38;5;241;43m.\u001b[39;49m\u001b[43m_next_data\u001b[49m\u001b[43m(\u001b[49m\u001b[43m)\u001b[49m\n\u001b[1;32m    682\u001b[0m \u001b[38;5;28mself\u001b[39m\u001b[38;5;241m.\u001b[39m_num_yielded \u001b[38;5;241m+\u001b[39m\u001b[38;5;241m=\u001b[39m \u001b[38;5;241m1\u001b[39m\n\u001b[1;32m    683\u001b[0m \u001b[38;5;28;01mif\u001b[39;00m \u001b[38;5;28mself\u001b[39m\u001b[38;5;241m.\u001b[39m_dataset_kind \u001b[38;5;241m==\u001b[39m _DatasetKind\u001b[38;5;241m.\u001b[39mIterable \u001b[38;5;129;01mand\u001b[39;00m \\\n\u001b[1;32m    684\u001b[0m         \u001b[38;5;28mself\u001b[39m\u001b[38;5;241m.\u001b[39m_IterableDataset_len_called \u001b[38;5;129;01mis\u001b[39;00m \u001b[38;5;129;01mnot\u001b[39;00m \u001b[38;5;28;01mNone\u001b[39;00m \u001b[38;5;129;01mand\u001b[39;00m \\\n\u001b[1;32m    685\u001b[0m         \u001b[38;5;28mself\u001b[39m\u001b[38;5;241m.\u001b[39m_num_yielded \u001b[38;5;241m>\u001b[39m \u001b[38;5;28mself\u001b[39m\u001b[38;5;241m.\u001b[39m_IterableDataset_len_called:\n",
      "File \u001b[0;32m/opt/conda/lib/python3.8/site-packages/torch/utils/data/dataloader.py:1354\u001b[0m, in \u001b[0;36m_MultiProcessingDataLoaderIter._next_data\u001b[0;34m(self)\u001b[0m\n\u001b[1;32m   1352\u001b[0m \u001b[38;5;28;01mif\u001b[39;00m \u001b[38;5;28mlen\u001b[39m(\u001b[38;5;28mself\u001b[39m\u001b[38;5;241m.\u001b[39m_task_info[\u001b[38;5;28mself\u001b[39m\u001b[38;5;241m.\u001b[39m_rcvd_idx]) \u001b[38;5;241m==\u001b[39m \u001b[38;5;241m2\u001b[39m:\n\u001b[1;32m   1353\u001b[0m     data \u001b[38;5;241m=\u001b[39m \u001b[38;5;28mself\u001b[39m\u001b[38;5;241m.\u001b[39m_task_info\u001b[38;5;241m.\u001b[39mpop(\u001b[38;5;28mself\u001b[39m\u001b[38;5;241m.\u001b[39m_rcvd_idx)[\u001b[38;5;241m1\u001b[39m]\n\u001b[0;32m-> 1354\u001b[0m     \u001b[38;5;28;01mreturn\u001b[39;00m \u001b[38;5;28;43mself\u001b[39;49m\u001b[38;5;241;43m.\u001b[39;49m\u001b[43m_process_data\u001b[49m\u001b[43m(\u001b[49m\u001b[43mdata\u001b[49m\u001b[43m)\u001b[49m\n\u001b[1;32m   1356\u001b[0m \u001b[38;5;28;01massert\u001b[39;00m \u001b[38;5;129;01mnot\u001b[39;00m \u001b[38;5;28mself\u001b[39m\u001b[38;5;241m.\u001b[39m_shutdown \u001b[38;5;129;01mand\u001b[39;00m \u001b[38;5;28mself\u001b[39m\u001b[38;5;241m.\u001b[39m_tasks_outstanding \u001b[38;5;241m>\u001b[39m \u001b[38;5;241m0\u001b[39m\n\u001b[1;32m   1357\u001b[0m idx, data \u001b[38;5;241m=\u001b[39m \u001b[38;5;28mself\u001b[39m\u001b[38;5;241m.\u001b[39m_get_data()\n",
      "File \u001b[0;32m/opt/conda/lib/python3.8/site-packages/torch/utils/data/dataloader.py:1400\u001b[0m, in \u001b[0;36m_MultiProcessingDataLoaderIter._process_data\u001b[0;34m(self, data)\u001b[0m\n\u001b[1;32m   1398\u001b[0m \u001b[38;5;28mself\u001b[39m\u001b[38;5;241m.\u001b[39m_try_put_index()\n\u001b[1;32m   1399\u001b[0m \u001b[38;5;28;01mif\u001b[39;00m \u001b[38;5;28misinstance\u001b[39m(data, ExceptionWrapper):\n\u001b[0;32m-> 1400\u001b[0m     \u001b[43mdata\u001b[49m\u001b[38;5;241;43m.\u001b[39;49m\u001b[43mreraise\u001b[49m\u001b[43m(\u001b[49m\u001b[43m)\u001b[49m\n\u001b[1;32m   1401\u001b[0m \u001b[38;5;28;01mreturn\u001b[39;00m data\n",
      "File \u001b[0;32m/opt/conda/lib/python3.8/site-packages/torch/_utils.py:543\u001b[0m, in \u001b[0;36mExceptionWrapper.reraise\u001b[0;34m(self)\u001b[0m\n\u001b[1;32m    539\u001b[0m \u001b[38;5;28;01mexcept\u001b[39;00m \u001b[38;5;167;01mTypeError\u001b[39;00m:\n\u001b[1;32m    540\u001b[0m     \u001b[38;5;66;03m# If the exception takes multiple arguments, don't try to\u001b[39;00m\n\u001b[1;32m    541\u001b[0m     \u001b[38;5;66;03m# instantiate since we don't know how to\u001b[39;00m\n\u001b[1;32m    542\u001b[0m     \u001b[38;5;28;01mraise\u001b[39;00m \u001b[38;5;167;01mRuntimeError\u001b[39;00m(msg) \u001b[38;5;28;01mfrom\u001b[39;00m \u001b[38;5;28mNone\u001b[39m\n\u001b[0;32m--> 543\u001b[0m \u001b[38;5;28;01mraise\u001b[39;00m exception\n",
      "\u001b[0;31mKeyError\u001b[0m: Caught KeyError in DataLoader worker process 1.\nOriginal Traceback (most recent call last):\n  File \"/opt/conda/lib/python3.8/site-packages/torch/utils/data/_utils/worker.py\", line 302, in _worker_loop\n    data = fetcher.fetch(index)\n  File \"/opt/conda/lib/python3.8/site-packages/torch/utils/data/_utils/fetch.py\", line 49, in fetch\n    data = [self.dataset[idx] for idx in possibly_batched_index]\n  File \"/opt/conda/lib/python3.8/site-packages/torch/utils/data/_utils/fetch.py\", line 49, in <listcomp>\n    data = [self.dataset[idx] for idx in possibly_batched_index]\n  File \"/build/rassp/dataset/__init__.py\", line 95, in __getitem__\n    features_dict = self.featurizer(mol)\n  File \"/build/rassp/featurize/featurize.py\", line 126, in __call__\n    formulae_feats, formulae_peaks = self.pff(mol)\n  File \"/build/rassp/featurize/molecule_features.py\", line 640, in __call__\n    formulae, masses = self.ffe.get_frag_formulae(mol)\n  File \"/build/rassp/msutil/masscompute.py\", line 94, in get_frag_formulae\n    np_out = masseval.py_get_all_frag_spect_highres(formula_dict ,\n  File \"rassp/msutil/masseval.pyx\", line 325, in rassp.masseval.py_get_all_frag_spect_highres\n  File \"rassp/msutil/masseval.pyx\", line 327, in rassp.masseval.py_get_all_frag_spect_highres\n  File \"rassp/msutil/masseval.pyx\", line 149, in rassp.masseval.Formula.__cinit__\nKeyError: 35\n"
     ]
    }
   ],
   "source": [
    "train('test',exp_config,exp_config_filename='exp.yml',USE_CUDA=True)"
   ]
  },
  {
   "cell_type": "code",
   "execution_count": null,
   "id": "ce3fe22c-1253-42b5-87c7-f5ca9f9c025c",
   "metadata": {},
   "outputs": [],
   "source": []
  }
 ],
 "metadata": {
  "kernelspec": {
   "display_name": "Python 3 (ipykernel)",
   "language": "python",
   "name": "python3"
  },
  "language_info": {
   "codemirror_mode": {
    "name": "ipython",
    "version": 3
   },
   "file_extension": ".py",
   "mimetype": "text/x-python",
   "name": "python",
   "nbconvert_exporter": "python",
   "pygments_lexer": "ipython3",
   "version": "3.8.13"
  }
 },
 "nbformat": 4,
 "nbformat_minor": 5
}
