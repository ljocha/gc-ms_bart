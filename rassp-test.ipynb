{
 "cells": [
  {
   "cell_type": "code",
   "execution_count": 9,
   "id": "bac6a059-bec6-4824-a7fa-66976b35abf0",
   "metadata": {
    "tags": []
   },
   "outputs": [],
   "source": [
    "import pandas as pd\n",
    "import urllib\n",
    "import os\n",
    "import pickle\n",
    "import rassp\n",
    "import torch\n",
    "from rassp import netutil\n",
    "from rdkit import Chem"
   ]
  },
  {
   "cell_type": "code",
   "execution_count": 7,
   "id": "147df318-78bc-4372-b9bb-c386173bef68",
   "metadata": {
    "tags": []
   },
   "outputs": [],
   "source": [
    "# XXX: needed by pickle.load of rassp models\n",
    "\n",
    "from rassp import msutil,model\n",
    "import sys\n",
    "sys.modules['msutil'] = msutil\n",
    "sys.modules['model'] = model"
   ]
  },
  {
   "cell_type": "code",
   "execution_count": 2,
   "id": "a6d8f738-67ef-4d87-977c-cc5343d8b7d8",
   "metadata": {
    "tags": []
   },
   "outputs": [],
   "source": [
    "s = pd.read_parquet('rassp-public/sample_data/smallmols_cfm_pred_public_sample.parquet')"
   ]
  },
  {
   "cell_type": "code",
   "execution_count": 7,
   "id": "5dea2721-d7a3-40c0-8753-cf048e5d7104",
   "metadata": {
    "tags": []
   },
   "outputs": [
    {
     "data": {
      "text/plain": [
       "array([array([15.02292522,  0.91388646]),\n",
       "       array([25.00727602,  0.96256718]),\n",
       "       array([27.02292522,  3.49654964]),\n",
       "       array([29.03857442,  2.88757419]),\n",
       "       array([39.02292522,  0.92641582]),\n",
       "       array([41.03857442,  3.63968496]),\n",
       "       array([42.04639902,  2.29737418]),\n",
       "       array([43.05422362,  8.79653005]),\n",
       "       array([43.97152142,  2.10668418]),\n",
       "       array([44.06204822,  1.32544061]),\n",
       "       array([44.97934602,  2.70170413]),\n",
       "       array([45.06987282,  1.27590546]),\n",
       "       array([55.05422362,  2.72504282]),\n",
       "       array([58.98241922,  4.22013733]),\n",
       "       array([59.99024382,  2.07733632]),\n",
       "       array([69.06987282,  2.20343483]),\n",
       "       array([70.07769742,  1.42581885]),\n",
       "       array([71.08552202,  9.44191393]),\n",
       "       array([84.99806842,  1.50804528]),\n",
       "       array([86.00589302, 18.14332272]),\n",
       "       array([87.01371762,  1.56864662]),\n",
       "       array([88.02154222,  1.06527212]),\n",
       "       array([114.0371914 ,   2.45328396]),\n",
       "       array([129.0606652 ,   2.26316959])], dtype=object)"
      ]
     },
     "execution_count": 7,
     "metadata": {},
     "output_type": "execute_result"
    }
   ],
   "source": [
    "s.iloc[0].spect"
   ]
  },
  {
   "cell_type": "code",
   "execution_count": 8,
   "id": "d9cb4e83-5162-45ce-aab0-00d6646bb03d",
   "metadata": {
    "tags": []
   },
   "outputs": [
    {
     "data": {
      "text/plain": [
       "array([array([15.        ,  0.91388646]),\n",
       "       array([25.        ,  0.96256718]),\n",
       "       array([27.        ,  3.49654964]),\n",
       "       array([29.        ,  2.88757419]),\n",
       "       array([39.        ,  0.92641582]),\n",
       "       array([41.        ,  3.63968496]),\n",
       "       array([42.        ,  2.29737418]),\n",
       "       array([43.        ,  8.79653005]),\n",
       "       array([44.        ,  2.10668418]),\n",
       "       array([44.        ,  1.32544061]),\n",
       "       array([45.        ,  2.70170413]),\n",
       "       array([45.        ,  1.27590546]),\n",
       "       array([55.        ,  2.72504282]),\n",
       "       array([59.        ,  4.22013733]),\n",
       "       array([60.        ,  2.07733632]),\n",
       "       array([69.        ,  2.20343483]),\n",
       "       array([70.        ,  1.42581885]),\n",
       "       array([71.        ,  9.44191393]),\n",
       "       array([85.        ,  1.50804528]),\n",
       "       array([86.        , 18.14332272]),\n",
       "       array([87.        ,  1.56864662]),\n",
       "       array([88.        ,  1.06527212]),\n",
       "       array([114.        ,   2.45328396]),\n",
       "       array([129.        ,   2.26316959])], dtype=object)"
      ]
     },
     "execution_count": 8,
     "metadata": {},
     "output_type": "execute_result"
    }
   ],
   "source": [
    "s.iloc[0].spect_sparse"
   ]
  },
  {
   "cell_type": "code",
   "execution_count": 9,
   "id": "f8cf215f-ee7e-4096-a464-56b3b677ce07",
   "metadata": {
    "tags": []
   },
   "outputs": [
    {
     "data": {
      "text/plain": [
       "mol_id                                              NIST2014_10006\n",
       "inchi                InChI=1S/C6H11NS/c1-5(2)6(3)7-4-8/h5-6H,1-3H3\n",
       "smiles                                              CC(C)C(C)N=C=S\n",
       "rdmol            b'\\xef\\xbe\\xad\\xde\\x00\\x00\\x00\\x00\\x0c\\x00\\x00...\n",
       "cv_id                                                            7\n",
       "morgan4_crc32                                           3981836209\n",
       "spect            [[15.02292522, 0.9138864566], [25.00727602, 0....\n",
       "spect_sparse     [[15.0, 0.9138864566], [25.0, 0.9625671785], [...\n",
       "inchi_key                              YAVRRVJBEIYPRH-UHFFFAOYSA-N\n",
       "Name: 0, dtype: object"
      ]
     },
     "execution_count": 9,
     "metadata": {},
     "output_type": "execute_result"
    }
   ],
   "source": [
    "s.iloc[0]"
   ]
  },
  {
   "cell_type": "markdown",
   "id": "28389677-597b-4132-a57a-5d2ea43189f4",
   "metadata": {},
   "source": [
    "### TODO \n",
    "\n",
    "Z toho pouziva RASSP jen spect a rdmol\n",
    "rdmol je serializovany rdkit.Chem.Mol\n",
    "\n",
    "to budeme umet z MSP vyrobit"
   ]
  },
  {
   "cell_type": "code",
   "execution_count": 14,
   "id": "87250934-56d7-46cc-9d28-76603d1eff2d",
   "metadata": {
    "tags": []
   },
   "outputs": [],
   "source": [
    "base='https://people.cs.uchicago.edu/~ericj/rassp/'\n",
    "files=[ 'formulanet_best_candidate_pcsim_pretrain.nist-fromscratch-3x9x128.35790555.00000740.model',    \n",
    "'formulanet_best_candidate_pcsim_pretrain.nist-fromscratch-3x9x128.35790555.meta',\n",
    "'subsetnet_best_candidate_nist_fromscratch.nist-fromscratch-test01-old-1x2048.36688199.00001000.model', \n",
    "'subsetnet_best_candidate_nist_fromscratch.nist-fromscratch-test01-old-1x2048.36688199.meta',   \n",
    "'subsetnet_best_candidate_nist_posttrain_cluster.cluster-nist-posttrain.35946017.00000480.model',\n",
    "'subsetnet_best_candidate_nist_posttrain_cluster.cluster-nist-posttrain.35946017.meta']\n",
    "\n",
    "for f in files:\n",
    "    urllib.request.urlretrieve(f'{base}/{f}',f)"
   ]
  },
  {
   "cell_type": "code",
   "execution_count": 8,
   "id": "9f9852d2-7aa0-49fa-bd1f-352509e04834",
   "metadata": {
    "tags": []
   },
   "outputs": [],
   "source": [
    "# from original run_rassp.py\n",
    "\n",
    "use_gpu=True\n",
    "model_dir='.'\n",
    "\n",
    "MODELS = {\n",
    "    'FormulaNet': {\n",
    "        'checkpoint': os.path.join(model_dir, 'formulanet_best_candidate_pcsim_pretrain.nist-fromscratch-3x9x128.35790555.00000740.model'),\n",
    "        'meta': os.path.join(model_dir, 'formulanet_best_candidate_pcsim_pretrain.nist-fromscratch-3x9x128.35790555.meta'),\n",
    "\n",
    "        # NOTE(2023-01-24): FN currently has a reduced set of valid mol constraints bc this is what we trained with\n",
    "        # and there is currently an outstanding bug where changing N_ATOMS here breaks FN predictions in subtle ways.\n",
    "        'override_constraints': {\n",
    "            'n_atom': 48,\n",
    "            # 'n_formula': 4096,\n",
    "            'n_formula': 32768,\n",
    "            # 'n_subset': 12288,\n",
    "            'n_subset': 49152,\n",
    "        },\n",
    "    },\n",
    "    'SubsetNet': {\n",
    "        'checkpoint': os.path.join(model_dir, 'subsetnet_best_candidate_nist_fromscratch.nist-fromscratch-test01-old-1x2048.36688199.00001000.model'),\n",
    "        'meta': os.path.join(model_dir, 'subsetnet_best_candidate_nist_fromscratch.nist-fromscratch-test01-old-1x2048.36688199.meta'),\n",
    "\n",
    "        # NOTE: this set of params works for SN GPU inference on a single RTX 2080 Ti (12GB VRAM)\n",
    "        # despite SN being trained on <= 48 atoms like FN, it also scales well to mols up to <= 64 atoms (tested)\n",
    "        'override_constraints': {\n",
    "            'n_atom': 64,\n",
    "            'n_formula': 32768,\n",
    "            'n_subset': 49152,\n",
    "        },\n",
    "    },\n",
    "}\n",
    "\n",
    "model_name='FormulaNet'\n",
    "meta_path = MODELS[model_name]['meta']\n",
    "ckpt_path = MODELS[model_name]['checkpoint']\n",
    "override_constraints = MODELS[model_name]['override_constraints']\n",
    "meta = pickle.load(open(meta_path, 'rb'))\n",
    "\n",
    "feat_config = meta['featurize_config']\n",
    "for key, val in override_constraints.items():\n",
    "    if key == 'n_atom':\n",
    "        feat_config['MAX_N'] = val\n",
    "    if key == 'n_formula':\n",
    "        feat_config['explicit_formulae_config']['max_formulae'] = val\n",
    "    if key == 'n_subset':\n",
    "        feat_config['vert_subset_samples_n'] = val\n",
    "\n",
    "if use_gpu and not torch.cuda.is_available():\n",
    "    use_gpu = False\n",
    "\n",
    "predictor = netutil.PredModel(\n",
    "    meta_path,\n",
    "    ckpt_path,\n",
    "    USE_CUDA=use_gpu,\n",
    "    data_parallel=False,\n",
    "    featurize_config_update=feat_config,\n",
    ")\n"
   ]
  },
  {
   "cell_type": "code",
   "execution_count": 10,
   "id": "55a4e443-9e7f-46b5-be42-c1acd89ee525",
   "metadata": {
    "tags": []
   },
   "outputs": [],
   "source": [
    "smiles = ['C1=CNN=C1','CC(C)C#N','CCC(=C)C','CC[N+](=O)[O-]']\n",
    "\n",
    "valid_mols = [ Chem.AddHs(Chem.MolFromSmiles(s)) for s in smiles ]"
   ]
  },
  {
   "cell_type": "code",
   "execution_count": 12,
   "id": "c1e42f7a-48b6-4200-bb8a-7016f739792e",
   "metadata": {},
   "outputs": [
    {
     "name": "stderr",
     "output_type": "stream",
     "text": [
      "100%|███████████████████████████████████████████████████████████████████████████████████████████████████████| 4/4 [00:00<00:00,  4.78it/s]\n"
     ]
    }
   ],
   "source": [
    "predictions = predictor.pred(\n",
    "    valid_mols,\n",
    "    progress_bar=True,\n",
    "    normalize_pred=True,\n",
    "    output_hist_bins=True,\n",
    "    batch_size=4, # XXX\n",
    "    dataloader_config={\n",
    "        'pin_memory': False,\n",
    "        'num_workers': 0, # XXX\n",
    "        'persistent_workers': False,\n",
    "    },\n",
    "    benchmark_dataloader=False,\n",
    ")\n"
   ]
  },
  {
   "cell_type": "code",
   "execution_count": 20,
   "id": "4a55773f-cd24-4cbd-a15a-8f449c90e17d",
   "metadata": {
    "tags": []
   },
   "outputs": [
    {
     "data": {
      "text/plain": [
       "array([[1.2000000e+01, 1.5725836e-05],\n",
       "       [1.3000000e+01, 2.5566214e-05],\n",
       "       [1.4000000e+01, 8.4828343e-06],\n",
       "       [1.5000000e+01, 1.5869243e-06],\n",
       "       [1.6000000e+01, 2.2642298e-05],\n",
       "       [2.4000000e+01, 6.1679937e-05],\n",
       "       [2.5000000e+01, 1.6761186e-04],\n",
       "       [2.6000000e+01, 1.2685906e-03],\n",
       "       [2.7000000e+01, 1.3037211e-03],\n",
       "       [2.8000000e+01, 1.5958099e-02],\n",
       "       [2.9000000e+01, 2.8420868e-04],\n",
       "       [3.0000000e+01, 1.6846336e-05],\n",
       "       [3.1000000e+01, 5.4366119e-06],\n",
       "       [3.2000000e+01, 3.5220235e-06],\n",
       "       [3.6000000e+01, 3.0995213e-04],\n",
       "       [3.7000000e+01, 8.7629817e-04],\n",
       "       [3.8000000e+01, 7.5590909e-03],\n",
       "       [3.9000000e+01, 2.2764167e-02],\n",
       "       [4.0000000e+01, 9.9940322e-02],\n",
       "       [4.1000000e+01, 1.6757661e-01],\n",
       "       [4.2000000e+01, 4.8595341e-03],\n",
       "       [4.3000000e+01, 9.6873526e-05],\n",
       "       [4.4000000e+01, 1.6739970e-05],\n",
       "       [5.0000000e+01, 1.6946797e-03],\n",
       "       [5.1000000e+01, 1.1282132e-02],\n",
       "       [5.2000000e+01, 3.0101908e-02],\n",
       "       [5.3000000e+01, 7.6628649e-03],\n",
       "       [5.4000000e+01, 2.0727921e-02],\n",
       "       [5.5000000e+01, 1.6967205e-02],\n",
       "       [5.6000000e+01, 5.0781056e-04],\n",
       "       [5.7000000e+01, 3.5878838e-06],\n",
       "       [6.4000000e+01, 3.2259315e-05],\n",
       "       [6.5000000e+01, 5.2240730e-04],\n",
       "       [6.6000000e+01, 5.0064723e-04],\n",
       "       [6.7000000e+01, 6.2992093e-03],\n",
       "       [6.8000000e+01, 5.5818576e-01],\n",
       "       [6.9000000e+01, 2.2232413e-02],\n",
       "       [7.0000000e+01, 1.3379099e-04]], dtype=float32)"
      ]
     },
     "execution_count": 20,
     "metadata": {},
     "output_type": "execute_result"
    }
   ],
   "source": [
    "predictions['pred_binned'][0]"
   ]
  },
  {
   "cell_type": "code",
   "execution_count": null,
   "id": "9e84b704-6906-47c3-9395-7dc55d97dfb8",
   "metadata": {},
   "outputs": [],
   "source": []
  }
 ],
 "metadata": {
  "kernelspec": {
   "display_name": "Python 3 (ipykernel)",
   "language": "python",
   "name": "python3"
  },
  "language_info": {
   "codemirror_mode": {
    "name": "ipython",
    "version": 3
   },
   "file_extension": ".py",
   "mimetype": "text/x-python",
   "name": "python",
   "nbconvert_exporter": "python",
   "pygments_lexer": "ipython3",
   "version": "3.8.13"
  }
 },
 "nbformat": 4,
 "nbformat_minor": 5
}
