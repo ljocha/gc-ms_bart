{
 "cells": [
  {
   "cell_type": "code",
   "execution_count": null,
   "id": "b960323b-8f0b-4112-848b-12b17deb6ab8",
   "metadata": {
    "tags": []
   },
   "outputs": [],
   "source": [
    "threads=16\n",
    "import os\n",
    "os.environ['OMP_NUM_THREADS']=str(threads)\n",
    "import torch"
   ]
  },
  {
   "cell_type": "code",
   "execution_count": null,
   "id": "bac6a059-bec6-4824-a7fa-66976b35abf0",
   "metadata": {
    "tags": []
   },
   "outputs": [],
   "source": [
    "import pandas as pd\n",
    "import urllib\n",
    "import pickle\n",
    "import rassp\n",
    "from rassp import netutil\n",
    "from rdkit import Chem\n",
    "import numpy as np"
   ]
  },
  {
   "cell_type": "code",
   "execution_count": null,
   "id": "147df318-78bc-4372-b9bb-c386173bef68",
   "metadata": {
    "tags": []
   },
   "outputs": [],
   "source": [
    "# XXX: needed by pickle.load of rassp models\n",
    "\n",
    "from rassp import msutil,model\n",
    "import sys\n",
    "sys.modules['msutil'] = msutil\n",
    "sys.modules['model'] = model"
   ]
  },
  {
   "cell_type": "code",
   "execution_count": null,
   "id": "a6d8f738-67ef-4d87-977c-cc5343d8b7d8",
   "metadata": {
    "tags": []
   },
   "outputs": [],
   "source": [
    "s = pd.read_parquet('rassp-public/sample_data/smallmols_cfm_pred_public_sample.parquet')"
   ]
  },
  {
   "cell_type": "code",
   "execution_count": null,
   "id": "5dea2721-d7a3-40c0-8753-cf048e5d7104",
   "metadata": {
    "tags": []
   },
   "outputs": [],
   "source": [
    "s.iloc[0].spect"
   ]
  },
  {
   "cell_type": "code",
   "execution_count": null,
   "id": "d9cb4e83-5162-45ce-aab0-00d6646bb03d",
   "metadata": {
    "tags": []
   },
   "outputs": [],
   "source": [
    "s.iloc[0].spect_sparse"
   ]
  },
  {
   "cell_type": "code",
   "execution_count": null,
   "id": "f8cf215f-ee7e-4096-a464-56b3b677ce07",
   "metadata": {
    "tags": []
   },
   "outputs": [],
   "source": [
    "s.iloc[0]"
   ]
  },
  {
   "cell_type": "code",
   "execution_count": null,
   "id": "8a061a2e-133c-49f2-b654-c6e58bbcb122",
   "metadata": {
    "tags": []
   },
   "outputs": [],
   "source": [
    "m = Chem.Mol(s.iloc[1].rdmol)\n",
    "m"
   ]
  },
  {
   "cell_type": "code",
   "execution_count": null,
   "id": "d0459504-fc74-4678-9df2-0ed8c51a9ecd",
   "metadata": {
    "tags": []
   },
   "outputs": [],
   "source": [
    "[ a.GetAtomicNum() for a in m.GetAtoms()]"
   ]
  },
  {
   "cell_type": "markdown",
   "id": "28389677-597b-4132-a57a-5d2ea43189f4",
   "metadata": {},
   "source": [
    "### TODO \n",
    "\n",
    "Z toho pouziva RASSP jen spect a rdmol\n",
    "rdmol je serializovany rdkit.Chem.Mol\n",
    "\n",
    "to budeme umet z MSP vyrobit"
   ]
  },
  {
   "cell_type": "code",
   "execution_count": null,
   "id": "87250934-56d7-46cc-9d28-76603d1eff2d",
   "metadata": {
    "tags": []
   },
   "outputs": [],
   "source": [
    "base='https://people.cs.uchicago.edu/~ericj/rassp/'\n",
    "files=[ 'formulanet_best_candidate_pcsim_pretrain.nist-fromscratch-3x9x128.35790555.00000740.model',    \n",
    "'formulanet_best_candidate_pcsim_pretrain.nist-fromscratch-3x9x128.35790555.meta',\n",
    "'subsetnet_best_candidate_nist_fromscratch.nist-fromscratch-test01-old-1x2048.36688199.00001000.model', \n",
    "'subsetnet_best_candidate_nist_fromscratch.nist-fromscratch-test01-old-1x2048.36688199.meta',   \n",
    "'subsetnet_best_candidate_nist_posttrain_cluster.cluster-nist-posttrain.35946017.00000480.model',\n",
    "'subsetnet_best_candidate_nist_posttrain_cluster.cluster-nist-posttrain.35946017.meta']\n",
    "\n",
    "for f in files:\n",
    "    urllib.request.urlretrieve(f'{base}/{f}',f)"
   ]
  },
  {
   "cell_type": "code",
   "execution_count": null,
   "id": "9f9852d2-7aa0-49fa-bd1f-352509e04834",
   "metadata": {
    "tags": []
   },
   "outputs": [],
   "source": [
    "# from original run_rassp.py\n",
    "\n",
    "use_gpu=True\n",
    "model_dir='.'\n",
    "\n",
    "MODELS = {\n",
    "    'FormulaNet': {\n",
    "        'checkpoint': os.path.join(model_dir, 'formulanet_best_candidate_pcsim_pretrain.nist-fromscratch-3x9x128.35790555.00000740.model'),\n",
    "        'meta': os.path.join(model_dir, 'formulanet_best_candidate_pcsim_pretrain.nist-fromscratch-3x9x128.35790555.meta'),\n",
    "\n",
    "        # NOTE(2023-01-24): FN currently has a reduced set of valid mol constraints bc this is what we trained with\n",
    "        # and there is currently an outstanding bug where changing N_ATOMS here breaks FN predictions in subtle ways.\n",
    "        'override_constraints': {\n",
    "            'n_atom': 48,\n",
    "            # 'n_formula': 4096,\n",
    "            'n_formula': 32768,\n",
    "            # 'n_subset': 12288,\n",
    "            'n_subset': 49152,\n",
    "        },\n",
    "    },\n",
    "    'SubsetNet': {\n",
    "        'checkpoint': os.path.join(model_dir, 'subsetnet_best_candidate_nist_fromscratch.nist-fromscratch-test01-old-1x2048.36688199.00001000.model'),\n",
    "        'meta': os.path.join(model_dir, 'subsetnet_best_candidate_nist_fromscratch.nist-fromscratch-test01-old-1x2048.36688199.meta'),\n",
    "\n",
    "        # NOTE: this set of params works for SN GPU inference on a single RTX 2080 Ti (12GB VRAM)\n",
    "        # despite SN being trained on <= 48 atoms like FN, it also scales well to mols up to <= 64 atoms (tested)\n",
    "        'override_constraints': {\n",
    "            'n_atom': 64,\n",
    "            'n_formula': 32768,\n",
    "            'n_subset': 49152,\n",
    "        },\n",
    "    },\n",
    "}\n",
    "\n",
    "model_name='FormulaNet'\n",
    "meta_path = MODELS[model_name]['meta']\n",
    "ckpt_path = MODELS[model_name]['checkpoint']\n",
    "override_constraints = MODELS[model_name]['override_constraints']\n",
    "meta = pickle.load(open(meta_path, 'rb'))\n",
    "\n",
    "feat_config = meta['featurize_config']\n",
    "for key, val in override_constraints.items():\n",
    "    if key == 'n_atom':\n",
    "        feat_config['MAX_N'] = val\n",
    "    if key == 'n_formula':\n",
    "        feat_config['explicit_formulae_config']['max_formulae'] = val\n",
    "    if key == 'n_subset':\n",
    "        feat_config['vert_subset_samples_n'] = val\n",
    "\n",
    "if use_gpu and not torch.cuda.is_available():\n",
    "    use_gpu = False\n",
    "\n",
    "predictor = netutil.PredModel(\n",
    "    meta_path,\n",
    "    ckpt_path,\n",
    "    USE_CUDA=use_gpu,\n",
    "    data_parallel=False,\n",
    "    featurize_config_update=feat_config,\n",
    ")\n"
   ]
  },
  {
   "cell_type": "code",
   "execution_count": null,
   "id": "55a4e443-9e7f-46b5-be42-c1acd89ee525",
   "metadata": {
    "tags": []
   },
   "outputs": [],
   "source": [
    "smiles = ['C1=CNN=C1','CC(C)C#N','CCC(=C)C','CC[N+](=O)[O-]','C1=CSC(=N1)N=C(C(C(F)(F)F)(OC(C(C(F)(F)F)(OC(C(C(F)(F)F)(F)F)(F)F)F)(F)F)F)N'] \n",
    "\n",
    "valid_mols = [ Chem.AddHs(Chem.MolFromSmiles(s)) for s in smiles ]"
   ]
  },
  {
   "cell_type": "code",
   "execution_count": null,
   "id": "c1e42f7a-48b6-4200-bb8a-7016f739792e",
   "metadata": {},
   "outputs": [],
   "source": [
    "predictions = predictor.pred(\n",
    "    valid_mols,\n",
    "    progress_bar=True,\n",
    "    normalize_pred=True,\n",
    "    output_hist_bins=True,\n",
    "    batch_size=2, # XXX\n",
    "    dataloader_config={\n",
    "        'pin_memory': False,\n",
    "        'num_workers': 0, # XXX\n",
    "        'persistent_workers': False,\n",
    "    },\n",
    "    benchmark_dataloader=False,\n",
    ")\n"
   ]
  },
  {
   "cell_type": "code",
   "execution_count": null,
   "id": "4a55773f-cd24-4cbd-a15a-8f449c90e17d",
   "metadata": {
    "tags": []
   },
   "outputs": [],
   "source": [
    "shit_pred17 = predictions['pred_binned']"
   ]
  },
  {
   "cell_type": "code",
   "execution_count": null,
   "id": "980c9306-f3a5-4380-b1b4-0cfc27905b70",
   "metadata": {},
   "outputs": [],
   "source": []
  },
  {
   "cell_type": "code",
   "execution_count": null,
   "id": "3c6c9f6e-2937-478b-85e2-5f2be43dbeec",
   "metadata": {},
   "outputs": [],
   "source": []
  },
  {
   "cell_type": "code",
   "execution_count": null,
   "id": "5fdc0a5e-672e-4abf-baea-1875e597fdd8",
   "metadata": {
    "tags": []
   },
   "outputs": [],
   "source": [
    "nist_path = '20210925_NIST_EI_MS_cleaned.msp'\n",
    "\n",
    "from matchms.importing import load_from_msp\n",
    "nist = list(load_from_msp(nist_path, metadata_harmonization=False))"
   ]
  },
  {
   "cell_type": "code",
   "execution_count": null,
   "id": "34b00e48-39ea-4ef9-8a4e-64875923cd8c",
   "metadata": {
    "tags": []
   },
   "outputs": [],
   "source": [
    "len(nist)"
   ]
  },
  {
   "cell_type": "code",
   "execution_count": null,
   "id": "f383ac7c-0ca6-4814-9334-64a545ef2d20",
   "metadata": {
    "tags": []
   },
   "outputs": [],
   "source": [
    "nist[42].metadata"
   ]
  },
  {
   "cell_type": "code",
   "execution_count": null,
   "id": "b8d47077-f69d-4a52-81ce-692163935000",
   "metadata": {
    "tags": []
   },
   "outputs": [],
   "source": [
    "Chem.MolToSmiles(Chem.inchi.MolFromInchi(nist[42].metadata['inchi']))"
   ]
  },
  {
   "cell_type": "code",
   "execution_count": null,
   "id": "1ee4a514-2260-436f-8027-b5cd92497c5d",
   "metadata": {
    "tags": []
   },
   "outputs": [],
   "source": [
    "nist[42].peaks.mz"
   ]
  },
  {
   "cell_type": "code",
   "execution_count": null,
   "id": "d847e967-594a-4079-9081-d8f3705f075d",
   "metadata": {
    "tags": []
   },
   "outputs": [],
   "source": [
    "nist[42].peaks.intensities"
   ]
  },
  {
   "cell_type": "code",
   "execution_count": null,
   "id": "8a0cb946-58f7-45f6-9183-13b8fb3705b5",
   "metadata": {
    "tags": []
   },
   "outputs": [],
   "source": [
    "mol = Chem.AddHs(Chem.MolFromSmiles(nist[42].metadata['smiles']))\n",
    "len(mol.GetPropNames())"
   ]
  },
  {
   "cell_type": "code",
   "execution_count": null,
   "id": "d65781ea-9795-4324-a52a-664258e9aff7",
   "metadata": {
    "tags": []
   },
   "outputs": [],
   "source": [
    "b = mol.ToBinary()\n",
    "b"
   ]
  },
  {
   "cell_type": "code",
   "execution_count": null,
   "id": "786c71a8-705e-4c02-9ef3-63f1191e0932",
   "metadata": {
    "tags": []
   },
   "outputs": [],
   "source": [
    "m2 = Chem.Mol(b)\n",
    "m2"
   ]
  },
  {
   "cell_type": "code",
   "execution_count": null,
   "id": "4299d0e5-802c-4d1b-8a3b-ed9fd1ab8e9c",
   "metadata": {
    "tags": []
   },
   "outputs": [],
   "source": [
    "import numpy as np\n",
    "a=np.stack([nist[42].peaks.mz,nist[42].peaks.intensities],axis=1)\n",
    "a"
   ]
  },
  {
   "cell_type": "code",
   "execution_count": null,
   "id": "f8336ae3-fe9b-4a4a-99a9-25b79cbdc852",
   "metadata": {
    "tags": []
   },
   "outputs": [],
   "source": [
    "bb = np.empty(shape=(a.shape[0],),dtype=object)\n",
    "bb[:] = list(a)\n",
    "bb"
   ]
  },
  {
   "cell_type": "code",
   "execution_count": null,
   "id": "4712be15-8611-4150-98a6-ce54d20becae",
   "metadata": {
    "tags": []
   },
   "outputs": [],
   "source": [
    "np.array(list(a),dtype=object)"
   ]
  },
  {
   "cell_type": "code",
   "execution_count": null,
   "id": "2b676167-a9be-4d85-8430-43dc38ec5172",
   "metadata": {
    "tags": []
   },
   "outputs": [],
   "source": [
    "n=nist[42]\n",
    "np.array([ np.array(p,dtype=object) for p in zip(n.peaks.mz, n.peaks.intensities)])\n",
    "#[ np.array(p) for p in zip(n.peaks.mz, n.peaks.intensities)]"
   ]
  },
  {
   "cell_type": "code",
   "execution_count": null,
   "id": "5933122b-9591-4a4b-8aed-2bd667cf546a",
   "metadata": {
    "tags": []
   },
   "outputs": [],
   "source": [
    "# valid_atoms = {1, 6, 7, 8, 9, 15, 16, 17}\n",
    "# FIXME: rassp/msutil/shared.h\n",
    "# not acceptable, narrows down the model too much, we need Br, Si at least\n",
    "\n",
    "# fixed:\n",
    "valid_atoms = {1, 5, 6, 7, 8, 9, 14, 15, 16, 17, 35, 53}\n",
    "\n",
    "# requires isotopic data in rassp/msutil/floatmasseval_per_elt_peaks.h\n",
    "\n",
    "# dtto MAX_N == 48\n",
    "\n",
    "def mkdf(nist2):\n",
    "    missing = dict()\n",
    "    mols = [ ]\n",
    "    spects = []\n",
    "    smiles = []\n",
    "    for i,n in enumerate(nist2):\n",
    "        if n.metadata.get('smiles') is None:\n",
    "            print(i,'no smiles')\n",
    "            continue\n",
    "        mol = Chem.MolFromSmiles(n.metadata['smiles'])\n",
    "        if mol is None: \n",
    "            print(i,n.metadata['smiles'][:100],'... cant parse')\n",
    "            continue \n",
    "        mol = Chem.AddHs(mol)\n",
    "        if mol is None: \n",
    "            print(i,n.metadata['smiles'],'... cant add Hs')\n",
    "            continue \n",
    "            \n",
    "        if len(mol.GetAtoms()) > 48:\n",
    "            print(i,n.metadata['smiles'],'... too many atoms')\n",
    "            continue\n",
    "        \n",
    "        atoms = { a.GetAtomicNum() for a in mol.GetAtoms() }\n",
    "        if not atoms < valid_atoms:\n",
    "            for e in atoms - valid_atoms:\n",
    "                missing[e] = missing.get(e,0)+1\n",
    "                \n",
    "            print(i,n.metadata['smiles'],atoms,'... invalid atom')\n",
    "            continue\n",
    "        \n",
    "        mols.append(mol.ToBinary())\n",
    "        a = np.stack([n.peaks.mz, n.peaks.intensities], axis=1)\n",
    "        b = np.empty(shape=(a.shape[0],),dtype=object)\n",
    "        b[:] = list(a)\n",
    "        spects.append(b)\n",
    "        smiles.append(n.metadata['smiles'])\n",
    "\n",
    "    df = pd.DataFrame.from_dict({ 'rdmol' : mols, 'spect' : spects, 'smiles' : smiles })\n",
    "    return df,missing"
   ]
  },
  {
   "cell_type": "code",
   "execution_count": null,
   "id": "267fa070-3050-45e7-8a39-1a1b9a45e417",
   "metadata": {
    "tags": []
   },
   "outputs": [],
   "source": [
    "%%capture\n",
    "trd,missing = mkdf(nist)"
   ]
  },
  {
   "cell_type": "code",
   "execution_count": null,
   "id": "4d02d469-97dc-4cac-a90d-681876148e31",
   "metadata": {
    "tags": []
   },
   "outputs": [],
   "source": [
    "sorted(missing.items(),key=lambda x: x[1])"
   ]
  },
  {
   "cell_type": "code",
   "execution_count": null,
   "id": "d19b389f-f87f-4f91-b35b-729fdfa4c648",
   "metadata": {
    "tags": []
   },
   "outputs": [],
   "source": [
    "test_mask = np.random.choice([True, False], p=[.2,.8], size=len(trd))"
   ]
  },
  {
   "cell_type": "code",
   "execution_count": null,
   "id": "34764a10-8799-46bb-ae3f-0e79fc6a72db",
   "metadata": {
    "tags": []
   },
   "outputs": [],
   "source": [
    "trd[test_mask == False].to_parquet('train.pq')"
   ]
  },
  {
   "cell_type": "code",
   "execution_count": null,
   "id": "8d29b970-4dbf-4584-871e-43b8b322b3c3",
   "metadata": {
    "tags": []
   },
   "outputs": [],
   "source": [
    "td = pd.read_parquet('train.pq')                    "
   ]
  },
  {
   "cell_type": "code",
   "execution_count": null,
   "id": "f62ee9f4-b186-47c9-99f2-3a4389aec70f",
   "metadata": {
    "tags": []
   },
   "outputs": [],
   "source": [
    "td.iloc[0].spect"
   ]
  },
  {
   "cell_type": "code",
   "execution_count": null,
   "id": "de344886-900a-4203-9105-759476ac0c5e",
   "metadata": {
    "tags": []
   },
   "outputs": [],
   "source": [
    "%%capture\n",
    "tstd = mkdf(nist[1:1000:2])"
   ]
  },
  {
   "cell_type": "code",
   "execution_count": null,
   "id": "212a3d26-da5b-46e1-a41d-1936f5d19cf9",
   "metadata": {
    "tags": []
   },
   "outputs": [],
   "source": [
    "#tstd.to_parquet('test.pq')\n",
    "trd[test_mask].to_parquet('test.pq')"
   ]
  },
  {
   "cell_type": "code",
   "execution_count": null,
   "id": "ef603beb-50f2-47d2-8161-f791c87d5704",
   "metadata": {
    "tags": []
   },
   "outputs": [],
   "source": [
    "tstd"
   ]
  },
  {
   "cell_type": "code",
   "execution_count": null,
   "id": "40419726-6c5e-4a4a-8e92-b40e01740cd5",
   "metadata": {},
   "outputs": [],
   "source": [
    "sys.path.append('./rassp-public/rassp')\n",
    "from forward_train import train"
   ]
  },
  {
   "cell_type": "code",
   "execution_count": null,
   "id": "83b3961b-e7e2-4b94-bdae-06b643a14afe",
   "metadata": {
    "tags": []
   },
   "outputs": [],
   "source": [
    "import yaml\n",
    "with open('rassp-public/rassp/expconfig/demo.yaml') as cf:\n",
    "    exp_config = yaml.load(cf,Loader=yaml.FullLoader)"
   ]
  },
  {
   "cell_type": "code",
   "execution_count": null,
   "id": "961123f2-3a8d-4319-b886-58af93f96afc",
   "metadata": {
    "tags": []
   },
   "outputs": [],
   "source": [
    "exp_config['cluster_config']['data_dir'] = '.'\n",
    "exp_config['DATALOADER_NUM_WORKERS'] = 8\n",
    "exp_config['max_epochs'] = 200\n",
    "exp_config['epoch_size'] = 4096\n",
    "exp_config['batch_size'] = 4\n",
    "exp_config['automatic_mixed_precision'] = False # broken\n",
    "exp_config['featurize_config']['explicit_formulae_config']['max_formulae'] = 27000 # XXX\n",
    "exp_config['exp_data']['data'][0]['db_filename'] = 'train.pq'\n",
    "exp_config['exp_data']['data'][1]['db_filename'] = 'test.pq'\n",
    "\n",
    "with open('exp.yml','w') as y:\n",
    "    yaml.dump(exp_config,y)"
   ]
  },
  {
   "cell_type": "code",
   "execution_count": null,
   "id": "3627f9b5-1e47-47e3-ba03-7617f56f77eb",
   "metadata": {},
   "outputs": [],
   "source": []
  },
  {
   "cell_type": "code",
   "execution_count": null,
   "id": "8bef65dd-4c4b-41dc-97a7-3026777a10bc",
   "metadata": {
    "tags": []
   },
   "outputs": [],
   "source": [
    "train('test',exp_config,exp_config_filename='exp.yml',USE_CUDA=True)"
   ]
  },
  {
   "cell_type": "code",
   "execution_count": null,
   "id": "ce3fe22c-1253-42b5-87c7-f5ca9f9c025c",
   "metadata": {},
   "outputs": [],
   "source": [
    "trd[trd.smiles.str.contains('C(Cl)Br',regex=False)]\n",
    "#trd[trd.smiles.str.contains('Br',regex=False)]"
   ]
  },
  {
   "cell_type": "code",
   "execution_count": null,
   "id": "1494c6f1-7058-496a-b15b-5f885b0a3b7b",
   "metadata": {
    "tags": []
   },
   "outputs": [],
   "source": [
    "m=Chem.Mol(trd.iloc[7208].rdmol)\n",
    "m"
   ]
  },
  {
   "cell_type": "code",
   "execution_count": null,
   "id": "9828853b-eda1-4b0a-bd26-cbc196042b64",
   "metadata": {
    "tags": []
   },
   "outputs": [],
   "source": [
    "not {a.GetAtomicNum() for a in m.GetAtoms()} < {1,2,6,7,8,9,15,16,17}"
   ]
  },
  {
   "cell_type": "code",
   "execution_count": null,
   "id": "d6472114-b836-42f6-a34b-af7d01c725e3",
   "metadata": {
    "tags": []
   },
   "outputs": [],
   "source": [
    "trd = pd.read_parquet('train.pq')"
   ]
  },
  {
   "cell_type": "code",
   "execution_count": null,
   "id": "e792ca5a-c0fc-4446-82be-1f81bcca6314",
   "metadata": {},
   "outputs": [],
   "source": [
    "shit_nist=trd[trd.smiles.str.contains({*smiles},regex=False)]"
   ]
  },
  {
   "cell_type": "code",
   "execution_count": null,
   "id": "10875c4d-3aff-43b0-bddd-e5352be863d7",
   "metadata": {
    "tags": []
   },
   "outputs": [],
   "source": [
    "idx=4"
   ]
  },
  {
   "cell_type": "code",
   "execution_count": null,
   "id": "49856b1f-0c9b-46ab-af05-adfea3d39002",
   "metadata": {
    "tags": []
   },
   "outputs": [],
   "source": [
    "shit_nist=trd[trd.smiles == smiles[idx]]\n",
    "shit_nist"
   ]
  },
  {
   "cell_type": "code",
   "execution_count": null,
   "id": "980fe05e-45b9-4d41-88fa-00b890b437cb",
   "metadata": {
    "tags": []
   },
   "outputs": [],
   "source": [
    "idx2=0"
   ]
  },
  {
   "cell_type": "code",
   "execution_count": null,
   "id": "f5a52358-e426-498b-a76d-8f9fbaf89fbd",
   "metadata": {
    "tags": []
   },
   "outputs": [],
   "source": [
    "import matchms\n",
    "mzi=np.array(list(shit_nist.iloc[idx2].spect))\n",
    "shit1 = matchms.Spectrum(mz=mzi[:,0],intensities=mzi[:,1])\n",
    "mzi=shit_pred17[idx].astype(float)\n",
    "shit2 = matchms.Spectrum(mz=mzi[:,0],intensities=mzi[:,1])"
   ]
  },
  {
   "cell_type": "code",
   "execution_count": null,
   "id": "9721c3f9-258d-4758-8356-25f8c576fb78",
   "metadata": {
    "tags": []
   },
   "outputs": [],
   "source": [
    "from matchms.plotting import plot_spectra_mirror\n",
    "plot_spectra_mirror(shit1,shit2)"
   ]
  },
  {
   "cell_type": "code",
   "execution_count": null,
   "id": "9777fd89-36b3-49a6-9972-c35114950319",
   "metadata": {},
   "outputs": [],
   "source": [
    "nist[42]"
   ]
  },
  {
   "cell_type": "code",
   "execution_count": null,
   "id": "a67d61e6-1b9b-44f1-88a4-187d57144e4b",
   "metadata": {},
   "outputs": [],
   "source": []
  }
 ],
 "metadata": {
  "kernelspec": {
   "display_name": "Python 3 (ipykernel)",
   "language": "python",
   "name": "python3"
  },
  "language_info": {
   "codemirror_mode": {
    "name": "ipython",
    "version": 3
   },
   "file_extension": ".py",
   "mimetype": "text/x-python",
   "name": "python",
   "nbconvert_exporter": "python",
   "pygments_lexer": "ipython3",
   "version": "3.8.13"
  }
 },
 "nbformat": 4,
 "nbformat_minor": 5
}
