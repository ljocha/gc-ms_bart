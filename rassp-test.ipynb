{
 "cells": [
  {
   "cell_type": "code",
   "execution_count": 1,
   "id": "b960323b-8f0b-4112-848b-12b17deb6ab8",
   "metadata": {
    "tags": []
   },
   "outputs": [
    {
     "name": "stderr",
     "output_type": "stream",
     "text": [
      "/opt/conda/lib/python3.8/site-packages/tqdm/auto.py:22: TqdmWarning: IProgress not found. Please update jupyter and ipywidgets. See https://ipywidgets.readthedocs.io/en/stable/user_install.html\n",
      "  from .autonotebook import tqdm as notebook_tqdm\n"
     ]
    }
   ],
   "source": [
    "threads=16\n",
    "import os\n",
    "os.environ['OMP_NUM_THREADS']=str(threads)\n",
    "import torch"
   ]
  },
  {
   "cell_type": "code",
   "execution_count": 2,
   "id": "bac6a059-bec6-4824-a7fa-66976b35abf0",
   "metadata": {
    "tags": []
   },
   "outputs": [],
   "source": [
    "import pandas as pd\n",
    "import urllib\n",
    "import pickle\n",
    "import rassp\n",
    "from rassp import netutil\n",
    "from rdkit import Chem\n",
    "import numpy as np"
   ]
  },
  {
   "cell_type": "code",
   "execution_count": 3,
   "id": "147df318-78bc-4372-b9bb-c386173bef68",
   "metadata": {
    "tags": []
   },
   "outputs": [],
   "source": [
    "# XXX: needed by pickle.load of rassp models\n",
    "\n",
    "from rassp import msutil,model\n",
    "import sys\n",
    "sys.modules['msutil'] = msutil\n",
    "sys.modules['model'] = model"
   ]
  },
  {
   "cell_type": "code",
   "execution_count": null,
   "id": "a6d8f738-67ef-4d87-977c-cc5343d8b7d8",
   "metadata": {
    "tags": []
   },
   "outputs": [],
   "source": [
    "s = pd.read_parquet('rassp-public/sample_data/smallmols_cfm_pred_public_sample.parquet')"
   ]
  },
  {
   "cell_type": "code",
   "execution_count": null,
   "id": "5dea2721-d7a3-40c0-8753-cf048e5d7104",
   "metadata": {
    "tags": []
   },
   "outputs": [],
   "source": [
    "s.iloc[0].spect"
   ]
  },
  {
   "cell_type": "code",
   "execution_count": null,
   "id": "d9cb4e83-5162-45ce-aab0-00d6646bb03d",
   "metadata": {
    "tags": []
   },
   "outputs": [],
   "source": [
    "s.iloc[0].spect_sparse"
   ]
  },
  {
   "cell_type": "code",
   "execution_count": null,
   "id": "f8cf215f-ee7e-4096-a464-56b3b677ce07",
   "metadata": {
    "tags": []
   },
   "outputs": [],
   "source": [
    "s.iloc[0]"
   ]
  },
  {
   "cell_type": "code",
   "execution_count": null,
   "id": "8a061a2e-133c-49f2-b654-c6e58bbcb122",
   "metadata": {
    "tags": []
   },
   "outputs": [],
   "source": [
    "m = Chem.Mol(s.iloc[1].rdmol)\n",
    "m"
   ]
  },
  {
   "cell_type": "code",
   "execution_count": null,
   "id": "d0459504-fc74-4678-9df2-0ed8c51a9ecd",
   "metadata": {
    "tags": []
   },
   "outputs": [],
   "source": [
    "[ a.GetAtomicNum() for a in m.GetAtoms()]"
   ]
  },
  {
   "cell_type": "markdown",
   "id": "28389677-597b-4132-a57a-5d2ea43189f4",
   "metadata": {},
   "source": [
    "### TODO \n",
    "\n",
    "Z toho pouziva RASSP jen spect a rdmol\n",
    "rdmol je serializovany rdkit.Chem.Mol\n",
    "\n",
    "to budeme umet z MSP vyrobit"
   ]
  },
  {
   "cell_type": "code",
   "execution_count": null,
   "id": "87250934-56d7-46cc-9d28-76603d1eff2d",
   "metadata": {
    "tags": []
   },
   "outputs": [],
   "source": [
    "base='https://people.cs.uchicago.edu/~ericj/rassp/'\n",
    "files=[ 'formulanet_best_candidate_pcsim_pretrain.nist-fromscratch-3x9x128.35790555.00000740.model',    \n",
    "'formulanet_best_candidate_pcsim_pretrain.nist-fromscratch-3x9x128.35790555.meta',\n",
    "'subsetnet_best_candidate_nist_fromscratch.nist-fromscratch-test01-old-1x2048.36688199.00001000.model', \n",
    "'subsetnet_best_candidate_nist_fromscratch.nist-fromscratch-test01-old-1x2048.36688199.meta',   \n",
    "'subsetnet_best_candidate_nist_posttrain_cluster.cluster-nist-posttrain.35946017.00000480.model',\n",
    "'subsetnet_best_candidate_nist_posttrain_cluster.cluster-nist-posttrain.35946017.meta']\n",
    "\n",
    "for f in files:\n",
    "    urllib.request.urlretrieve(f'{base}/{f}',f)"
   ]
  },
  {
   "cell_type": "code",
   "execution_count": 8,
   "id": "9f9852d2-7aa0-49fa-bd1f-352509e04834",
   "metadata": {
    "tags": []
   },
   "outputs": [],
   "source": [
    "# from original run_rassp.py\n",
    "\n",
    "use_gpu=True\n",
    "model_dir='.'\n",
    "\n",
    "MODELS = {\n",
    "    'FormulaNet': {\n",
    "        'checkpoint': os.path.join(model_dir, 'formulanet_best_candidate_pcsim_pretrain.nist-fromscratch-3x9x128.35790555.00000740.model'),\n",
    "        'meta': os.path.join(model_dir, 'formulanet_best_candidate_pcsim_pretrain.nist-fromscratch-3x9x128.35790555.meta'),\n",
    "\n",
    "        # NOTE(2023-01-24): FN currently has a reduced set of valid mol constraints bc this is what we trained with\n",
    "        # and there is currently an outstanding bug where changing N_ATOMS here breaks FN predictions in subtle ways.\n",
    "        'override_constraints': {\n",
    "            'n_atom': 48,\n",
    "            # 'n_formula': 4096,\n",
    "            'n_formula': 32768,\n",
    "            # 'n_subset': 12288,\n",
    "            'n_subset': 49152,\n",
    "        },\n",
    "    },\n",
    "    'SubsetNet': {\n",
    "        'checkpoint': os.path.join(model_dir, 'subsetnet_best_candidate_nist_fromscratch.nist-fromscratch-test01-old-1x2048.36688199.00001000.model'),\n",
    "        'meta': os.path.join(model_dir, 'subsetnet_best_candidate_nist_fromscratch.nist-fromscratch-test01-old-1x2048.36688199.meta'),\n",
    "\n",
    "        # NOTE: this set of params works for SN GPU inference on a single RTX 2080 Ti (12GB VRAM)\n",
    "        # despite SN being trained on <= 48 atoms like FN, it also scales well to mols up to <= 64 atoms (tested)\n",
    "        'override_constraints': {\n",
    "            'n_atom': 64,\n",
    "            'n_formula': 32768,\n",
    "            'n_subset': 49152,\n",
    "        },\n",
    "    },\n",
    "}\n",
    "\n",
    "model_name='FormulaNet'\n",
    "meta_path = MODELS[model_name]['meta']\n",
    "ckpt_path = MODELS[model_name]['checkpoint']\n",
    "override_constraints = MODELS[model_name]['override_constraints']\n",
    "meta = pickle.load(open(meta_path, 'rb'))\n",
    "\n",
    "feat_config = meta['featurize_config']\n",
    "for key, val in override_constraints.items():\n",
    "    if key == 'n_atom':\n",
    "        feat_config['MAX_N'] = val\n",
    "    if key == 'n_formula':\n",
    "        feat_config['explicit_formulae_config']['max_formulae'] = val\n",
    "    if key == 'n_subset':\n",
    "        feat_config['vert_subset_samples_n'] = val\n",
    "\n",
    "if use_gpu and not torch.cuda.is_available():\n",
    "    use_gpu = False\n",
    "\n",
    "predictor = netutil.PredModel(\n",
    "    meta_path,\n",
    "    ckpt_path,\n",
    "    USE_CUDA=use_gpu,\n",
    "    data_parallel=False,\n",
    "    featurize_config_update=feat_config,\n",
    ")\n"
   ]
  },
  {
   "cell_type": "code",
   "execution_count": 68,
   "id": "55a4e443-9e7f-46b5-be42-c1acd89ee525",
   "metadata": {
    "tags": []
   },
   "outputs": [],
   "source": [
    "smiles = ['C1=CNN=C1','CC(C)C#N','CCC(=C)C','CC[N+](=O)[O-]','C1=CSC(=N1)N=C(C(C(F)(F)F)(OC(C(C(F)(F)F)(OC(C(C(F)(F)F)(F)F)(F)F)F)(F)F)F)N'] \n",
    "\n",
    "valid_mols = [ Chem.AddHs(Chem.MolFromSmiles(s)) for s in smiles ]"
   ]
  },
  {
   "cell_type": "code",
   "execution_count": 69,
   "id": "c1e42f7a-48b6-4200-bb8a-7016f739792e",
   "metadata": {},
   "outputs": [
    {
     "name": "stderr",
     "output_type": "stream",
     "text": [
      "100%|██████████████████████████████████████████████████████████████████████████████| 6/6 [00:00<00:00,  6.53it/s]\n"
     ]
    }
   ],
   "source": [
    "predictions = predictor.pred(\n",
    "    valid_mols,\n",
    "    progress_bar=True,\n",
    "    normalize_pred=True,\n",
    "    output_hist_bins=True,\n",
    "    batch_size=2, # XXX\n",
    "    dataloader_config={\n",
    "        'pin_memory': False,\n",
    "        'num_workers': 0, # XXX\n",
    "        'persistent_workers': False,\n",
    "    },\n",
    "    benchmark_dataloader=False,\n",
    ")\n"
   ]
  },
  {
   "cell_type": "code",
   "execution_count": 70,
   "id": "4a55773f-cd24-4cbd-a15a-8f449c90e17d",
   "metadata": {
    "tags": []
   },
   "outputs": [],
   "source": [
    "shit_pred17 = predictions['pred_binned']"
   ]
  },
  {
   "cell_type": "code",
   "execution_count": null,
   "id": "980c9306-f3a5-4380-b1b4-0cfc27905b70",
   "metadata": {},
   "outputs": [],
   "source": []
  },
  {
   "cell_type": "code",
   "execution_count": null,
   "id": "3c6c9f6e-2937-478b-85e2-5f2be43dbeec",
   "metadata": {},
   "outputs": [],
   "source": []
  },
  {
   "cell_type": "code",
   "execution_count": null,
   "id": "5fdc0a5e-672e-4abf-baea-1875e597fdd8",
   "metadata": {
    "tags": []
   },
   "outputs": [],
   "source": [
    "nist_path = '20210925_NIST_EI_MS_cleaned.msp'\n",
    "\n",
    "from matchms.importing import load_from_msp\n",
    "nist = list(load_from_msp(nist_path, metadata_harmonization=False))"
   ]
  },
  {
   "cell_type": "code",
   "execution_count": null,
   "id": "34b00e48-39ea-4ef9-8a4e-64875923cd8c",
   "metadata": {
    "tags": []
   },
   "outputs": [],
   "source": [
    "len(nist)"
   ]
  },
  {
   "cell_type": "code",
   "execution_count": null,
   "id": "f383ac7c-0ca6-4814-9334-64a545ef2d20",
   "metadata": {
    "tags": []
   },
   "outputs": [],
   "source": [
    "nist[42].metadata"
   ]
  },
  {
   "cell_type": "code",
   "execution_count": null,
   "id": "1ee4a514-2260-436f-8027-b5cd92497c5d",
   "metadata": {
    "tags": []
   },
   "outputs": [],
   "source": [
    "nist[42].peaks.mz"
   ]
  },
  {
   "cell_type": "code",
   "execution_count": null,
   "id": "d847e967-594a-4079-9081-d8f3705f075d",
   "metadata": {
    "tags": []
   },
   "outputs": [],
   "source": [
    "nist[42].peaks.intensities"
   ]
  },
  {
   "cell_type": "code",
   "execution_count": null,
   "id": "8a0cb946-58f7-45f6-9183-13b8fb3705b5",
   "metadata": {
    "tags": []
   },
   "outputs": [],
   "source": [
    "mol = Chem.AddHs(Chem.MolFromSmiles(nist[42].metadata['smiles']))\n",
    "len(mol.GetPropNames())"
   ]
  },
  {
   "cell_type": "code",
   "execution_count": null,
   "id": "d65781ea-9795-4324-a52a-664258e9aff7",
   "metadata": {
    "tags": []
   },
   "outputs": [],
   "source": [
    "b = mol.ToBinary()\n",
    "b"
   ]
  },
  {
   "cell_type": "code",
   "execution_count": null,
   "id": "786c71a8-705e-4c02-9ef3-63f1191e0932",
   "metadata": {
    "tags": []
   },
   "outputs": [],
   "source": [
    "m2 = Chem.Mol(b)\n",
    "m2"
   ]
  },
  {
   "cell_type": "code",
   "execution_count": null,
   "id": "4299d0e5-802c-4d1b-8a3b-ed9fd1ab8e9c",
   "metadata": {
    "tags": []
   },
   "outputs": [],
   "source": [
    "import numpy as np\n",
    "a=np.stack([nist[42].peaks.mz,nist[42].peaks.intensities],axis=1)\n",
    "a"
   ]
  },
  {
   "cell_type": "code",
   "execution_count": null,
   "id": "f8336ae3-fe9b-4a4a-99a9-25b79cbdc852",
   "metadata": {
    "tags": []
   },
   "outputs": [],
   "source": [
    "bb = np.empty(shape=(a.shape[0],),dtype=object)\n",
    "bb[:] = list(a)\n",
    "bb"
   ]
  },
  {
   "cell_type": "code",
   "execution_count": null,
   "id": "4712be15-8611-4150-98a6-ce54d20becae",
   "metadata": {
    "tags": []
   },
   "outputs": [],
   "source": [
    "np.array(list(a),dtype=object)"
   ]
  },
  {
   "cell_type": "code",
   "execution_count": null,
   "id": "2b676167-a9be-4d85-8430-43dc38ec5172",
   "metadata": {
    "tags": []
   },
   "outputs": [],
   "source": [
    "n=nist[42]\n",
    "np.array([ np.array(p,dtype=object) for p in zip(n.peaks.mz, n.peaks.intensities)])\n",
    "#[ np.array(p) for p in zip(n.peaks.mz, n.peaks.intensities)]"
   ]
  },
  {
   "cell_type": "code",
   "execution_count": 22,
   "id": "5933122b-9591-4a4b-8aed-2bd667cf546a",
   "metadata": {
    "tags": []
   },
   "outputs": [],
   "source": [
    "valid_atoms = {1, 6, 7, 8, 9, 15, 16, 17}\n",
    "# FIXME: rassp/msutil/shared.h\n",
    "# not acceptable, narrows down the model too much, we need Br, Si at least\n",
    "\n",
    "# requires isotopic data in rassp/msutil/floatmasseval_per_elt_peaks.h\n",
    "\n",
    "# dtto MAX_N == 48\n",
    "\n",
    "def mkdf(nist2):\n",
    "    mols = [ ]\n",
    "    spects = []\n",
    "    smiles = []\n",
    "    for i,n in enumerate(nist2):\n",
    "        if n.metadata.get('smiles') is None:\n",
    "            print(i,'no smiles')\n",
    "            continue\n",
    "        mol = Chem.MolFromSmiles(n.metadata['smiles'])\n",
    "        if mol is None: \n",
    "            print(i,n.metadata['smiles'][:100],'... cant parse')\n",
    "            continue \n",
    "        mol = Chem.AddHs(mol)\n",
    "        if mol is None: \n",
    "            print(i,n.metadata['smiles'],'... cant add Hs')\n",
    "            continue \n",
    "            \n",
    "        if len(mol.GetAtoms()) > 48:\n",
    "            print(i,n.metadata['smiles'],'... too many atoms')\n",
    "            continue\n",
    "        \n",
    "        atoms = { a.GetAtomicNum() for a in mol.GetAtoms() }\n",
    "        if not atoms < valid_atoms:\n",
    "            print(i,n.metadata['smiles'],atoms,'... invalid atom')\n",
    "            continue\n",
    "        \n",
    "        mols.append(mol.ToBinary())\n",
    "        a = np.stack([n.peaks.mz, n.peaks.intensities], axis=1)\n",
    "        b = np.empty(shape=(a.shape[0],),dtype=object)\n",
    "        b[:] = list(a)\n",
    "        spects.append(b)\n",
    "        smiles.append(n.metadata['smiles'])\n",
    "\n",
    "    df = pd.DataFrame.from_dict({ 'rdmol' : mols, 'spect' : spects, 'smiles' : smiles })\n",
    "    return df"
   ]
  },
  {
   "cell_type": "code",
   "execution_count": null,
   "id": "47e9f509-a71f-4697-bdc6-b7159fb4f55e",
   "metadata": {
    "tags": []
   },
   "outputs": [],
   "source": [
    "len(m.GetAtoms())"
   ]
  },
  {
   "cell_type": "code",
   "execution_count": 23,
   "id": "267fa070-3050-45e7-8a39-1a1b9a45e417",
   "metadata": {
    "tags": []
   },
   "outputs": [
    {
     "ename": "NameError",
     "evalue": "name 'nist' is not defined",
     "output_type": "error",
     "traceback": [
      "\u001b[0;31m---------------------------------------------------------------------------\u001b[0m",
      "\u001b[0;31mNameError\u001b[0m                                 Traceback (most recent call last)",
      "Cell \u001b[0;32mIn[23], line 1\u001b[0m\n\u001b[0;32m----> 1\u001b[0m trd \u001b[38;5;241m=\u001b[39m mkdf(\u001b[43mnist\u001b[49m)\n",
      "\u001b[0;31mNameError\u001b[0m: name 'nist' is not defined"
     ]
    }
   ],
   "source": [
    "%%capture\n",
    "trd = mkdf(nist)"
   ]
  },
  {
   "cell_type": "code",
   "execution_count": null,
   "id": "4d02d469-97dc-4cac-a90d-681876148e31",
   "metadata": {
    "tags": []
   },
   "outputs": [],
   "source": [
    "trd"
   ]
  },
  {
   "cell_type": "code",
   "execution_count": null,
   "id": "d19b389f-f87f-4f91-b35b-729fdfa4c648",
   "metadata": {
    "tags": []
   },
   "outputs": [],
   "source": [
    "test_mask = np.random.choice([True, False], p=[.2,.8], size=len(trd))"
   ]
  },
  {
   "cell_type": "code",
   "execution_count": null,
   "id": "34764a10-8799-46bb-ae3f-0e79fc6a72db",
   "metadata": {
    "tags": []
   },
   "outputs": [],
   "source": [
    "trd[test_mask == False].to_parquet('train.pq')"
   ]
  },
  {
   "cell_type": "code",
   "execution_count": null,
   "id": "8d29b970-4dbf-4584-871e-43b8b322b3c3",
   "metadata": {
    "tags": []
   },
   "outputs": [],
   "source": [
    "td = pd.read_parquet('train.pq')                    "
   ]
  },
  {
   "cell_type": "code",
   "execution_count": null,
   "id": "f62ee9f4-b186-47c9-99f2-3a4389aec70f",
   "metadata": {
    "tags": []
   },
   "outputs": [],
   "source": [
    "td.iloc[0].spect"
   ]
  },
  {
   "cell_type": "code",
   "execution_count": null,
   "id": "de344886-900a-4203-9105-759476ac0c5e",
   "metadata": {
    "tags": []
   },
   "outputs": [],
   "source": [
    "%%capture\n",
    "tstd = mkdf(nist[1:1000:2])"
   ]
  },
  {
   "cell_type": "code",
   "execution_count": null,
   "id": "212a3d26-da5b-46e1-a41d-1936f5d19cf9",
   "metadata": {
    "tags": []
   },
   "outputs": [],
   "source": [
    "#tstd.to_parquet('test.pq')\n",
    "trd[test_mask].to_parquet('test.pq')"
   ]
  },
  {
   "cell_type": "code",
   "execution_count": null,
   "id": "ef603beb-50f2-47d2-8161-f791c87d5704",
   "metadata": {
    "tags": []
   },
   "outputs": [],
   "source": [
    "tstd"
   ]
  },
  {
   "cell_type": "code",
   "execution_count": 4,
   "id": "40419726-6c5e-4a4a-8e92-b40e01740cd5",
   "metadata": {},
   "outputs": [],
   "source": [
    "sys.path.append('./rassp-public/rassp')\n",
    "from forward_train import train"
   ]
  },
  {
   "cell_type": "code",
   "execution_count": 5,
   "id": "83b3961b-e7e2-4b94-bdae-06b643a14afe",
   "metadata": {
    "tags": []
   },
   "outputs": [],
   "source": [
    "import yaml\n",
    "with open('rassp-public/rassp/expconfig/demo.yaml') as cf:\n",
    "    exp_config = yaml.load(cf,Loader=yaml.FullLoader)"
   ]
  },
  {
   "cell_type": "code",
   "execution_count": 6,
   "id": "961123f2-3a8d-4319-b886-58af93f96afc",
   "metadata": {
    "tags": []
   },
   "outputs": [],
   "source": [
    "exp_config['cluster_config']['data_dir'] = '.'\n",
    "exp_config['DATALOADER_NUM_WORKERS'] = 8\n",
    "exp_config['max_epochs'] = 200\n",
    "exp_config['epoch_size'] = 4096\n",
    "exp_config['batch_size'] = 4\n",
    "exp_config['automatic_mixed_precision'] = False # broken\n",
    "exp_config['featurize_config']['explicit_formulae_config']['max_formulae'] = 27000 # XXX\n",
    "exp_config['exp_data']['data'][0]['db_filename'] = 'train.pq'\n",
    "exp_config['exp_data']['data'][1]['db_filename'] = 'test.pq'\n",
    "\n",
    "with open('exp.yml','w') as y:\n",
    "    yaml.dump(exp_config,y)"
   ]
  },
  {
   "cell_type": "code",
   "execution_count": null,
   "id": "3627f9b5-1e47-47e3-ba03-7617f56f77eb",
   "metadata": {},
   "outputs": [],
   "source": []
  },
  {
   "cell_type": "code",
   "execution_count": 7,
   "id": "8bef65dd-4c4b-41dc-97a7-3026777a10bc",
   "metadata": {
    "tags": []
   },
   "outputs": [
    {
     "name": "stdout",
     "output_type": "stream",
     "text": [
      "using checkpoint_dir: checkpoints\n",
      "we are training with 154779\n",
      "we are testing with 38662\n",
      "it took 3.0s to load the data\n",
      "{'init_noise': 0.01, 'init_bias': 0.0, 'resnet': True, 'int_d': 512, 'layer_n': 16, 'agg_func': 'goodmax', 'gml_class': 'GraphMatLayersNormAfterRes', 'gml_config': {'layer_class': 'GraphMatLayerFast3', 'layer_config': {'dropout': 0.0, 'nonlin': 'leakyrelu', 'swap_init': False}}, 'g_feature_n': 45, 'inner_norm': 'layer', 'input_norm': 'batch', 'spect_out_class': 'MolAttentionGRU', 'spect_out_config': {'formula_oh_sizes': [50, 46, 30, 30, 30, 30, 30, 30], 'formula_oh_accum': True, 'internal_d': 128, 'embedding_key_size': 8, 'gru_layer_n': 3, 'linear_layer_n': 9}, 'GS': 4, 'spect_bin': <rassp.msutil.binutils.SpectrumBins object at 0x7f5b873d6f70>}\n",
      "GCN module had 15869952 nparams\n",
      "Spectral module had 3862321 nparams\n",
      "Net overall had 19732363 nparams\n",
      "NOT LOADING FROM ANY CHECKPOINT\n",
      "NOT USING CUSTOM COLLATE_FN\n",
      "gml.gl.0.weight                                     (4, 512, 45) \n",
      "gml.gl.0.bias                                       (4, 1, 1, 51 \n",
      "gml.gl.1.weight                                     (4, 512, 512 \n",
      "gml.gl.1.bias                                       (4, 1, 1, 51 \n",
      "gml.gl.2.weight                                     (4, 512, 512 \n",
      "gml.gl.2.bias                                       (4, 1, 1, 51 \n",
      "gml.gl.3.weight                                     (4, 512, 512 \n",
      "gml.gl.3.bias                                       (4, 1, 1, 51 \n",
      "gml.gl.4.weight                                     (4, 512, 512 \n",
      "gml.gl.4.bias                                       (4, 1, 1, 51 \n",
      "gml.gl.5.weight                                     (4, 512, 512 \n",
      "gml.gl.5.bias                                       (4, 1, 1, 51 \n",
      "gml.gl.6.weight                                     (4, 512, 512 \n",
      "gml.gl.6.bias                                       (4, 1, 1, 51 \n",
      "gml.gl.7.weight                                     (4, 512, 512 \n",
      "gml.gl.7.bias                                       (4, 1, 1, 51 \n",
      "gml.gl.8.weight                                     (4, 512, 512 \n",
      "gml.gl.8.bias                                       (4, 1, 1, 51 \n",
      "gml.gl.9.weight                                     (4, 512, 512 \n",
      "gml.gl.9.bias                                       (4, 1, 1, 51 \n",
      "gml.gl.10.weight                                    (4, 512, 512 \n",
      "gml.gl.10.bias                                      (4, 1, 1, 51 \n",
      "gml.gl.11.weight                                    (4, 512, 512 \n",
      "gml.gl.11.bias                                      (4, 1, 1, 51 \n",
      "gml.gl.12.weight                                    (4, 512, 512 \n",
      "gml.gl.12.bias                                      (4, 1, 1, 51 \n",
      "gml.gl.13.weight                                    (4, 512, 512 \n",
      "gml.gl.13.bias                                      (4, 1, 1, 51 \n",
      "gml.gl.14.weight                                    (4, 512, 512 \n",
      "gml.gl.14.bias                                      (4, 1, 1, 51 \n",
      "gml.gl.15.weight                                    (4, 512, 512 \n",
      "gml.gl.15.bias                                      (4, 1, 1, 51 \n",
      "gml.bn.0.bn.weight                                  (512,)       \n",
      "gml.bn.0.bn.bias                                    (512,)       \n",
      "gml.bn.1.bn.weight                                  (512,)       \n",
      "gml.bn.1.bn.bias                                    (512,)       \n",
      "gml.bn.2.bn.weight                                  (512,)       \n",
      "gml.bn.2.bn.bias                                    (512,)       \n",
      "gml.bn.3.bn.weight                                  (512,)       \n",
      "gml.bn.3.bn.bias                                    (512,)       \n",
      "gml.bn.4.bn.weight                                  (512,)       \n",
      "gml.bn.4.bn.bias                                    (512,)       \n",
      "gml.bn.5.bn.weight                                  (512,)       \n",
      "gml.bn.5.bn.bias                                    (512,)       \n",
      "gml.bn.6.bn.weight                                  (512,)       \n",
      "gml.bn.6.bn.bias                                    (512,)       \n",
      "gml.bn.7.bn.weight                                  (512,)       \n",
      "gml.bn.7.bn.bias                                    (512,)       \n",
      "gml.bn.8.bn.weight                                  (512,)       \n",
      "gml.bn.8.bn.bias                                    (512,)       \n",
      "gml.bn.9.bn.weight                                  (512,)       \n",
      "gml.bn.9.bn.bias                                    (512,)       \n",
      "gml.bn.10.bn.weight                                 (512,)       \n",
      "gml.bn.10.bn.bias                                   (512,)       \n",
      "gml.bn.11.bn.weight                                 (512,)       \n",
      "gml.bn.11.bn.bias                                   (512,)       \n",
      "gml.bn.12.bn.weight                                 (512,)       \n",
      "gml.bn.12.bn.bias                                   (512,)       \n",
      "gml.bn.13.bn.weight                                 (512,)       \n",
      "gml.bn.13.bn.bias                                   (512,)       \n",
      "gml.bn.14.bn.weight                                 (512,)       \n",
      "gml.bn.14.bn.bias                                   (512,)       \n",
      "gml.bn.15.bn.weight                                 (512,)       \n",
      "gml.bn.15.bn.bias                                   (512,)       \n",
      "input_norm.bn.weight                                (45,)        \n",
      "input_norm.bn.bias                                  (45,)        \n",
      "spect_out.norm.weight                               (512,)       \n",
      "spect_out.norm.bias                                 (512,)       \n",
      "spect_out.embed_g_feat.weight                       (8, 512)     \n",
      "spect_out.embed_g_feat.bias                         (8,)         \n",
      "spect_out.embed_formulae_feat.weight                (8, 276)     \n",
      "spect_out.embed_formulae_feat.bias                  (8,)         \n",
      "spect_out.norm2.weight                              (128,)       \n",
      "spect_out.norm2.bias                                (128,)       \n",
      "spect_out.combine_layers.0.weight_ih                (1536, 276)  \n",
      "spect_out.combine_layers.0.weight_hh                (1536, 512)  \n",
      "spect_out.combine_layers.0.bias_ih                  (1536,)      \n",
      "spect_out.combine_layers.0.bias_hh                  (1536,)      \n",
      "spect_out.combine_layers.1.weight_ih                (1536, 276)  \n",
      "spect_out.combine_layers.1.weight_hh                (1536, 512)  \n",
      "spect_out.combine_layers.1.bias_ih                  (1536,)      \n",
      "spect_out.combine_layers.1.bias_hh                  (1536,)      \n",
      "spect_out.combine_layers.2.weight_ih                (1536, 276)  \n",
      "spect_out.combine_layers.2.weight_hh                (1536, 512)  \n",
      "spect_out.combine_layers.2.bias_ih                  (1536,)      \n",
      "spect_out.combine_layers.2.bias_hh                  (1536,)      \n",
      "spect_out.f_combine_l1.weight                       (128, 512)   \n",
      "spect_out.f_combine_l1.bias                         (128,)       \n",
      "spect_out.f_combine_l2.0.0.weight                   (128, 128)   \n",
      "spect_out.f_combine_l2.0.0.bias                     (128,)       \n",
      "spect_out.f_combine_l2.1.0.weight                   (128, 128)   \n",
      "spect_out.f_combine_l2.1.0.bias                     (128,)       \n",
      "spect_out.f_combine_l2.2.0.weight                   (128, 128)   \n",
      "spect_out.f_combine_l2.2.0.bias                     (128,)       \n",
      "spect_out.f_combine_l2.3.0.weight                   (128, 128)   \n",
      "spect_out.f_combine_l2.3.0.bias                     (128,)       \n",
      "spect_out.f_combine_l2.4.0.weight                   (128, 128)   \n",
      "spect_out.f_combine_l2.4.0.bias                     (128,)       \n",
      "spect_out.f_combine_l2.5.0.weight                   (128, 128)   \n",
      "spect_out.f_combine_l2.5.0.bias                     (128,)       \n",
      "spect_out.f_combine_l2.6.0.weight                   (128, 128)   \n",
      "spect_out.f_combine_l2.6.0.bias                     (128,)       \n",
      "spect_out.f_combine_l2.7.0.weight                   (128, 128)   \n",
      "spect_out.f_combine_l2.7.0.bias                     (128,)       \n",
      "spect_out.f_combine_l2.8.0.weight                   (128, 128)   \n",
      "spect_out.f_combine_l2.8.0.bias                     (128,)       \n",
      "spect_out.f_combine_score.weight                    (1, 128)     \n",
      "spect_out.f_combine_score.bias                      (1,)         \n",
      "checkpoint: checkpoints/test.78130231.{epoch_i:08d}\n"
     ]
    },
    {
     "name": "stderr",
     "output_type": "stream",
     "text": [
      "/opt/conda/lib/python3.8/site-packages/torch/nn/_reduction.py:42: UserWarning: size_average and reduce args will be deprecated, please use reduction='mean' instead.\n",
      "  warnings.warn(warning.format(ret))\n",
      "2023-03-06 19:17:17.720723: I tensorflow/core/platform/cpu_feature_guard.cc:193] This TensorFlow binary is optimized with oneAPI Deep Neural Network Library (oneDNN) to use the following CPU instructions in performance-critical operations:  AVX2 AVX512F AVX512_VNNI AVX512_BF16 FMA\n",
      "To enable them in other operations, rebuild TensorFlow with the appropriate compiler flags.\n",
      "2023-03-06 19:17:17.790955: I tensorflow/core/util/port.cc:104] oneDNN custom operations are on. You may see slightly different numerical results due to floating-point round-off errors from different computation orders. To turn them off, set the environment variable `TF_ENABLE_ONEDNN_OPTS=0`.\n",
      "2023-03-06 19:17:17.792955: W tensorflow/compiler/xla/stream_executor/platform/default/dso_loader.cc:64] Could not load dynamic library 'libcudart.so.11.0'; dlerror: libcudart.so.11.0: cannot open shared object file: No such file or directory; LD_LIBRARY_PATH: /opt/ompi/lib:/opt/rocm/lib:/usr/local/lib:\n",
      "2023-03-06 19:17:17.792964: I tensorflow/compiler/xla/stream_executor/cuda/cudart_stub.cc:29] Ignore above cudart dlerror if you do not have a GPU set up on your machine.\n",
      "2023-03-06 19:17:18.181587: W tensorflow/compiler/xla/stream_executor/platform/default/dso_loader.cc:64] Could not load dynamic library 'libnvinfer.so.7'; dlerror: libnvinfer.so.7: cannot open shared object file: No such file or directory; LD_LIBRARY_PATH: /opt/ompi/lib:/opt/rocm/lib:/usr/local/lib:\n",
      "2023-03-06 19:17:18.181638: W tensorflow/compiler/xla/stream_executor/platform/default/dso_loader.cc:64] Could not load dynamic library 'libnvinfer_plugin.so.7'; dlerror: libnvinfer_plugin.so.7: cannot open shared object file: No such file or directory; LD_LIBRARY_PATH: /opt/ompi/lib:/opt/rocm/lib:/usr/local/lib:\n",
      "2023-03-06 19:17:18.181642: W tensorflow/compiler/tf2tensorrt/utils/py_utils.cc:38] TF-TRT Warning: Cannot dlopen some TensorRT libraries. If you would like to use Nvidia GPU with TensorRT, please make sure the missing libraries mentioned above are installed properly.\n"
     ]
    },
    {
     "name": "stdout",
     "output_type": "stream",
     "text": [
      "MODEL_NAME= test.78130231\n"
     ]
    },
    {
     "name": "stderr",
     "output_type": "stream",
     "text": [
      "  0%|                                                                                    | 0/200 [00:00<?, ?it/s]\n",
      "train:   0%|                                                                            | 0/1024 [00:00<?, ?it/s]\u001b[A\n",
      "train:   0%|                                                                    | 1/1024 [00:02<45:03,  2.64s/it]\u001b[A\n",
      "train:   0%|▏                                                                   | 2/1024 [00:03<29:23,  1.73s/it]\u001b[A\n",
      "train:   0%|▏                                                                   | 3/1024 [00:04<24:42,  1.45s/it]\u001b[A\n",
      "train:   0%|▎                                                                   | 4/1024 [00:05<22:15,  1.31s/it]\u001b[A\n",
      "train:   0%|▎                                                                   | 5/1024 [00:07<21:02,  1.24s/it]\u001b[A\n",
      "train:   1%|▍                                                                   | 6/1024 [00:08<20:03,  1.18s/it]\u001b[A\n",
      "train:   1%|▍                                                                   | 7/1024 [00:09<19:34,  1.15s/it]\u001b[A\n",
      "train:   1%|▌                                                                   | 8/1024 [00:10<19:11,  1.13s/it]\u001b[A\n",
      "train:   1%|▌                                                                   | 9/1024 [00:11<19:02,  1.13s/it]\u001b[A\n",
      "train:   1%|▋                                                                  | 10/1024 [00:12<18:51,  1.12s/it]\u001b[A\n",
      "train:   1%|▋                                                                  | 11/1024 [00:13<18:47,  1.11s/it]\u001b[A\n",
      "train:   1%|▊                                                                  | 12/1024 [00:14<18:39,  1.11s/it]\u001b[A\n",
      "train:   1%|▊                                                                  | 13/1024 [00:16<20:08,  1.19s/it]\u001b[A\n",
      "train:   1%|▉                                                                  | 14/1024 [00:17<20:45,  1.23s/it]\u001b[A\n",
      "train:   1%|▉                                                                  | 15/1024 [00:18<19:50,  1.18s/it]\u001b[A\n",
      "train:   2%|█                                                                  | 16/1024 [00:19<20:15,  1.21s/it]\u001b[A\n",
      "train:   2%|█                                                                  | 17/1024 [00:21<20:45,  1.24s/it]\u001b[A\n",
      "train:   2%|█▏                                                                 | 18/1024 [00:22<21:09,  1.26s/it]\u001b[A\n",
      "train:   2%|█▏                                                                 | 19/1024 [00:23<20:15,  1.21s/it]\u001b[A\n",
      "train:   2%|█▎                                                                 | 20/1024 [00:24<20:25,  1.22s/it]\u001b[A\n",
      "train:   2%|█▎                                                                 | 21/1024 [00:26<20:56,  1.25s/it]\u001b[A\n",
      "train:   2%|█▍                                                                 | 22/1024 [00:27<21:19,  1.28s/it]\u001b[A\n",
      "train:   2%|█▌                                                                 | 23/1024 [00:28<21:19,  1.28s/it]\u001b[A\n",
      "train:   2%|█▌                                                                 | 24/1024 [00:29<20:17,  1.22s/it]\u001b[A\n",
      "train:   2%|█▋                                                                 | 25/1024 [00:30<19:40,  1.18s/it]\u001b[A\n",
      "train:   3%|█▋                                                                 | 26/1024 [00:31<19:02,  1.14s/it]\u001b[A\n",
      "train:   3%|█▊                                                                 | 27/1024 [00:32<18:47,  1.13s/it]\u001b[A\n",
      "train:   3%|█▊                                                                 | 28/1024 [00:34<19:33,  1.18s/it]\u001b[A\n",
      "train:   3%|█▉                                                                 | 29/1024 [00:35<20:11,  1.22s/it]\u001b[A\n",
      "train:   3%|█▉                                                                 | 30/1024 [00:36<20:47,  1.26s/it]\u001b[A\n",
      "train:   3%|██                                                                 | 31/1024 [00:38<20:00,  1.21s/it]\u001b[A\n",
      "train:   3%|██                                                                 | 32/1024 [00:39<20:30,  1.24s/it]\u001b[A\n",
      "train:   3%|██▏                                                                | 33/1024 [00:40<20:55,  1.27s/it]\u001b[A\n",
      "train:   3%|██▏                                                                | 34/1024 [00:41<19:52,  1.20s/it]\u001b[A\n",
      "train:   3%|██▎                                                                | 35/1024 [00:43<20:16,  1.23s/it]\u001b[A\n",
      "train:   4%|██▎                                                                | 36/1024 [00:44<19:27,  1.18s/it]\u001b[A\n",
      "train:   4%|██▍                                                                | 37/1024 [00:45<19:51,  1.21s/it]\u001b[A\n",
      "train:   4%|██▍                                                                | 38/1024 [00:46<19:21,  1.18s/it]\u001b[A\n",
      "train:   4%|██▌                                                                | 39/1024 [00:47<19:59,  1.22s/it]\u001b[A\n",
      "  0%|                                                                                    | 0/200 [00:48<?, ?it/s]\u001b[A\n"
     ]
    },
    {
     "ename": "RuntimeError",
     "evalue": "Caught RuntimeError in DataLoader worker process 7.\nOriginal Traceback (most recent call last):\n  File \"/build/rassp/dataset/__init__.py\", line 96, in __getitem__\n    features_dict = self.featurizer(mol)\n  File \"/build/rassp/featurize/featurize.py\", line 126, in __call__\n    formulae_feats, formulae_peaks = self.pff(mol)\n  File \"/build/rassp/featurize/molecule_features.py\", line 658, in __call__\n    raise ValueError(f\"molecule {Chem.MolToSmiles(mol)} has {len(formulae)}, more than the limit of {self.max_formulae} (naive count={self.num_unique_f(mol)})\")\nValueError: molecule [H]c1nc(N=C(N([H])[H])C(F)(OC(F)(F)C(F)(OC(F)(F)C(F)(F)C(F)(F)F)C(F)(F)F)C(F)(F)F)sc1[H] has 28080, more than the limit of 27000 (naive count=28080)\n\nThe above exception was the direct cause of the following exception:\n\nTraceback (most recent call last):\n  File \"/opt/conda/lib/python3.8/site-packages/torch/utils/data/_utils/worker.py\", line 302, in _worker_loop\n    data = fetcher.fetch(index)\n  File \"/opt/conda/lib/python3.8/site-packages/torch/utils/data/_utils/fetch.py\", line 49, in fetch\n    data = [self.dataset[idx] for idx in possibly_batched_index]\n  File \"/opt/conda/lib/python3.8/site-packages/torch/utils/data/_utils/fetch.py\", line 49, in <listcomp>\n    data = [self.dataset[idx] for idx in possibly_batched_index]\n  File \"/build/rassp/dataset/__init__.py\", line 99, in __getitem__\n    raise RuntimeError(row.smiles) from e\nRuntimeError: C1=CSC(=N1)N=C(C(C(F)(F)F)(OC(C(C(F)(F)F)(OC(C(C(F)(F)F)(F)F)(F)F)F)(F)F)F)N\n",
     "output_type": "error",
     "traceback": [
      "\u001b[0;31m---------------------------------------------------------------------------\u001b[0m",
      "\u001b[0;31mRuntimeError\u001b[0m                              Traceback (most recent call last)",
      "Cell \u001b[0;32mIn[7], line 1\u001b[0m\n\u001b[0;32m----> 1\u001b[0m \u001b[43mtrain\u001b[49m\u001b[43m(\u001b[49m\u001b[38;5;124;43m'\u001b[39;49m\u001b[38;5;124;43mtest\u001b[39;49m\u001b[38;5;124;43m'\u001b[39;49m\u001b[43m,\u001b[49m\u001b[43mexp_config\u001b[49m\u001b[43m,\u001b[49m\u001b[43mexp_config_filename\u001b[49m\u001b[38;5;241;43m=\u001b[39;49m\u001b[38;5;124;43m'\u001b[39;49m\u001b[38;5;124;43mexp.yml\u001b[39;49m\u001b[38;5;124;43m'\u001b[39;49m\u001b[43m,\u001b[49m\u001b[43mUSE_CUDA\u001b[49m\u001b[38;5;241;43m=\u001b[39;49m\u001b[38;5;28;43;01mTrue\u001b[39;49;00m\u001b[43m)\u001b[49m\n",
      "File \u001b[0;32m~/./rassp-public/rassp/forward_train.py:364\u001b[0m, in \u001b[0;36mtrain\u001b[0;34m(exp_config_name, exp_config, exp_extra_name, USE_CUDA, exp_config_filename, add_timestamp, profile, checkpoint_dir, checkpoint_every)\u001b[0m\n\u001b[1;32m    361\u001b[0m \u001b[38;5;28;01melse\u001b[39;00m:\n\u001b[1;32m    362\u001b[0m     n_epochs \u001b[38;5;241m=\u001b[39m exp_config[\u001b[38;5;124m'\u001b[39m\u001b[38;5;124mmax_epochs\u001b[39m\u001b[38;5;124m'\u001b[39m]\n\u001b[0;32m--> 364\u001b[0m \u001b[43mnetutil\u001b[49m\u001b[38;5;241;43m.\u001b[39;49m\u001b[43mgeneric_runner\u001b[49m\u001b[43m(\u001b[49m\n\u001b[1;32m    365\u001b[0m \u001b[43m    \u001b[49m\u001b[43mnet\u001b[49m\u001b[43m,\u001b[49m\u001b[43m \u001b[49m\u001b[43moptimizer\u001b[49m\u001b[43m,\u001b[49m\u001b[43m \u001b[49m\u001b[43mscheduler\u001b[49m\u001b[43m,\u001b[49m\u001b[43m \u001b[49m\u001b[43mcriterion\u001b[49m\u001b[43m,\u001b[49m\u001b[43m \u001b[49m\n\u001b[1;32m    366\u001b[0m \u001b[43m    \u001b[49m\u001b[43mdl_train\u001b[49m\u001b[43m,\u001b[49m\u001b[43m \u001b[49m\u001b[43mdl_test\u001b[49m\u001b[43m,\u001b[49m\u001b[43m \u001b[49m\n\u001b[1;32m    367\u001b[0m \u001b[43m    \u001b[49m\u001b[43mMAX_EPOCHS\u001b[49m\u001b[38;5;241;43m=\u001b[39;49m\u001b[43mn_epochs\u001b[49m\u001b[43m,\u001b[49m\n\u001b[1;32m    368\u001b[0m \u001b[43m    \u001b[49m\u001b[43mepochs_trained\u001b[49m\u001b[38;5;241;43m=\u001b[39;49m\u001b[43mepochs_trained\u001b[49m\u001b[43m,\u001b[49m\n\u001b[1;32m    369\u001b[0m \u001b[43m    \u001b[49m\u001b[43mUSE_CUDA\u001b[49m\u001b[38;5;241;43m=\u001b[39;49m\u001b[43mUSE_CUDA\u001b[49m\u001b[43m,\u001b[49m\u001b[43m \u001b[49m\u001b[43mwriter\u001b[49m\u001b[38;5;241;43m=\u001b[39;49m\u001b[43mwriter\u001b[49m\u001b[43m,\u001b[49m\u001b[43m \u001b[49m\n\u001b[1;32m    370\u001b[0m \u001b[43m    \u001b[49m\u001b[43mvalidate_funcs\u001b[49m\u001b[38;5;241;43m=\u001b[39;49m\u001b[43m \u001b[49m\u001b[43mvalidate_funcs\u001b[49m\u001b[43m,\u001b[49m\u001b[43m \u001b[49m\n\u001b[1;32m    371\u001b[0m \u001b[43m    \u001b[49m\u001b[43mcheckpoint_func\u001b[49m\u001b[38;5;241;43m=\u001b[39;49m\u001b[43m \u001b[49m\u001b[43mcheckpoint_func\u001b[49m\u001b[43m,\u001b[49m\n\u001b[1;32m    372\u001b[0m \u001b[43m    \u001b[49m\u001b[43mclip_grad_value\u001b[49m\u001b[38;5;241;43m=\u001b[39;49m\u001b[43mexp_config\u001b[49m\u001b[38;5;241;43m.\u001b[39;49m\u001b[43mget\u001b[49m\u001b[43m(\u001b[49m\u001b[38;5;124;43m'\u001b[39;49m\u001b[38;5;124;43mclip_grad_value\u001b[39;49m\u001b[38;5;124;43m'\u001b[39;49m\u001b[43m,\u001b[49m\u001b[43m \u001b[49m\u001b[38;5;28;43;01mNone\u001b[39;49;00m\u001b[43m)\u001b[49m\u001b[43m,\u001b[49m\n\u001b[1;32m    373\u001b[0m \u001b[43m    \u001b[49m\u001b[43mVALIDATE_EVERY\u001b[49m\u001b[43m \u001b[49m\u001b[38;5;241;43m=\u001b[39;49m\u001b[43m \u001b[49m\u001b[43mexp_config\u001b[49m\u001b[38;5;241;43m.\u001b[39;49m\u001b[43mget\u001b[49m\u001b[43m(\u001b[49m\u001b[38;5;124;43m'\u001b[39;49m\u001b[38;5;124;43mvalidate_every\u001b[39;49m\u001b[38;5;124;43m'\u001b[39;49m\u001b[43m,\u001b[49m\u001b[43m \u001b[49m\u001b[38;5;241;43m1\u001b[39;49m\u001b[43m)\u001b[49m\u001b[43m,\u001b[49m\n\u001b[1;32m    374\u001b[0m \u001b[43m    \u001b[49m\u001b[43maccumulate_steps\u001b[49m\u001b[38;5;241;43m=\u001b[39;49m\u001b[43mexp_config\u001b[49m\u001b[38;5;241;43m.\u001b[39;49m\u001b[43mget\u001b[49m\u001b[43m(\u001b[49m\u001b[38;5;124;43m'\u001b[39;49m\u001b[38;5;124;43maccumulate_steps\u001b[39;49m\u001b[38;5;124;43m'\u001b[39;49m\u001b[43m,\u001b[49m\u001b[43m \u001b[49m\u001b[38;5;241;43m1\u001b[39;49m\u001b[43m)\u001b[49m\u001b[43m,\u001b[49m\n\u001b[1;32m    375\u001b[0m \u001b[43m    \u001b[49m\u001b[43mprofile\u001b[49m\u001b[38;5;241;43m=\u001b[39;49m\u001b[43mprofile\u001b[49m\u001b[43m,\u001b[49m\n\u001b[1;32m    376\u001b[0m \u001b[43m    \u001b[49m\u001b[43mautomatic_mixed_precision\u001b[49m\u001b[38;5;241;43m=\u001b[39;49m\u001b[43mexp_config\u001b[49m\u001b[38;5;241;43m.\u001b[39;49m\u001b[43mget\u001b[49m\u001b[43m(\u001b[49m\u001b[38;5;124;43m'\u001b[39;49m\u001b[38;5;124;43mautomatic_mixed_precision\u001b[39;49m\u001b[38;5;124;43m'\u001b[39;49m\u001b[43m,\u001b[49m\u001b[43m \u001b[49m\u001b[38;5;28;43;01mFalse\u001b[39;49;00m\u001b[43m)\u001b[49m\u001b[43m,\u001b[49m\n\u001b[1;32m    377\u001b[0m \u001b[43m\u001b[49m\u001b[43m)\u001b[49m\n",
      "File \u001b[0;32m/build/rassp/netutil.py:422\u001b[0m, in \u001b[0;36mgeneric_runner\u001b[0;34m(net, optimizer, scheduler, criterion, dl_train, dl_test, MAX_EPOCHS, epochs_trained, USE_CUDA, use_std, writer, validate_funcs, checkpoint_func, prog_bar, clip_grad_value, VALIDATE_EVERY, accumulate_steps, profile, automatic_mixed_precision)\u001b[0m\n\u001b[1;32m    420\u001b[0m net\u001b[38;5;241m.\u001b[39mtrain()\n\u001b[1;32m    421\u001b[0m t1_train \u001b[38;5;241m=\u001b[39m time\u001b[38;5;241m.\u001b[39mtime()\n\u001b[0;32m--> 422\u001b[0m train_res \u001b[38;5;241m=\u001b[39m \u001b[43mrun_epoch\u001b[49m\u001b[43m(\u001b[49m\n\u001b[1;32m    423\u001b[0m \u001b[43m    \u001b[49m\u001b[43mnet\u001b[49m\u001b[43m,\u001b[49m\u001b[43m \u001b[49m\u001b[43moptimizer\u001b[49m\u001b[43m,\u001b[49m\u001b[43m \u001b[49m\u001b[43mcriterion\u001b[49m\u001b[43m,\u001b[49m\u001b[43m \u001b[49m\u001b[43mdl_train\u001b[49m\u001b[43m,\u001b[49m\u001b[43m \u001b[49m\n\u001b[1;32m    424\u001b[0m \u001b[43m    \u001b[49m\u001b[43mpred_only\u001b[49m\u001b[43m \u001b[49m\u001b[38;5;241;43m=\u001b[39;49m\u001b[43m \u001b[49m\u001b[38;5;28;43;01mFalse\u001b[39;49;00m\u001b[43m,\u001b[49m\u001b[43m \u001b[49m\u001b[43mUSE_CUDA\u001b[49m\u001b[38;5;241;43m=\u001b[39;49m\u001b[43mUSE_CUDA\u001b[49m\u001b[43m,\u001b[49m\u001b[43m \u001b[49m\n\u001b[1;32m    425\u001b[0m \u001b[43m    \u001b[49m\u001b[43mreturn_pred\u001b[49m\u001b[38;5;241;43m=\u001b[39;49m\u001b[38;5;28;43;01mTrue\u001b[39;49;00m\u001b[43m,\u001b[49m\u001b[43m \u001b[49m\u001b[43mprogress_bar\u001b[49m\u001b[38;5;241;43m=\u001b[39;49m\u001b[43mprog_bar\u001b[49m\u001b[43m,\u001b[49m\n\u001b[1;32m    426\u001b[0m \u001b[43m    \u001b[49m\u001b[43mdesc\u001b[49m\u001b[38;5;241;43m=\u001b[39;49m\u001b[38;5;124;43m'\u001b[39;49m\u001b[38;5;124;43mtrain\u001b[39;49m\u001b[38;5;124;43m'\u001b[39;49m\u001b[43m,\u001b[49m\u001b[43m \u001b[49m\u001b[43mwriter\u001b[49m\u001b[38;5;241;43m=\u001b[39;49m\u001b[43mwriter\u001b[49m\u001b[43m,\u001b[49m\u001b[43m \u001b[49m\u001b[43mepoch_i\u001b[49m\u001b[38;5;241;43m=\u001b[39;49m\u001b[43mepoch_i\u001b[49m\u001b[43m,\u001b[49m\u001b[43m \u001b[49m\n\u001b[1;32m    427\u001b[0m \u001b[43m    \u001b[49m\u001b[43mres_skip_keys\u001b[49m\u001b[43m \u001b[49m\u001b[38;5;241;43m=\u001b[39;49m\u001b[43m \u001b[49m\u001b[43mres_skip_keys\u001b[49m\u001b[43m,\u001b[49m\n\u001b[1;32m    428\u001b[0m \u001b[43m    \u001b[49m\u001b[43mclip_grad_value\u001b[49m\u001b[43m \u001b[49m\u001b[38;5;241;43m=\u001b[39;49m\u001b[43m \u001b[49m\u001b[43mclip_grad_value\u001b[49m\u001b[43m,\u001b[49m\n\u001b[1;32m    429\u001b[0m \u001b[43m    \u001b[49m\u001b[43mscheduler\u001b[49m\u001b[38;5;241;43m=\u001b[39;49m\u001b[43mper_batch_scheduler\u001b[49m\u001b[43m,\u001b[49m\u001b[43m \u001b[49m\n\u001b[1;32m    430\u001b[0m \u001b[43m    \u001b[49m\u001b[43maccumulate_steps\u001b[49m\u001b[38;5;241;43m=\u001b[39;49m\u001b[43maccumulate_steps\u001b[49m\u001b[43m,\u001b[49m\n\u001b[1;32m    431\u001b[0m \u001b[43m    \u001b[49m\u001b[43mprofile\u001b[49m\u001b[38;5;241;43m=\u001b[39;49m\u001b[43mprofile\u001b[49m\u001b[43m,\u001b[49m\n\u001b[1;32m    432\u001b[0m \u001b[43m    \u001b[49m\u001b[43mautomatic_mixed_precision\u001b[49m\u001b[38;5;241;43m=\u001b[39;49m\u001b[43mautomatic_mixed_precision\u001b[49m\u001b[43m,\u001b[49m\n\u001b[1;32m    433\u001b[0m \u001b[43m\u001b[49m\u001b[43m)\u001b[49m\n\u001b[1;32m    434\u001b[0m t2_train \u001b[38;5;241m=\u001b[39m time\u001b[38;5;241m.\u001b[39mtime()\n\u001b[1;32m    435\u001b[0m [v(train_res, \u001b[38;5;124m\"\u001b[39m\u001b[38;5;124mtrain_\u001b[39m\u001b[38;5;124m\"\u001b[39m, epoch_i) \u001b[38;5;28;01mfor\u001b[39;00m v \u001b[38;5;129;01min\u001b[39;00m validate_funcs]\n",
      "File \u001b[0;32m/build/rassp/netutil.py:232\u001b[0m, in \u001b[0;36mrun_epoch\u001b[0;34m(net, optimizer, criterion, dl, pred_only, USE_CUDA, return_pred, desc, print_shapes, progress_bar, writer, epoch_i, res_skip_keys, clip_grad_value, scheduler, accumulate_steps, profile, automatic_mixed_precision, postprocess_batch_fn, return_subset_fields)\u001b[0m\n\u001b[1;32m    230\u001b[0m input_row_count \u001b[38;5;241m=\u001b[39m \u001b[38;5;241m0\u001b[39m\n\u001b[1;32m    231\u001b[0m \u001b[38;5;28;01mwith\u001b[39;00m profile_context():\n\u001b[0;32m--> 232\u001b[0m     \u001b[38;5;28;01mfor\u001b[39;00m i_batch, batch \u001b[38;5;129;01min\u001b[39;00m iterator:\n\u001b[1;32m    234\u001b[0m         t1 \u001b[38;5;241m=\u001b[39m time\u001b[38;5;241m.\u001b[39mtime()\n\u001b[1;32m    235\u001b[0m         \u001b[38;5;28;01mif\u001b[39;00m print_shapes:\n",
      "File \u001b[0;32m/opt/conda/lib/python3.8/site-packages/tqdm/std.py:1195\u001b[0m, in \u001b[0;36mtqdm.__iter__\u001b[0;34m(self)\u001b[0m\n\u001b[1;32m   1192\u001b[0m time \u001b[38;5;241m=\u001b[39m \u001b[38;5;28mself\u001b[39m\u001b[38;5;241m.\u001b[39m_time\n\u001b[1;32m   1194\u001b[0m \u001b[38;5;28;01mtry\u001b[39;00m:\n\u001b[0;32m-> 1195\u001b[0m     \u001b[38;5;28;01mfor\u001b[39;00m obj \u001b[38;5;129;01min\u001b[39;00m iterable:\n\u001b[1;32m   1196\u001b[0m         \u001b[38;5;28;01myield\u001b[39;00m obj\n\u001b[1;32m   1197\u001b[0m         \u001b[38;5;66;03m# Update and possibly print the progressbar.\u001b[39;00m\n\u001b[1;32m   1198\u001b[0m         \u001b[38;5;66;03m# Note: does not call self.update(1) for speed optimisation.\u001b[39;00m\n",
      "File \u001b[0;32m/opt/conda/lib/python3.8/site-packages/torch/utils/data/dataloader.py:681\u001b[0m, in \u001b[0;36m_BaseDataLoaderIter.__next__\u001b[0;34m(self)\u001b[0m\n\u001b[1;32m    678\u001b[0m \u001b[38;5;28;01mif\u001b[39;00m \u001b[38;5;28mself\u001b[39m\u001b[38;5;241m.\u001b[39m_sampler_iter \u001b[38;5;129;01mis\u001b[39;00m \u001b[38;5;28;01mNone\u001b[39;00m:\n\u001b[1;32m    679\u001b[0m     \u001b[38;5;66;03m# TODO(https://github.com/pytorch/pytorch/issues/76750)\u001b[39;00m\n\u001b[1;32m    680\u001b[0m     \u001b[38;5;28mself\u001b[39m\u001b[38;5;241m.\u001b[39m_reset()  \u001b[38;5;66;03m# type: ignore[call-arg]\u001b[39;00m\n\u001b[0;32m--> 681\u001b[0m data \u001b[38;5;241m=\u001b[39m \u001b[38;5;28;43mself\u001b[39;49m\u001b[38;5;241;43m.\u001b[39;49m\u001b[43m_next_data\u001b[49m\u001b[43m(\u001b[49m\u001b[43m)\u001b[49m\n\u001b[1;32m    682\u001b[0m \u001b[38;5;28mself\u001b[39m\u001b[38;5;241m.\u001b[39m_num_yielded \u001b[38;5;241m+\u001b[39m\u001b[38;5;241m=\u001b[39m \u001b[38;5;241m1\u001b[39m\n\u001b[1;32m    683\u001b[0m \u001b[38;5;28;01mif\u001b[39;00m \u001b[38;5;28mself\u001b[39m\u001b[38;5;241m.\u001b[39m_dataset_kind \u001b[38;5;241m==\u001b[39m _DatasetKind\u001b[38;5;241m.\u001b[39mIterable \u001b[38;5;129;01mand\u001b[39;00m \\\n\u001b[1;32m    684\u001b[0m         \u001b[38;5;28mself\u001b[39m\u001b[38;5;241m.\u001b[39m_IterableDataset_len_called \u001b[38;5;129;01mis\u001b[39;00m \u001b[38;5;129;01mnot\u001b[39;00m \u001b[38;5;28;01mNone\u001b[39;00m \u001b[38;5;129;01mand\u001b[39;00m \\\n\u001b[1;32m    685\u001b[0m         \u001b[38;5;28mself\u001b[39m\u001b[38;5;241m.\u001b[39m_num_yielded \u001b[38;5;241m>\u001b[39m \u001b[38;5;28mself\u001b[39m\u001b[38;5;241m.\u001b[39m_IterableDataset_len_called:\n",
      "File \u001b[0;32m/opt/conda/lib/python3.8/site-packages/torch/utils/data/dataloader.py:1374\u001b[0m, in \u001b[0;36m_MultiProcessingDataLoaderIter._next_data\u001b[0;34m(self)\u001b[0m\n\u001b[1;32m   1372\u001b[0m \u001b[38;5;28;01melse\u001b[39;00m:\n\u001b[1;32m   1373\u001b[0m     \u001b[38;5;28;01mdel\u001b[39;00m \u001b[38;5;28mself\u001b[39m\u001b[38;5;241m.\u001b[39m_task_info[idx]\n\u001b[0;32m-> 1374\u001b[0m     \u001b[38;5;28;01mreturn\u001b[39;00m \u001b[38;5;28;43mself\u001b[39;49m\u001b[38;5;241;43m.\u001b[39;49m\u001b[43m_process_data\u001b[49m\u001b[43m(\u001b[49m\u001b[43mdata\u001b[49m\u001b[43m)\u001b[49m\n",
      "File \u001b[0;32m/opt/conda/lib/python3.8/site-packages/torch/utils/data/dataloader.py:1400\u001b[0m, in \u001b[0;36m_MultiProcessingDataLoaderIter._process_data\u001b[0;34m(self, data)\u001b[0m\n\u001b[1;32m   1398\u001b[0m \u001b[38;5;28mself\u001b[39m\u001b[38;5;241m.\u001b[39m_try_put_index()\n\u001b[1;32m   1399\u001b[0m \u001b[38;5;28;01mif\u001b[39;00m \u001b[38;5;28misinstance\u001b[39m(data, ExceptionWrapper):\n\u001b[0;32m-> 1400\u001b[0m     \u001b[43mdata\u001b[49m\u001b[38;5;241;43m.\u001b[39;49m\u001b[43mreraise\u001b[49m\u001b[43m(\u001b[49m\u001b[43m)\u001b[49m\n\u001b[1;32m   1401\u001b[0m \u001b[38;5;28;01mreturn\u001b[39;00m data\n",
      "File \u001b[0;32m/opt/conda/lib/python3.8/site-packages/torch/_utils.py:543\u001b[0m, in \u001b[0;36mExceptionWrapper.reraise\u001b[0;34m(self)\u001b[0m\n\u001b[1;32m    539\u001b[0m \u001b[38;5;28;01mexcept\u001b[39;00m \u001b[38;5;167;01mTypeError\u001b[39;00m:\n\u001b[1;32m    540\u001b[0m     \u001b[38;5;66;03m# If the exception takes multiple arguments, don't try to\u001b[39;00m\n\u001b[1;32m    541\u001b[0m     \u001b[38;5;66;03m# instantiate since we don't know how to\u001b[39;00m\n\u001b[1;32m    542\u001b[0m     \u001b[38;5;28;01mraise\u001b[39;00m \u001b[38;5;167;01mRuntimeError\u001b[39;00m(msg) \u001b[38;5;28;01mfrom\u001b[39;00m \u001b[38;5;28mNone\u001b[39m\n\u001b[0;32m--> 543\u001b[0m \u001b[38;5;28;01mraise\u001b[39;00m exception\n",
      "\u001b[0;31mRuntimeError\u001b[0m: Caught RuntimeError in DataLoader worker process 7.\nOriginal Traceback (most recent call last):\n  File \"/build/rassp/dataset/__init__.py\", line 96, in __getitem__\n    features_dict = self.featurizer(mol)\n  File \"/build/rassp/featurize/featurize.py\", line 126, in __call__\n    formulae_feats, formulae_peaks = self.pff(mol)\n  File \"/build/rassp/featurize/molecule_features.py\", line 658, in __call__\n    raise ValueError(f\"molecule {Chem.MolToSmiles(mol)} has {len(formulae)}, more than the limit of {self.max_formulae} (naive count={self.num_unique_f(mol)})\")\nValueError: molecule [H]c1nc(N=C(N([H])[H])C(F)(OC(F)(F)C(F)(OC(F)(F)C(F)(F)C(F)(F)F)C(F)(F)F)C(F)(F)F)sc1[H] has 28080, more than the limit of 27000 (naive count=28080)\n\nThe above exception was the direct cause of the following exception:\n\nTraceback (most recent call last):\n  File \"/opt/conda/lib/python3.8/site-packages/torch/utils/data/_utils/worker.py\", line 302, in _worker_loop\n    data = fetcher.fetch(index)\n  File \"/opt/conda/lib/python3.8/site-packages/torch/utils/data/_utils/fetch.py\", line 49, in fetch\n    data = [self.dataset[idx] for idx in possibly_batched_index]\n  File \"/opt/conda/lib/python3.8/site-packages/torch/utils/data/_utils/fetch.py\", line 49, in <listcomp>\n    data = [self.dataset[idx] for idx in possibly_batched_index]\n  File \"/build/rassp/dataset/__init__.py\", line 99, in __getitem__\n    raise RuntimeError(row.smiles) from e\nRuntimeError: C1=CSC(=N1)N=C(C(C(F)(F)F)(OC(C(C(F)(F)F)(OC(C(C(F)(F)F)(F)F)(F)F)F)(F)F)F)N\n"
     ]
    }
   ],
   "source": [
    "train('test',exp_config,exp_config_filename='exp.yml',USE_CUDA=True)"
   ]
  },
  {
   "cell_type": "code",
   "execution_count": null,
   "id": "ce3fe22c-1253-42b5-87c7-f5ca9f9c025c",
   "metadata": {},
   "outputs": [],
   "source": [
    "trd[trd.smiles.str.contains('C(Cl)Br',regex=False)]\n",
    "#trd[trd.smiles.str.contains('Br',regex=False)]"
   ]
  },
  {
   "cell_type": "code",
   "execution_count": null,
   "id": "1494c6f1-7058-496a-b15b-5f885b0a3b7b",
   "metadata": {
    "tags": []
   },
   "outputs": [],
   "source": [
    "m=Chem.Mol(trd.iloc[7208].rdmol)\n",
    "m"
   ]
  },
  {
   "cell_type": "code",
   "execution_count": null,
   "id": "9828853b-eda1-4b0a-bd26-cbc196042b64",
   "metadata": {
    "tags": []
   },
   "outputs": [],
   "source": [
    "not {a.GetAtomicNum() for a in m.GetAtoms()} < {1,2,6,7,8,9,15,16,17}"
   ]
  },
  {
   "cell_type": "code",
   "execution_count": 24,
   "id": "d6472114-b836-42f6-a34b-af7d01c725e3",
   "metadata": {
    "tags": []
   },
   "outputs": [],
   "source": [
    "trd = pd.read_parquet('train.pq')"
   ]
  },
  {
   "cell_type": "code",
   "execution_count": 74,
   "id": "e792ca5a-c0fc-4446-82be-1f81bcca6314",
   "metadata": {},
   "outputs": [
    {
     "ename": "KeyError",
     "evalue": "\"None of [Float64Index([nan, nan, nan, nan, nan, nan, nan, nan, nan, nan,\\n              ...\\n              nan, nan, nan, nan, nan, nan, nan, nan, nan, nan],\\n             dtype='float64', length=154779)] are in the [columns]\"",
     "output_type": "error",
     "traceback": [
      "\u001b[0;31m---------------------------------------------------------------------------\u001b[0m",
      "\u001b[0;31mKeyError\u001b[0m                                  Traceback (most recent call last)",
      "Cell \u001b[0;32mIn[74], line 1\u001b[0m\n\u001b[0;32m----> 1\u001b[0m shit_nist\u001b[38;5;241m=\u001b[39m\u001b[43mtrd\u001b[49m\u001b[43m[\u001b[49m\u001b[43mtrd\u001b[49m\u001b[38;5;241;43m.\u001b[39;49m\u001b[43msmiles\u001b[49m\u001b[38;5;241;43m.\u001b[39;49m\u001b[43mstr\u001b[49m\u001b[38;5;241;43m.\u001b[39;49m\u001b[43mcontains\u001b[49m\u001b[43m(\u001b[49m\u001b[43m{\u001b[49m\u001b[38;5;241;43m*\u001b[39;49m\u001b[43msmiles\u001b[49m\u001b[43m}\u001b[49m\u001b[43m,\u001b[49m\u001b[43mregex\u001b[49m\u001b[38;5;241;43m=\u001b[39;49m\u001b[38;5;28;43;01mFalse\u001b[39;49;00m\u001b[43m)\u001b[49m\u001b[43m]\u001b[49m\n",
      "File \u001b[0;32m/opt/conda/lib/python3.8/site-packages/pandas/core/frame.py:3813\u001b[0m, in \u001b[0;36mDataFrame.__getitem__\u001b[0;34m(self, key)\u001b[0m\n\u001b[1;32m   3811\u001b[0m     \u001b[38;5;28;01mif\u001b[39;00m is_iterator(key):\n\u001b[1;32m   3812\u001b[0m         key \u001b[38;5;241m=\u001b[39m \u001b[38;5;28mlist\u001b[39m(key)\n\u001b[0;32m-> 3813\u001b[0m     indexer \u001b[38;5;241m=\u001b[39m \u001b[38;5;28;43mself\u001b[39;49m\u001b[38;5;241;43m.\u001b[39;49m\u001b[43mcolumns\u001b[49m\u001b[38;5;241;43m.\u001b[39;49m\u001b[43m_get_indexer_strict\u001b[49m\u001b[43m(\u001b[49m\u001b[43mkey\u001b[49m\u001b[43m,\u001b[49m\u001b[43m \u001b[49m\u001b[38;5;124;43m\"\u001b[39;49m\u001b[38;5;124;43mcolumns\u001b[39;49m\u001b[38;5;124;43m\"\u001b[39;49m\u001b[43m)\u001b[49m[\u001b[38;5;241m1\u001b[39m]\n\u001b[1;32m   3815\u001b[0m \u001b[38;5;66;03m# take() does not accept boolean indexers\u001b[39;00m\n\u001b[1;32m   3816\u001b[0m \u001b[38;5;28;01mif\u001b[39;00m \u001b[38;5;28mgetattr\u001b[39m(indexer, \u001b[38;5;124m\"\u001b[39m\u001b[38;5;124mdtype\u001b[39m\u001b[38;5;124m\"\u001b[39m, \u001b[38;5;28;01mNone\u001b[39;00m) \u001b[38;5;241m==\u001b[39m \u001b[38;5;28mbool\u001b[39m:\n",
      "File \u001b[0;32m/opt/conda/lib/python3.8/site-packages/pandas/core/indexes/base.py:6070\u001b[0m, in \u001b[0;36mIndex._get_indexer_strict\u001b[0;34m(self, key, axis_name)\u001b[0m\n\u001b[1;32m   6067\u001b[0m \u001b[38;5;28;01melse\u001b[39;00m:\n\u001b[1;32m   6068\u001b[0m     keyarr, indexer, new_indexer \u001b[38;5;241m=\u001b[39m \u001b[38;5;28mself\u001b[39m\u001b[38;5;241m.\u001b[39m_reindex_non_unique(keyarr)\n\u001b[0;32m-> 6070\u001b[0m \u001b[38;5;28;43mself\u001b[39;49m\u001b[38;5;241;43m.\u001b[39;49m\u001b[43m_raise_if_missing\u001b[49m\u001b[43m(\u001b[49m\u001b[43mkeyarr\u001b[49m\u001b[43m,\u001b[49m\u001b[43m \u001b[49m\u001b[43mindexer\u001b[49m\u001b[43m,\u001b[49m\u001b[43m \u001b[49m\u001b[43maxis_name\u001b[49m\u001b[43m)\u001b[49m\n\u001b[1;32m   6072\u001b[0m keyarr \u001b[38;5;241m=\u001b[39m \u001b[38;5;28mself\u001b[39m\u001b[38;5;241m.\u001b[39mtake(indexer)\n\u001b[1;32m   6073\u001b[0m \u001b[38;5;28;01mif\u001b[39;00m \u001b[38;5;28misinstance\u001b[39m(key, Index):\n\u001b[1;32m   6074\u001b[0m     \u001b[38;5;66;03m# GH 42790 - Preserve name from an Index\u001b[39;00m\n",
      "File \u001b[0;32m/opt/conda/lib/python3.8/site-packages/pandas/core/indexes/base.py:6130\u001b[0m, in \u001b[0;36mIndex._raise_if_missing\u001b[0;34m(self, key, indexer, axis_name)\u001b[0m\n\u001b[1;32m   6128\u001b[0m     \u001b[38;5;28;01mif\u001b[39;00m use_interval_msg:\n\u001b[1;32m   6129\u001b[0m         key \u001b[38;5;241m=\u001b[39m \u001b[38;5;28mlist\u001b[39m(key)\n\u001b[0;32m-> 6130\u001b[0m     \u001b[38;5;28;01mraise\u001b[39;00m \u001b[38;5;167;01mKeyError\u001b[39;00m(\u001b[38;5;124mf\u001b[39m\u001b[38;5;124m\"\u001b[39m\u001b[38;5;124mNone of [\u001b[39m\u001b[38;5;132;01m{\u001b[39;00mkey\u001b[38;5;132;01m}\u001b[39;00m\u001b[38;5;124m] are in the [\u001b[39m\u001b[38;5;132;01m{\u001b[39;00maxis_name\u001b[38;5;132;01m}\u001b[39;00m\u001b[38;5;124m]\u001b[39m\u001b[38;5;124m\"\u001b[39m)\n\u001b[1;32m   6132\u001b[0m not_found \u001b[38;5;241m=\u001b[39m \u001b[38;5;28mlist\u001b[39m(ensure_index(key)[missing_mask\u001b[38;5;241m.\u001b[39mnonzero()[\u001b[38;5;241m0\u001b[39m]]\u001b[38;5;241m.\u001b[39munique())\n\u001b[1;32m   6133\u001b[0m \u001b[38;5;28;01mraise\u001b[39;00m \u001b[38;5;167;01mKeyError\u001b[39;00m(\u001b[38;5;124mf\u001b[39m\u001b[38;5;124m\"\u001b[39m\u001b[38;5;132;01m{\u001b[39;00mnot_found\u001b[38;5;132;01m}\u001b[39;00m\u001b[38;5;124m not in index\u001b[39m\u001b[38;5;124m\"\u001b[39m)\n",
      "\u001b[0;31mKeyError\u001b[0m: \"None of [Float64Index([nan, nan, nan, nan, nan, nan, nan, nan, nan, nan,\\n              ...\\n              nan, nan, nan, nan, nan, nan, nan, nan, nan, nan],\\n             dtype='float64', length=154779)] are in the [columns]\""
     ]
    }
   ],
   "source": [
    "shit_nist=trd[trd.smiles.str.contains({*smiles},regex=False)]"
   ]
  },
  {
   "cell_type": "code",
   "execution_count": 118,
   "id": "10875c4d-3aff-43b0-bddd-e5352be863d7",
   "metadata": {
    "tags": []
   },
   "outputs": [],
   "source": [
    "idx=4"
   ]
  },
  {
   "cell_type": "code",
   "execution_count": 119,
   "id": "49856b1f-0c9b-46ab-af05-adfea3d39002",
   "metadata": {
    "tags": []
   },
   "outputs": [
    {
     "data": {
      "text/html": [
       "<div>\n",
       "<style scoped>\n",
       "    .dataframe tbody tr th:only-of-type {\n",
       "        vertical-align: middle;\n",
       "    }\n",
       "\n",
       "    .dataframe tbody tr th {\n",
       "        vertical-align: top;\n",
       "    }\n",
       "\n",
       "    .dataframe thead th {\n",
       "        text-align: right;\n",
       "    }\n",
       "</style>\n",
       "<table border=\"1\" class=\"dataframe\">\n",
       "  <thead>\n",
       "    <tr style=\"text-align: right;\">\n",
       "      <th></th>\n",
       "      <th>rdmol</th>\n",
       "      <th>spect</th>\n",
       "      <th>smiles</th>\n",
       "    </tr>\n",
       "  </thead>\n",
       "  <tbody>\n",
       "    <tr>\n",
       "      <th>193300</th>\n",
       "      <td>b'\\xef\\xbe\\xad\\xde\\x00\\x00\\x00\\x00\\r\\x00\\x00\\x...</td>\n",
       "      <td>[[33.0, 10.99], [34.0, 20.98], [35.0, 6.99], [...</td>\n",
       "      <td>C1=CSC(=N1)N=C(C(C(F)(F)F)(OC(C(C(F)(F)F)(OC(C...</td>\n",
       "    </tr>\n",
       "  </tbody>\n",
       "</table>\n",
       "</div>"
      ],
      "text/plain": [
       "                                                    rdmol  \\\n",
       "193300  b'\\xef\\xbe\\xad\\xde\\x00\\x00\\x00\\x00\\r\\x00\\x00\\x...   \n",
       "\n",
       "                                                    spect  \\\n",
       "193300  [[33.0, 10.99], [34.0, 20.98], [35.0, 6.99], [...   \n",
       "\n",
       "                                                   smiles  \n",
       "193300  C1=CSC(=N1)N=C(C(C(F)(F)F)(OC(C(C(F)(F)F)(OC(C...  "
      ]
     },
     "execution_count": 119,
     "metadata": {},
     "output_type": "execute_result"
    }
   ],
   "source": [
    "shit_nist=trd[trd.smiles == smiles[idx]]\n",
    "shit_nist"
   ]
  },
  {
   "cell_type": "code",
   "execution_count": 120,
   "id": "980fe05e-45b9-4d41-88fa-00b890b437cb",
   "metadata": {
    "tags": []
   },
   "outputs": [],
   "source": [
    "idx2=0"
   ]
  },
  {
   "cell_type": "code",
   "execution_count": 121,
   "id": "f5a52358-e426-498b-a76d-8f9fbaf89fbd",
   "metadata": {
    "tags": []
   },
   "outputs": [
    {
     "name": "stdout",
     "output_type": "stream",
     "text": [
      "2023-03-07 15:49:00,431:WARNING:matchms:add_precursor_mz:No precursor_mz found in metadata.\n"
     ]
    },
    {
     "name": "stderr",
     "output_type": "stream",
     "text": [
      "2023-03-07 15:49:00,431 - matchms - WARNING - No precursor_mz found in metadata.\n"
     ]
    },
    {
     "name": "stdout",
     "output_type": "stream",
     "text": [
      "2023-03-07 15:49:00,433:WARNING:matchms:add_precursor_mz:No precursor_mz found in metadata.\n"
     ]
    },
    {
     "name": "stderr",
     "output_type": "stream",
     "text": [
      "2023-03-07 15:49:00,433 - matchms - WARNING - No precursor_mz found in metadata.\n"
     ]
    }
   ],
   "source": [
    "import matchms\n",
    "mzi=np.array(list(shit_nist.iloc[idx2].spect))\n",
    "shit1 = matchms.Spectrum(mz=mzi[:,0],intensities=mzi[:,1])\n",
    "mzi=shit_pred17[idx].astype(float)\n",
    "shit2 = matchms.Spectrum(mz=mzi[:,0],intensities=mzi[:,1])"
   ]
  },
  {
   "cell_type": "code",
   "execution_count": 122,
   "id": "9721c3f9-258d-4758-8356-25f8c576fb78",
   "metadata": {
    "tags": []
   },
   "outputs": [
    {
     "data": {
      "text/plain": [
       "<Axes: title={'center': 'Spectrum comparison'}, xlabel='m/z', ylabel='Intensity'>"
      ]
     },
     "execution_count": 122,
     "metadata": {},
     "output_type": "execute_result"
    },
    {
     "data": {
      "image/png": "[encoded data removed]",
      "text/plain": [
       "<Figure size 640x480 with 1 Axes>"
      ]
     },
     "metadata": {},
     "output_type": "display_data"
    }
   ],
   "source": [
    "from matchms.plotting import plot_spectra_mirror\n",
    "plot_spectra_mirror(shit1,shit2)"
   ]
  },
  {
   "cell_type": "code",
   "execution_count": null,
   "id": "9777fd89-36b3-49a6-9972-c35114950319",
   "metadata": {},
   "outputs": [],
   "source": []
  }
 ],
 "metadata": {
  "kernelspec": {
   "display_name": "Python 3 (ipykernel)",
   "language": "python",
   "name": "python3"
  },
  "language_info": {
   "codemirror_mode": {
    "name": "ipython",
    "version": 3
   },
   "file_extension": ".py",
   "mimetype": "text/x-python",
   "name": "python",
   "nbconvert_exporter": "python",
   "pygments_lexer": "ipython3",
   "version": "3.8.13"
  }
 },
 "nbformat": 4,
 "nbformat_minor": 5
}
