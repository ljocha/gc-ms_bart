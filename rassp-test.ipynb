{
 "cells": [
  {
   "cell_type": "code",
   "execution_count": 1,
   "id": "b960323b-8f0b-4112-848b-12b17deb6ab8",
   "metadata": {
    "tags": []
   },
   "outputs": [
    {
     "name": "stderr",
     "output_type": "stream",
     "text": [
      "/opt/conda/lib/python3.8/site-packages/tqdm/auto.py:22: TqdmWarning: IProgress not found. Please update jupyter and ipywidgets. See https://ipywidgets.readthedocs.io/en/stable/user_install.html\n",
      "  from .autonotebook import tqdm as notebook_tqdm\n"
     ]
    }
   ],
   "source": [
    "threads=16\n",
    "import os\n",
    "os.environ['OMP_NUM_THREADS']=str(threads)\n",
    "import torch"
   ]
  },
  {
   "cell_type": "code",
   "execution_count": 2,
   "id": "bac6a059-bec6-4824-a7fa-66976b35abf0",
   "metadata": {
    "tags": []
   },
   "outputs": [],
   "source": [
    "import pandas as pd\n",
    "import urllib\n",
    "import pickle\n",
    "import rassp\n",
    "from rassp import netutil\n",
    "from rdkit import Chem\n",
    "import numpy as np"
   ]
  },
  {
   "cell_type": "code",
   "execution_count": 3,
   "id": "147df318-78bc-4372-b9bb-c386173bef68",
   "metadata": {
    "tags": []
   },
   "outputs": [],
   "source": [
    "# XXX: needed by pickle.load of rassp models\n",
    "\n",
    "from rassp import msutil,model\n",
    "import sys\n",
    "sys.modules['msutil'] = msutil\n",
    "sys.modules['model'] = model"
   ]
  },
  {
   "cell_type": "code",
   "execution_count": null,
   "id": "a6d8f738-67ef-4d87-977c-cc5343d8b7d8",
   "metadata": {
    "tags": []
   },
   "outputs": [],
   "source": [
    "s = pd.read_parquet('rassp-public/sample_data/smallmols_cfm_pred_public_sample.parquet')"
   ]
  },
  {
   "cell_type": "code",
   "execution_count": null,
   "id": "5dea2721-d7a3-40c0-8753-cf048e5d7104",
   "metadata": {
    "tags": []
   },
   "outputs": [],
   "source": [
    "s.iloc[0].spect"
   ]
  },
  {
   "cell_type": "code",
   "execution_count": null,
   "id": "d9cb4e83-5162-45ce-aab0-00d6646bb03d",
   "metadata": {
    "tags": []
   },
   "outputs": [],
   "source": [
    "s.iloc[0].spect_sparse"
   ]
  },
  {
   "cell_type": "code",
   "execution_count": null,
   "id": "f8cf215f-ee7e-4096-a464-56b3b677ce07",
   "metadata": {
    "tags": []
   },
   "outputs": [],
   "source": [
    "s.iloc[0]"
   ]
  },
  {
   "cell_type": "code",
   "execution_count": null,
   "id": "8a061a2e-133c-49f2-b654-c6e58bbcb122",
   "metadata": {
    "tags": []
   },
   "outputs": [],
   "source": [
    "m = Chem.Mol(s.iloc[1].rdmol)\n",
    "m"
   ]
  },
  {
   "cell_type": "code",
   "execution_count": null,
   "id": "d0459504-fc74-4678-9df2-0ed8c51a9ecd",
   "metadata": {
    "tags": []
   },
   "outputs": [],
   "source": [
    "[ a.GetAtomicNum() for a in m.GetAtoms()]"
   ]
  },
  {
   "cell_type": "markdown",
   "id": "28389677-597b-4132-a57a-5d2ea43189f4",
   "metadata": {},
   "source": [
    "### TODO \n",
    "\n",
    "Z toho pouziva RASSP jen spect a rdmol\n",
    "rdmol je serializovany rdkit.Chem.Mol\n",
    "\n",
    "to budeme umet z MSP vyrobit"
   ]
  },
  {
   "cell_type": "code",
   "execution_count": null,
   "id": "87250934-56d7-46cc-9d28-76603d1eff2d",
   "metadata": {
    "tags": []
   },
   "outputs": [],
   "source": [
    "base='https://people.cs.uchicago.edu/~ericj/rassp/'\n",
    "files=[ 'formulanet_best_candidate_pcsim_pretrain.nist-fromscratch-3x9x128.35790555.00000740.model',    \n",
    "'formulanet_best_candidate_pcsim_pretrain.nist-fromscratch-3x9x128.35790555.meta',\n",
    "'subsetnet_best_candidate_nist_fromscratch.nist-fromscratch-test01-old-1x2048.36688199.00001000.model', \n",
    "'subsetnet_best_candidate_nist_fromscratch.nist-fromscratch-test01-old-1x2048.36688199.meta',   \n",
    "'subsetnet_best_candidate_nist_posttrain_cluster.cluster-nist-posttrain.35946017.00000480.model',\n",
    "'subsetnet_best_candidate_nist_posttrain_cluster.cluster-nist-posttrain.35946017.meta']\n",
    "\n",
    "for f in files:\n",
    "    urllib.request.urlretrieve(f'{base}/{f}',f)"
   ]
  },
  {
   "cell_type": "code",
   "execution_count": null,
   "id": "9f9852d2-7aa0-49fa-bd1f-352509e04834",
   "metadata": {
    "tags": []
   },
   "outputs": [],
   "source": [
    "# from original run_rassp.py\n",
    "\n",
    "use_gpu=True\n",
    "model_dir='.'\n",
    "\n",
    "MODELS = {\n",
    "    'FormulaNet': {\n",
    "        'checkpoint': os.path.join(model_dir, 'formulanet_best_candidate_pcsim_pretrain.nist-fromscratch-3x9x128.35790555.00000740.model'),\n",
    "        'meta': os.path.join(model_dir, 'formulanet_best_candidate_pcsim_pretrain.nist-fromscratch-3x9x128.35790555.meta'),\n",
    "\n",
    "        # NOTE(2023-01-24): FN currently has a reduced set of valid mol constraints bc this is what we trained with\n",
    "        # and there is currently an outstanding bug where changing N_ATOMS here breaks FN predictions in subtle ways.\n",
    "        'override_constraints': {\n",
    "            'n_atom': 48,\n",
    "            # 'n_formula': 4096,\n",
    "            'n_formula': 32768,\n",
    "            # 'n_subset': 12288,\n",
    "            'n_subset': 49152,\n",
    "        },\n",
    "    },\n",
    "    'SubsetNet': {\n",
    "        'checkpoint': os.path.join(model_dir, 'subsetnet_best_candidate_nist_fromscratch.nist-fromscratch-test01-old-1x2048.36688199.00001000.model'),\n",
    "        'meta': os.path.join(model_dir, 'subsetnet_best_candidate_nist_fromscratch.nist-fromscratch-test01-old-1x2048.36688199.meta'),\n",
    "\n",
    "        # NOTE: this set of params works for SN GPU inference on a single RTX 2080 Ti (12GB VRAM)\n",
    "        # despite SN being trained on <= 48 atoms like FN, it also scales well to mols up to <= 64 atoms (tested)\n",
    "        'override_constraints': {\n",
    "            'n_atom': 64,\n",
    "            'n_formula': 32768,\n",
    "            'n_subset': 49152,\n",
    "        },\n",
    "    },\n",
    "}\n",
    "\n",
    "model_name='FormulaNet'\n",
    "meta_path = MODELS[model_name]['meta']\n",
    "ckpt_path = MODELS[model_name]['checkpoint']\n",
    "override_constraints = MODELS[model_name]['override_constraints']\n",
    "meta = pickle.load(open(meta_path, 'rb'))\n",
    "\n",
    "feat_config = meta['featurize_config']\n",
    "for key, val in override_constraints.items():\n",
    "    if key == 'n_atom':\n",
    "        feat_config['MAX_N'] = val\n",
    "    if key == 'n_formula':\n",
    "        feat_config['explicit_formulae_config']['max_formulae'] = val\n",
    "    if key == 'n_subset':\n",
    "        feat_config['vert_subset_samples_n'] = val\n",
    "\n",
    "if use_gpu and not torch.cuda.is_available():\n",
    "    use_gpu = False\n",
    "\n",
    "predictor = netutil.PredModel(\n",
    "    meta_path,\n",
    "    ckpt_path,\n",
    "    USE_CUDA=use_gpu,\n",
    "    data_parallel=False,\n",
    "    featurize_config_update=feat_config,\n",
    ")\n"
   ]
  },
  {
   "cell_type": "code",
   "execution_count": null,
   "id": "55a4e443-9e7f-46b5-be42-c1acd89ee525",
   "metadata": {
    "tags": []
   },
   "outputs": [],
   "source": [
    "smiles = ['C1=CNN=C1','CC(C)C#N','CCC(=C)C','CC[N+](=O)[O-]']*1000\n",
    "\n",
    "valid_mols = [ Chem.AddHs(Chem.MolFromSmiles(s)) for s in smiles ]"
   ]
  },
  {
   "cell_type": "code",
   "execution_count": null,
   "id": "c1e42f7a-48b6-4200-bb8a-7016f739792e",
   "metadata": {},
   "outputs": [],
   "source": [
    "predictions = predictor.pred(\n",
    "    valid_mols,\n",
    "    progress_bar=True,\n",
    "    normalize_pred=True,\n",
    "    output_hist_bins=True,\n",
    "    batch_size=2, # XXX\n",
    "    dataloader_config={\n",
    "        'pin_memory': False,\n",
    "        'num_workers': 0, # XXX\n",
    "        'persistent_workers': False,\n",
    "    },\n",
    "    benchmark_dataloader=False,\n",
    ")\n"
   ]
  },
  {
   "cell_type": "code",
   "execution_count": null,
   "id": "4a55773f-cd24-4cbd-a15a-8f449c90e17d",
   "metadata": {
    "tags": []
   },
   "outputs": [],
   "source": [
    "predictions['pred_binned'][0]"
   ]
  },
  {
   "cell_type": "code",
   "execution_count": null,
   "id": "980c9306-f3a5-4380-b1b4-0cfc27905b70",
   "metadata": {},
   "outputs": [],
   "source": []
  },
  {
   "cell_type": "code",
   "execution_count": null,
   "id": "3c6c9f6e-2937-478b-85e2-5f2be43dbeec",
   "metadata": {},
   "outputs": [],
   "source": []
  },
  {
   "cell_type": "code",
   "execution_count": null,
   "id": "5fdc0a5e-672e-4abf-baea-1875e597fdd8",
   "metadata": {
    "tags": []
   },
   "outputs": [],
   "source": [
    "nist_path = '20210925_NIST_EI_MS_cleaned.msp'\n",
    "\n",
    "from matchms.importing import load_from_msp\n",
    "nist = list(load_from_msp(nist_path, metadata_harmonization=False))"
   ]
  },
  {
   "cell_type": "code",
   "execution_count": null,
   "id": "34b00e48-39ea-4ef9-8a4e-64875923cd8c",
   "metadata": {
    "tags": []
   },
   "outputs": [],
   "source": [
    "len(nist)"
   ]
  },
  {
   "cell_type": "code",
   "execution_count": null,
   "id": "f383ac7c-0ca6-4814-9334-64a545ef2d20",
   "metadata": {
    "tags": []
   },
   "outputs": [],
   "source": [
    "nist[42].metadata"
   ]
  },
  {
   "cell_type": "code",
   "execution_count": null,
   "id": "1ee4a514-2260-436f-8027-b5cd92497c5d",
   "metadata": {
    "tags": []
   },
   "outputs": [],
   "source": [
    "nist[42].peaks.mz"
   ]
  },
  {
   "cell_type": "code",
   "execution_count": null,
   "id": "d847e967-594a-4079-9081-d8f3705f075d",
   "metadata": {
    "tags": []
   },
   "outputs": [],
   "source": [
    "nist[42].peaks.intensities"
   ]
  },
  {
   "cell_type": "code",
   "execution_count": null,
   "id": "8a0cb946-58f7-45f6-9183-13b8fb3705b5",
   "metadata": {
    "tags": []
   },
   "outputs": [],
   "source": [
    "mol = Chem.AddHs(Chem.MolFromSmiles(nist[42].metadata['smiles']))\n",
    "len(mol.GetPropNames())"
   ]
  },
  {
   "cell_type": "code",
   "execution_count": null,
   "id": "d65781ea-9795-4324-a52a-664258e9aff7",
   "metadata": {
    "tags": []
   },
   "outputs": [],
   "source": [
    "b = mol.ToBinary()\n",
    "b"
   ]
  },
  {
   "cell_type": "code",
   "execution_count": null,
   "id": "786c71a8-705e-4c02-9ef3-63f1191e0932",
   "metadata": {
    "tags": []
   },
   "outputs": [],
   "source": [
    "m2 = Chem.Mol(b)\n",
    "m2"
   ]
  },
  {
   "cell_type": "code",
   "execution_count": null,
   "id": "4299d0e5-802c-4d1b-8a3b-ed9fd1ab8e9c",
   "metadata": {
    "tags": []
   },
   "outputs": [],
   "source": [
    "import numpy as np\n",
    "a=np.stack([nist[42].peaks.mz,nist[42].peaks.intensities],axis=1)\n",
    "a"
   ]
  },
  {
   "cell_type": "code",
   "execution_count": null,
   "id": "f8336ae3-fe9b-4a4a-99a9-25b79cbdc852",
   "metadata": {
    "tags": []
   },
   "outputs": [],
   "source": [
    "bb = np.empty(shape=(a.shape[0],),dtype=object)\n",
    "bb[:] = list(a)\n",
    "bb"
   ]
  },
  {
   "cell_type": "code",
   "execution_count": null,
   "id": "4712be15-8611-4150-98a6-ce54d20becae",
   "metadata": {
    "tags": []
   },
   "outputs": [],
   "source": [
    "np.array(list(a),dtype=object)"
   ]
  },
  {
   "cell_type": "code",
   "execution_count": null,
   "id": "2b676167-a9be-4d85-8430-43dc38ec5172",
   "metadata": {
    "tags": []
   },
   "outputs": [],
   "source": [
    "n=nist[42]\n",
    "np.array([ np.array(p,dtype=object) for p in zip(n.peaks.mz, n.peaks.intensities)])\n",
    "#[ np.array(p) for p in zip(n.peaks.mz, n.peaks.intensities)]"
   ]
  },
  {
   "cell_type": "code",
   "execution_count": null,
   "id": "5933122b-9591-4a4b-8aed-2bd667cf546a",
   "metadata": {
    "tags": []
   },
   "outputs": [],
   "source": [
    "valid_atoms = {1, 6, 7, 8, 9, 15, 16, 17}\n",
    "# FIXME: rassp/msutil/shared.h\n",
    "# not acceptable, narrows down the model too much, we need Br, Si at least\n",
    "\n",
    "# requires isotopic data in rassp/msutil/floatmasseval_per_elt_peaks.h\n",
    "\n",
    "# dtto MAX_N == 48\n",
    "\n",
    "def mkdf(nist2):\n",
    "    mols = [ ]\n",
    "    spects = []\n",
    "    smiles = []\n",
    "    for i,n in enumerate(nist2):\n",
    "        if n.metadata.get('smiles') is None:\n",
    "            print(i,'no smiles')\n",
    "            continue\n",
    "        mol = Chem.MolFromSmiles(n.metadata['smiles'])\n",
    "        if mol is None: \n",
    "            print(i,n.metadata['smiles'][:100],'... cant parse')\n",
    "            continue \n",
    "        mol = Chem.AddHs(mol)\n",
    "        if mol is None: \n",
    "            print(i,n.metadata['smiles'],'... cant add Hs')\n",
    "            continue \n",
    "            \n",
    "        if len(mol.GetAtoms()) > 48:\n",
    "            print(i,n.metadata['smiles'],'... too many atoms')\n",
    "            continue\n",
    "        \n",
    "        atoms = { a.GetAtomicNum() for a in mol.GetAtoms() }\n",
    "        if not atoms < valid_atoms:\n",
    "            print(i,n.metadata['smiles'],atoms,'... invalid atom')\n",
    "            continue\n",
    "        \n",
    "        mols.append(mol.ToBinary())\n",
    "        a = np.stack([n.peaks.mz, n.peaks.intensities], axis=1)\n",
    "        b = np.empty(shape=(a.shape[0],),dtype=object)\n",
    "        b[:] = list(a)\n",
    "        spects.append(b)\n",
    "        smiles.append(n.metadata['smiles'])\n",
    "\n",
    "    df = pd.DataFrame.from_dict({ 'rdmol' : mols, 'spect' : spects, 'smiles' : smiles })\n",
    "    return df"
   ]
  },
  {
   "cell_type": "code",
   "execution_count": null,
   "id": "47e9f509-a71f-4697-bdc6-b7159fb4f55e",
   "metadata": {
    "tags": []
   },
   "outputs": [],
   "source": [
    "len(m.GetAtoms())"
   ]
  },
  {
   "cell_type": "code",
   "execution_count": null,
   "id": "267fa070-3050-45e7-8a39-1a1b9a45e417",
   "metadata": {
    "tags": []
   },
   "outputs": [],
   "source": [
    "%%capture\n",
    "trd = mkdf(nist)"
   ]
  },
  {
   "cell_type": "code",
   "execution_count": null,
   "id": "4d02d469-97dc-4cac-a90d-681876148e31",
   "metadata": {
    "tags": []
   },
   "outputs": [],
   "source": [
    "trd"
   ]
  },
  {
   "cell_type": "code",
   "execution_count": null,
   "id": "d19b389f-f87f-4f91-b35b-729fdfa4c648",
   "metadata": {
    "tags": []
   },
   "outputs": [],
   "source": [
    "test_mask = np.random.choice([True, False], p=[.2,.8], size=len(trd))"
   ]
  },
  {
   "cell_type": "code",
   "execution_count": null,
   "id": "34764a10-8799-46bb-ae3f-0e79fc6a72db",
   "metadata": {
    "tags": []
   },
   "outputs": [],
   "source": [
    "trd[test_mask == False].to_parquet('train.pq')"
   ]
  },
  {
   "cell_type": "code",
   "execution_count": null,
   "id": "8d29b970-4dbf-4584-871e-43b8b322b3c3",
   "metadata": {
    "tags": []
   },
   "outputs": [],
   "source": [
    "td = pd.read_parquet('train.pq')                    "
   ]
  },
  {
   "cell_type": "code",
   "execution_count": null,
   "id": "f62ee9f4-b186-47c9-99f2-3a4389aec70f",
   "metadata": {
    "tags": []
   },
   "outputs": [],
   "source": [
    "td.iloc[0].spect"
   ]
  },
  {
   "cell_type": "code",
   "execution_count": null,
   "id": "de344886-900a-4203-9105-759476ac0c5e",
   "metadata": {
    "tags": []
   },
   "outputs": [],
   "source": [
    "%%capture\n",
    "tstd = mkdf(nist[1:1000:2])"
   ]
  },
  {
   "cell_type": "code",
   "execution_count": null,
   "id": "212a3d26-da5b-46e1-a41d-1936f5d19cf9",
   "metadata": {
    "tags": []
   },
   "outputs": [],
   "source": [
    "#tstd.to_parquet('test.pq')\n",
    "trd[test_mask].to_parquet('test.pq')"
   ]
  },
  {
   "cell_type": "code",
   "execution_count": null,
   "id": "ef603beb-50f2-47d2-8161-f791c87d5704",
   "metadata": {
    "tags": []
   },
   "outputs": [],
   "source": [
    "tstd"
   ]
  },
  {
   "cell_type": "code",
   "execution_count": 4,
   "id": "40419726-6c5e-4a4a-8e92-b40e01740cd5",
   "metadata": {},
   "outputs": [],
   "source": [
    "sys.path.append('./rassp-public/rassp')\n",
    "from forward_train import train"
   ]
  },
  {
   "cell_type": "code",
   "execution_count": 5,
   "id": "83b3961b-e7e2-4b94-bdae-06b643a14afe",
   "metadata": {
    "tags": []
   },
   "outputs": [],
   "source": [
    "import yaml\n",
    "with open('rassp-public/rassp/expconfig/demo.yaml') as cf:\n",
    "    exp_config = yaml.load(cf,Loader=yaml.FullLoader)"
   ]
  },
  {
   "cell_type": "code",
   "execution_count": 6,
   "id": "961123f2-3a8d-4319-b886-58af93f96afc",
   "metadata": {
    "tags": []
   },
   "outputs": [],
   "source": [
    "exp_config['cluster_config']['data_dir'] = '.'\n",
    "exp_config['DATALOADER_NUM_WORKERS'] = 8\n",
    "exp_config['max_epochs'] = 200\n",
    "exp_config['epoch_size'] = 4096\n",
    "exp_config['batch_size'] = 4\n",
    "exp_config['automatic_mixed_precision'] = False # broken\n",
    "exp_config['featurize_config']['explicit_formulae_config']['max_formulae'] = 27000 # XXX\n",
    "exp_config['exp_data']['data'][0]['db_filename'] = 'train.pq'\n",
    "exp_config['exp_data']['data'][1]['db_filename'] = 'test.pq'\n",
    "\n",
    "with open('exp.yml','w') as y:\n",
    "    yaml.dump(exp_config,y)"
   ]
  },
  {
   "cell_type": "code",
   "execution_count": null,
   "id": "3627f9b5-1e47-47e3-ba03-7617f56f77eb",
   "metadata": {},
   "outputs": [],
   "source": []
  },
  {
   "cell_type": "code",
   "execution_count": null,
   "id": "8bef65dd-4c4b-41dc-97a7-3026777a10bc",
   "metadata": {
    "tags": []
   },
   "outputs": [
    {
     "name": "stdout",
     "output_type": "stream",
     "text": [
      "using checkpoint_dir: checkpoints\n",
      "we are training with 154779\n",
      "we are testing with 38662\n",
      "it took 3.0s to load the data\n",
      "{'init_noise': 0.01, 'init_bias': 0.0, 'resnet': True, 'int_d': 512, 'layer_n': 16, 'agg_func': 'goodmax', 'gml_class': 'GraphMatLayersNormAfterRes', 'gml_config': {'layer_class': 'GraphMatLayerFast3', 'layer_config': {'dropout': 0.0, 'nonlin': 'leakyrelu', 'swap_init': False}}, 'g_feature_n': 45, 'inner_norm': 'layer', 'input_norm': 'batch', 'spect_out_class': 'MolAttentionGRU', 'spect_out_config': {'formula_oh_sizes': [50, 46, 30, 30, 30, 30, 30, 30], 'formula_oh_accum': True, 'internal_d': 128, 'embedding_key_size': 8, 'gru_layer_n': 3, 'linear_layer_n': 9}, 'GS': 4, 'spect_bin': <rassp.msutil.binutils.SpectrumBins object at 0x7f5b873d6f70>}\n",
      "GCN module had 15869952 nparams\n",
      "Spectral module had 3862321 nparams\n",
      "Net overall had 19732363 nparams\n",
      "NOT LOADING FROM ANY CHECKPOINT\n",
      "NOT USING CUSTOM COLLATE_FN\n",
      "gml.gl.0.weight                                     (4, 512, 45) \n",
      "gml.gl.0.bias                                       (4, 1, 1, 51 \n",
      "gml.gl.1.weight                                     (4, 512, 512 \n",
      "gml.gl.1.bias                                       (4, 1, 1, 51 \n",
      "gml.gl.2.weight                                     (4, 512, 512 \n",
      "gml.gl.2.bias                                       (4, 1, 1, 51 \n",
      "gml.gl.3.weight                                     (4, 512, 512 \n",
      "gml.gl.3.bias                                       (4, 1, 1, 51 \n",
      "gml.gl.4.weight                                     (4, 512, 512 \n",
      "gml.gl.4.bias                                       (4, 1, 1, 51 \n",
      "gml.gl.5.weight                                     (4, 512, 512 \n",
      "gml.gl.5.bias                                       (4, 1, 1, 51 \n",
      "gml.gl.6.weight                                     (4, 512, 512 \n",
      "gml.gl.6.bias                                       (4, 1, 1, 51 \n",
      "gml.gl.7.weight                                     (4, 512, 512 \n",
      "gml.gl.7.bias                                       (4, 1, 1, 51 \n",
      "gml.gl.8.weight                                     (4, 512, 512 \n",
      "gml.gl.8.bias                                       (4, 1, 1, 51 \n",
      "gml.gl.9.weight                                     (4, 512, 512 \n",
      "gml.gl.9.bias                                       (4, 1, 1, 51 \n",
      "gml.gl.10.weight                                    (4, 512, 512 \n",
      "gml.gl.10.bias                                      (4, 1, 1, 51 \n",
      "gml.gl.11.weight                                    (4, 512, 512 \n",
      "gml.gl.11.bias                                      (4, 1, 1, 51 \n",
      "gml.gl.12.weight                                    (4, 512, 512 \n",
      "gml.gl.12.bias                                      (4, 1, 1, 51 \n",
      "gml.gl.13.weight                                    (4, 512, 512 \n",
      "gml.gl.13.bias                                      (4, 1, 1, 51 \n",
      "gml.gl.14.weight                                    (4, 512, 512 \n",
      "gml.gl.14.bias                                      (4, 1, 1, 51 \n",
      "gml.gl.15.weight                                    (4, 512, 512 \n",
      "gml.gl.15.bias                                      (4, 1, 1, 51 \n",
      "gml.bn.0.bn.weight                                  (512,)       \n",
      "gml.bn.0.bn.bias                                    (512,)       \n",
      "gml.bn.1.bn.weight                                  (512,)       \n",
      "gml.bn.1.bn.bias                                    (512,)       \n",
      "gml.bn.2.bn.weight                                  (512,)       \n",
      "gml.bn.2.bn.bias                                    (512,)       \n",
      "gml.bn.3.bn.weight                                  (512,)       \n",
      "gml.bn.3.bn.bias                                    (512,)       \n",
      "gml.bn.4.bn.weight                                  (512,)       \n",
      "gml.bn.4.bn.bias                                    (512,)       \n",
      "gml.bn.5.bn.weight                                  (512,)       \n",
      "gml.bn.5.bn.bias                                    (512,)       \n",
      "gml.bn.6.bn.weight                                  (512,)       \n",
      "gml.bn.6.bn.bias                                    (512,)       \n",
      "gml.bn.7.bn.weight                                  (512,)       \n",
      "gml.bn.7.bn.bias                                    (512,)       \n",
      "gml.bn.8.bn.weight                                  (512,)       \n",
      "gml.bn.8.bn.bias                                    (512,)       \n",
      "gml.bn.9.bn.weight                                  (512,)       \n",
      "gml.bn.9.bn.bias                                    (512,)       \n",
      "gml.bn.10.bn.weight                                 (512,)       \n",
      "gml.bn.10.bn.bias                                   (512,)       \n",
      "gml.bn.11.bn.weight                                 (512,)       \n",
      "gml.bn.11.bn.bias                                   (512,)       \n",
      "gml.bn.12.bn.weight                                 (512,)       \n",
      "gml.bn.12.bn.bias                                   (512,)       \n",
      "gml.bn.13.bn.weight                                 (512,)       \n",
      "gml.bn.13.bn.bias                                   (512,)       \n",
      "gml.bn.14.bn.weight                                 (512,)       \n",
      "gml.bn.14.bn.bias                                   (512,)       \n",
      "gml.bn.15.bn.weight                                 (512,)       \n",
      "gml.bn.15.bn.bias                                   (512,)       \n",
      "input_norm.bn.weight                                (45,)        \n",
      "input_norm.bn.bias                                  (45,)        \n",
      "spect_out.norm.weight                               (512,)       \n",
      "spect_out.norm.bias                                 (512,)       \n",
      "spect_out.embed_g_feat.weight                       (8, 512)     \n",
      "spect_out.embed_g_feat.bias                         (8,)         \n",
      "spect_out.embed_formulae_feat.weight                (8, 276)     \n",
      "spect_out.embed_formulae_feat.bias                  (8,)         \n",
      "spect_out.norm2.weight                              (128,)       \n",
      "spect_out.norm2.bias                                (128,)       \n",
      "spect_out.combine_layers.0.weight_ih                (1536, 276)  \n",
      "spect_out.combine_layers.0.weight_hh                (1536, 512)  \n",
      "spect_out.combine_layers.0.bias_ih                  (1536,)      \n",
      "spect_out.combine_layers.0.bias_hh                  (1536,)      \n",
      "spect_out.combine_layers.1.weight_ih                (1536, 276)  \n",
      "spect_out.combine_layers.1.weight_hh                (1536, 512)  \n",
      "spect_out.combine_layers.1.bias_ih                  (1536,)      \n",
      "spect_out.combine_layers.1.bias_hh                  (1536,)      \n",
      "spect_out.combine_layers.2.weight_ih                (1536, 276)  \n",
      "spect_out.combine_layers.2.weight_hh                (1536, 512)  \n",
      "spect_out.combine_layers.2.bias_ih                  (1536,)      \n",
      "spect_out.combine_layers.2.bias_hh                  (1536,)      \n",
      "spect_out.f_combine_l1.weight                       (128, 512)   \n",
      "spect_out.f_combine_l1.bias                         (128,)       \n",
      "spect_out.f_combine_l2.0.0.weight                   (128, 128)   \n",
      "spect_out.f_combine_l2.0.0.bias                     (128,)       \n",
      "spect_out.f_combine_l2.1.0.weight                   (128, 128)   \n",
      "spect_out.f_combine_l2.1.0.bias                     (128,)       \n",
      "spect_out.f_combine_l2.2.0.weight                   (128, 128)   \n",
      "spect_out.f_combine_l2.2.0.bias                     (128,)       \n",
      "spect_out.f_combine_l2.3.0.weight                   (128, 128)   \n",
      "spect_out.f_combine_l2.3.0.bias                     (128,)       \n",
      "spect_out.f_combine_l2.4.0.weight                   (128, 128)   \n",
      "spect_out.f_combine_l2.4.0.bias                     (128,)       \n",
      "spect_out.f_combine_l2.5.0.weight                   (128, 128)   \n",
      "spect_out.f_combine_l2.5.0.bias                     (128,)       \n",
      "spect_out.f_combine_l2.6.0.weight                   (128, 128)   \n",
      "spect_out.f_combine_l2.6.0.bias                     (128,)       \n",
      "spect_out.f_combine_l2.7.0.weight                   (128, 128)   \n",
      "spect_out.f_combine_l2.7.0.bias                     (128,)       \n",
      "spect_out.f_combine_l2.8.0.weight                   (128, 128)   \n",
      "spect_out.f_combine_l2.8.0.bias                     (128,)       \n",
      "spect_out.f_combine_score.weight                    (1, 128)     \n",
      "spect_out.f_combine_score.bias                      (1,)         \n",
      "checkpoint: checkpoints/test.78130231.{epoch_i:08d}\n"
     ]
    },
    {
     "name": "stderr",
     "output_type": "stream",
     "text": [
      "/opt/conda/lib/python3.8/site-packages/torch/nn/_reduction.py:42: UserWarning: size_average and reduce args will be deprecated, please use reduction='mean' instead.\n",
      "  warnings.warn(warning.format(ret))\n",
      "2023-03-06 19:17:17.720723: I tensorflow/core/platform/cpu_feature_guard.cc:193] This TensorFlow binary is optimized with oneAPI Deep Neural Network Library (oneDNN) to use the following CPU instructions in performance-critical operations:  AVX2 AVX512F AVX512_VNNI AVX512_BF16 FMA\n",
      "To enable them in other operations, rebuild TensorFlow with the appropriate compiler flags.\n",
      "2023-03-06 19:17:17.790955: I tensorflow/core/util/port.cc:104] oneDNN custom operations are on. You may see slightly different numerical results due to floating-point round-off errors from different computation orders. To turn them off, set the environment variable `TF_ENABLE_ONEDNN_OPTS=0`.\n",
      "2023-03-06 19:17:17.792955: W tensorflow/compiler/xla/stream_executor/platform/default/dso_loader.cc:64] Could not load dynamic library 'libcudart.so.11.0'; dlerror: libcudart.so.11.0: cannot open shared object file: No such file or directory; LD_LIBRARY_PATH: /opt/ompi/lib:/opt/rocm/lib:/usr/local/lib:\n",
      "2023-03-06 19:17:17.792964: I tensorflow/compiler/xla/stream_executor/cuda/cudart_stub.cc:29] Ignore above cudart dlerror if you do not have a GPU set up on your machine.\n",
      "2023-03-06 19:17:18.181587: W tensorflow/compiler/xla/stream_executor/platform/default/dso_loader.cc:64] Could not load dynamic library 'libnvinfer.so.7'; dlerror: libnvinfer.so.7: cannot open shared object file: No such file or directory; LD_LIBRARY_PATH: /opt/ompi/lib:/opt/rocm/lib:/usr/local/lib:\n",
      "2023-03-06 19:17:18.181638: W tensorflow/compiler/xla/stream_executor/platform/default/dso_loader.cc:64] Could not load dynamic library 'libnvinfer_plugin.so.7'; dlerror: libnvinfer_plugin.so.7: cannot open shared object file: No such file or directory; LD_LIBRARY_PATH: /opt/ompi/lib:/opt/rocm/lib:/usr/local/lib:\n",
      "2023-03-06 19:17:18.181642: W tensorflow/compiler/tf2tensorrt/utils/py_utils.cc:38] TF-TRT Warning: Cannot dlopen some TensorRT libraries. If you would like to use Nvidia GPU with TensorRT, please make sure the missing libraries mentioned above are installed properly.\n"
     ]
    },
    {
     "name": "stdout",
     "output_type": "stream",
     "text": [
      "MODEL_NAME= test.78130231\n"
     ]
    },
    {
     "name": "stderr",
     "output_type": "stream",
     "text": [
      "  0%|                                                                                    | 0/200 [00:00<?, ?it/s]\n",
      "train:   0%|                                                                            | 0/1024 [00:00<?, ?it/s]\u001b[A\n",
      "train:   0%|                                                                    | 1/1024 [00:02<45:03,  2.64s/it]\u001b[A\n",
      "train:   0%|▏                                                                   | 2/1024 [00:03<29:23,  1.73s/it]\u001b[A\n",
      "train:   0%|▏                                                                   | 3/1024 [00:04<24:42,  1.45s/it]\u001b[A\n",
      "train:   0%|▎                                                                   | 4/1024 [00:05<22:15,  1.31s/it]\u001b[A\n",
      "train:   0%|▎                                                                   | 5/1024 [00:07<21:02,  1.24s/it]\u001b[A\n",
      "train:   1%|▍                                                                   | 6/1024 [00:08<20:03,  1.18s/it]\u001b[A\n",
      "train:   1%|▍                                                                   | 7/1024 [00:09<19:34,  1.15s/it]\u001b[A\n",
      "train:   1%|▌                                                                   | 8/1024 [00:10<19:11,  1.13s/it]\u001b[A\n",
      "train:   1%|▌                                                                   | 9/1024 [00:11<19:02,  1.13s/it]\u001b[A\n",
      "train:   1%|▋                                                                  | 10/1024 [00:12<18:51,  1.12s/it]\u001b[A\n",
      "train:   1%|▋                                                                  | 11/1024 [00:13<18:47,  1.11s/it]\u001b[A\n",
      "train:   1%|▊                                                                  | 12/1024 [00:14<18:39,  1.11s/it]\u001b[A\n",
      "train:   1%|▊                                                                  | 13/1024 [00:16<20:08,  1.19s/it]\u001b[A\n",
      "train:   1%|▉                                                                  | 14/1024 [00:17<20:45,  1.23s/it]\u001b[A\n",
      "train:   1%|▉                                                                  | 15/1024 [00:18<19:50,  1.18s/it]\u001b[A\n",
      "train:   2%|█                                                                  | 16/1024 [00:19<20:15,  1.21s/it]\u001b[A\n",
      "train:   2%|█                                                                  | 17/1024 [00:21<20:45,  1.24s/it]\u001b[A\n",
      "train:   2%|█▏                                                                 | 18/1024 [00:22<21:09,  1.26s/it]\u001b[A\n",
      "train:   2%|█▏                                                                 | 19/1024 [00:23<20:15,  1.21s/it]\u001b[A\n",
      "train:   2%|█▎                                                                 | 20/1024 [00:24<20:25,  1.22s/it]\u001b[A\n",
      "train:   2%|█▎                                                                 | 21/1024 [00:26<20:56,  1.25s/it]\u001b[A\n",
      "train:   2%|█▍                                                                 | 22/1024 [00:27<21:19,  1.28s/it]\u001b[A\n",
      "train:   2%|█▌                                                                 | 23/1024 [00:28<21:19,  1.28s/it]\u001b[A\n",
      "train:   2%|█▌                                                                 | 24/1024 [00:29<20:17,  1.22s/it]\u001b[A\n",
      "train:   2%|█▋                                                                 | 25/1024 [00:30<19:40,  1.18s/it]\u001b[A\n",
      "train:   3%|█▋                                                                 | 26/1024 [00:31<19:02,  1.14s/it]\u001b[A\n",
      "train:   3%|█▊                                                                 | 27/1024 [00:32<18:47,  1.13s/it]\u001b[A\n",
      "train:   3%|█▊                                                                 | 28/1024 [00:34<19:33,  1.18s/it]\u001b[A\n",
      "train:   3%|█▉                                                                 | 29/1024 [00:35<20:11,  1.22s/it]\u001b[A\n",
      "train:   3%|█▉                                                                 | 30/1024 [00:36<20:47,  1.26s/it]\u001b[A\n",
      "train:   3%|██                                                                 | 31/1024 [00:38<20:00,  1.21s/it]\u001b[A\n",
      "train:   3%|██                                                                 | 32/1024 [00:39<20:30,  1.24s/it]\u001b[A\n",
      "train:   3%|██▏                                                                | 33/1024 [00:40<20:55,  1.27s/it]\u001b[A\n",
      "train:   3%|██▏                                                                | 34/1024 [00:41<19:52,  1.20s/it]\u001b[A\n",
      "train:   3%|██▎                                                                | 35/1024 [00:43<20:16,  1.23s/it]\u001b[A\n",
      "train:   4%|██▎                                                                | 36/1024 [00:44<19:27,  1.18s/it]\u001b[A"
     ]
    }
   ],
   "source": [
    "train('test',exp_config,exp_config_filename='exp.yml',USE_CUDA=True)"
   ]
  },
  {
   "cell_type": "code",
   "execution_count": null,
   "id": "ce3fe22c-1253-42b5-87c7-f5ca9f9c025c",
   "metadata": {},
   "outputs": [],
   "source": [
    "trd[trd.smiles.str.contains('C(Cl)Br',regex=False)]\n",
    "#trd[trd.smiles.str.contains('Br',regex=False)]"
   ]
  },
  {
   "cell_type": "code",
   "execution_count": null,
   "id": "1494c6f1-7058-496a-b15b-5f885b0a3b7b",
   "metadata": {
    "tags": []
   },
   "outputs": [],
   "source": [
    "m=Chem.Mol(trd.iloc[7208].rdmol)\n",
    "m"
   ]
  },
  {
   "cell_type": "code",
   "execution_count": null,
   "id": "9828853b-eda1-4b0a-bd26-cbc196042b64",
   "metadata": {
    "tags": []
   },
   "outputs": [],
   "source": [
    "not {a.GetAtomicNum() for a in m.GetAtoms()} < {1,2,6,7,8,9,15,16,17}"
   ]
  },
  {
   "cell_type": "code",
   "execution_count": null,
   "id": "e792ca5a-c0fc-4446-82be-1f81bcca6314",
   "metadata": {},
   "outputs": [],
   "source": []
  }
 ],
 "metadata": {
  "kernelspec": {
   "display_name": "Python 3 (ipykernel)",
   "language": "python",
   "name": "python3"
  },
  "language_info": {
   "codemirror_mode": {
    "name": "ipython",
    "version": 3
   },
   "file_extension": ".py",
   "mimetype": "text/x-python",
   "name": "python",
   "nbconvert_exporter": "python",
   "pygments_lexer": "ipython3",
   "version": "3.8.13"
  }
 },
 "nbformat": 4,
 "nbformat_minor": 5
}
