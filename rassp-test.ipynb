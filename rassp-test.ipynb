{
 "cells": [
  {
   "cell_type": "code",
   "execution_count": 1,
   "id": "bac6a059-bec6-4824-a7fa-66976b35abf0",
   "metadata": {
    "tags": []
   },
   "outputs": [],
   "source": [
    "import pandas as pd"
   ]
  },
  {
   "cell_type": "code",
   "execution_count": 2,
   "id": "a6d8f738-67ef-4d87-977c-cc5343d8b7d8",
   "metadata": {
    "tags": []
   },
   "outputs": [],
   "source": [
    "s = pd.read_parquet('rassp-public/sample_data/smallmols_cfm_pred_public_sample.parquet')"
   ]
  },
  {
   "cell_type": "code",
   "execution_count": 7,
   "id": "5dea2721-d7a3-40c0-8753-cf048e5d7104",
   "metadata": {
    "tags": []
   },
   "outputs": [
    {
     "data": {
      "text/plain": [
       "array([array([15.02292522,  0.91388646]),\n",
       "       array([25.00727602,  0.96256718]),\n",
       "       array([27.02292522,  3.49654964]),\n",
       "       array([29.03857442,  2.88757419]),\n",
       "       array([39.02292522,  0.92641582]),\n",
       "       array([41.03857442,  3.63968496]),\n",
       "       array([42.04639902,  2.29737418]),\n",
       "       array([43.05422362,  8.79653005]),\n",
       "       array([43.97152142,  2.10668418]),\n",
       "       array([44.06204822,  1.32544061]),\n",
       "       array([44.97934602,  2.70170413]),\n",
       "       array([45.06987282,  1.27590546]),\n",
       "       array([55.05422362,  2.72504282]),\n",
       "       array([58.98241922,  4.22013733]),\n",
       "       array([59.99024382,  2.07733632]),\n",
       "       array([69.06987282,  2.20343483]),\n",
       "       array([70.07769742,  1.42581885]),\n",
       "       array([71.08552202,  9.44191393]),\n",
       "       array([84.99806842,  1.50804528]),\n",
       "       array([86.00589302, 18.14332272]),\n",
       "       array([87.01371762,  1.56864662]),\n",
       "       array([88.02154222,  1.06527212]),\n",
       "       array([114.0371914 ,   2.45328396]),\n",
       "       array([129.0606652 ,   2.26316959])], dtype=object)"
      ]
     },
     "execution_count": 7,
     "metadata": {},
     "output_type": "execute_result"
    }
   ],
   "source": [
    "s.iloc[0].spect"
   ]
  },
  {
   "cell_type": "code",
   "execution_count": 8,
   "id": "d9cb4e83-5162-45ce-aab0-00d6646bb03d",
   "metadata": {
    "tags": []
   },
   "outputs": [
    {
     "data": {
      "text/plain": [
       "array([array([15.        ,  0.91388646]),\n",
       "       array([25.        ,  0.96256718]),\n",
       "       array([27.        ,  3.49654964]),\n",
       "       array([29.        ,  2.88757419]),\n",
       "       array([39.        ,  0.92641582]),\n",
       "       array([41.        ,  3.63968496]),\n",
       "       array([42.        ,  2.29737418]),\n",
       "       array([43.        ,  8.79653005]),\n",
       "       array([44.        ,  2.10668418]),\n",
       "       array([44.        ,  1.32544061]),\n",
       "       array([45.        ,  2.70170413]),\n",
       "       array([45.        ,  1.27590546]),\n",
       "       array([55.        ,  2.72504282]),\n",
       "       array([59.        ,  4.22013733]),\n",
       "       array([60.        ,  2.07733632]),\n",
       "       array([69.        ,  2.20343483]),\n",
       "       array([70.        ,  1.42581885]),\n",
       "       array([71.        ,  9.44191393]),\n",
       "       array([85.        ,  1.50804528]),\n",
       "       array([86.        , 18.14332272]),\n",
       "       array([87.        ,  1.56864662]),\n",
       "       array([88.        ,  1.06527212]),\n",
       "       array([114.        ,   2.45328396]),\n",
       "       array([129.        ,   2.26316959])], dtype=object)"
      ]
     },
     "execution_count": 8,
     "metadata": {},
     "output_type": "execute_result"
    }
   ],
   "source": [
    "s.iloc[0].spect_sparse"
   ]
  },
  {
   "cell_type": "code",
   "execution_count": 9,
   "id": "f8cf215f-ee7e-4096-a464-56b3b677ce07",
   "metadata": {
    "tags": []
   },
   "outputs": [
    {
     "data": {
      "text/plain": [
       "mol_id                                              NIST2014_10006\n",
       "inchi                InChI=1S/C6H11NS/c1-5(2)6(3)7-4-8/h5-6H,1-3H3\n",
       "smiles                                              CC(C)C(C)N=C=S\n",
       "rdmol            b'\\xef\\xbe\\xad\\xde\\x00\\x00\\x00\\x00\\x0c\\x00\\x00...\n",
       "cv_id                                                            7\n",
       "morgan4_crc32                                           3981836209\n",
       "spect            [[15.02292522, 0.9138864566], [25.00727602, 0....\n",
       "spect_sparse     [[15.0, 0.9138864566], [25.0, 0.9625671785], [...\n",
       "inchi_key                              YAVRRVJBEIYPRH-UHFFFAOYSA-N\n",
       "Name: 0, dtype: object"
      ]
     },
     "execution_count": 9,
     "metadata": {},
     "output_type": "execute_result"
    }
   ],
   "source": [
    "s.iloc[0]"
   ]
  },
  {
   "cell_type": "code",
   "execution_count": null,
   "id": "7608c8aa-81f6-4531-997c-726fe36c5311",
   "metadata": {},
   "outputs": [],
   "source": []
  }
 ],
 "metadata": {
  "kernelspec": {
   "display_name": "Python 3 (ipykernel)",
   "language": "python",
   "name": "python3"
  },
  "language_info": {
   "codemirror_mode": {
    "name": "ipython",
    "version": 3
   },
   "file_extension": ".py",
   "mimetype": "text/x-python",
   "name": "python",
   "nbconvert_exporter": "python",
   "pygments_lexer": "ipython3",
   "version": "3.8.13"
  }
 },
 "nbformat": 4,
 "nbformat_minor": 5
}
