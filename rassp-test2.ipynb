{
 "cells": [
  {
   "cell_type": "code",
   "execution_count": 52,
   "id": "c2419cdf-93f7-4c7a-af40-badfcd6e42bf",
   "metadata": {
    "tags": []
   },
   "outputs": [],
   "source": [
    "threads=8\n",
    "import os\n",
    "os.environ['OMP_NUM_THREADS']=str(threads)\n",
    "import torch"
   ]
  },
  {
   "cell_type": "code",
   "execution_count": 53,
   "id": "445b483d-9654-48d7-a3c9-e69fe2f0a36f",
   "metadata": {
    "tags": []
   },
   "outputs": [],
   "source": [
    "import pandas as pd\n",
    "from rdkit import Chem\n",
    "import numpy as np"
   ]
  },
  {
   "cell_type": "code",
   "execution_count": 54,
   "id": "1e52952a-d223-4742-9f1e-c638181d33cc",
   "metadata": {
    "tags": []
   },
   "outputs": [],
   "source": [
    "nist_path='/home/jovyan/train.msp'"
   ]
  },
  {
   "cell_type": "code",
   "execution_count": null,
   "id": "6b4c0b5c-1b2e-45d2-aa65-a43470b312e3",
   "metadata": {
    "tags": []
   },
   "outputs": [],
   "source": [
    "from matchms.importing import load_from_msp\n",
    "ni = load_from_msp(nist_path, metadata_harmonization=False)\n",
    "nist = []\n",
    "for n in ni:\n",
    "    last=n.metadata['smiles']\n",
    "    nist.append(n)"
   ]
  },
  {
   "cell_type": "code",
   "execution_count": 55,
   "id": "b85fbd47-2fcb-4851-8b66-9f864a98d6b1",
   "metadata": {
    "tags": []
   },
   "outputs": [
    {
     "data": {
      "text/plain": [
       "261272"
      ]
     },
     "execution_count": 55,
     "metadata": {},
     "output_type": "execute_result"
    }
   ],
   "source": [
    "from matchms.importing import load_from_msp\n",
    "nist = list(load_from_msp(nist_path, metadata_harmonization=False))\n",
    "len(nist)"
   ]
  },
  {
   "cell_type": "code",
   "execution_count": 56,
   "id": "d6f8955f-06b6-418e-b922-b857fa946bbd",
   "metadata": {
    "tags": []
   },
   "outputs": [
    {
     "data": {
      "text/plain": [
       "29040"
      ]
     },
     "execution_count": 56,
     "metadata": {},
     "output_type": "execute_result"
    }
   ],
   "source": [
    "nist_test = list(load_from_msp('../test.msp', metadata_harmonization=False))\n",
    "len(nist_test)"
   ]
  },
  {
   "cell_type": "code",
   "execution_count": 63,
   "id": "b9f0f236-f1e7-472b-af3f-52eb142e115b",
   "metadata": {
    "tags": []
   },
   "outputs": [
    {
     "data": {
      "text/plain": [
       "array([3.000e+00, 2.298e+01, 3.297e+01, 4.496e+01, 7.194e+01, 6.894e+01,\n",
       "       7.990e+00, 1.399e+01, 2.198e+01, 9.990e+00, 8.990e+00, 2.198e+01,\n",
       "       4.596e+01, 9.791e+01, 1.199e+01, 3.000e+00, 1.199e+01, 1.099e+01,\n",
       "       1.399e+01, 2.000e+00, 2.000e+00, 5.000e+00, 9.990e+00, 3.197e+01,\n",
       "       5.990e+00, 9.990e+00, 2.000e+00, 2.000e+00, 8.990e+00, 2.198e+01,\n",
       "       4.296e+01, 1.099e+01, 4.000e+00, 8.990e+00, 2.897e+01, 2.098e+01,\n",
       "       1.099e+01, 3.000e+00, 9.990e+02, 4.896e+01, 1.798e+01, 1.499e+01,\n",
       "       1.499e+01, 8.990e+00, 4.000e+00, 1.998e+01, 4.000e+00, 6.990e+00,\n",
       "       1.698e+01, 2.698e+01, 1.199e+01, 3.000e+00, 1.399e+01, 1.099e+01,\n",
       "       2.198e+01, 1.399e+01, 6.990e+00, 2.000e+00, 2.000e+00, 7.990e+00,\n",
       "       9.990e+00, 1.399e+01, 2.198e+01, 4.000e+00, 1.099e+01, 1.399e+01,\n",
       "       7.990e+00, 6.990e+00, 5.000e-01, 2.000e+00, 7.990e+00, 8.990e+00,\n",
       "       1.499e+01, 5.000e+00, 3.000e+00, 5.000e-01, 4.000e+00, 4.000e+00,\n",
       "       6.990e+00, 5.990e+00, 1.299e+01, 2.000e+00, 3.097e+01, 4.000e+00,\n",
       "       6.694e+01, 8.990e+00])"
      ]
     },
     "execution_count": 63,
     "metadata": {},
     "output_type": "execute_result"
    }
   ],
   "source": [
    "nist[42424].peaks.intensities"
   ]
  },
  {
   "cell_type": "code",
   "execution_count": 9,
   "id": "9dc33588-7ec6-4fee-9598-2a2bfbb522b2",
   "metadata": {
    "tags": []
   },
   "outputs": [],
   "source": [
    "nist_path='../train0.msp'\n",
    "from matchms.importing.load_from_msp import parse_msp_file\n",
    "nist = list(parse_msp_file(nist_path))"
   ]
  },
  {
   "cell_type": "code",
   "execution_count": 10,
   "id": "cc60081c-1f55-4074-a494-c36b515934d5",
   "metadata": {
    "tags": []
   },
   "outputs": [
    {
     "data": {
      "text/plain": [
       "347784"
      ]
     },
     "execution_count": 10,
     "metadata": {},
     "output_type": "execute_result"
    }
   ],
   "source": [
    "len(nist)"
   ]
  },
  {
   "cell_type": "code",
   "execution_count": 17,
   "id": "3b6720b1-9a93-4e98-81ba-3706f903aba9",
   "metadata": {
    "tags": []
   },
   "outputs": [
    {
     "data": {
      "text/plain": [
       "44168"
      ]
     },
     "execution_count": 17,
     "metadata": {},
     "output_type": "execute_result"
    }
   ],
   "source": [
    "nist_path='../train1000.msp'\n",
    "nist1000 = list(parse_msp_file(nist_path))\n",
    "len(nist1000)"
   ]
  },
  {
   "cell_type": "code",
   "execution_count": 26,
   "id": "43ef0196-e285-49dc-9399-b18a1f3a1de1",
   "metadata": {
    "tags": []
   },
   "outputs": [
    {
     "ename": "ValueError",
     "evalue": "line: 4907532",
     "output_type": "error",
     "traceback": [
      "\u001b[0;31m---------------------------------------------------------------------------\u001b[0m",
      "\u001b[0;31mKeyError\u001b[0m                                  Traceback (most recent call last)",
      "File \u001b[0;32m/opt/jovyan/lib/python3.8/site-packages/matchms/importing/load_from_msp.py:96\u001b[0m, in \u001b[0;36mparse_msp_file\u001b[0;34m(filename)\u001b[0m\n\u001b[1;32m     95\u001b[0m \u001b[38;5;28;01mtry\u001b[39;00m:\n\u001b[0;32m---> 96\u001b[0m     \u001b[38;5;28;01mif\u001b[39;00m \u001b[38;5;28mint\u001b[39m(\u001b[43mparams\u001b[49m\u001b[43m[\u001b[49m\u001b[38;5;124;43m'\u001b[39;49m\u001b[38;5;124;43mnum peaks\u001b[39;49m\u001b[38;5;124;43m'\u001b[39;49m\u001b[43m]\u001b[49m) \u001b[38;5;241m==\u001b[39m peakscount:\n\u001b[1;32m     97\u001b[0m         peakscount \u001b[38;5;241m=\u001b[39m \u001b[38;5;241m0\u001b[39m\n",
      "\u001b[0;31mKeyError\u001b[0m: 'num peaks'",
      "\nThe above exception was the direct cause of the following exception:\n",
      "\u001b[0;31mValueError\u001b[0m                                Traceback (most recent call last)",
      "Cell \u001b[0;32mIn[26], line 2\u001b[0m\n\u001b[1;32m      1\u001b[0m nist_path\u001b[38;5;241m=\u001b[39m\u001b[38;5;124m'\u001b[39m\u001b[38;5;124m../train1001.msp\u001b[39m\u001b[38;5;124m'\u001b[39m\n\u001b[0;32m----> 2\u001b[0m nist1001 \u001b[38;5;241m=\u001b[39m \u001b[38;5;28;43mlist\u001b[39;49m\u001b[43m(\u001b[49m\u001b[43mparse_msp_file\u001b[49m\u001b[43m(\u001b[49m\u001b[43mnist_path\u001b[49m\u001b[43m)\u001b[49m\u001b[43m)\u001b[49m\n\u001b[1;32m      3\u001b[0m \u001b[38;5;28mlen\u001b[39m(nist1001)\n",
      "File \u001b[0;32m/opt/jovyan/lib/python3.8/site-packages/matchms/importing/load_from_msp.py:111\u001b[0m, in \u001b[0;36mparse_msp_file\u001b[0;34m(filename)\u001b[0m\n\u001b[1;32m    108\u001b[0m             peak_comments \u001b[38;5;241m=\u001b[39m {}\n\u001b[1;32m    110\u001b[0m     \u001b[38;5;28;01mexcept\u001b[39;00m \u001b[38;5;167;01mKeyError\u001b[39;00m \u001b[38;5;28;01mas\u001b[39;00m e:\n\u001b[0;32m--> 111\u001b[0m          \u001b[38;5;28;01mraise\u001b[39;00m \u001b[38;5;167;01mValueError\u001b[39;00m(\u001b[38;5;124mf\u001b[39m\u001b[38;5;124m'\u001b[39m\u001b[38;5;124mline: \u001b[39m\u001b[38;5;132;01m{\u001b[39;00mlineno\u001b[38;5;132;01m}\u001b[39;00m\u001b[38;5;124m'\u001b[39m) \u001b[38;5;28;01mfrom\u001b[39;00m \u001b[38;5;21;01me\u001b[39;00m\n\u001b[1;32m    113\u001b[0m lineno \u001b[38;5;241m+\u001b[39m\u001b[38;5;241m=\u001b[39m \u001b[38;5;241m1\u001b[39m\n",
      "\u001b[0;31mValueError\u001b[0m: line: 4907532"
     ]
    }
   ],
   "source": [
    "nist_path='../train1001.msp'\n",
    "nist1001 = list(parse_msp_file(nist_path))\n",
    "len(nist1001)"
   ]
  },
  {
   "cell_type": "code",
   "execution_count": 16,
   "id": "653cf187-ae0b-46c9-9848-63a589a30b41",
   "metadata": {
    "tags": []
   },
   "outputs": [
    {
     "data": {
      "text/plain": [
       "89275"
      ]
     },
     "execution_count": 16,
     "metadata": {},
     "output_type": "execute_result"
    }
   ],
   "source": [
    "nist_path='../train101.msp'\n",
    "nist101 = list(parse_msp_file(nist_path))\n",
    "len(nist101)"
   ]
  },
  {
   "cell_type": "code",
   "execution_count": 14,
   "id": "b0815fbd-73d5-4adb-a3f9-0a8477b2c4e5",
   "metadata": {
    "tags": []
   },
   "outputs": [
    {
     "data": {
      "text/plain": [
       "168985"
      ]
     },
     "execution_count": 14,
     "metadata": {},
     "output_type": "execute_result"
    }
   ],
   "source": [
    "nist_path='../train11.msp'\n",
    "nist11 = list(parse_msp_file(nist_path))\n",
    "len(nist11)"
   ]
  },
  {
   "cell_type": "code",
   "execution_count": 27,
   "id": "7676aee3-f8af-4b4e-95ad-d37a6e440254",
   "metadata": {
    "tags": []
   },
   "outputs": [
    {
     "ename": "ValueError",
     "evalue": "line: 49201",
     "output_type": "error",
     "traceback": [
      "\u001b[0;31m---------------------------------------------------------------------------\u001b[0m",
      "\u001b[0;31mKeyError\u001b[0m                                  Traceback (most recent call last)",
      "File \u001b[0;32m/opt/jovyan/lib/python3.8/site-packages/matchms/importing/load_from_msp.py:96\u001b[0m, in \u001b[0;36mparse_msp_file\u001b[0;34m(filename)\u001b[0m\n\u001b[1;32m     95\u001b[0m \u001b[38;5;28;01mtry\u001b[39;00m:\n\u001b[0;32m---> 96\u001b[0m     \u001b[38;5;28;01mif\u001b[39;00m \u001b[38;5;28mint\u001b[39m(\u001b[43mparams\u001b[49m\u001b[43m[\u001b[49m\u001b[38;5;124;43m'\u001b[39;49m\u001b[38;5;124;43mnum peaks\u001b[39;49m\u001b[38;5;124;43m'\u001b[39;49m\u001b[43m]\u001b[49m) \u001b[38;5;241m==\u001b[39m peakscount:\n\u001b[1;32m     97\u001b[0m         peakscount \u001b[38;5;241m=\u001b[39m \u001b[38;5;241m0\u001b[39m\n",
      "\u001b[0;31mKeyError\u001b[0m: 'num peaks'",
      "\nThe above exception was the direct cause of the following exception:\n",
      "\u001b[0;31mValueError\u001b[0m                                Traceback (most recent call last)",
      "Cell \u001b[0;32mIn[27], line 1\u001b[0m\n\u001b[0;32m----> 1\u001b[0m shit \u001b[38;5;241m=\u001b[39m \u001b[38;5;28;43mlist\u001b[39;49m\u001b[43m(\u001b[49m\u001b[43mparse_msp_file\u001b[49m\u001b[43m(\u001b[49m\u001b[38;5;124;43m'\u001b[39;49m\u001b[38;5;124;43mshit.msp\u001b[39;49m\u001b[38;5;124;43m'\u001b[39;49m\u001b[43m)\u001b[49m\u001b[43m)\u001b[49m\n",
      "File \u001b[0;32m/opt/jovyan/lib/python3.8/site-packages/matchms/importing/load_from_msp.py:111\u001b[0m, in \u001b[0;36mparse_msp_file\u001b[0;34m(filename)\u001b[0m\n\u001b[1;32m    108\u001b[0m             peak_comments \u001b[38;5;241m=\u001b[39m {}\n\u001b[1;32m    110\u001b[0m     \u001b[38;5;28;01mexcept\u001b[39;00m \u001b[38;5;167;01mKeyError\u001b[39;00m \u001b[38;5;28;01mas\u001b[39;00m e:\n\u001b[0;32m--> 111\u001b[0m          \u001b[38;5;28;01mraise\u001b[39;00m \u001b[38;5;167;01mValueError\u001b[39;00m(\u001b[38;5;124mf\u001b[39m\u001b[38;5;124m'\u001b[39m\u001b[38;5;124mline: \u001b[39m\u001b[38;5;132;01m{\u001b[39;00mlineno\u001b[38;5;132;01m}\u001b[39;00m\u001b[38;5;124m'\u001b[39m) \u001b[38;5;28;01mfrom\u001b[39;00m \u001b[38;5;21;01me\u001b[39;00m\n\u001b[1;32m    113\u001b[0m lineno \u001b[38;5;241m+\u001b[39m\u001b[38;5;241m=\u001b[39m \u001b[38;5;241m1\u001b[39m\n",
      "\u001b[0;31mValueError\u001b[0m: line: 49201"
     ]
    }
   ],
   "source": [
    "shit = list(parse_msp_file('shit.msp'))"
   ]
  },
  {
   "cell_type": "code",
   "execution_count": 28,
   "id": "1ff57fcb-d45c-46bf-b7ec-7a244082e678",
   "metadata": {
    "tags": []
   },
   "outputs": [],
   "source": [
    "shit0 = list(parse_msp_file('shit0.msp'))"
   ]
  },
  {
   "cell_type": "code",
   "execution_count": 36,
   "id": "dc36c34f-894e-4fe6-a5d0-8f5390f7e260",
   "metadata": {
    "tags": []
   },
   "outputs": [],
   "source": [
    "shit10000 = list(parse_msp_file('shit10000.msp'))"
   ]
  },
  {
   "cell_type": "code",
   "execution_count": 43,
   "id": "857bed84-3309-44e9-b081-f83ccf3b7b9f",
   "metadata": {
    "tags": []
   },
   "outputs": [
    {
     "ename": "ValueError",
     "evalue": "line: 4450",
     "output_type": "error",
     "traceback": [
      "\u001b[0;31m---------------------------------------------------------------------------\u001b[0m",
      "\u001b[0;31mKeyError\u001b[0m                                  Traceback (most recent call last)",
      "File \u001b[0;32m/opt/jovyan/lib/python3.8/site-packages/matchms/importing/load_from_msp.py:96\u001b[0m, in \u001b[0;36mparse_msp_file\u001b[0;34m(filename)\u001b[0m\n\u001b[1;32m     95\u001b[0m \u001b[38;5;28;01mtry\u001b[39;00m:\n\u001b[0;32m---> 96\u001b[0m     \u001b[38;5;28;01mif\u001b[39;00m \u001b[38;5;28mint\u001b[39m(\u001b[43mparams\u001b[49m\u001b[43m[\u001b[49m\u001b[38;5;124;43m'\u001b[39;49m\u001b[38;5;124;43mnum peaks\u001b[39;49m\u001b[38;5;124;43m'\u001b[39;49m\u001b[43m]\u001b[49m) \u001b[38;5;241m==\u001b[39m peakscount:\n\u001b[1;32m     97\u001b[0m         peakscount \u001b[38;5;241m=\u001b[39m \u001b[38;5;241m0\u001b[39m\n",
      "\u001b[0;31mKeyError\u001b[0m: 'num peaks'",
      "\nThe above exception was the direct cause of the following exception:\n",
      "\u001b[0;31mValueError\u001b[0m                                Traceback (most recent call last)",
      "Cell \u001b[0;32mIn[43], line 1\u001b[0m\n\u001b[0;32m----> 1\u001b[0m shit10001 \u001b[38;5;241m=\u001b[39m \u001b[38;5;28;43mlist\u001b[39;49m\u001b[43m(\u001b[49m\u001b[43mparse_msp_file\u001b[49m\u001b[43m(\u001b[49m\u001b[38;5;124;43m'\u001b[39;49m\u001b[38;5;124;43mshit10001.msp\u001b[39;49m\u001b[38;5;124;43m'\u001b[39;49m\u001b[43m)\u001b[49m\u001b[43m)\u001b[49m\n",
      "File \u001b[0;32m/opt/jovyan/lib/python3.8/site-packages/matchms/importing/load_from_msp.py:111\u001b[0m, in \u001b[0;36mparse_msp_file\u001b[0;34m(filename)\u001b[0m\n\u001b[1;32m    108\u001b[0m             peak_comments \u001b[38;5;241m=\u001b[39m {}\n\u001b[1;32m    110\u001b[0m     \u001b[38;5;28;01mexcept\u001b[39;00m \u001b[38;5;167;01mKeyError\u001b[39;00m \u001b[38;5;28;01mas\u001b[39;00m e:\n\u001b[0;32m--> 111\u001b[0m          \u001b[38;5;28;01mraise\u001b[39;00m \u001b[38;5;167;01mValueError\u001b[39;00m(\u001b[38;5;124mf\u001b[39m\u001b[38;5;124m'\u001b[39m\u001b[38;5;124mline: \u001b[39m\u001b[38;5;132;01m{\u001b[39;00mlineno\u001b[38;5;132;01m}\u001b[39;00m\u001b[38;5;124m'\u001b[39m) \u001b[38;5;28;01mfrom\u001b[39;00m \u001b[38;5;21;01me\u001b[39;00m\n\u001b[1;32m    113\u001b[0m lineno \u001b[38;5;241m+\u001b[39m\u001b[38;5;241m=\u001b[39m \u001b[38;5;241m1\u001b[39m\n",
      "\u001b[0;31mValueError\u001b[0m: line: 4450"
     ]
    }
   ],
   "source": [
    "shit10001 = list(parse_msp_file('shit10001.msp'))"
   ]
  },
  {
   "cell_type": "code",
   "execution_count": 35,
   "id": "025a939a-170d-4d4f-bdb2-fc27c6e6a910",
   "metadata": {
    "tags": []
   },
   "outputs": [],
   "source": [
    "shit1001 = list(parse_msp_file('shit1001.msp'))"
   ]
  },
  {
   "cell_type": "code",
   "execution_count": 33,
   "id": "5dedab09-b040-4e2f-b0ab-e8930827873c",
   "metadata": {
    "tags": []
   },
   "outputs": [],
   "source": [
    "shit101 = list(parse_msp_file('shit101.msp'))"
   ]
  },
  {
   "cell_type": "code",
   "execution_count": 31,
   "id": "9f2934d3-922a-478c-a3a8-c877cdf3e257",
   "metadata": {
    "tags": []
   },
   "outputs": [],
   "source": [
    "shit11 = list(parse_msp_file('shit11.msp'))"
   ]
  },
  {
   "cell_type": "code",
   "execution_count": 42,
   "id": "09a64b5f-1e56-4e9c-8754-53e4dc58c621",
   "metadata": {
    "tags": []
   },
   "outputs": [
    {
     "ename": "ValueError",
     "evalue": "line: 4450",
     "output_type": "error",
     "traceback": [
      "\u001b[0;31m---------------------------------------------------------------------------\u001b[0m",
      "\u001b[0;31mKeyError\u001b[0m                                  Traceback (most recent call last)",
      "File \u001b[0;32m/opt/jovyan/lib/python3.8/site-packages/matchms/importing/load_from_msp.py:96\u001b[0m, in \u001b[0;36mparse_msp_file\u001b[0;34m(filename)\u001b[0m\n\u001b[1;32m     95\u001b[0m \u001b[38;5;28;01mtry\u001b[39;00m:\n\u001b[0;32m---> 96\u001b[0m     \u001b[38;5;28;01mif\u001b[39;00m \u001b[38;5;28mint\u001b[39m(\u001b[43mparams\u001b[49m\u001b[43m[\u001b[49m\u001b[38;5;124;43m'\u001b[39;49m\u001b[38;5;124;43mnum peaks\u001b[39;49m\u001b[38;5;124;43m'\u001b[39;49m\u001b[43m]\u001b[49m) \u001b[38;5;241m==\u001b[39m peakscount:\n\u001b[1;32m     97\u001b[0m         peakscount \u001b[38;5;241m=\u001b[39m \u001b[38;5;241m0\u001b[39m\n",
      "\u001b[0;31mKeyError\u001b[0m: 'num peaks'",
      "\nThe above exception was the direct cause of the following exception:\n",
      "\u001b[0;31mValueError\u001b[0m                                Traceback (most recent call last)",
      "Cell \u001b[0;32mIn[42], line 1\u001b[0m\n\u001b[0;32m----> 1\u001b[0m shit2 \u001b[38;5;241m=\u001b[39m \u001b[38;5;28;43mlist\u001b[39;49m\u001b[43m(\u001b[49m\u001b[43mparse_msp_file\u001b[49m\u001b[43m(\u001b[49m\u001b[38;5;124;43m'\u001b[39;49m\u001b[38;5;124;43mshit2.msp\u001b[39;49m\u001b[38;5;124;43m'\u001b[39;49m\u001b[43m)\u001b[49m\u001b[43m)\u001b[49m\n",
      "File \u001b[0;32m/opt/jovyan/lib/python3.8/site-packages/matchms/importing/load_from_msp.py:111\u001b[0m, in \u001b[0;36mparse_msp_file\u001b[0;34m(filename)\u001b[0m\n\u001b[1;32m    108\u001b[0m             peak_comments \u001b[38;5;241m=\u001b[39m {}\n\u001b[1;32m    110\u001b[0m     \u001b[38;5;28;01mexcept\u001b[39;00m \u001b[38;5;167;01mKeyError\u001b[39;00m \u001b[38;5;28;01mas\u001b[39;00m e:\n\u001b[0;32m--> 111\u001b[0m          \u001b[38;5;28;01mraise\u001b[39;00m \u001b[38;5;167;01mValueError\u001b[39;00m(\u001b[38;5;124mf\u001b[39m\u001b[38;5;124m'\u001b[39m\u001b[38;5;124mline: \u001b[39m\u001b[38;5;132;01m{\u001b[39;00mlineno\u001b[38;5;132;01m}\u001b[39;00m\u001b[38;5;124m'\u001b[39m) \u001b[38;5;28;01mfrom\u001b[39;00m \u001b[38;5;21;01me\u001b[39;00m\n\u001b[1;32m    113\u001b[0m lineno \u001b[38;5;241m+\u001b[39m\u001b[38;5;241m=\u001b[39m \u001b[38;5;241m1\u001b[39m\n",
      "\u001b[0;31mValueError\u001b[0m: line: 4450"
     ]
    }
   ],
   "source": [
    "shit2 = list(parse_msp_file('shit2.msp'))"
   ]
  },
  {
   "cell_type": "code",
   "execution_count": 44,
   "id": "13628535-f62f-4745-8e9d-1c058f614447",
   "metadata": {
    "tags": []
   },
   "outputs": [],
   "source": [
    "nist = list(parse_msp_file('../train-new.msp'))"
   ]
  },
  {
   "cell_type": "code",
   "execution_count": 45,
   "id": "30f20145-30cc-4692-bd35-d601bff52b9f",
   "metadata": {
    "tags": []
   },
   "outputs": [
    {
     "data": {
      "text/plain": [
       "695310"
      ]
     },
     "execution_count": 45,
     "metadata": {},
     "output_type": "execute_result"
    }
   ],
   "source": [
    "len(nist)"
   ]
  },
  {
   "cell_type": "code",
   "execution_count": 48,
   "id": "c4a9ced1-7129-42e2-bfcf-1aa6fd2d767f",
   "metadata": {
    "tags": []
   },
   "outputs": [
    {
     "data": {
      "text/plain": [
       "695310"
      ]
     },
     "execution_count": 48,
     "metadata": {},
     "output_type": "execute_result"
    }
   ],
   "source": [
    "from matchms.importing import load_from_msp\n",
    "nist2 = list(load_from_msp('../train-new.msp', metadata_harmonization=False))\n",
    "len(nist2)"
   ]
  },
  {
   "cell_type": "code",
   "execution_count": 51,
   "id": "cdc79498-c0ba-496b-a4b7-272017d4fc97",
   "metadata": {
    "tags": []
   },
   "outputs": [
    {
     "data": {
      "text/plain": [
       "{'formula': 'C13H15ClN2O2',\n",
       " 'mw': '266',\n",
       " 'casno': '21424-91-9',\n",
       " 'id': '154987',\n",
       " 'comment': 'NIST MS# 260936, Seq# R31540 |RI:2377|',\n",
       " 'inchi': 'InChI=1S/C13H15ClN2O2/c1-18-10-2-3-12-11(6-10)9(8-16-12)4-5-15-13(17)7-14/h2-3,6,8,16H,4-5,7H2,1H3,(H,15,17)',\n",
       " 'inchikey': 'UCLPNTKRPMTACI-UHFFFAOYSA-N',\n",
       " 'iupac_name': '2-chloro-N-[2-(5-methoxy-1H-indol-3-yl)ethyl]acetamide',\n",
       " 'smiles': 'COC1=CC2=C(C=C1)NC=C2CCNC(=O)CCl',\n",
       " 'compound_name': 'N-(1-Chloroacetyl)-5-methoxytryptamine',\n",
       " 'retention_index': '2377',\n",
       " 'num_peaks': '162'}"
      ]
     },
     "execution_count": 51,
     "metadata": {},
     "output_type": "execute_result"
    }
   ],
   "source": [
    "nist2[1].metadata"
   ]
  },
  {
   "cell_type": "code",
   "execution_count": null,
   "id": "0cd31bc9-4f54-4003-aec2-f34133803848",
   "metadata": {},
   "outputs": [],
   "source": [
    "# C19H17NO5 num peaks 226\n",
    "# C9H9BrO2\n",
    "\n",
    "# l. 51043319 v puvodnim train.msp"
   ]
  },
  {
   "cell_type": "code",
   "execution_count": null,
   "id": "b0c45799-f6b2-4400-ad09-6b822b315410",
   "metadata": {
    "tags": []
   },
   "outputs": [],
   "source": [
    "n = p.__next__()\n",
    "n"
   ]
  },
  {
   "cell_type": "code",
   "execution_count": null,
   "id": "21c6b3f9-5092-4838-a5b3-b292d7b1493b",
   "metadata": {
    "tags": []
   },
   "outputs": [],
   "source": [
    "n['params']['smiles']"
   ]
  },
  {
   "cell_type": "code",
   "execution_count": null,
   "id": "3430a5ee-6ab2-42de-84b0-25210da1aeb0",
   "metadata": {
    "tags": []
   },
   "outputs": [],
   "source": [
    "last"
   ]
  },
  {
   "cell_type": "code",
   "execution_count": null,
   "id": "f6c2783d-e307-4112-bfbe-53c3326496c9",
   "metadata": {
    "tags": []
   },
   "outputs": [],
   "source": [
    "n.metadata"
   ]
  },
  {
   "cell_type": "code",
   "execution_count": 72,
   "id": "bc90bade-500e-45f0-a17a-2278484f6dd8",
   "metadata": {
    "tags": []
   },
   "outputs": [],
   "source": [
    "# valid_atoms = {1, 6, 7, 8, 9, 15, 16, 17}\n",
    "# FIXME: rassp/msutil/shared.h\n",
    "# not acceptable, narrows down the model too much, we need Br, Si at least\n",
    "\n",
    "# fixed:\n",
    "valid_atoms = {1, 5, 6, 7, 8, 9, 14, 15, 16, 17, 35, 53}\n",
    "num_peaks_per_formula = 24\n",
    "max_formulae = 100000\n",
    "\n",
    "# requires isotopic data in rassp/msutil/floatmasseval_per_elt_peaks.h\n",
    "\n",
    "# dtto MAX_N == 48\n",
    "\n",
    "from rassp.msutil.masscompute import FragmentFormulaPeakEnumerator\n",
    "\n",
    "def mkdf(nist2):\n",
    "    missing = dict()\n",
    "    mols = [ ]\n",
    "    spects = []\n",
    "    smiles = []\n",
    "    toolong = []\n",
    "    ffe = FragmentFormulaPeakEnumerator(sorted(valid_atoms), use_highres=True, max_peak_num=num_peaks_per_formula)\n",
    "    for i,n in enumerate(nist2):\n",
    "        if n.metadata.get('smiles') is None:\n",
    "            print(i,'no smiles')\n",
    "            continue\n",
    "        mol = Chem.MolFromSmiles(n.metadata['smiles'])\n",
    "        if mol is None: \n",
    "            print(i,n.metadata['smiles'][:100],'... cant parse')\n",
    "            continue \n",
    "        mol = Chem.AddHs(mol)\n",
    "        if mol is None: \n",
    "            print(i,n.metadata['smiles'],'... cant add Hs')\n",
    "            continue \n",
    "            \n",
    "        if len(mol.GetAtoms()) > 48:\n",
    "            print(i,n.metadata['smiles'],'... too many atoms')\n",
    "            continue\n",
    "        \n",
    "        atoms = { a.GetAtomicNum() for a in mol.GetAtoms() }\n",
    "        if not atoms < valid_atoms:\n",
    "            for e in atoms - valid_atoms:\n",
    "                missing[e] = missing.get(e,0)+1\n",
    "                \n",
    "            print(i,n.metadata['smiles'],atoms,'... invalid atom')\n",
    "            continue\n",
    "            \n",
    "        f,m = ffe.get_frag_formulae(mol)\n",
    "        if len(f) > max_formulae:\n",
    "            print(i,n.metadata['smiles'],len(f),'... to many formulae')\n",
    "            toolong.append(n.metadata['smiles'])\n",
    "        \n",
    "        mols.append(mol.ToBinary())\n",
    "        a = np.stack([n.peaks.mz, n.peaks.intensities], axis=1)\n",
    "        b = np.empty(shape=(a.shape[0],),dtype=object)\n",
    "        b[:] = list(a)\n",
    "        spects.append(b)\n",
    "        smiles.append(n.metadata['smiles'])\n",
    "\n",
    "    df = pd.DataFrame.from_dict({ 'rdmol' : mols, 'spect' : spects, 'smiles' : smiles })\n",
    "    return df,missing,toolong"
   ]
  },
  {
   "cell_type": "code",
   "execution_count": 80,
   "id": "29316e05-ab21-4df5-8120-2cd6e880f0c3",
   "metadata": {
    "tags": []
   },
   "outputs": [],
   "source": [
    "%%capture\n",
    "trd,missing,toolong = mkdf(nist)"
   ]
  },
  {
   "cell_type": "code",
   "execution_count": 81,
   "id": "34e887de-4903-47ca-92f8-dd720e44fcd9",
   "metadata": {
    "tags": []
   },
   "outputs": [
    {
     "data": {
      "text/plain": [
       "9"
      ]
     },
     "execution_count": 81,
     "metadata": {},
     "output_type": "execute_result"
    }
   ],
   "source": [
    "len(toolong)"
   ]
  },
  {
   "cell_type": "code",
   "execution_count": 82,
   "id": "fb9fcb88-2a1f-428b-834d-50d39059932d",
   "metadata": {
    "tags": []
   },
   "outputs": [
    {
     "data": {
      "text/plain": [
       "['C1=CC(=CC=C1C(C2=CC=C(C=C2)OC3=NC(=NC(=N3)Cl)Cl)(C(F)(F)F)C(F)(F)F)OC4=NC(=NC(=N4)Cl)Cl',\n",
       " 'CN1C(NC2=CC(=C(C=C2S1(=O)=O)S(=O)(=O)N)Cl)CSCC(F)(F)F',\n",
       " 'C1CCC2=C(C1)C(=C(S2)NC(C(F)(F)F)(C(F)(F)F)NC(=O)C3=CC(=CC=C3)Cl)C(=O)N',\n",
       " 'C1=CC(=CC=C1[N+](=O)[O-])S(=O)(=O)N(C2=CC(=C(C=C2)OC(=O)C(C(F)(F)F)(F)F)Br)C(=O)C(C(F)(F)F)(F)F',\n",
       " 'CSCC1C(C(C(O1)N2C=NC3=C(N=CN=C32)N)OC(=O)C(F)(F)F)OC(=O)C(F)(F)F',\n",
       " 'CN1C(=O)CC(SC1=NC2=CC=CC(=C2)C(F)(F)F)C(=O)NC3=CC=C(C=C3)OC(F)(F)Cl',\n",
       " 'CC1=C(C=CC(=C1)[N+](=O)[O-])N(C(=O)C(C(C(F)(F)F)(F)F)(F)F)S(=O)(=O)C2=CC=C(C=C2)Cl',\n",
       " 'CCOP(=S)(OCC)OC1=NN=C(N1C2=CC=CC(=C2)C(F)(F)F)SC',\n",
       " 'C1=CC(=C(C=C1NS(=O)(=O)C2=C(C(=C(C=C2)OCC(F)(F)F)C#N)OCC(F)(F)F)Cl)Cl']"
      ]
     },
     "execution_count": 82,
     "metadata": {},
     "output_type": "execute_result"
    }
   ],
   "source": [
    "toolong[:10]"
   ]
  },
  {
   "cell_type": "code",
   "execution_count": 66,
   "id": "bdfdde04-95ca-44e9-a81c-1b80f3d7ab0f",
   "metadata": {
    "tags": []
   },
   "outputs": [
    {
     "data": {
      "text/plain": [
       "[(92, 1),\n",
       " (58, 1),\n",
       " (20, 1),\n",
       " (57, 1),\n",
       " (54, 1),\n",
       " (64, 1),\n",
       " (41, 1),\n",
       " (19, 1),\n",
       " (36, 1),\n",
       " (55, 1),\n",
       " (18, 1),\n",
       " (48, 2),\n",
       " (73, 2),\n",
       " (81, 2),\n",
       " (76, 3),\n",
       " (77, 3),\n",
       " (3, 4),\n",
       " (49, 4),\n",
       " (78, 4),\n",
       " (72, 4),\n",
       " (4, 5),\n",
       " (12, 5),\n",
       " (46, 8),\n",
       " (83, 8),\n",
       " (44, 8),\n",
       " (11, 8),\n",
       " (47, 12),\n",
       " (13, 12),\n",
       " (40, 15),\n",
       " (75, 16),\n",
       " (51, 18),\n",
       " (29, 19),\n",
       " (82, 20),\n",
       " (52, 26),\n",
       " (45, 28),\n",
       " (22, 32),\n",
       " (30, 38),\n",
       " (23, 40),\n",
       " (74, 44),\n",
       " (42, 45),\n",
       " (80, 54),\n",
       " (28, 56),\n",
       " (25, 61),\n",
       " (27, 106),\n",
       " (24, 122),\n",
       " (32, 127),\n",
       " (33, 186),\n",
       " (50, 192),\n",
       " (26, 272),\n",
       " (34, 438)]"
      ]
     },
     "execution_count": 66,
     "metadata": {},
     "output_type": "execute_result"
    }
   ],
   "source": [
    "sorted(missing.items(),key=lambda x: x[1])"
   ]
  },
  {
   "cell_type": "code",
   "execution_count": 83,
   "id": "cba6b9eb-8b89-4762-a3d2-6e1186d3d919",
   "metadata": {},
   "outputs": [],
   "source": [
    "test_mask = np.random.choice([True, False], p=[.2,.8], size=len(trd))\n",
    "trd[test_mask == False].to_parquet('train.pq')\n",
    "trd[test_mask].to_parquet('test.pq')\n"
   ]
  },
  {
   "cell_type": "code",
   "execution_count": 84,
   "id": "24cf971c-133d-425c-a4de-13de31ee6b78",
   "metadata": {
    "tags": []
   },
   "outputs": [
    {
     "data": {
      "text/html": [
       "<div>\n",
       "<style scoped>\n",
       "    .dataframe tbody tr th:only-of-type {\n",
       "        vertical-align: middle;\n",
       "    }\n",
       "\n",
       "    .dataframe tbody tr th {\n",
       "        vertical-align: top;\n",
       "    }\n",
       "\n",
       "    .dataframe thead th {\n",
       "        text-align: right;\n",
       "    }\n",
       "</style>\n",
       "<table border=\"1\" class=\"dataframe\">\n",
       "  <thead>\n",
       "    <tr style=\"text-align: right;\">\n",
       "      <th></th>\n",
       "      <th>rdmol</th>\n",
       "      <th>spect</th>\n",
       "      <th>smiles</th>\n",
       "    </tr>\n",
       "  </thead>\n",
       "  <tbody>\n",
       "    <tr>\n",
       "      <th>0</th>\n",
       "      <td>b'\\xef\\xbe\\xad\\xde\\x00\\x00\\x00\\x00\\r\\x00\\x00\\x...</td>\n",
       "      <td>[[12.0, 1.0], [13.0, 4.0], [14.0, 25.98], [15....</td>\n",
       "      <td>COC1=CC=C(C=C1)C(=O)CBr</td>\n",
       "    </tr>\n",
       "    <tr>\n",
       "      <th>1</th>\n",
       "      <td>b'\\xef\\xbe\\xad\\xde\\x00\\x00\\x00\\x00\\r\\x00\\x00\\x...</td>\n",
       "      <td>[[27.0, 37.97], [28.0, 8.99], [29.0, 2.0], [30...</td>\n",
       "      <td>CCCC(=O)NC1=CC=CC=C1</td>\n",
       "    </tr>\n",
       "    <tr>\n",
       "      <th>2</th>\n",
       "      <td>b'\\xef\\xbe\\xad\\xde\\x00\\x00\\x00\\x00\\r\\x00\\x00\\x...</td>\n",
       "      <td>[[41.0, 370.67], [42.0, 999.0], [43.0, 247.78]...</td>\n",
       "      <td>CC(CC#N)N1CC1</td>\n",
       "    </tr>\n",
       "    <tr>\n",
       "      <th>3</th>\n",
       "      <td>b'\\xef\\xbe\\xad\\xde\\x00\\x00\\x00\\x00\\r\\x00\\x00\\x...</td>\n",
       "      <td>[[41.0, 181.84], [42.0, 105.9], [43.0, 251.77]...</td>\n",
       "      <td>C1=CC2=C(NC3=C(C=C(C=C3)CN)C(=O)N2)N=C1</td>\n",
       "    </tr>\n",
       "    <tr>\n",
       "      <th>4</th>\n",
       "      <td>b'\\xef\\xbe\\xad\\xde\\x00\\x00\\x00\\x00\\r\\x00\\x00\\x...</td>\n",
       "      <td>[[35.0, 2.0], [36.0, 3.0], [37.0, 5.99], [38.0...</td>\n",
       "      <td>CC1=NN=C(O1)CCC(=O)O</td>\n",
       "    </tr>\n",
       "    <tr>\n",
       "      <th>...</th>\n",
       "      <td>...</td>\n",
       "      <td>...</td>\n",
       "      <td>...</td>\n",
       "    </tr>\n",
       "    <tr>\n",
       "      <th>197107</th>\n",
       "      <td>b'\\xef\\xbe\\xad\\xde\\x00\\x00\\x00\\x00\\r\\x00\\x00\\x...</td>\n",
       "      <td>[[51.0, 134.88], [55.0, 33.97], [65.0, 38.96],...</td>\n",
       "      <td>CC(C)NC=CC1=CC(=C(C=C1)O)O</td>\n",
       "    </tr>\n",
       "    <tr>\n",
       "      <th>197108</th>\n",
       "      <td>b'\\xef\\xbe\\xad\\xde\\x00\\x00\\x00\\x00\\r\\x00\\x00\\x...</td>\n",
       "      <td>[[41.0, 9.99], [42.0, 29.97], [43.0, 9.99], [4...</td>\n",
       "      <td>CN(C)C(=O)C1=CC=CC2=CC=CC=C21</td>\n",
       "    </tr>\n",
       "    <tr>\n",
       "      <th>197109</th>\n",
       "      <td>b'\\xef\\xbe\\xad\\xde\\x00\\x00\\x00\\x00\\r\\x00\\x00\\x...</td>\n",
       "      <td>[[15.0, 2.0], [27.0, 71.94], [28.0, 11.99], [2...</td>\n",
       "      <td>CC(C)CCOC1=CC=C(C=C1)C(=O)O</td>\n",
       "    </tr>\n",
       "    <tr>\n",
       "      <th>197110</th>\n",
       "      <td>b'\\xef\\xbe\\xad\\xde\\x00\\x00\\x00\\x00\\r\\x00\\x00\\x...</td>\n",
       "      <td>[[11.0, 0.5], [12.0, 0.5], [13.0, 1.0], [14.0,...</td>\n",
       "      <td>CC1=CC=C(S1)C</td>\n",
       "    </tr>\n",
       "    <tr>\n",
       "      <th>197111</th>\n",
       "      <td>b'\\xef\\xbe\\xad\\xde\\x00\\x00\\x00\\x00\\r\\x00\\x00\\x...</td>\n",
       "      <td>[[23.0, 0.5], [26.0, 6.99], [27.0, 118.89], [2...</td>\n",
       "      <td>CCCCCCCCCCC</td>\n",
       "    </tr>\n",
       "  </tbody>\n",
       "</table>\n",
       "<p>197112 rows × 3 columns</p>\n",
       "</div>"
      ],
      "text/plain": [
       "                                                    rdmol  \\\n",
       "0       b'\\xef\\xbe\\xad\\xde\\x00\\x00\\x00\\x00\\r\\x00\\x00\\x...   \n",
       "1       b'\\xef\\xbe\\xad\\xde\\x00\\x00\\x00\\x00\\r\\x00\\x00\\x...   \n",
       "2       b'\\xef\\xbe\\xad\\xde\\x00\\x00\\x00\\x00\\r\\x00\\x00\\x...   \n",
       "3       b'\\xef\\xbe\\xad\\xde\\x00\\x00\\x00\\x00\\r\\x00\\x00\\x...   \n",
       "4       b'\\xef\\xbe\\xad\\xde\\x00\\x00\\x00\\x00\\r\\x00\\x00\\x...   \n",
       "...                                                   ...   \n",
       "197107  b'\\xef\\xbe\\xad\\xde\\x00\\x00\\x00\\x00\\r\\x00\\x00\\x...   \n",
       "197108  b'\\xef\\xbe\\xad\\xde\\x00\\x00\\x00\\x00\\r\\x00\\x00\\x...   \n",
       "197109  b'\\xef\\xbe\\xad\\xde\\x00\\x00\\x00\\x00\\r\\x00\\x00\\x...   \n",
       "197110  b'\\xef\\xbe\\xad\\xde\\x00\\x00\\x00\\x00\\r\\x00\\x00\\x...   \n",
       "197111  b'\\xef\\xbe\\xad\\xde\\x00\\x00\\x00\\x00\\r\\x00\\x00\\x...   \n",
       "\n",
       "                                                    spect  \\\n",
       "0       [[12.0, 1.0], [13.0, 4.0], [14.0, 25.98], [15....   \n",
       "1       [[27.0, 37.97], [28.0, 8.99], [29.0, 2.0], [30...   \n",
       "2       [[41.0, 370.67], [42.0, 999.0], [43.0, 247.78]...   \n",
       "3       [[41.0, 181.84], [42.0, 105.9], [43.0, 251.77]...   \n",
       "4       [[35.0, 2.0], [36.0, 3.0], [37.0, 5.99], [38.0...   \n",
       "...                                                   ...   \n",
       "197107  [[51.0, 134.88], [55.0, 33.97], [65.0, 38.96],...   \n",
       "197108  [[41.0, 9.99], [42.0, 29.97], [43.0, 9.99], [4...   \n",
       "197109  [[15.0, 2.0], [27.0, 71.94], [28.0, 11.99], [2...   \n",
       "197110  [[11.0, 0.5], [12.0, 0.5], [13.0, 1.0], [14.0,...   \n",
       "197111  [[23.0, 0.5], [26.0, 6.99], [27.0, 118.89], [2...   \n",
       "\n",
       "                                         smiles  \n",
       "0                       COC1=CC=C(C=C1)C(=O)CBr  \n",
       "1                          CCCC(=O)NC1=CC=CC=C1  \n",
       "2                                 CC(CC#N)N1CC1  \n",
       "3       C1=CC2=C(NC3=C(C=C(C=C3)CN)C(=O)N2)N=C1  \n",
       "4                          CC1=NN=C(O1)CCC(=O)O  \n",
       "...                                         ...  \n",
       "197107               CC(C)NC=CC1=CC(=C(C=C1)O)O  \n",
       "197108            CN(C)C(=O)C1=CC=CC2=CC=CC=C21  \n",
       "197109              CC(C)CCOC1=CC=C(C=C1)C(=O)O  \n",
       "197110                            CC1=CC=C(S1)C  \n",
       "197111                              CCCCCCCCCCC  \n",
       "\n",
       "[197112 rows x 3 columns]"
      ]
     },
     "execution_count": 84,
     "metadata": {},
     "output_type": "execute_result"
    }
   ],
   "source": [
    "trd"
   ]
  },
  {
   "cell_type": "code",
   "execution_count": null,
   "id": "e2464aa5-35ff-4363-9316-8725200949a9",
   "metadata": {},
   "outputs": [],
   "source": []
  },
  {
   "cell_type": "code",
   "execution_count": null,
   "id": "c205d1d1-839d-44e5-8e28-d1a388d61e3c",
   "metadata": {},
   "outputs": [],
   "source": []
  },
  {
   "cell_type": "code",
   "execution_count": 89,
   "id": "ae5b5654-619c-4696-b768-c0938a6a1369",
   "metadata": {
    "tags": []
   },
   "outputs": [
    {
     "name": "stderr",
     "output_type": "stream",
     "text": [
      "2023-03-15 12:00:21,185 - rassp.netutil - WARNING - NOT USING GPU!\n"
     ]
    }
   ],
   "source": [
    "# from original run_rassp.py\n",
    "\n",
    "import pickle\n",
    "from rassp import netutil\n",
    "\n",
    "use_gpu=False\n",
    "model_dir='checkpoints'\n",
    "\n",
    "MODELS = {\n",
    "    'FormulaNet': {\n",
    "        'checkpoint': os.path.join(model_dir, 'test.78875354.00000003.model'),\n",
    "        'meta': os.path.join(model_dir, 'test.78875354.meta'),\n",
    "\n",
    "        # NOTE(2023-01-24): FN currently has a reduced set of valid mol constraints bc this is what we trained with\n",
    "        # and there is currently an outstanding bug where changing N_ATOMS here breaks FN predictions in subtle ways.\n",
    "        'override_constraints': {\n",
    "            'n_atom': 48,\n",
    "            # 'n_formula': 4096,\n",
    "            'n_formula': 100000,\n",
    "            # 'n_subset': 12288,\n",
    "            'n_subset': 49152,\n",
    "        },\n",
    "    },\n",
    "}\n",
    "\n",
    "model_name='FormulaNet'\n",
    "meta_path = MODELS[model_name]['meta']\n",
    "ckpt_path = MODELS[model_name]['checkpoint']\n",
    "override_constraints = MODELS[model_name]['override_constraints']\n",
    "meta = pickle.load(open(meta_path, 'rb'))\n",
    "\n",
    "feat_config = meta['featurize_config']\n",
    "for key, val in override_constraints.items():\n",
    "    if key == 'n_atom':\n",
    "        feat_config['MAX_N'] = val\n",
    "    if key == 'n_formula':\n",
    "        feat_config['explicit_formulae_config']['max_formulae'] = val\n",
    "    if key == 'n_subset':\n",
    "        feat_config['vert_subset_samples_n'] = val\n",
    "\n",
    "if use_gpu and not torch.cuda.is_available():\n",
    "    use_gpu = False\n",
    "\n",
    "predictor = netutil.PredModel(\n",
    "    meta_path,\n",
    "    ckpt_path,\n",
    "    USE_CUDA=use_gpu,\n",
    "    data_parallel=False,\n",
    "    featurize_config_update=feat_config,\n",
    ")\n"
   ]
  },
  {
   "cell_type": "code",
   "execution_count": 90,
   "id": "cbabef0d-b2ae-4491-86c7-5cdb19027ab0",
   "metadata": {
    "tags": []
   },
   "outputs": [
    {
     "name": "stderr",
     "output_type": "stream",
     "text": [
      "100%|██████████| 6/6 [00:41<00:00,  6.93s/it]\n"
     ]
    }
   ],
   "source": [
    "smiles = ['C1=CNN=C1','CC(C)C#N','CCC(=C)C','CC[N+](=O)[O-]','C1=CSC(=N1)N=C(C(C(F)(F)F)(OC(C(C(F)(F)F)(OC(C(C(F)(F)F)(F)F)(F)F)F)(F)F)F)N'] \n",
    "valid_mols = [ Chem.AddHs(Chem.MolFromSmiles(s)) for s in smiles ]\n",
    "\n",
    "predictions = predictor.pred(\n",
    "    valid_mols,\n",
    "    progress_bar=True,\n",
    "    normalize_pred=True,\n",
    "    output_hist_bins=True,\n",
    "    batch_size=2, # XXX\n",
    "    dataloader_config={\n",
    "        'pin_memory': False,\n",
    "        'num_workers': 0, # XXX\n",
    "        'persistent_workers': False,\n",
    "    },\n",
    "    benchmark_dataloader=False,\n",
    ")"
   ]
  },
  {
   "cell_type": "code",
   "execution_count": 103,
   "id": "664c61ec-5c60-496e-8734-7ce8018c246c",
   "metadata": {
    "tags": []
   },
   "outputs": [
    {
     "data": {
      "text/html": [
       "<div>\n",
       "<style scoped>\n",
       "    .dataframe tbody tr th:only-of-type {\n",
       "        vertical-align: middle;\n",
       "    }\n",
       "\n",
       "    .dataframe tbody tr th {\n",
       "        vertical-align: top;\n",
       "    }\n",
       "\n",
       "    .dataframe thead th {\n",
       "        text-align: right;\n",
       "    }\n",
       "</style>\n",
       "<table border=\"1\" class=\"dataframe\">\n",
       "  <thead>\n",
       "    <tr style=\"text-align: right;\">\n",
       "      <th></th>\n",
       "      <th>rdmol</th>\n",
       "      <th>spect</th>\n",
       "      <th>smiles</th>\n",
       "    </tr>\n",
       "  </thead>\n",
       "  <tbody>\n",
       "    <tr>\n",
       "      <th>53469</th>\n",
       "      <td>b'\\xef\\xbe\\xad\\xde\\x00\\x00\\x00\\x00\\r\\x00\\x00\\x...</td>\n",
       "      <td>[[2.0, 4.0], [12.0, 11.99], [13.0, 15.99], [14...</td>\n",
       "      <td>CC[N+](=O)[O-]</td>\n",
       "    </tr>\n",
       "    <tr>\n",
       "      <th>130919</th>\n",
       "      <td>b'\\xef\\xbe\\xad\\xde\\x00\\x00\\x00\\x00\\r\\x00\\x00\\x...</td>\n",
       "      <td>[[25.0, 5.99], [26.0, 80.93], [27.0, 711.36], ...</td>\n",
       "      <td>CC[N+](=O)[O-]</td>\n",
       "    </tr>\n",
       "    <tr>\n",
       "      <th>164492</th>\n",
       "      <td>b'\\xef\\xbe\\xad\\xde\\x00\\x00\\x00\\x00\\r\\x00\\x00\\x...</td>\n",
       "      <td>[[12.0, 3.0], [13.0, 3.0], [14.0, 9.99], [15.0...</td>\n",
       "      <td>CC[N+](=O)[O-]</td>\n",
       "    </tr>\n",
       "  </tbody>\n",
       "</table>\n",
       "</div>"
      ],
      "text/plain": [
       "                                                    rdmol  \\\n",
       "53469   b'\\xef\\xbe\\xad\\xde\\x00\\x00\\x00\\x00\\r\\x00\\x00\\x...   \n",
       "130919  b'\\xef\\xbe\\xad\\xde\\x00\\x00\\x00\\x00\\r\\x00\\x00\\x...   \n",
       "164492  b'\\xef\\xbe\\xad\\xde\\x00\\x00\\x00\\x00\\r\\x00\\x00\\x...   \n",
       "\n",
       "                                                    spect          smiles  \n",
       "53469   [[2.0, 4.0], [12.0, 11.99], [13.0, 15.99], [14...  CC[N+](=O)[O-]  \n",
       "130919  [[25.0, 5.99], [26.0, 80.93], [27.0, 711.36], ...  CC[N+](=O)[O-]  \n",
       "164492  [[12.0, 3.0], [13.0, 3.0], [14.0, 9.99], [15.0...  CC[N+](=O)[O-]  "
      ]
     },
     "execution_count": 103,
     "metadata": {},
     "output_type": "execute_result"
    }
   ],
   "source": [
    "idx=3\n",
    "\n",
    "shit_nist=trd[trd.smiles == smiles[idx]]\n",
    "shit_nist"
   ]
  },
  {
   "cell_type": "code",
   "execution_count": 104,
   "id": "d305064a-c9f4-458c-803e-838856c5949c",
   "metadata": {
    "tags": []
   },
   "outputs": [],
   "source": [
    "idx2=0"
   ]
  },
  {
   "cell_type": "code",
   "execution_count": 105,
   "id": "8530abea-ffa6-4dee-90eb-d0d05af8972d",
   "metadata": {
    "tags": []
   },
   "outputs": [
    {
     "name": "stdout",
     "output_type": "stream",
     "text": [
      "2023-03-15 12:07:00,476:WARNING:matchms:add_precursor_mz:No precursor_mz found in metadata.\n"
     ]
    },
    {
     "name": "stderr",
     "output_type": "stream",
     "text": [
      "2023-03-15 12:07:00,476 - matchms - WARNING - No precursor_mz found in metadata.\n"
     ]
    },
    {
     "name": "stdout",
     "output_type": "stream",
     "text": [
      "2023-03-15 12:07:00,480:WARNING:matchms:add_precursor_mz:No precursor_mz found in metadata.\n"
     ]
    },
    {
     "name": "stderr",
     "output_type": "stream",
     "text": [
      "2023-03-15 12:07:00,480 - matchms - WARNING - No precursor_mz found in metadata.\n"
     ]
    }
   ],
   "source": [
    "import matchms\n",
    "mzi=np.array(list(shit_nist.iloc[idx2].spect))\n",
    "shit1 = matchms.Spectrum(mz=mzi[:,0],intensities=mzi[:,1])\n",
    "mzi=predictions['pred_binned'][idx].astype(float)\n",
    "shit2 = matchms.Spectrum(mz=mzi[:,0],intensities=mzi[:,1])"
   ]
  },
  {
   "cell_type": "code",
   "execution_count": 106,
   "id": "5284fb61-89d7-4b1d-87e5-62d31258c45b",
   "metadata": {
    "tags": []
   },
   "outputs": [
    {
     "data": {
      "text/plain": [
       "<Axes: title={'center': 'Spectrum comparison'}, xlabel='m/z', ylabel='Intensity'>"
      ]
     },
     "execution_count": 106,
     "metadata": {},
     "output_type": "execute_result"
    },
    {
     "data": {
      "image/png": "[encoded data removed]",
      "text/plain": [
       "<Figure size 640x480 with 1 Axes>"
      ]
     },
     "metadata": {},
     "output_type": "display_data"
    }
   ],
   "source": [
    "from matchms.plotting import plot_spectra_mirror\n",
    "plot_spectra_mirror(shit1,shit2)"
   ]
  },
  {
   "cell_type": "code",
   "execution_count": null,
   "id": "939fbacc-4ab3-4bf2-8d4e-1e3436694289",
   "metadata": {},
   "outputs": [],
   "source": []
  }
 ],
 "metadata": {
  "kernelspec": {
   "display_name": "Python 3 (ipykernel)",
   "language": "python",
   "name": "python3"
  },
  "language_info": {
   "codemirror_mode": {
    "name": "ipython",
    "version": 3
   },
   "file_extension": ".py",
   "mimetype": "text/x-python",
   "name": "python",
   "nbconvert_exporter": "python",
   "pygments_lexer": "ipython3",
   "version": "3.8.10"
  }
 },
 "nbformat": 4,
 "nbformat_minor": 5
}
