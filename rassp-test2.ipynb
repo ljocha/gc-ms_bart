{
 "cells": [
  {
   "cell_type": "code",
   "execution_count": 52,
   "id": "c2419cdf-93f7-4c7a-af40-badfcd6e42bf",
   "metadata": {
    "tags": []
   },
   "outputs": [],
   "source": [
    "threads=8\n",
    "import os\n",
    "os.environ['OMP_NUM_THREADS']=str(threads)\n",
    "import torch"
   ]
  },
  {
   "cell_type": "code",
   "execution_count": 53,
   "id": "445b483d-9654-48d7-a3c9-e69fe2f0a36f",
   "metadata": {
    "tags": []
   },
   "outputs": [],
   "source": [
    "import pandas as pd\n",
    "from rdkit import Chem\n",
    "import numpy as np"
   ]
  },
  {
   "cell_type": "code",
   "execution_count": 54,
   "id": "1e52952a-d223-4742-9f1e-c638181d33cc",
   "metadata": {
    "tags": []
   },
   "outputs": [],
   "source": [
    "nist_path='/home/jovyan/train.msp'"
   ]
  },
  {
   "cell_type": "code",
   "execution_count": null,
   "id": "6b4c0b5c-1b2e-45d2-aa65-a43470b312e3",
   "metadata": {
    "tags": []
   },
   "outputs": [],
   "source": [
    "from matchms.importing import load_from_msp\n",
    "ni = load_from_msp(nist_path, metadata_harmonization=False)\n",
    "nist = []\n",
    "for n in ni:\n",
    "    last=n.metadata['smiles']\n",
    "    nist.append(n)"
   ]
  },
  {
   "cell_type": "code",
   "execution_count": 55,
   "id": "b85fbd47-2fcb-4851-8b66-9f864a98d6b1",
   "metadata": {
    "tags": []
   },
   "outputs": [
    {
     "data": {
      "text/plain": [
       "261272"
      ]
     },
     "execution_count": 55,
     "metadata": {},
     "output_type": "execute_result"
    }
   ],
   "source": [
    "from matchms.importing import load_from_msp\n",
    "nist = list(load_from_msp(nist_path, metadata_harmonization=False))\n",
    "len(nist)"
   ]
  },
  {
   "cell_type": "code",
   "execution_count": 56,
   "id": "d6f8955f-06b6-418e-b922-b857fa946bbd",
   "metadata": {
    "tags": []
   },
   "outputs": [
    {
     "data": {
      "text/plain": [
       "29040"
      ]
     },
     "execution_count": 56,
     "metadata": {},
     "output_type": "execute_result"
    }
   ],
   "source": [
    "nist_test = list(load_from_msp('../test.msp', metadata_harmonization=False))\n",
    "len(nist_test)"
   ]
  },
  {
   "cell_type": "code",
   "execution_count": 63,
   "id": "b9f0f236-f1e7-472b-af3f-52eb142e115b",
   "metadata": {
    "tags": []
   },
   "outputs": [
    {
     "data": {
      "text/plain": [
       "array([3.000e+00, 2.298e+01, 3.297e+01, 4.496e+01, 7.194e+01, 6.894e+01,\n",
       "       7.990e+00, 1.399e+01, 2.198e+01, 9.990e+00, 8.990e+00, 2.198e+01,\n",
       "       4.596e+01, 9.791e+01, 1.199e+01, 3.000e+00, 1.199e+01, 1.099e+01,\n",
       "       1.399e+01, 2.000e+00, 2.000e+00, 5.000e+00, 9.990e+00, 3.197e+01,\n",
       "       5.990e+00, 9.990e+00, 2.000e+00, 2.000e+00, 8.990e+00, 2.198e+01,\n",
       "       4.296e+01, 1.099e+01, 4.000e+00, 8.990e+00, 2.897e+01, 2.098e+01,\n",
       "       1.099e+01, 3.000e+00, 9.990e+02, 4.896e+01, 1.798e+01, 1.499e+01,\n",
       "       1.499e+01, 8.990e+00, 4.000e+00, 1.998e+01, 4.000e+00, 6.990e+00,\n",
       "       1.698e+01, 2.698e+01, 1.199e+01, 3.000e+00, 1.399e+01, 1.099e+01,\n",
       "       2.198e+01, 1.399e+01, 6.990e+00, 2.000e+00, 2.000e+00, 7.990e+00,\n",
       "       9.990e+00, 1.399e+01, 2.198e+01, 4.000e+00, 1.099e+01, 1.399e+01,\n",
       "       7.990e+00, 6.990e+00, 5.000e-01, 2.000e+00, 7.990e+00, 8.990e+00,\n",
       "       1.499e+01, 5.000e+00, 3.000e+00, 5.000e-01, 4.000e+00, 4.000e+00,\n",
       "       6.990e+00, 5.990e+00, 1.299e+01, 2.000e+00, 3.097e+01, 4.000e+00,\n",
       "       6.694e+01, 8.990e+00])"
      ]
     },
     "execution_count": 63,
     "metadata": {},
     "output_type": "execute_result"
    }
   ],
   "source": [
    "nist[42424].peaks.intensities"
   ]
  },
  {
   "cell_type": "code",
   "execution_count": 9,
   "id": "9dc33588-7ec6-4fee-9598-2a2bfbb522b2",
   "metadata": {
    "tags": []
   },
   "outputs": [],
   "source": [
    "nist_path='../train0.msp'\n",
    "from matchms.importing.load_from_msp import parse_msp_file\n",
    "nist = list(parse_msp_file(nist_path))"
   ]
  },
  {
   "cell_type": "code",
   "execution_count": 10,
   "id": "cc60081c-1f55-4074-a494-c36b515934d5",
   "metadata": {
    "tags": []
   },
   "outputs": [
    {
     "data": {
      "text/plain": [
       "347784"
      ]
     },
     "execution_count": 10,
     "metadata": {},
     "output_type": "execute_result"
    }
   ],
   "source": [
    "len(nist)"
   ]
  },
  {
   "cell_type": "code",
   "execution_count": 17,
   "id": "3b6720b1-9a93-4e98-81ba-3706f903aba9",
   "metadata": {
    "tags": []
   },
   "outputs": [
    {
     "data": {
      "text/plain": [
       "44168"
      ]
     },
     "execution_count": 17,
     "metadata": {},
     "output_type": "execute_result"
    }
   ],
   "source": [
    "nist_path='../train1000.msp'\n",
    "nist1000 = list(parse_msp_file(nist_path))\n",
    "len(nist1000)"
   ]
  },
  {
   "cell_type": "code",
   "execution_count": 26,
   "id": "43ef0196-e285-49dc-9399-b18a1f3a1de1",
   "metadata": {
    "tags": []
   },
   "outputs": [
    {
     "ename": "ValueError",
     "evalue": "line: 4907532",
     "output_type": "error",
     "traceback": [
      "\u001b[0;31m---------------------------------------------------------------------------\u001b[0m",
      "\u001b[0;31mKeyError\u001b[0m                                  Traceback (most recent call last)",
      "File \u001b[0;32m/opt/jovyan/lib/python3.8/site-packages/matchms/importing/load_from_msp.py:96\u001b[0m, in \u001b[0;36mparse_msp_file\u001b[0;34m(filename)\u001b[0m\n\u001b[1;32m     95\u001b[0m \u001b[38;5;28;01mtry\u001b[39;00m:\n\u001b[0;32m---> 96\u001b[0m     \u001b[38;5;28;01mif\u001b[39;00m \u001b[38;5;28mint\u001b[39m(\u001b[43mparams\u001b[49m\u001b[43m[\u001b[49m\u001b[38;5;124;43m'\u001b[39;49m\u001b[38;5;124;43mnum peaks\u001b[39;49m\u001b[38;5;124;43m'\u001b[39;49m\u001b[43m]\u001b[49m) \u001b[38;5;241m==\u001b[39m peakscount:\n\u001b[1;32m     97\u001b[0m         peakscount \u001b[38;5;241m=\u001b[39m \u001b[38;5;241m0\u001b[39m\n",
      "\u001b[0;31mKeyError\u001b[0m: 'num peaks'",
      "\nThe above exception was the direct cause of the following exception:\n",
      "\u001b[0;31mValueError\u001b[0m                                Traceback (most recent call last)",
      "Cell \u001b[0;32mIn[26], line 2\u001b[0m\n\u001b[1;32m      1\u001b[0m nist_path\u001b[38;5;241m=\u001b[39m\u001b[38;5;124m'\u001b[39m\u001b[38;5;124m../train1001.msp\u001b[39m\u001b[38;5;124m'\u001b[39m\n\u001b[0;32m----> 2\u001b[0m nist1001 \u001b[38;5;241m=\u001b[39m \u001b[38;5;28;43mlist\u001b[39;49m\u001b[43m(\u001b[49m\u001b[43mparse_msp_file\u001b[49m\u001b[43m(\u001b[49m\u001b[43mnist_path\u001b[49m\u001b[43m)\u001b[49m\u001b[43m)\u001b[49m\n\u001b[1;32m      3\u001b[0m \u001b[38;5;28mlen\u001b[39m(nist1001)\n",
      "File \u001b[0;32m/opt/jovyan/lib/python3.8/site-packages/matchms/importing/load_from_msp.py:111\u001b[0m, in \u001b[0;36mparse_msp_file\u001b[0;34m(filename)\u001b[0m\n\u001b[1;32m    108\u001b[0m             peak_comments \u001b[38;5;241m=\u001b[39m {}\n\u001b[1;32m    110\u001b[0m     \u001b[38;5;28;01mexcept\u001b[39;00m \u001b[38;5;167;01mKeyError\u001b[39;00m \u001b[38;5;28;01mas\u001b[39;00m e:\n\u001b[0;32m--> 111\u001b[0m          \u001b[38;5;28;01mraise\u001b[39;00m \u001b[38;5;167;01mValueError\u001b[39;00m(\u001b[38;5;124mf\u001b[39m\u001b[38;5;124m'\u001b[39m\u001b[38;5;124mline: \u001b[39m\u001b[38;5;132;01m{\u001b[39;00mlineno\u001b[38;5;132;01m}\u001b[39;00m\u001b[38;5;124m'\u001b[39m) \u001b[38;5;28;01mfrom\u001b[39;00m \u001b[38;5;21;01me\u001b[39;00m\n\u001b[1;32m    113\u001b[0m lineno \u001b[38;5;241m+\u001b[39m\u001b[38;5;241m=\u001b[39m \u001b[38;5;241m1\u001b[39m\n",
      "\u001b[0;31mValueError\u001b[0m: line: 4907532"
     ]
    }
   ],
   "source": [
    "nist_path='../train1001.msp'\n",
    "nist1001 = list(parse_msp_file(nist_path))\n",
    "len(nist1001)"
   ]
  },
  {
   "cell_type": "code",
   "execution_count": 16,
   "id": "653cf187-ae0b-46c9-9848-63a589a30b41",
   "metadata": {
    "tags": []
   },
   "outputs": [
    {
     "data": {
      "text/plain": [
       "89275"
      ]
     },
     "execution_count": 16,
     "metadata": {},
     "output_type": "execute_result"
    }
   ],
   "source": [
    "nist_path='../train101.msp'\n",
    "nist101 = list(parse_msp_file(nist_path))\n",
    "len(nist101)"
   ]
  },
  {
   "cell_type": "code",
   "execution_count": 14,
   "id": "b0815fbd-73d5-4adb-a3f9-0a8477b2c4e5",
   "metadata": {
    "tags": []
   },
   "outputs": [
    {
     "data": {
      "text/plain": [
       "168985"
      ]
     },
     "execution_count": 14,
     "metadata": {},
     "output_type": "execute_result"
    }
   ],
   "source": [
    "nist_path='../train11.msp'\n",
    "nist11 = list(parse_msp_file(nist_path))\n",
    "len(nist11)"
   ]
  },
  {
   "cell_type": "code",
   "execution_count": 27,
   "id": "7676aee3-f8af-4b4e-95ad-d37a6e440254",
   "metadata": {
    "tags": []
   },
   "outputs": [
    {
     "ename": "ValueError",
     "evalue": "line: 49201",
     "output_type": "error",
     "traceback": [
      "\u001b[0;31m---------------------------------------------------------------------------\u001b[0m",
      "\u001b[0;31mKeyError\u001b[0m                                  Traceback (most recent call last)",
      "File \u001b[0;32m/opt/jovyan/lib/python3.8/site-packages/matchms/importing/load_from_msp.py:96\u001b[0m, in \u001b[0;36mparse_msp_file\u001b[0;34m(filename)\u001b[0m\n\u001b[1;32m     95\u001b[0m \u001b[38;5;28;01mtry\u001b[39;00m:\n\u001b[0;32m---> 96\u001b[0m     \u001b[38;5;28;01mif\u001b[39;00m \u001b[38;5;28mint\u001b[39m(\u001b[43mparams\u001b[49m\u001b[43m[\u001b[49m\u001b[38;5;124;43m'\u001b[39;49m\u001b[38;5;124;43mnum peaks\u001b[39;49m\u001b[38;5;124;43m'\u001b[39;49m\u001b[43m]\u001b[49m) \u001b[38;5;241m==\u001b[39m peakscount:\n\u001b[1;32m     97\u001b[0m         peakscount \u001b[38;5;241m=\u001b[39m \u001b[38;5;241m0\u001b[39m\n",
      "\u001b[0;31mKeyError\u001b[0m: 'num peaks'",
      "\nThe above exception was the direct cause of the following exception:\n",
      "\u001b[0;31mValueError\u001b[0m                                Traceback (most recent call last)",
      "Cell \u001b[0;32mIn[27], line 1\u001b[0m\n\u001b[0;32m----> 1\u001b[0m shit \u001b[38;5;241m=\u001b[39m \u001b[38;5;28;43mlist\u001b[39;49m\u001b[43m(\u001b[49m\u001b[43mparse_msp_file\u001b[49m\u001b[43m(\u001b[49m\u001b[38;5;124;43m'\u001b[39;49m\u001b[38;5;124;43mshit.msp\u001b[39;49m\u001b[38;5;124;43m'\u001b[39;49m\u001b[43m)\u001b[49m\u001b[43m)\u001b[49m\n",
      "File \u001b[0;32m/opt/jovyan/lib/python3.8/site-packages/matchms/importing/load_from_msp.py:111\u001b[0m, in \u001b[0;36mparse_msp_file\u001b[0;34m(filename)\u001b[0m\n\u001b[1;32m    108\u001b[0m             peak_comments \u001b[38;5;241m=\u001b[39m {}\n\u001b[1;32m    110\u001b[0m     \u001b[38;5;28;01mexcept\u001b[39;00m \u001b[38;5;167;01mKeyError\u001b[39;00m \u001b[38;5;28;01mas\u001b[39;00m e:\n\u001b[0;32m--> 111\u001b[0m          \u001b[38;5;28;01mraise\u001b[39;00m \u001b[38;5;167;01mValueError\u001b[39;00m(\u001b[38;5;124mf\u001b[39m\u001b[38;5;124m'\u001b[39m\u001b[38;5;124mline: \u001b[39m\u001b[38;5;132;01m{\u001b[39;00mlineno\u001b[38;5;132;01m}\u001b[39;00m\u001b[38;5;124m'\u001b[39m) \u001b[38;5;28;01mfrom\u001b[39;00m \u001b[38;5;21;01me\u001b[39;00m\n\u001b[1;32m    113\u001b[0m lineno \u001b[38;5;241m+\u001b[39m\u001b[38;5;241m=\u001b[39m \u001b[38;5;241m1\u001b[39m\n",
      "\u001b[0;31mValueError\u001b[0m: line: 49201"
     ]
    }
   ],
   "source": [
    "shit = list(parse_msp_file('shit.msp'))"
   ]
  },
  {
   "cell_type": "code",
   "execution_count": 28,
   "id": "1ff57fcb-d45c-46bf-b7ec-7a244082e678",
   "metadata": {
    "tags": []
   },
   "outputs": [],
   "source": [
    "shit0 = list(parse_msp_file('shit0.msp'))"
   ]
  },
  {
   "cell_type": "code",
   "execution_count": 36,
   "id": "dc36c34f-894e-4fe6-a5d0-8f5390f7e260",
   "metadata": {
    "tags": []
   },
   "outputs": [],
   "source": [
    "shit10000 = list(parse_msp_file('shit10000.msp'))"
   ]
  },
  {
   "cell_type": "code",
   "execution_count": 43,
   "id": "857bed84-3309-44e9-b081-f83ccf3b7b9f",
   "metadata": {
    "tags": []
   },
   "outputs": [
    {
     "ename": "ValueError",
     "evalue": "line: 4450",
     "output_type": "error",
     "traceback": [
      "\u001b[0;31m---------------------------------------------------------------------------\u001b[0m",
      "\u001b[0;31mKeyError\u001b[0m                                  Traceback (most recent call last)",
      "File \u001b[0;32m/opt/jovyan/lib/python3.8/site-packages/matchms/importing/load_from_msp.py:96\u001b[0m, in \u001b[0;36mparse_msp_file\u001b[0;34m(filename)\u001b[0m\n\u001b[1;32m     95\u001b[0m \u001b[38;5;28;01mtry\u001b[39;00m:\n\u001b[0;32m---> 96\u001b[0m     \u001b[38;5;28;01mif\u001b[39;00m \u001b[38;5;28mint\u001b[39m(\u001b[43mparams\u001b[49m\u001b[43m[\u001b[49m\u001b[38;5;124;43m'\u001b[39;49m\u001b[38;5;124;43mnum peaks\u001b[39;49m\u001b[38;5;124;43m'\u001b[39;49m\u001b[43m]\u001b[49m) \u001b[38;5;241m==\u001b[39m peakscount:\n\u001b[1;32m     97\u001b[0m         peakscount \u001b[38;5;241m=\u001b[39m \u001b[38;5;241m0\u001b[39m\n",
      "\u001b[0;31mKeyError\u001b[0m: 'num peaks'",
      "\nThe above exception was the direct cause of the following exception:\n",
      "\u001b[0;31mValueError\u001b[0m                                Traceback (most recent call last)",
      "Cell \u001b[0;32mIn[43], line 1\u001b[0m\n\u001b[0;32m----> 1\u001b[0m shit10001 \u001b[38;5;241m=\u001b[39m \u001b[38;5;28;43mlist\u001b[39;49m\u001b[43m(\u001b[49m\u001b[43mparse_msp_file\u001b[49m\u001b[43m(\u001b[49m\u001b[38;5;124;43m'\u001b[39;49m\u001b[38;5;124;43mshit10001.msp\u001b[39;49m\u001b[38;5;124;43m'\u001b[39;49m\u001b[43m)\u001b[49m\u001b[43m)\u001b[49m\n",
      "File \u001b[0;32m/opt/jovyan/lib/python3.8/site-packages/matchms/importing/load_from_msp.py:111\u001b[0m, in \u001b[0;36mparse_msp_file\u001b[0;34m(filename)\u001b[0m\n\u001b[1;32m    108\u001b[0m             peak_comments \u001b[38;5;241m=\u001b[39m {}\n\u001b[1;32m    110\u001b[0m     \u001b[38;5;28;01mexcept\u001b[39;00m \u001b[38;5;167;01mKeyError\u001b[39;00m \u001b[38;5;28;01mas\u001b[39;00m e:\n\u001b[0;32m--> 111\u001b[0m          \u001b[38;5;28;01mraise\u001b[39;00m \u001b[38;5;167;01mValueError\u001b[39;00m(\u001b[38;5;124mf\u001b[39m\u001b[38;5;124m'\u001b[39m\u001b[38;5;124mline: \u001b[39m\u001b[38;5;132;01m{\u001b[39;00mlineno\u001b[38;5;132;01m}\u001b[39;00m\u001b[38;5;124m'\u001b[39m) \u001b[38;5;28;01mfrom\u001b[39;00m \u001b[38;5;21;01me\u001b[39;00m\n\u001b[1;32m    113\u001b[0m lineno \u001b[38;5;241m+\u001b[39m\u001b[38;5;241m=\u001b[39m \u001b[38;5;241m1\u001b[39m\n",
      "\u001b[0;31mValueError\u001b[0m: line: 4450"
     ]
    }
   ],
   "source": [
    "shit10001 = list(parse_msp_file('shit10001.msp'))"
   ]
  },
  {
   "cell_type": "code",
   "execution_count": 35,
   "id": "025a939a-170d-4d4f-bdb2-fc27c6e6a910",
   "metadata": {
    "tags": []
   },
   "outputs": [],
   "source": [
    "shit1001 = list(parse_msp_file('shit1001.msp'))"
   ]
  },
  {
   "cell_type": "code",
   "execution_count": 33,
   "id": "5dedab09-b040-4e2f-b0ab-e8930827873c",
   "metadata": {
    "tags": []
   },
   "outputs": [],
   "source": [
    "shit101 = list(parse_msp_file('shit101.msp'))"
   ]
  },
  {
   "cell_type": "code",
   "execution_count": 31,
   "id": "9f2934d3-922a-478c-a3a8-c877cdf3e257",
   "metadata": {
    "tags": []
   },
   "outputs": [],
   "source": [
    "shit11 = list(parse_msp_file('shit11.msp'))"
   ]
  },
  {
   "cell_type": "code",
   "execution_count": 42,
   "id": "09a64b5f-1e56-4e9c-8754-53e4dc58c621",
   "metadata": {
    "tags": []
   },
   "outputs": [
    {
     "ename": "ValueError",
     "evalue": "line: 4450",
     "output_type": "error",
     "traceback": [
      "\u001b[0;31m---------------------------------------------------------------------------\u001b[0m",
      "\u001b[0;31mKeyError\u001b[0m                                  Traceback (most recent call last)",
      "File \u001b[0;32m/opt/jovyan/lib/python3.8/site-packages/matchms/importing/load_from_msp.py:96\u001b[0m, in \u001b[0;36mparse_msp_file\u001b[0;34m(filename)\u001b[0m\n\u001b[1;32m     95\u001b[0m \u001b[38;5;28;01mtry\u001b[39;00m:\n\u001b[0;32m---> 96\u001b[0m     \u001b[38;5;28;01mif\u001b[39;00m \u001b[38;5;28mint\u001b[39m(\u001b[43mparams\u001b[49m\u001b[43m[\u001b[49m\u001b[38;5;124;43m'\u001b[39;49m\u001b[38;5;124;43mnum peaks\u001b[39;49m\u001b[38;5;124;43m'\u001b[39;49m\u001b[43m]\u001b[49m) \u001b[38;5;241m==\u001b[39m peakscount:\n\u001b[1;32m     97\u001b[0m         peakscount \u001b[38;5;241m=\u001b[39m \u001b[38;5;241m0\u001b[39m\n",
      "\u001b[0;31mKeyError\u001b[0m: 'num peaks'",
      "\nThe above exception was the direct cause of the following exception:\n",
      "\u001b[0;31mValueError\u001b[0m                                Traceback (most recent call last)",
      "Cell \u001b[0;32mIn[42], line 1\u001b[0m\n\u001b[0;32m----> 1\u001b[0m shit2 \u001b[38;5;241m=\u001b[39m \u001b[38;5;28;43mlist\u001b[39;49m\u001b[43m(\u001b[49m\u001b[43mparse_msp_file\u001b[49m\u001b[43m(\u001b[49m\u001b[38;5;124;43m'\u001b[39;49m\u001b[38;5;124;43mshit2.msp\u001b[39;49m\u001b[38;5;124;43m'\u001b[39;49m\u001b[43m)\u001b[49m\u001b[43m)\u001b[49m\n",
      "File \u001b[0;32m/opt/jovyan/lib/python3.8/site-packages/matchms/importing/load_from_msp.py:111\u001b[0m, in \u001b[0;36mparse_msp_file\u001b[0;34m(filename)\u001b[0m\n\u001b[1;32m    108\u001b[0m             peak_comments \u001b[38;5;241m=\u001b[39m {}\n\u001b[1;32m    110\u001b[0m     \u001b[38;5;28;01mexcept\u001b[39;00m \u001b[38;5;167;01mKeyError\u001b[39;00m \u001b[38;5;28;01mas\u001b[39;00m e:\n\u001b[0;32m--> 111\u001b[0m          \u001b[38;5;28;01mraise\u001b[39;00m \u001b[38;5;167;01mValueError\u001b[39;00m(\u001b[38;5;124mf\u001b[39m\u001b[38;5;124m'\u001b[39m\u001b[38;5;124mline: \u001b[39m\u001b[38;5;132;01m{\u001b[39;00mlineno\u001b[38;5;132;01m}\u001b[39;00m\u001b[38;5;124m'\u001b[39m) \u001b[38;5;28;01mfrom\u001b[39;00m \u001b[38;5;21;01me\u001b[39;00m\n\u001b[1;32m    113\u001b[0m lineno \u001b[38;5;241m+\u001b[39m\u001b[38;5;241m=\u001b[39m \u001b[38;5;241m1\u001b[39m\n",
      "\u001b[0;31mValueError\u001b[0m: line: 4450"
     ]
    }
   ],
   "source": [
    "shit2 = list(parse_msp_file('shit2.msp'))"
   ]
  },
  {
   "cell_type": "code",
   "execution_count": 44,
   "id": "13628535-f62f-4745-8e9d-1c058f614447",
   "metadata": {
    "tags": []
   },
   "outputs": [],
   "source": [
    "nist = list(parse_msp_file('../train-new.msp'))"
   ]
  },
  {
   "cell_type": "code",
   "execution_count": 45,
   "id": "30f20145-30cc-4692-bd35-d601bff52b9f",
   "metadata": {
    "tags": []
   },
   "outputs": [
    {
     "data": {
      "text/plain": [
       "695310"
      ]
     },
     "execution_count": 45,
     "metadata": {},
     "output_type": "execute_result"
    }
   ],
   "source": [
    "len(nist)"
   ]
  },
  {
   "cell_type": "code",
   "execution_count": 48,
   "id": "c4a9ced1-7129-42e2-bfcf-1aa6fd2d767f",
   "metadata": {
    "tags": []
   },
   "outputs": [
    {
     "data": {
      "text/plain": [
       "695310"
      ]
     },
     "execution_count": 48,
     "metadata": {},
     "output_type": "execute_result"
    }
   ],
   "source": [
    "from matchms.importing import load_from_msp\n",
    "nist2 = list(load_from_msp('../train-new.msp', metadata_harmonization=False))\n",
    "len(nist2)"
   ]
  },
  {
   "cell_type": "code",
   "execution_count": 51,
   "id": "cdc79498-c0ba-496b-a4b7-272017d4fc97",
   "metadata": {
    "tags": []
   },
   "outputs": [
    {
     "data": {
      "text/plain": [
       "{'formula': 'C13H15ClN2O2',\n",
       " 'mw': '266',\n",
       " 'casno': '21424-91-9',\n",
       " 'id': '154987',\n",
       " 'comment': 'NIST MS# 260936, Seq# R31540 |RI:2377|',\n",
       " 'inchi': 'InChI=1S/C13H15ClN2O2/c1-18-10-2-3-12-11(6-10)9(8-16-12)4-5-15-13(17)7-14/h2-3,6,8,16H,4-5,7H2,1H3,(H,15,17)',\n",
       " 'inchikey': 'UCLPNTKRPMTACI-UHFFFAOYSA-N',\n",
       " 'iupac_name': '2-chloro-N-[2-(5-methoxy-1H-indol-3-yl)ethyl]acetamide',\n",
       " 'smiles': 'COC1=CC2=C(C=C1)NC=C2CCNC(=O)CCl',\n",
       " 'compound_name': 'N-(1-Chloroacetyl)-5-methoxytryptamine',\n",
       " 'retention_index': '2377',\n",
       " 'num_peaks': '162'}"
      ]
     },
     "execution_count": 51,
     "metadata": {},
     "output_type": "execute_result"
    }
   ],
   "source": [
    "nist2[1].metadata"
   ]
  },
  {
   "cell_type": "code",
   "execution_count": null,
   "id": "0cd31bc9-4f54-4003-aec2-f34133803848",
   "metadata": {},
   "outputs": [],
   "source": [
    "# C19H17NO5 num peaks 226\n",
    "# C9H9BrO2\n",
    "\n",
    "# l. 51043319 v puvodnim train.msp"
   ]
  },
  {
   "cell_type": "code",
   "execution_count": null,
   "id": "b0c45799-f6b2-4400-ad09-6b822b315410",
   "metadata": {
    "tags": []
   },
   "outputs": [],
   "source": [
    "n = p.__next__()\n",
    "n"
   ]
  },
  {
   "cell_type": "code",
   "execution_count": null,
   "id": "21c6b3f9-5092-4838-a5b3-b292d7b1493b",
   "metadata": {
    "tags": []
   },
   "outputs": [],
   "source": [
    "n['params']['smiles']"
   ]
  },
  {
   "cell_type": "code",
   "execution_count": null,
   "id": "3430a5ee-6ab2-42de-84b0-25210da1aeb0",
   "metadata": {
    "tags": []
   },
   "outputs": [],
   "source": [
    "last"
   ]
  },
  {
   "cell_type": "code",
   "execution_count": null,
   "id": "f6c2783d-e307-4112-bfbe-53c3326496c9",
   "metadata": {
    "tags": []
   },
   "outputs": [],
   "source": [
    "n.metadata"
   ]
  },
  {
   "cell_type": "code",
   "execution_count": 64,
   "id": "bc90bade-500e-45f0-a17a-2278484f6dd8",
   "metadata": {
    "tags": []
   },
   "outputs": [],
   "source": [
    "# valid_atoms = {1, 6, 7, 8, 9, 15, 16, 17}\n",
    "# FIXME: rassp/msutil/shared.h\n",
    "# not acceptable, narrows down the model too much, we need Br, Si at least\n",
    "\n",
    "# fixed:\n",
    "valid_atoms = {1, 5, 6, 7, 8, 9, 14, 15, 16, 17, 35, 53}\n",
    "\n",
    "# requires isotopic data in rassp/msutil/floatmasseval_per_elt_peaks.h\n",
    "\n",
    "# dtto MAX_N == 48\n",
    "\n",
    "def mkdf(nist2):\n",
    "    missing = dict()\n",
    "    mols = [ ]\n",
    "    spects = []\n",
    "    smiles = []\n",
    "    for i,n in enumerate(nist2):\n",
    "        if n.metadata.get('smiles') is None:\n",
    "            print(i,'no smiles')\n",
    "            continue\n",
    "        mol = Chem.MolFromSmiles(n.metadata['smiles'])\n",
    "        if mol is None: \n",
    "            print(i,n.metadata['smiles'][:100],'... cant parse')\n",
    "            continue \n",
    "        mol = Chem.AddHs(mol)\n",
    "        if mol is None: \n",
    "            print(i,n.metadata['smiles'],'... cant add Hs')\n",
    "            continue \n",
    "            \n",
    "        if len(mol.GetAtoms()) > 48:\n",
    "            print(i,n.metadata['smiles'],'... too many atoms')\n",
    "            continue\n",
    "        \n",
    "        atoms = { a.GetAtomicNum() for a in mol.GetAtoms() }\n",
    "        if not atoms < valid_atoms:\n",
    "            for e in atoms - valid_atoms:\n",
    "                missing[e] = missing.get(e,0)+1\n",
    "                \n",
    "            print(i,n.metadata['smiles'],atoms,'... invalid atom')\n",
    "            continue\n",
    "        \n",
    "        mols.append(mol.ToBinary())\n",
    "        a = np.stack([n.peaks.mz, n.peaks.intensities], axis=1)\n",
    "        b = np.empty(shape=(a.shape[0],),dtype=object)\n",
    "        b[:] = list(a)\n",
    "        spects.append(b)\n",
    "        smiles.append(n.metadata['smiles'])\n",
    "\n",
    "    df = pd.DataFrame.from_dict({ 'rdmol' : mols, 'spect' : spects, 'smiles' : smiles })\n",
    "    return df,missing"
   ]
  },
  {
   "cell_type": "code",
   "execution_count": 65,
   "id": "29316e05-ab21-4df5-8120-2cd6e880f0c3",
   "metadata": {
    "tags": []
   },
   "outputs": [],
   "source": [
    "%%capture\n",
    "trd,missing = mkdf(nist)"
   ]
  },
  {
   "cell_type": "code",
   "execution_count": 66,
   "id": "bdfdde04-95ca-44e9-a81c-1b80f3d7ab0f",
   "metadata": {
    "tags": []
   },
   "outputs": [
    {
     "data": {
      "text/plain": [
       "[(92, 1),\n",
       " (58, 1),\n",
       " (20, 1),\n",
       " (57, 1),\n",
       " (54, 1),\n",
       " (64, 1),\n",
       " (41, 1),\n",
       " (19, 1),\n",
       " (36, 1),\n",
       " (55, 1),\n",
       " (18, 1),\n",
       " (48, 2),\n",
       " (73, 2),\n",
       " (81, 2),\n",
       " (76, 3),\n",
       " (77, 3),\n",
       " (3, 4),\n",
       " (49, 4),\n",
       " (78, 4),\n",
       " (72, 4),\n",
       " (4, 5),\n",
       " (12, 5),\n",
       " (46, 8),\n",
       " (83, 8),\n",
       " (44, 8),\n",
       " (11, 8),\n",
       " (47, 12),\n",
       " (13, 12),\n",
       " (40, 15),\n",
       " (75, 16),\n",
       " (51, 18),\n",
       " (29, 19),\n",
       " (82, 20),\n",
       " (52, 26),\n",
       " (45, 28),\n",
       " (22, 32),\n",
       " (30, 38),\n",
       " (23, 40),\n",
       " (74, 44),\n",
       " (42, 45),\n",
       " (80, 54),\n",
       " (28, 56),\n",
       " (25, 61),\n",
       " (27, 106),\n",
       " (24, 122),\n",
       " (32, 127),\n",
       " (33, 186),\n",
       " (50, 192),\n",
       " (26, 272),\n",
       " (34, 438)]"
      ]
     },
     "execution_count": 66,
     "metadata": {},
     "output_type": "execute_result"
    }
   ],
   "source": [
    "sorted(missing.items(),key=lambda x: x[1])"
   ]
  },
  {
   "cell_type": "code",
   "execution_count": 67,
   "id": "cba6b9eb-8b89-4762-a3d2-6e1186d3d919",
   "metadata": {},
   "outputs": [],
   "source": [
    "test_mask = np.random.choice([True, False], p=[.2,.8], size=len(trd))\n",
    "trd[test_mask == False].to_parquet('train.pq')\n",
    "trd[test_mask].to_parquet('test.pq')\n"
   ]
  },
  {
   "cell_type": "code",
   "execution_count": null,
   "id": "24cf971c-133d-425c-a4de-13de31ee6b78",
   "metadata": {},
   "outputs": [],
   "source": []
  }
 ],
 "metadata": {
  "kernelspec": {
   "display_name": "Python 3 (ipykernel)",
   "language": "python",
   "name": "python3"
  },
  "language_info": {
   "codemirror_mode": {
    "name": "ipython",
    "version": 3
   },
   "file_extension": ".py",
   "mimetype": "text/x-python",
   "name": "python",
   "nbconvert_exporter": "python",
   "pygments_lexer": "ipython3",
   "version": "3.8.10"
  }
 },
 "nbformat": 4,
 "nbformat_minor": 5
}
