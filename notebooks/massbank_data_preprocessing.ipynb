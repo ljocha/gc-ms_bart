{
 "cells": [
  {
   "cell_type": "markdown",
   "metadata": {},
   "source": [
    "## MASS BANK\n",
    "Preparation of the for coparison with DeepEI. We want to mimic the DeepEI MassBank test set as closely as possible while respecting\n",
    "different training sets of SpecTUS and DeepEI. In DeepEI github repository, there is a list of testing data (msbk_smiles.json) \n",
    "and list of SMILES that was separated as NIST overlap (neims_msbk_smiles.json). We will create a complement of the neims_msbk_smiles.json\n",
    "in msbk_smiles.json and from this set we remove all the SpectTUS training data. The remaining data will be used as a test against DeepEI.\n"
   ]
  },
  {
   "cell_type": "code",
   "execution_count": null,
   "metadata": {},
   "outputs": [],
   "source": [
    "import sys\n",
    "sys.path.append(\"..\")\n",
    "from utils.spectra_process_utils import msp2jsonl, remove_stereochemistry_and_canonicalize\n",
    "from matchms.importing import load_from_msp\n",
    "from matchms.exporting import save_as_msp\n",
    "import pandas as pd\n",
    "from matchms import Spectrum\n",
    "from pathlib import Path"
   ]
  },
  {
   "cell_type": "markdown",
   "metadata": {},
   "source": [
    "#### Load all pretraining SMILES"
   ]
  },
  {
   "cell_type": "code",
   "execution_count": null,
   "metadata": {},
   "outputs": [],
   "source": [
    "data_path_synth1 = \"../clean_paper/data/synth/neims_custom_gen/train.jsonl\"\n",
    "data_path_synth2 = \"../data/datasets/4_8M/rassp_gen_rounded/train.jsonl\"\n",
    "\n",
    "df2 = pd.read_json(data_path_synth2, lines=True)\n",
    "df1 = pd.read_json(data_path_synth1, lines=True)"
   ]
  },
  {
   "cell_type": "code",
   "execution_count": null,
   "metadata": {},
   "outputs": [],
   "source": [
    "synth1_smiles = set(df1.smiles)\n",
    "synth2_smiles = set(df2.smiles)"
   ]
  },
  {
   "cell_type": "markdown",
   "metadata": {},
   "source": [
    "#### Load all MASSBANK data\n",
    "And canonicalize smiles + remove destereo information"
   ]
  },
  {
   "cell_type": "code",
   "execution_count": null,
   "metadata": {},
   "outputs": [],
   "source": [
    "mb_spectra = list(load_from_msp(\"../clean_paper/data/massbank/GCMS DB-Public-KovatsRI-VS3.msp\", metadata_harmonization=False))"
   ]
  },
  {
   "cell_type": "code",
   "execution_count": null,
   "metadata": {},
   "outputs": [],
   "source": [
    "canon_mb_spectra = [Spectrum(mz=s.mz,\n",
    "                             intensities=s.intensities,\n",
    "                             metadata={\"smiles\": remove_stereochemistry_and_canonicalize(s.metadata[\"smiles\"])})\n",
    "                             for s in mb_spectra]"
   ]
  },
  {
   "cell_type": "code",
   "execution_count": null,
   "metadata": {},
   "outputs": [],
   "source": [
    "mb_smiles = set([s.metadata[\"smiles\"] for s in canon_mb_spectra])"
   ]
  },
  {
   "cell_type": "code",
   "execution_count": null,
   "metadata": {},
   "outputs": [
    {
     "data": {
      "text/plain": [
       "(8651, 28008)"
      ]
     },
     "metadata": {},
     "output_type": "display_data"
    }
   ],
   "source": [
    "len(mb_smiles), len(canon_mb_spectra)"
   ]
  },
  {
   "cell_type": "markdown",
   "metadata": {},
   "source": [
    "#### Load DeepEI test SMILES \n",
    "\n",
    "- Load all SMILES marked as MASSBANK SMILES in DeepEI.\n",
    "- Load all SMILES marked as MASSBANK-NEIMS in DeepEI."
   ]
  },
  {
   "cell_type": "code",
   "execution_count": null,
   "metadata": {},
   "outputs": [],
   "source": [
    "deepei_smiles = set(pd.read_json(\"../clean_paper/data/massbank/msbk_smiles.json\")[0])\n",
    "deepei_neims_smiles = set(pd.read_json(\"../clean_paper/data/massbank/msbk_smiles_neims.json\")[0])"
   ]
  },
  {
   "cell_type": "code",
   "execution_count": null,
   "metadata": {},
   "outputs": [],
   "source": [
    "canon_deepei_smiles = set([remove_stereochemistry_and_canonicalize(s) for s in deepei_smiles])\n",
    "canon_deepei_neims_smiles = set([remove_stereochemistry_and_canonicalize(s) for s in deepei_neims_smiles])"
   ]
  },
  {
   "cell_type": "markdown",
   "metadata": {},
   "source": [
    "#### Load all NIST data"
   ]
  },
  {
   "cell_type": "code",
   "execution_count": null,
   "metadata": {},
   "outputs": [],
   "source": [
    "nist_train = set(pd.read_csv(\"../clean_paper/data/nist/train.smi\", header=None, names=[\"smiles\"]).smiles)\n",
    "nist_test = set(pd.read_csv(\"../clean_paper/data/nist/test.smi\", header=None, names=[\"smiles\"]).smiles)\n",
    "nist_valid = set(pd.read_csv(\"../clean_paper/data/nist/valid.smi\", header=None, names=[\"smiles\"]).smiles)\n",
    "all_nist_smiles = nist_train.union(nist_test).union(nist_valid)"
   ]
  },
  {
   "cell_type": "code",
   "execution_count": null,
   "metadata": {},
   "outputs": [
    {
     "data": {
      "text/plain": [
       "243304"
      ]
     },
     "metadata": {},
     "output_type": "display_data"
    }
   ],
   "source": [
    "len(all_nist_smiles)"
   ]
  },
  {
   "cell_type": "markdown",
   "metadata": {},
   "source": [
    "#### Try to replicate the deepEI non-NIST dataset\n",
    "(as closeely as possible)"
   ]
  },
  {
   "cell_type": "code",
   "execution_count": null,
   "metadata": {},
   "outputs": [
    {
     "name": "stdout",
     "output_type": "stream",
     "text": [
      "Num of unique DeepEI non-NEIMS smiles: 3939\n"
     ]
    }
   ],
   "source": [
    "deepei_non_neims_smiles = canon_deepei_smiles - canon_deepei_neims_smiles\n",
    "print(\"Num of unique DeepEI non-NEIMS smiles:\", len(deepei_non_neims_smiles))"
   ]
  },
  {
   "cell_type": "code",
   "execution_count": null,
   "metadata": {},
   "outputs": [
    {
     "name": "stdout",
     "output_type": "stream",
     "text": [
      "non-neims deepei and synth1: 0\n",
      "non-neims deepei and synth2: 24\n",
      "non-neims deepei and NIST train: 2999\n"
     ]
    }
   ],
   "source": [
    "# print overlaps\n",
    "print(\"non-neims deepei and synth1:\", len(deepei_non_neims_smiles.intersection(synth1_smiles)))\n",
    "print(\"non-neims deepei and synth2:\", len(deepei_non_neims_smiles.intersection(synth2_smiles)))\n",
    "print(\"non-neims deepei and NIST train:\", len(deepei_non_neims_smiles.intersection(nist_train)))"
   ]
  },
  {
   "cell_type": "code",
   "execution_count": null,
   "metadata": {},
   "outputs": [],
   "source": [
    "mb_test_set = deepei_non_neims_smiles - nist_train - synth1_smiles - synth2_smiles"
   ]
  },
  {
   "cell_type": "code",
   "execution_count": null,
   "metadata": {},
   "outputs": [
    {
     "name": "stdout",
     "output_type": "stream",
     "text": [
      "non-neims deepei without our training compounds: 934\n"
     ]
    }
   ],
   "source": [
    "len(mb_test_set)\n",
    "print(\"non-neims deepei without our training compounds:\", len(mb_test_set))"
   ]
  },
  {
   "cell_type": "code",
   "execution_count": null,
   "metadata": {},
   "outputs": [],
   "source": [
    "clean_non_neims_mb_spectra = [s for s in canon_mb_spectra if s.metadata[\"smiles\"] in mb_test_set]"
   ]
  },
  {
   "cell_type": "code",
   "execution_count": null,
   "metadata": {},
   "outputs": [
    {
     "name": "stdout",
     "output_type": "stream",
     "text": [
      "Num of spectra in the non-NEIMS DeepEI set: 2632\n"
     ]
    }
   ],
   "source": [
    "print(\"Num of spectra in the non-NEIMS DeepEI set:\", len(clean_non_neims_mb_spectra))"
   ]
  },
  {
   "cell_type": "code",
   "execution_count": null,
   "metadata": {},
   "outputs": [],
   "source": [
    "# save the filtered spectra\n",
    "save_as_msp(clean_non_neims_mb_spectra, \"../clean_paper/data/massbank/deepei_non_nist_test.msp\")"
   ]
  },
  {
   "cell_type": "markdown",
   "metadata": {},
   "source": [
    "#### Convert the filtered MSP to JSONL"
   ]
  },
  {
   "cell_type": "code",
   "execution_count": null,
   "metadata": {},
   "outputs": [
    {
     "name": "stderr",
     "output_type": "stream",
     "text": [
      "100%|██████████| 2632/2632 [00:00<00:00, 5656.76it/s]\n"
     ]
    }
   ],
   "source": [
    "msp2jsonl(Path(\"../clean_paper/data/massbank/deepei_non_nist_test.msp\"),\n",
    "          do_preprocess=False,\n",
    "          keep_spectra=True\n",
    "          )"
   ]
  }
 ],
 "metadata": {
  "language_info": {
   "name": "python"
  }
 },
 "nbformat": 4,
 "nbformat_minor": 2
}
