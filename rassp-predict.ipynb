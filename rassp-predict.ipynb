{
 "cells": [
  {
   "cell_type": "code",
   "execution_count": 6,
   "id": "be888396-7692-4f3d-8432-d5ffcd388122",
   "metadata": {
    "tags": []
   },
   "outputs": [],
   "source": [
    "import pickle\n",
    "from rassp import netutil\n",
    "import os\n",
    "import torch\n",
    "\n",
    "use_gpu=True\n",
    "#model_dir='checkpoints'\n",
    "model_dir='zia5'\n",
    "\n",
    "\n",
    "MODELS = {\n",
    "    'FormulaNet': {\n",
    "        'checkpoint': os.path.join(model_dir, 'test.79149399.00000000.model'),\n",
    "        'meta': os.path.join(model_dir, 'test.79149399.meta'),\n",
    "\n",
    "        # NOTE(2023-01-24): FN currently has a reduced set of valid mol constraints bc this is what we trained with\n",
    "        # and there is currently an outstanding bug where changing N_ATOMS here breaks FN predictions in subtle ways.\n",
    "        'override_constraints': {\n",
    "            'n_atom': 48,\n",
    "            # 'n_formula': 4096,\n",
    "            'n_formula': 100000,\n",
    "            # 'n_subset': 12288,\n",
    "            'n_subset': 49152,\n",
    "        },\n",
    "    },\n",
    "}\n",
    "\n",
    "model_name='FormulaNet'\n",
    "meta_path = MODELS[model_name]['meta']\n",
    "ckpt_path = MODELS[model_name]['checkpoint']\n",
    "override_constraints = MODELS[model_name]['override_constraints']\n",
    "meta = pickle.load(open(meta_path, 'rb'))\n",
    "\n",
    "feat_config = meta['featurize_config']\n",
    "for key, val in override_constraints.items():\n",
    "    if key == 'n_atom':\n",
    "        feat_config['MAX_N'] = val\n",
    "    if key == 'n_formula':\n",
    "        feat_config['explicit_formulae_config']['max_formulae'] = val\n",
    "    if key == 'n_subset':\n",
    "        feat_config['vert_subset_samples_n'] = val\n",
    "\n",
    "if use_gpu and not torch.cuda.is_available():\n",
    "    use_gpu = False\n",
    "\n",
    "predictor = netutil.PredModel(\n",
    "    meta_path,\n",
    "    ckpt_path,\n",
    "    USE_CUDA=use_gpu,\n",
    "    data_parallel=False,\n",
    "    featurize_config_update=feat_config,\n",
    ")\n"
   ]
  },
  {
   "cell_type": "code",
   "execution_count": null,
   "id": "e3dabe59-38b7-4c75-bfb0-364fa5e30cc1",
   "metadata": {},
   "outputs": [],
   "source": []
  },
  {
   "cell_type": "code",
   "execution_count": 1,
   "id": "1af13167-af64-4155-a31d-6822eb33d0d7",
   "metadata": {
    "tags": []
   },
   "outputs": [],
   "source": [
    "import pandas as pd\n",
    "trd = pd.read_parquet('test.pq')"
   ]
  },
  {
   "cell_type": "code",
   "execution_count": 23,
   "id": "11da26fd-6556-4acb-a5a7-1557e3164d00",
   "metadata": {
    "tags": []
   },
   "outputs": [],
   "source": [
    "from rdkit import Chem\n",
    "\n",
    "molidx = [ 14,42,815,1414 ]\n",
    "\n",
    "smiles = list(trd.iloc[molidx].smiles)\n",
    "\n",
    "smiles = ['N#Cc1ccc([nH]1)C(=O)N1CC2C(C1)C2NC(=O)CCC1CCOC1']\n",
    "#smiles = ['CC(=O)NC(=O)c1cc2ccc(cc2oc1=Nc1ccc(cc1Cl)Cl)OC(=O)C']\n",
    "valid_mols = [ Chem.AddHs(Chem.MolFromSmiles(s)) for s in smiles ]"
   ]
  },
  {
   "cell_type": "code",
   "execution_count": 24,
   "id": "89f514b7-2e16-4c51-8614-83471eda7f85",
   "metadata": {
    "tags": []
   },
   "outputs": [
    {
     "data": {
      "image/png": "[encoded data removed]",
      "text/plain": [
       "<rdkit.Chem.rdchem.Mol at 0x7fa00910d660>"
      ]
     },
     "execution_count": 24,
     "metadata": {},
     "output_type": "execute_result"
    }
   ],
   "source": [
    "valid_mols[0]"
   ]
  },
  {
   "cell_type": "code",
   "execution_count": 25,
   "id": "2539a1b3-7ea2-437a-b995-159c7390002c",
   "metadata": {
    "tags": []
   },
   "outputs": [
    {
     "name": "stderr",
     "output_type": "stream",
     "text": [
      "100%|███████████████████████████████████████████████████████| 1.00/1.00 [00:00<00:00, 1.54it/s]\n"
     ]
    }
   ],
   "source": [
    "predictions = predictor.pred(\n",
    "    valid_mols,\n",
    "    progress_bar=True,\n",
    "    normalize_pred=True,\n",
    "    output_hist_bins=True,\n",
    "    batch_size=1, # XXX\n",
    "    dataloader_config={\n",
    "        'pin_memory': False,\n",
    "        'num_workers': 0, # XXX\n",
    "        'persistent_workers': False,\n",
    "    },\n",
    "    benchmark_dataloader=False,\n",
    ")"
   ]
  },
  {
   "cell_type": "code",
   "execution_count": 11,
   "id": "3017ce1f-3a92-461d-a045-36694c62650a",
   "metadata": {
    "tags": []
   },
   "outputs": [
    {
     "ename": "ImportError",
     "evalue": "cannot import name 'plot_spectra' from 'matchms' (/opt/conda/lib/python3.8/site-packages/matchms/__init__.py)",
     "output_type": "error",
     "traceback": [
      "\u001b[0;31m---------------------------------------------------------------------------\u001b[0m",
      "\u001b[0;31mImportError\u001b[0m                               Traceback (most recent call last)",
      "Cell \u001b[0;32mIn[11], line 1\u001b[0m\n\u001b[0;32m----> 1\u001b[0m \u001b[38;5;28;01mfrom\u001b[39;00m \u001b[38;5;21;01mmatchms\u001b[39;00m \u001b[38;5;28;01mimport\u001b[39;00m plot_spectra\n",
      "\u001b[0;31mImportError\u001b[0m: cannot import name 'plot_spectra' from 'matchms' (/opt/conda/lib/python3.8/site-packages/matchms/__init__.py)"
     ]
    }
   ],
   "source": []
  },
  {
   "cell_type": "code",
   "execution_count": 8,
   "id": "9697f0dc-15ea-4161-acaa-be1dbed36cb2",
   "metadata": {
    "tags": []
   },
   "outputs": [
    {
     "data": {
      "text/html": [
       "<div>\n",
       "<style scoped>\n",
       "    .dataframe tbody tr th:only-of-type {\n",
       "        vertical-align: middle;\n",
       "    }\n",
       "\n",
       "    .dataframe tbody tr th {\n",
       "        vertical-align: top;\n",
       "    }\n",
       "\n",
       "    .dataframe thead th {\n",
       "        text-align: right;\n",
       "    }\n",
       "</style>\n",
       "<table border=\"1\" class=\"dataframe\">\n",
       "  <thead>\n",
       "    <tr style=\"text-align: right;\">\n",
       "      <th></th>\n",
       "      <th>rdmol</th>\n",
       "      <th>spect</th>\n",
       "      <th>smiles</th>\n",
       "    </tr>\n",
       "  </thead>\n",
       "  <tbody>\n",
       "  </tbody>\n",
       "</table>\n",
       "</div>"
      ],
      "text/plain": [
       "Empty DataFrame\n",
       "Columns: [rdmol, spect, smiles]\n",
       "Index: []"
      ]
     },
     "execution_count": 8,
     "metadata": {},
     "output_type": "execute_result"
    }
   ],
   "source": [
    "idx=0\n",
    "\n",
    "shit_nist=trd[trd.smiles == smiles[idx]]\n",
    "shit_nist"
   ]
  },
  {
   "cell_type": "code",
   "execution_count": 7,
   "id": "71222437-8624-42a2-8386-4080ab470073",
   "metadata": {
    "tags": []
   },
   "outputs": [],
   "source": [
    "idx2=0"
   ]
  },
  {
   "cell_type": "code",
   "execution_count": 13,
   "id": "9ef46f2c-627b-4490-96bf-21ea5fa941b4",
   "metadata": {
    "tags": []
   },
   "outputs": [
    {
     "ename": "NameError",
     "evalue": "name 'idx2' is not defined",
     "output_type": "error",
     "traceback": [
      "\u001b[0;31m---------------------------------------------------------------------------\u001b[0m",
      "\u001b[0;31mNameError\u001b[0m                                 Traceback (most recent call last)",
      "Cell \u001b[0;32mIn[13], line 4\u001b[0m\n\u001b[1;32m      1\u001b[0m \u001b[38;5;28;01mimport\u001b[39;00m \u001b[38;5;21;01mmatchms\u001b[39;00m\n\u001b[1;32m      2\u001b[0m \u001b[38;5;28;01mimport\u001b[39;00m \u001b[38;5;21;01mnumpy\u001b[39;00m \u001b[38;5;28;01mas\u001b[39;00m \u001b[38;5;21;01mnp\u001b[39;00m\n\u001b[0;32m----> 4\u001b[0m mzi\u001b[38;5;241m=\u001b[39mnp\u001b[38;5;241m.\u001b[39marray(\u001b[38;5;28mlist\u001b[39m(shit_nist\u001b[38;5;241m.\u001b[39miloc[\u001b[43midx2\u001b[49m]\u001b[38;5;241m.\u001b[39mspect))\n\u001b[1;32m      5\u001b[0m shit1 \u001b[38;5;241m=\u001b[39m matchms\u001b[38;5;241m.\u001b[39mSpectrum(mz\u001b[38;5;241m=\u001b[39mmzi[:,\u001b[38;5;241m0\u001b[39m],intensities\u001b[38;5;241m=\u001b[39mmzi[:,\u001b[38;5;241m1\u001b[39m])\n\u001b[1;32m      6\u001b[0m mzi\u001b[38;5;241m=\u001b[39mpredictions[\u001b[38;5;124m'\u001b[39m\u001b[38;5;124mpred_binned\u001b[39m\u001b[38;5;124m'\u001b[39m][idx]\u001b[38;5;241m.\u001b[39mastype(\u001b[38;5;28mfloat\u001b[39m)\n",
      "\u001b[0;31mNameError\u001b[0m: name 'idx2' is not defined"
     ]
    }
   ],
   "source": [
    "import matchms\n",
    "import numpy as np\n",
    "\n",
    "mzi=np.array(list(shit_nist.iloc[idx2].spect))\n",
    "shit1 = matchms.Spectrum(mz=mzi[:,0],intensities=mzi[:,1])\n",
    "mzi=predictions['pred_binned'][idx].astype(float)\n",
    "shit2 = matchms.Spectrum(mz=mzi[:,0],intensities=mzi[:,1])"
   ]
  },
  {
   "cell_type": "code",
   "execution_count": 26,
   "id": "aa711b07-4245-409e-a3b3-29381aff7288",
   "metadata": {
    "tags": []
   },
   "outputs": [
    {
     "name": "stdout",
     "output_type": "stream",
     "text": [
      "2023-03-24 09:57:10,944:WARNING:matchms:add_precursor_mz:No precursor_mz found in metadata.\n"
     ]
    },
    {
     "name": "stderr",
     "output_type": "stream",
     "text": [
      "2023-03-24 09:57:10,944 - matchms - WARNING - No precursor_mz found in metadata.\n"
     ]
    },
    {
     "data": {
      "text/plain": [
       "(<Figure size 1600x1200 with 1 Axes>,\n",
       " <Axes: title={'center': 'Spectrum'}, xlabel='m/z', ylabel='Intensity'>)"
      ]
     },
     "execution_count": 26,
     "metadata": {},
     "output_type": "execute_result"
    },
    {
     "data": {
      "image/png": "[encoded data removed]",
      "text/plain": [
       "<Figure size 1600x1200 with 1 Axes>"
      ]
     },
     "metadata": {},
     "output_type": "display_data"
    }
   ],
   "source": [
    "mzi=predictions['pred_binned'][idx].astype(float)\n",
    "shit2 = matchms.Spectrum(mz=mzi[:,0],intensities=mzi[:,1])\n",
    "shit2.plot()"
   ]
  },
  {
   "cell_type": "code",
   "execution_count": 9,
   "id": "dbcf9e29-02ec-4909-9e5a-21f3cdd682e9",
   "metadata": {
    "tags": []
   },
   "outputs": [
    {
     "data": {
      "text/plain": [
       "<Axes: title={'center': 'Spectrum comparison'}, xlabel='m/z', ylabel='Intensity'>"
      ]
     },
     "execution_count": 9,
     "metadata": {},
     "output_type": "execute_result"
    },
    {
     "data": {
      "image/png": "[encoded data removed]",
      "text/plain": [
       "<Figure size 640x480 with 1 Axes>"
      ]
     },
     "metadata": {},
     "output_type": "display_data"
    }
   ],
   "source": [
    "from matchms.plotting import plot_spectra_mirror\n",
    "plot_spectra_mirror(shit1,shit2)"
   ]
  },
  {
   "cell_type": "code",
   "execution_count": null,
   "id": "f0f07606-c181-4029-8fa1-6d04d5d2ed8f",
   "metadata": {
    "tags": []
   },
   "outputs": [],
   "source": [
    "from matchms.plotting import plot_spectra_mirror\n",
    "plot_spectra_mirror(shit1,shit2)"
   ]
  },
  {
   "cell_type": "code",
   "execution_count": null,
   "id": "5b2254d8-0c12-4ae5-9baf-b7b1eaadd88c",
   "metadata": {},
   "outputs": [],
   "source": [
    "from matchms.plotting import plot_spectra_mirror\n",
    "plot_spectra_mirror(shit1,shit2)"
   ]
  },
  {
   "cell_type": "code",
   "execution_count": null,
   "id": "604c83e3-41ee-49b3-8ef6-cbf022a91e13",
   "metadata": {},
   "outputs": [],
   "source": [
    "from matchms.plotting import plot_spectra_mirror\n",
    "plot_spectra_mirror(shit1,shit2)"
   ]
  },
  {
   "cell_type": "code",
   "execution_count": null,
   "id": "065e2c10-1d98-479d-b09d-889028652aac",
   "metadata": {},
   "outputs": [],
   "source": []
  },
  {
   "cell_type": "code",
   "execution_count": null,
   "id": "21653e82-850d-49df-8d65-c62be407e247",
   "metadata": {},
   "outputs": [],
   "source": []
  },
  {
   "cell_type": "code",
   "execution_count": null,
   "id": "643da9f9-6149-423b-bf18-b00c5d7e5ae7",
   "metadata": {},
   "outputs": [],
   "source": []
  },
  {
   "cell_type": "code",
   "execution_count": null,
   "id": "38999a34-40ea-4a6a-83cf-a890377324f4",
   "metadata": {
    "tags": []
   },
   "outputs": [],
   "source": [
    "idx=2\n",
    "idx2=0\n",
    "shit_nist=trd[trd.smiles == smiles[idx]]\n",
    "mzi=np.array(list(shit_nist.iloc[idx2].spect))\n",
    "shit1 = matchms.Spectrum(mz=mzi[:,0],intensities=mzi[:,1])\n",
    "mzi=predictions['pred_binned'][idx].astype(float)\n",
    "shit2 = matchms.Spectrum(mz=mzi[:,0],intensities=mzi[:,1])\n",
    "plot_spectra_mirror(shit1,shit2)"
   ]
  },
  {
   "cell_type": "code",
   "execution_count": 13,
   "id": "b4cf36dd-e60c-4104-bebc-8a3f502eec5e",
   "metadata": {
    "tags": []
   },
   "outputs": [
    {
     "data": {
      "text/plain": [
       "{}"
      ]
     },
     "execution_count": 13,
     "metadata": {},
     "output_type": "execute_result"
    }
   ],
   "source": [
    "predictions"
   ]
  },
  {
   "cell_type": "code",
   "execution_count": 17,
   "id": "f08839c5-64af-48c2-89c5-aa91b0b6fee9",
   "metadata": {
    "tags": []
   },
   "outputs": [
    {
     "data": {
      "text/plain": [
       "[array([[1.00000000e+00, 4.05882238e-05],\n",
       "        [1.20000000e+01, 1.03801182e-02],\n",
       "        [1.30000000e+01, 5.02983574e-03],\n",
       "        [1.40000000e+01, 5.31718506e-05],\n",
       "        [1.90000000e+01, 4.39986074e-03],\n",
       "        [2.00000000e+01, 1.34620845e-04],\n",
       "        [2.40000000e+01, 2.37587914e-02],\n",
       "        [2.50000000e+01, 4.77210246e-02],\n",
       "        [2.60000000e+01, 1.02102547e-03],\n",
       "        [3.10000000e+01, 4.03453767e-01],\n",
       "        [3.20000000e+01, 8.23747441e-02],\n",
       "        [3.30000000e+01, 8.43513582e-04],\n",
       "        [4.30000000e+01, 1.16897844e-01],\n",
       "        [4.40000000e+01, 2.97511011e-01],\n",
       "        [4.50000000e+01, 6.38006767e-03]]),\n",
       " array([[1.00000000e+00, 1.18477612e-06],\n",
       "        [2.00000000e+00, 1.42983527e-06],\n",
       "        [3.00000000e+00, 3.32685840e-06],\n",
       "        [1.20000000e+01, 1.05999025e-05],\n",
       "        [1.30000000e+01, 9.75807416e-06],\n",
       "        [1.40000000e+01, 1.70982996e-04],\n",
       "        [1.50000000e+01, 2.62090564e-03],\n",
       "        [1.60000000e+01, 5.43861534e-04],\n",
       "        [1.70000000e+01, 4.31834604e-04],\n",
       "        [1.80000000e+01, 1.66597762e-04],\n",
       "        [1.90000000e+01, 1.55635882e-06],\n",
       "        [2.40000000e+01, 2.16787539e-05],\n",
       "        [2.50000000e+01, 5.11770719e-04],\n",
       "        [2.60000000e+01, 5.33585111e-03],\n",
       "        [2.70000000e+01, 3.13278809e-02],\n",
       "        [2.80000000e+01, 4.25803438e-02],\n",
       "        [2.90000000e+01, 3.39176506e-02],\n",
       "        [3.00000000e+01, 6.83589280e-01],\n",
       "        [3.10000000e+01, 1.11997072e-02],\n",
       "        [3.20000000e+01, 2.91681863e-05],\n",
       "        [3.60000000e+01, 2.38973415e-04],\n",
       "        [3.70000000e+01, 2.89618713e-03],\n",
       "        [3.80000000e+01, 5.84544428e-03],\n",
       "        [3.90000000e+01, 1.98143143e-02],\n",
       "        [4.00000000e+01, 6.15535956e-03],\n",
       "        [4.10000000e+01, 9.19799600e-03],\n",
       "        [4.20000000e+01, 8.84792581e-03],\n",
       "        [4.30000000e+01, 2.38713948e-03],\n",
       "        [4.40000000e+01, 2.85367644e-03],\n",
       "        [4.50000000e+01, 1.18208540e-04],\n",
       "        [4.60000000e+01, 1.42724411e-06],\n",
       "        [5.00000000e+01, 1.04827719e-04],\n",
       "        [5.10000000e+01, 4.18073294e-04],\n",
       "        [5.20000000e+01, 9.30572802e-04],\n",
       "        [5.30000000e+01, 9.19928600e-04],\n",
       "        [5.40000000e+01, 7.12111779e-03],\n",
       "        [5.50000000e+01, 5.07592876e-03],\n",
       "        [5.60000000e+01, 4.14066613e-02],\n",
       "        [5.70000000e+01, 7.06761405e-02],\n",
       "        [5.80000000e+01, 2.50582164e-03],\n",
       "        [5.90000000e+01, 8.29143028e-06]]),\n",
       " array([[1.20000000e+01, 3.73636476e-06],\n",
       "        [1.30000000e+01, 1.18690614e-05],\n",
       "        [1.40000000e+01, 2.41050384e-05],\n",
       "        [1.50000000e+01, 1.17599127e-04],\n",
       "        [1.60000000e+01, 8.28502016e-06],\n",
       "        [1.70000000e+01, 1.46633829e-05],\n",
       "        [1.80000000e+01, 1.24117446e-06],\n",
       "        [1.90000000e+01, 1.69833004e-06],\n",
       "        [2.10000000e+01, 1.14353611e-06],\n",
       "        [2.40000000e+01, 8.44506212e-06],\n",
       "        [2.50000000e+01, 8.49790595e-05],\n",
       "        [2.60000000e+01, 2.07091169e-03],\n",
       "        [2.70000000e+01, 1.37066497e-02],\n",
       "        [2.80000000e+01, 3.98235442e-03],\n",
       "        [2.90000000e+01, 1.03245378e-02],\n",
       "        [3.00000000e+01, 5.18714252e-04],\n",
       "        [3.10000000e+01, 2.52047554e-04],\n",
       "        [3.20000000e+01, 1.31860306e-05],\n",
       "        [3.30000000e+01, 1.81915657e-05],\n",
       "        [3.40000000e+01, 5.39912935e-06],\n",
       "        [3.50000000e+01, 5.50053301e-06],\n",
       "        [3.60000000e+01, 9.76143638e-05],\n",
       "        [3.70000000e+01, 1.01267372e-03],\n",
       "        [3.80000000e+01, 4.11289977e-03],\n",
       "        [3.90000000e+01, 3.25830020e-02],\n",
       "        [4.00000000e+01, 1.07047381e-02],\n",
       "        [4.10000000e+01, 7.32234493e-02],\n",
       "        [4.20000000e+01, 4.93861400e-02],\n",
       "        [4.30000000e+01, 5.92444651e-02],\n",
       "        [4.40000000e+01, 7.67001836e-03],\n",
       "        [4.50000000e+01, 1.60020823e-03],\n",
       "        [4.60000000e+01, 2.02717565e-04],\n",
       "        [4.70000000e+01, 6.03714834e-05],\n",
       "        [4.80000000e+01, 8.78121718e-05],\n",
       "        [4.90000000e+01, 9.53748124e-04],\n",
       "        [5.00000000e+01, 6.84195897e-03],\n",
       "        [5.10000000e+01, 2.08750144e-02],\n",
       "        [5.20000000e+01, 1.30593712e-02],\n",
       "        [5.30000000e+01, 4.74886633e-02],\n",
       "        [5.40000000e+01, 2.39068195e-02],\n",
       "        [5.50000000e+01, 1.03896327e-01],\n",
       "        [5.60000000e+01, 2.50381920e-02],\n",
       "        [5.70000000e+01, 1.37106329e-02],\n",
       "        [5.80000000e+01, 4.37519187e-03],\n",
       "        [5.90000000e+01, 6.15890487e-04],\n",
       "        [6.00000000e+01, 2.46718089e-04],\n",
       "        [6.10000000e+01, 5.14119747e-04],\n",
       "        [6.20000000e+01, 1.06509274e-03],\n",
       "        [6.30000000e+01, 7.98309222e-03],\n",
       "        [6.40000000e+01, 3.40875261e-03],\n",
       "        [6.50000000e+01, 2.62533091e-02],\n",
       "        [6.60000000e+01, 1.55371400e-02],\n",
       "        [6.70000000e+01, 7.07717240e-02],\n",
       "        [6.80000000e+01, 2.51489580e-02],\n",
       "        [6.90000000e+01, 4.76168208e-02],\n",
       "        [7.00000000e+01, 1.16055114e-02],\n",
       "        [7.10000000e+01, 2.74716690e-03],\n",
       "        [7.20000000e+01, 7.94970838e-04],\n",
       "        [7.30000000e+01, 4.45885380e-04],\n",
       "        [7.40000000e+01, 6.40222104e-04],\n",
       "        [7.50000000e+01, 2.27603712e-03],\n",
       "        [7.60000000e+01, 8.06380878e-04],\n",
       "        [7.70000000e+01, 2.96007991e-02],\n",
       "        [7.80000000e+01, 1.14801079e-02],\n",
       "        [7.90000000e+01, 4.95895185e-02],\n",
       "        [8.00000000e+01, 2.37349607e-02],\n",
       "        [8.10000000e+01, 4.45633344e-02],\n",
       "        [8.20000000e+01, 2.16643028e-02],\n",
       "        [8.30000000e+01, 2.74743158e-02],\n",
       "        [8.40000000e+01, 6.47563627e-03],\n",
       "        [8.50000000e+01, 1.76845479e-03],\n",
       "        [8.60000000e+01, 2.72677600e-04],\n",
       "        [8.70000000e+01, 1.36743285e-04],\n",
       "        [8.80000000e+01, 6.27283298e-05],\n",
       "        [8.90000000e+01, 4.81281040e-06],\n",
       "        [9.00000000e+01, 6.24735912e-06],\n",
       "        [9.10000000e+01, 3.04716203e-04],\n",
       "        [9.20000000e+01, 2.77450425e-04],\n",
       "        [9.30000000e+01, 4.77436744e-03],\n",
       "        [9.40000000e+01, 4.54029627e-03],\n",
       "        [9.50000000e+01, 4.24515503e-03],\n",
       "        [9.60000000e+01, 5.99829480e-03],\n",
       "        [9.70000000e+01, 8.42739642e-03],\n",
       "        [9.80000000e+01, 4.24854737e-03],\n",
       "        [9.90000000e+01, 5.12792030e-04],\n",
       "        [1.00000000e+02, 4.19743628e-05],\n",
       "        [1.01000000e+02, 2.17002616e-06]]),\n",
       " array([[1.00000000e+00, 1.19546348e-05],\n",
       "        [2.00000000e+00, 3.64335096e-06],\n",
       "        [1.20000000e+01, 3.09485709e-04],\n",
       "        [1.30000000e+01, 4.03903308e-04],\n",
       "        [1.40000000e+01, 5.69862081e-04],\n",
       "        [1.50000000e+01, 6.11483938e-06],\n",
       "        [1.90000000e+01, 5.92149678e-04],\n",
       "        [2.00000000e+01, 2.22730159e-04],\n",
       "        [2.10000000e+01, 1.16788660e-05],\n",
       "        [2.40000000e+01, 4.41287819e-04],\n",
       "        [2.50000000e+01, 7.28386687e-03],\n",
       "        [2.60000000e+01, 3.71559002e-02],\n",
       "        [2.70000000e+01, 8.00227863e-04],\n",
       "        [3.10000000e+01, 6.16752766e-02],\n",
       "        [3.20000000e+01, 1.18398545e-02],\n",
       "        [3.30000000e+01, 3.95091586e-02],\n",
       "        [3.40000000e+01, 4.25888953e-04],\n",
       "        [3.60000000e+01, 2.66932556e-03],\n",
       "        [3.70000000e+01, 4.34158184e-02],\n",
       "        [3.80000000e+01, 9.17794332e-02],\n",
       "        [3.90000000e+01, 3.10341688e-03],\n",
       "        [4.30000000e+01, 2.03032861e-03],\n",
       "        [4.40000000e+01, 9.89316497e-03],\n",
       "        [4.50000000e+01, 4.48355600e-02],\n",
       "        [4.60000000e+01, 9.65123822e-04],\n",
       "        [5.00000000e+01, 9.67165269e-03],\n",
       "        [5.10000000e+01, 1.88465700e-01],\n",
       "        [5.20000000e+01, 2.52828491e-03],\n",
       "        [5.30000000e+01, 5.31565729e-06],\n",
       "        [5.50000000e+01, 6.45738468e-03],\n",
       "        [5.60000000e+01, 4.13357131e-02],\n",
       "        [5.70000000e+01, 1.53047189e-01],\n",
       "        [5.80000000e+01, 4.92920540e-03],\n",
       "        [6.20000000e+01, 1.60111662e-03],\n",
       "        [6.30000000e+01, 2.18005814e-02],\n",
       "        [6.40000000e+01, 1.84355881e-02],\n",
       "        [6.50000000e+01, 3.88554239e-04],\n",
       "        [6.90000000e+01, 1.13743618e-01],\n",
       "        [7.00000000e+01, 1.56163203e-03],\n",
       "        [7.10000000e+01, 3.43785359e-05],\n",
       "        [7.40000000e+01, 2.98022176e-04],\n",
       "        [7.50000000e+01, 3.67857367e-02],\n",
       "        [7.60000000e+01, 1.69914532e-02],\n",
       "        [7.70000000e+01, 5.12916595e-04],\n",
       "        [8.10000000e+01, 1.17987581e-03],\n",
       "        [8.20000000e+01, 2.17051245e-03],\n",
       "        [8.30000000e+01, 4.41616820e-03],\n",
       "        [8.40000000e+01, 9.45121865e-05],\n",
       "        [8.80000000e+01, 1.60110503e-05],\n",
       "        [8.90000000e+01, 1.77533275e-05],\n",
       "        [9.30000000e+01, 8.08118144e-04],\n",
       "        [9.40000000e+01, 7.32504006e-04],\n",
       "        [9.50000000e+01, 9.76003520e-03],\n",
       "        [9.60000000e+01, 3.15793790e-04],\n",
       "        [1.00000000e+02, 5.94442070e-04],\n",
       "        [1.01000000e+02, 5.55286009e-04],\n",
       "        [1.02000000e+02, 1.89552466e-05],\n",
       "        [1.12000000e+02, 2.90193075e-05],\n",
       "        [1.13000000e+02, 6.50393777e-04],\n",
       "        [1.14000000e+02, 8.59350621e-05],\n",
       "        [1.15000000e+02, 2.10392568e-06]])]"
      ]
     },
     "execution_count": 17,
     "metadata": {},
     "output_type": "execute_result"
    }
   ],
   "source": [
    "list(map(lambda p: p.astype(float),predictions['pred_binned']))"
   ]
  },
  {
   "cell_type": "code",
   "execution_count": null,
   "id": "337b610b-fe98-4059-a8bd-74799b54b814",
   "metadata": {},
   "outputs": [],
   "source": []
  }
 ],
 "metadata": {
  "kernelspec": {
   "display_name": "Python 3 (ipykernel)",
   "language": "python",
   "name": "python3"
  },
  "language_info": {
   "codemirror_mode": {
    "name": "ipython",
    "version": 3
   },
   "file_extension": ".py",
   "mimetype": "text/x-python",
   "name": "python",
   "nbconvert_exporter": "python",
   "pygments_lexer": "ipython3",
   "version": "3.8.13"
  }
 },
 "nbformat": 4,
 "nbformat_minor": 5
}
