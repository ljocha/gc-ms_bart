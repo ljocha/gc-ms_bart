{
 "cells": [
  {
   "cell_type": "code",
   "execution_count": 1,
   "id": "1ed0bd72-1f4e-496d-b163-0f7790ae37d6",
   "metadata": {
    "tags": []
   },
   "outputs": [],
   "source": [
    "import torch\n",
    "from rassp import netutil\n",
    "from rassp.msutil.masscompute import FragmentFormulaPeakEnumerator\n",
    "\n",
    "from rdkit import Chem\n",
    "import matchms\n",
    "import pandas as pd\n",
    "import numpy as np\n",
    "\n",
    "import matchms\n",
    "from matchms.plotting import plot_spectra_mirror\n",
    "\n",
    "import matplotlib.pyplot as plt\n"
   ]
  },
  {
   "cell_type": "code",
   "execution_count": 2,
   "id": "ad72b355-a773-4c82-9fe8-08a4ecb7f805",
   "metadata": {
    "tags": []
   },
   "outputs": [],
   "source": [
    "valid_atoms = {1, 5, 6, 7, 8, 9, 14, 15, 16, 17, 35, 53}\n",
    "num_peaks_per_formula = 12\n",
    "max_formulae = 100000\n",
    "\n",
    "ffe = FragmentFormulaPeakEnumerator(sorted(valid_atoms), use_highres=True, max_peak_num=num_peaks_per_formula)\n",
    "\n",
    "def goodmol(mol):\n",
    "        if len(mol.GetAtoms()) > 48:\n",
    "            return False\n",
    "        \n",
    "        atoms = { a.GetAtomicNum() for a in mol.GetAtoms() }\n",
    "        if not atoms < valid_atoms:\n",
    "            return False\n",
    "            \n",
    "        f,m = ffe.get_frag_formulae(mol)\n",
    "        if len(f) > max_formulae:\n",
    "            return False\n",
    "\n",
    "        return True\n"
   ]
  },
  {
   "cell_type": "code",
   "execution_count": 3,
   "id": "4447c7ca-5af1-4b36-8948-196710fd0633",
   "metadata": {
    "tags": []
   },
   "outputs": [],
   "source": [
    "test = pd.read_parquet('test.pq')"
   ]
  },
  {
   "cell_type": "code",
   "execution_count": 4,
   "id": "91358d75-5b95-41d1-9487-da7ac7d67747",
   "metadata": {
    "tags": []
   },
   "outputs": [],
   "source": [
    "def molsize(mols):\n",
    "    out = []\n",
    "    for m in mols:\n",
    "        mm = Chem.AddHs(Chem.Mol(m))\n",
    "        out.append(len(mm.GetAtoms()))\n",
    "    return pd.Series(out,name='atoms')"
   ]
  },
  {
   "cell_type": "code",
   "execution_count": 10,
   "id": "9c3bed62-f9b1-4379-ba1f-2c8bc7f76054",
   "metadata": {
    "tags": []
   },
   "outputs": [
    {
     "data": {
      "text/html": [
       "<div>\n",
       "<style scoped>\n",
       "    .dataframe tbody tr th:only-of-type {\n",
       "        vertical-align: middle;\n",
       "    }\n",
       "\n",
       "    .dataframe tbody tr th {\n",
       "        vertical-align: top;\n",
       "    }\n",
       "\n",
       "    .dataframe thead th {\n",
       "        text-align: right;\n",
       "    }\n",
       "</style>\n",
       "<table border=\"1\" class=\"dataframe\">\n",
       "  <thead>\n",
       "    <tr style=\"text-align: right;\">\n",
       "      <th></th>\n",
       "      <th>rdmol</th>\n",
       "      <th>spect</th>\n",
       "      <th>smiles</th>\n",
       "    </tr>\n",
       "  </thead>\n",
       "  <tbody>\n",
       "    <tr>\n",
       "      <th>16</th>\n",
       "      <td>b'\\xef\\xbe\\xad\\xde\\x00\\x00\\x00\\x00\\r\\x00\\x00\\x...</td>\n",
       "      <td>[[12.0, 46.96], [16.0, 16.98], [28.0, 999.0], ...</td>\n",
       "      <td>[C-]#[O+]</td>\n",
       "    </tr>\n",
       "    <tr>\n",
       "      <th>19</th>\n",
       "      <td>b'\\xef\\xbe\\xad\\xde\\x00\\x00\\x00\\x00\\r\\x00\\x00\\x...</td>\n",
       "      <td>[[14.0, 136.88], [28.0, 999.0], [29.0, 6.99]]</td>\n",
       "      <td>N#N</td>\n",
       "    </tr>\n",
       "    <tr>\n",
       "      <th>28</th>\n",
       "      <td>b'\\xef\\xbe\\xad\\xde\\x00\\x00\\x00\\x00\\r\\x00\\x00\\x...</td>\n",
       "      <td>[[14.0, 108.9], [16.0, 24.98], [30.0, 999.0], ...</td>\n",
       "      <td>[N]=O</td>\n",
       "    </tr>\n",
       "    <tr>\n",
       "      <th>1176</th>\n",
       "      <td>b'\\xef\\xbe\\xad\\xde\\x00\\x00\\x00\\x00\\r\\x00\\x00\\x...</td>\n",
       "      <td>[[79.0, 449.59], [80.0, 999.0], [81.0, 438.6],...</td>\n",
       "      <td>Br</td>\n",
       "    </tr>\n",
       "    <tr>\n",
       "      <th>27029</th>\n",
       "      <td>b'\\xef\\xbe\\xad\\xde\\x00\\x00\\x00\\x00\\r\\x00\\x00\\x...</td>\n",
       "      <td>[[26.0, 1.0], [27.0, 1.0], [28.0, 1.0], [29.0,...</td>\n",
       "      <td>[H+].[Br-]</td>\n",
       "    </tr>\n",
       "    <tr>\n",
       "      <th>...</th>\n",
       "      <td>...</td>\n",
       "      <td>...</td>\n",
       "      <td>...</td>\n",
       "    </tr>\n",
       "    <tr>\n",
       "      <th>6754</th>\n",
       "      <td>b'\\xef\\xbe\\xad\\xde\\x00\\x00\\x00\\x00\\r\\x00\\x00\\x...</td>\n",
       "      <td>[[14.0, 10.99], [15.0, 167.85], [16.0, 8.99], ...</td>\n",
       "      <td>CC(=O)C1CCCC1</td>\n",
       "    </tr>\n",
       "    <tr>\n",
       "      <th>6755</th>\n",
       "      <td>b'\\xef\\xbe\\xad\\xde\\x00\\x00\\x00\\x00\\r\\x00\\x00\\x...</td>\n",
       "      <td>[[12.0, 1.0], [13.0, 1.0], [14.0, 10.99], [15....</td>\n",
       "      <td>CC1CCC(=O)CC1</td>\n",
       "    </tr>\n",
       "    <tr>\n",
       "      <th>6761</th>\n",
       "      <td>b'\\xef\\xbe\\xad\\xde\\x00\\x00\\x00\\x00\\r\\x00\\x00\\x...</td>\n",
       "      <td>[[14.0, 4.0], [15.0, 17.98], [17.0, 4.0], [18....</td>\n",
       "      <td>CC1CCCCC1=O</td>\n",
       "    </tr>\n",
       "    <tr>\n",
       "      <th>6726</th>\n",
       "      <td>b'\\xef\\xbe\\xad\\xde\\x00\\x00\\x00\\x00\\r\\x00\\x00\\x...</td>\n",
       "      <td>[[13.0, 6.99], [14.0, 31.97], [15.0, 131.88], ...</td>\n",
       "      <td>C1CC1C(C2CC2)O</td>\n",
       "    </tr>\n",
       "    <tr>\n",
       "      <th>18953</th>\n",
       "      <td>b'\\xef\\xbe\\xad\\xde\\x00\\x00\\x00\\x00\\r\\x00\\x00\\x...</td>\n",
       "      <td>[[26.0, 7.99], [27.0, 10.99], [29.0, 2.0], [37...</td>\n",
       "      <td>C1=CC=C2C(=C1)C(=CN2)CC#N</td>\n",
       "    </tr>\n",
       "  </tbody>\n",
       "</table>\n",
       "<p>7161 rows × 3 columns</p>\n",
       "</div>"
      ],
      "text/plain": [
       "                                                   rdmol  \\\n",
       "16     b'\\xef\\xbe\\xad\\xde\\x00\\x00\\x00\\x00\\r\\x00\\x00\\x...   \n",
       "19     b'\\xef\\xbe\\xad\\xde\\x00\\x00\\x00\\x00\\r\\x00\\x00\\x...   \n",
       "28     b'\\xef\\xbe\\xad\\xde\\x00\\x00\\x00\\x00\\r\\x00\\x00\\x...   \n",
       "1176   b'\\xef\\xbe\\xad\\xde\\x00\\x00\\x00\\x00\\r\\x00\\x00\\x...   \n",
       "27029  b'\\xef\\xbe\\xad\\xde\\x00\\x00\\x00\\x00\\r\\x00\\x00\\x...   \n",
       "...                                                  ...   \n",
       "6754   b'\\xef\\xbe\\xad\\xde\\x00\\x00\\x00\\x00\\r\\x00\\x00\\x...   \n",
       "6755   b'\\xef\\xbe\\xad\\xde\\x00\\x00\\x00\\x00\\r\\x00\\x00\\x...   \n",
       "6761   b'\\xef\\xbe\\xad\\xde\\x00\\x00\\x00\\x00\\r\\x00\\x00\\x...   \n",
       "6726   b'\\xef\\xbe\\xad\\xde\\x00\\x00\\x00\\x00\\r\\x00\\x00\\x...   \n",
       "18953  b'\\xef\\xbe\\xad\\xde\\x00\\x00\\x00\\x00\\r\\x00\\x00\\x...   \n",
       "\n",
       "                                                   spect  \\\n",
       "16     [[12.0, 46.96], [16.0, 16.98], [28.0, 999.0], ...   \n",
       "19         [[14.0, 136.88], [28.0, 999.0], [29.0, 6.99]]   \n",
       "28     [[14.0, 108.9], [16.0, 24.98], [30.0, 999.0], ...   \n",
       "1176   [[79.0, 449.59], [80.0, 999.0], [81.0, 438.6],...   \n",
       "27029  [[26.0, 1.0], [27.0, 1.0], [28.0, 1.0], [29.0,...   \n",
       "...                                                  ...   \n",
       "6754   [[14.0, 10.99], [15.0, 167.85], [16.0, 8.99], ...   \n",
       "6755   [[12.0, 1.0], [13.0, 1.0], [14.0, 10.99], [15....   \n",
       "6761   [[14.0, 4.0], [15.0, 17.98], [17.0, 4.0], [18....   \n",
       "6726   [[13.0, 6.99], [14.0, 31.97], [15.0, 131.88], ...   \n",
       "18953  [[26.0, 7.99], [27.0, 10.99], [29.0, 2.0], [37...   \n",
       "\n",
       "                          smiles  \n",
       "16                     [C-]#[O+]  \n",
       "19                           N#N  \n",
       "28                         [N]=O  \n",
       "1176                          Br  \n",
       "27029                 [H+].[Br-]  \n",
       "...                          ...  \n",
       "6754               CC(=O)C1CCCC1  \n",
       "6755               CC1CCC(=O)CC1  \n",
       "6761                 CC1CCCCC1=O  \n",
       "6726              C1CC1C(C2CC2)O  \n",
       "18953  C1=CC=C2C(=C1)C(=CN2)CC#N  \n",
       "\n",
       "[7161 rows x 3 columns]"
      ]
     },
     "execution_count": 10,
     "metadata": {},
     "output_type": "execute_result"
    }
   ],
   "source": [
    "stest = test.sort_values('rdmol',key=molsize)\n",
    "stest"
   ]
  },
  {
   "cell_type": "code",
   "execution_count": 11,
   "id": "ce3cd068-e17e-4ce7-8138-d51d039b6ea4",
   "metadata": {
    "tags": []
   },
   "outputs": [
    {
     "data": {
      "text/html": [
       "<div>\n",
       "<style scoped>\n",
       "    .dataframe tbody tr th:only-of-type {\n",
       "        vertical-align: middle;\n",
       "    }\n",
       "\n",
       "    .dataframe tbody tr th {\n",
       "        vertical-align: top;\n",
       "    }\n",
       "\n",
       "    .dataframe thead th {\n",
       "        text-align: right;\n",
       "    }\n",
       "</style>\n",
       "<table border=\"1\" class=\"dataframe\">\n",
       "  <thead>\n",
       "    <tr style=\"text-align: right;\">\n",
       "      <th></th>\n",
       "      <th>rdmol</th>\n",
       "      <th>spect</th>\n",
       "      <th>smiles</th>\n",
       "    </tr>\n",
       "  </thead>\n",
       "  <tbody>\n",
       "    <tr>\n",
       "      <th>16</th>\n",
       "      <td>b'\\xef\\xbe\\xad\\xde\\x00\\x00\\x00\\x00\\r\\x00\\x00\\x...</td>\n",
       "      <td>[[12.0, 46.96], [16.0, 16.98], [28.0, 999.0], ...</td>\n",
       "      <td>[C-]#[O+]</td>\n",
       "    </tr>\n",
       "    <tr>\n",
       "      <th>15227</th>\n",
       "      <td>b'\\xef\\xbe\\xad\\xde\\x00\\x00\\x00\\x00\\r\\x00\\x00\\x...</td>\n",
       "      <td>[[12.0, 58.95], [13.0, 1.0], [14.0, 5.0], [23....</td>\n",
       "      <td>C(#N)C(Cl)(Cl)Cl</td>\n",
       "    </tr>\n",
       "    <tr>\n",
       "      <th>9100</th>\n",
       "      <td>b'\\xef\\xbe\\xad\\xde\\x00\\x00\\x00\\x00\\r\\x00\\x00\\x...</td>\n",
       "      <td>[[12.0, 42.96], [13.0, 88.92], [14.0, 189.83],...</td>\n",
       "      <td>CC(=O)Br</td>\n",
       "    </tr>\n",
       "    <tr>\n",
       "      <th>1706</th>\n",
       "      <td>b'\\xef\\xbe\\xad\\xde\\x00\\x00\\x00\\x00\\r\\x00\\x00\\x...</td>\n",
       "      <td>[[12.0, 1.0], [13.0, 2.0], [24.0, 3.0], [25.0,...</td>\n",
       "      <td>C1=CSC=N1</td>\n",
       "    </tr>\n",
       "    <tr>\n",
       "      <th>416</th>\n",
       "      <td>b'\\xef\\xbe\\xad\\xde\\x00\\x00\\x00\\x00\\r\\x00\\x00\\x...</td>\n",
       "      <td>[[27.0, 52.95], [28.0, 4.0], [31.0, 32.97], [3...</td>\n",
       "      <td>CC(F)F</td>\n",
       "    </tr>\n",
       "    <tr>\n",
       "      <th>...</th>\n",
       "      <td>...</td>\n",
       "      <td>...</td>\n",
       "      <td>...</td>\n",
       "    </tr>\n",
       "    <tr>\n",
       "      <th>19723</th>\n",
       "      <td>b'\\xef\\xbe\\xad\\xde\\x00\\x00\\x00\\x00\\r\\x00\\x00\\x...</td>\n",
       "      <td>[[30.0, 27.97], [31.0, 42.96], [38.0, 40.96], ...</td>\n",
       "      <td>C1C(ON=C1C(=O)NN)CO</td>\n",
       "    </tr>\n",
       "    <tr>\n",
       "      <th>27852</th>\n",
       "      <td>b'\\xef\\xbe\\xad\\xde\\x00\\x00\\x00\\x00\\r\\x00\\x00\\x...</td>\n",
       "      <td>[[52.0, 31.97], [53.0, 70.94], [54.0, 236.79],...</td>\n",
       "      <td>C(CO)N1C2=NON=C2C(=O)NC1=O</td>\n",
       "    </tr>\n",
       "    <tr>\n",
       "      <th>29069</th>\n",
       "      <td>b'\\xef\\xbe\\xad\\xde\\x00\\x00\\x00\\x00\\r\\x00\\x00\\x...</td>\n",
       "      <td>[[41.0, 12.99], [42.0, 7.99], [43.0, 5.99], [4...</td>\n",
       "      <td>C1=CC(=CC=C1N2C(=O)C=CC2=O)Cl</td>\n",
       "    </tr>\n",
       "    <tr>\n",
       "      <th>6808</th>\n",
       "      <td>b'\\xef\\xbe\\xad\\xde\\x00\\x00\\x00\\x00\\r\\x00\\x00\\x...</td>\n",
       "      <td>[[37.0, 3.0], [38.0, 7.99], [39.0, 164.85], [4...</td>\n",
       "      <td>CC1CCC(C1=O)C</td>\n",
       "    </tr>\n",
       "    <tr>\n",
       "      <th>18953</th>\n",
       "      <td>b'\\xef\\xbe\\xad\\xde\\x00\\x00\\x00\\x00\\r\\x00\\x00\\x...</td>\n",
       "      <td>[[26.0, 7.99], [27.0, 10.99], [29.0, 2.0], [37...</td>\n",
       "      <td>C1=CC=C2C(=C1)C(=CN2)CC#N</td>\n",
       "    </tr>\n",
       "  </tbody>\n",
       "</table>\n",
       "<p>180 rows × 3 columns</p>\n",
       "</div>"
      ],
      "text/plain": [
       "                                                   rdmol  \\\n",
       "16     b'\\xef\\xbe\\xad\\xde\\x00\\x00\\x00\\x00\\r\\x00\\x00\\x...   \n",
       "15227  b'\\xef\\xbe\\xad\\xde\\x00\\x00\\x00\\x00\\r\\x00\\x00\\x...   \n",
       "9100   b'\\xef\\xbe\\xad\\xde\\x00\\x00\\x00\\x00\\r\\x00\\x00\\x...   \n",
       "1706   b'\\xef\\xbe\\xad\\xde\\x00\\x00\\x00\\x00\\r\\x00\\x00\\x...   \n",
       "416    b'\\xef\\xbe\\xad\\xde\\x00\\x00\\x00\\x00\\r\\x00\\x00\\x...   \n",
       "...                                                  ...   \n",
       "19723  b'\\xef\\xbe\\xad\\xde\\x00\\x00\\x00\\x00\\r\\x00\\x00\\x...   \n",
       "27852  b'\\xef\\xbe\\xad\\xde\\x00\\x00\\x00\\x00\\r\\x00\\x00\\x...   \n",
       "29069  b'\\xef\\xbe\\xad\\xde\\x00\\x00\\x00\\x00\\r\\x00\\x00\\x...   \n",
       "6808   b'\\xef\\xbe\\xad\\xde\\x00\\x00\\x00\\x00\\r\\x00\\x00\\x...   \n",
       "18953  b'\\xef\\xbe\\xad\\xde\\x00\\x00\\x00\\x00\\r\\x00\\x00\\x...   \n",
       "\n",
       "                                                   spect  \\\n",
       "16     [[12.0, 46.96], [16.0, 16.98], [28.0, 999.0], ...   \n",
       "15227  [[12.0, 58.95], [13.0, 1.0], [14.0, 5.0], [23....   \n",
       "9100   [[12.0, 42.96], [13.0, 88.92], [14.0, 189.83],...   \n",
       "1706   [[12.0, 1.0], [13.0, 2.0], [24.0, 3.0], [25.0,...   \n",
       "416    [[27.0, 52.95], [28.0, 4.0], [31.0, 32.97], [3...   \n",
       "...                                                  ...   \n",
       "19723  [[30.0, 27.97], [31.0, 42.96], [38.0, 40.96], ...   \n",
       "27852  [[52.0, 31.97], [53.0, 70.94], [54.0, 236.79],...   \n",
       "29069  [[41.0, 12.99], [42.0, 7.99], [43.0, 5.99], [4...   \n",
       "6808   [[37.0, 3.0], [38.0, 7.99], [39.0, 164.85], [4...   \n",
       "18953  [[26.0, 7.99], [27.0, 10.99], [29.0, 2.0], [37...   \n",
       "\n",
       "                              smiles  \n",
       "16                         [C-]#[O+]  \n",
       "15227               C(#N)C(Cl)(Cl)Cl  \n",
       "9100                        CC(=O)Br  \n",
       "1706                       C1=CSC=N1  \n",
       "416                           CC(F)F  \n",
       "...                              ...  \n",
       "19723            C1C(ON=C1C(=O)NN)CO  \n",
       "27852     C(CO)N1C2=NON=C2C(=O)NC1=O  \n",
       "29069  C1=CC(=CC=C1N2C(=O)C=CC2=O)Cl  \n",
       "6808                   CC1CCC(C1=O)C  \n",
       "18953      C1=CC=C2C(=C1)C(=CN2)CC#N  \n",
       "\n",
       "[180 rows x 3 columns]"
      ]
     },
     "execution_count": 11,
     "metadata": {},
     "output_type": "execute_result"
    }
   ],
   "source": [
    "stest = stest.iloc[range(0,len(stest),40)]\n",
    "stest"
   ]
  },
  {
   "cell_type": "code",
   "execution_count": 7,
   "id": "0024f314-87c1-4678-988f-2851623f7e08",
   "metadata": {
    "tags": []
   },
   "outputs": [],
   "source": [
    "use_gpu=True\n",
    "\n",
    "# nic moc, cossim kolem 0.65\n",
    "#model='zia5/test.79149399.00000000.model'\n",
    "#meta='zia5/test.79149399.meta'\n",
    "\n",
    "model='zia5/test.79068385.00000000.model'\n",
    "meta='zia5/test.79068385.meta'\n",
    "\n",
    "\n",
    "\n",
    "if use_gpu and not torch.cuda.is_available():\n",
    "    use_gpu = False\n",
    "\n",
    "predictor = netutil.PredModel(\n",
    "    meta,\n",
    "    model,\n",
    "    USE_CUDA=use_gpu,\n",
    "    data_parallel=False,\n",
    ")\n"
   ]
  },
  {
   "cell_type": "code",
   "execution_count": 12,
   "id": "75ab4356-6aae-49f5-baf6-26af9067a200",
   "metadata": {
    "tags": []
   },
   "outputs": [],
   "source": [
    "valid_mols = [ Chem.AddHs(Chem.Mol(m)) for m in stest.rdmol ]"
   ]
  },
  {
   "cell_type": "code",
   "execution_count": 13,
   "id": "c365eef3-8607-49a9-b05c-8f1b296aab15",
   "metadata": {
    "tags": []
   },
   "outputs": [
    {
     "name": "stderr",
     "output_type": "stream",
     "text": [
      "100%|███████████████████████████████████████████████████████████████████████████████████████████████████████████████████████████████████████| 180/180 [00:41<00:00, 4.32it/s]\n"
     ]
    }
   ],
   "source": [
    "predictions = predictor.pred(\n",
    "    valid_mols,\n",
    "    progress_bar=True,\n",
    "    normalize_pred=True,\n",
    "    output_hist_bins=True,\n",
    "    batch_size=1, # XXX\n",
    "    dataloader_config={\n",
    "        'pin_memory': False,\n",
    "        'num_workers': 0, # XXX\n",
    "        'persistent_workers': False,\n",
    "    },\n",
    "    benchmark_dataloader=False,\n",
    ")\n"
   ]
  },
  {
   "cell_type": "code",
   "execution_count": 14,
   "id": "9a6e2708-0ccd-4cd4-82a8-e996c42e7529",
   "metadata": {
    "tags": []
   },
   "outputs": [],
   "source": [
    "pred = predictions['pred_binned']"
   ]
  },
  {
   "cell_type": "code",
   "execution_count": 15,
   "id": "dedf08a8-1dcb-45ba-b49e-411b8d9b6252",
   "metadata": {
    "tags": []
   },
   "outputs": [
    {
     "data": {
      "text/plain": [
       "180"
      ]
     },
     "execution_count": 15,
     "metadata": {},
     "output_type": "execute_result"
    }
   ],
   "source": [
    "true = [ np.stack(list(t)) for t in stest.spect ]\n",
    "len(true)"
   ]
  },
  {
   "cell_type": "code",
   "execution_count": 16,
   "id": "fd5082bc-0411-4768-b843-7b473e2bfc06",
   "metadata": {
    "tags": []
   },
   "outputs": [],
   "source": [
    "def to_matchms_spec(s):\n",
    "    return matchms.Spectrum(mz=s[:,0].astype(float),intensities=s[:,1].astype(float))"
   ]
  },
  {
   "cell_type": "code",
   "execution_count": 107,
   "id": "e8009d64-dcfc-4a28-b96f-a33fe0958487",
   "metadata": {
    "tags": []
   },
   "outputs": [
    {
     "name": "stdout",
     "output_type": "stream",
     "text": [
      "2023-03-27 19:24:32,484:WARNING:matchms:add_precursor_mz:No precursor_mz found in metadata.\n"
     ]
    },
    {
     "name": "stderr",
     "output_type": "stream",
     "text": [
      "2023-03-27 19:24:32,484 - matchms - WARNING - No precursor_mz found in metadata.\n"
     ]
    },
    {
     "name": "stdout",
     "output_type": "stream",
     "text": [
      "2023-03-27 19:24:32,486:WARNING:matchms:add_precursor_mz:No precursor_mz found in metadata.\n"
     ]
    },
    {
     "name": "stderr",
     "output_type": "stream",
     "text": [
      "2023-03-27 19:24:32,486 - matchms - WARNING - No precursor_mz found in metadata.\n"
     ]
    },
    {
     "data": {
      "text/plain": [
       "<Axes: title={'center': 'Spectrum comparison'}, xlabel='m/z', ylabel='Intensity'>"
      ]
     },
     "execution_count": 107,
     "metadata": {},
     "output_type": "execute_result"
    },
    {
     "data": {
      "image/png": "[encoded data removed]",
      "text/plain": [
       "<Figure size 640x480 with 1 Axes>"
      ]
     },
     "metadata": {},
     "output_type": "display_data"
    }
   ],
   "source": [
    "i=716\n",
    "st = to_matchms_spec(true[i])\n",
    "sp = to_matchms_spec(pred[i])\n",
    "plot_spectra_mirror(st,sp)"
   ]
  },
  {
   "cell_type": "code",
   "execution_count": 17,
   "id": "687ff1cb-6046-4c1d-bde6-f86b24ef3fc5",
   "metadata": {
    "tags": []
   },
   "outputs": [
    {
     "name": "stdout",
     "output_type": "stream",
     "text": [
      "2023-03-28 11:13:12,494:WARNING:matchms:add_precursor_mz:No precursor_mz found in metadata.\n"
     ]
    },
    {
     "name": "stderr",
     "output_type": "stream",
     "text": [
      "2023-03-28 11:13:12,494 - matchms - WARNING - No precursor_mz found in metadata.\n"
     ]
    },
    {
     "name": "stdout",
     "output_type": "stream",
     "text": [
      "2023-03-28 11:13:12,496:WARNING:matchms:add_precursor_mz:No precursor_mz found in metadata.\n"
     ]
    },
    {
     "name": "stderr",
     "output_type": "stream",
     "text": [
      "2023-03-28 11:13:12,496 - matchms - WARNING - No precursor_mz found in metadata.\n"
     ]
    },
    {
     "name": "stdout",
     "output_type": "stream",
     "text": [
      "2023-03-28 11:13:12,946:WARNING:matchms:add_precursor_mz:No precursor_mz found in metadata.\n"
     ]
    },
    {
     "name": "stderr",
     "output_type": "stream",
     "text": [
      "2023-03-28 11:13:12,946 - matchms - WARNING - No precursor_mz found in metadata.\n"
     ]
    },
    {
     "name": "stdout",
     "output_type": "stream",
     "text": [
      "2023-03-28 11:13:12,947:WARNING:matchms:add_precursor_mz:No precursor_mz found in metadata.\n"
     ]
    },
    {
     "name": "stderr",
     "output_type": "stream",
     "text": [
      "2023-03-28 11:13:12,947 - matchms - WARNING - No precursor_mz found in metadata.\n"
     ]
    },
    {
     "name": "stdout",
     "output_type": "stream",
     "text": [
      "2023-03-28 11:13:12,949:WARNING:matchms:add_precursor_mz:No precursor_mz found in metadata.\n"
     ]
    },
    {
     "name": "stderr",
     "output_type": "stream",
     "text": [
      "2023-03-28 11:13:12,949 - matchms - WARNING - No precursor_mz found in metadata.\n"
     ]
    },
    {
     "name": "stdout",
     "output_type": "stream",
     "text": [
      "2023-03-28 11:13:12,949:WARNING:matchms:add_precursor_mz:No precursor_mz found in metadata.\n"
     ]
    },
    {
     "name": "stderr",
     "output_type": "stream",
     "text": [
      "2023-03-28 11:13:12,949 - matchms - WARNING - No precursor_mz found in metadata.\n"
     ]
    },
    {
     "name": "stdout",
     "output_type": "stream",
     "text": [
      "2023-03-28 11:13:12,950:WARNING:matchms:add_precursor_mz:No precursor_mz found in metadata.\n"
     ]
    },
    {
     "name": "stderr",
     "output_type": "stream",
     "text": [
      "2023-03-28 11:13:12,950 - matchms - WARNING - No precursor_mz found in metadata.\n"
     ]
    },
    {
     "name": "stdout",
     "output_type": "stream",
     "text": [
      "2023-03-28 11:13:12,951:WARNING:matchms:add_precursor_mz:No precursor_mz found in metadata.\n"
     ]
    },
    {
     "name": "stderr",
     "output_type": "stream",
     "text": [
      "2023-03-28 11:13:12,951 - matchms - WARNING - No precursor_mz found in metadata.\n"
     ]
    },
    {
     "name": "stdout",
     "output_type": "stream",
     "text": [
      "2023-03-28 11:13:12,951:WARNING:matchms:add_precursor_mz:No precursor_mz found in metadata.\n"
     ]
    },
    {
     "name": "stderr",
     "output_type": "stream",
     "text": [
      "2023-03-28 11:13:12,951 - matchms - WARNING - No precursor_mz found in metadata.\n"
     ]
    },
    {
     "name": "stdout",
     "output_type": "stream",
     "text": [
      "2023-03-28 11:13:12,952:WARNING:matchms:add_precursor_mz:No precursor_mz found in metadata.\n"
     ]
    },
    {
     "name": "stderr",
     "output_type": "stream",
     "text": [
      "2023-03-28 11:13:12,952 - matchms - WARNING - No precursor_mz found in metadata.\n"
     ]
    },
    {
     "name": "stdout",
     "output_type": "stream",
     "text": [
      "2023-03-28 11:13:12,953:WARNING:matchms:add_precursor_mz:No precursor_mz found in metadata.\n"
     ]
    },
    {
     "name": "stderr",
     "output_type": "stream",
     "text": [
      "2023-03-28 11:13:12,953 - matchms - WARNING - No precursor_mz found in metadata.\n"
     ]
    },
    {
     "name": "stdout",
     "output_type": "stream",
     "text": [
      "2023-03-28 11:13:12,954:WARNING:matchms:add_precursor_mz:No precursor_mz found in metadata.\n"
     ]
    },
    {
     "name": "stderr",
     "output_type": "stream",
     "text": [
      "2023-03-28 11:13:12,954 - matchms - WARNING - No precursor_mz found in metadata.\n"
     ]
    },
    {
     "name": "stdout",
     "output_type": "stream",
     "text": [
      "2023-03-28 11:13:12,954:WARNING:matchms:add_precursor_mz:No precursor_mz found in metadata.\n"
     ]
    },
    {
     "name": "stderr",
     "output_type": "stream",
     "text": [
      "2023-03-28 11:13:12,954 - matchms - WARNING - No precursor_mz found in metadata.\n"
     ]
    },
    {
     "name": "stdout",
     "output_type": "stream",
     "text": [
      "2023-03-28 11:13:12,955:WARNING:matchms:add_precursor_mz:No precursor_mz found in metadata.\n"
     ]
    },
    {
     "name": "stderr",
     "output_type": "stream",
     "text": [
      "2023-03-28 11:13:12,955 - matchms - WARNING - No precursor_mz found in metadata.\n"
     ]
    },
    {
     "name": "stdout",
     "output_type": "stream",
     "text": [
      "2023-03-28 11:13:12,956:WARNING:matchms:add_precursor_mz:No precursor_mz found in metadata.\n"
     ]
    },
    {
     "name": "stderr",
     "output_type": "stream",
     "text": [
      "2023-03-28 11:13:12,956 - matchms - WARNING - No precursor_mz found in metadata.\n"
     ]
    },
    {
     "name": "stdout",
     "output_type": "stream",
     "text": [
      "2023-03-28 11:13:12,956:WARNING:matchms:add_precursor_mz:No precursor_mz found in metadata.\n"
     ]
    },
    {
     "name": "stderr",
     "output_type": "stream",
     "text": [
      "2023-03-28 11:13:12,956 - matchms - WARNING - No precursor_mz found in metadata.\n"
     ]
    },
    {
     "name": "stdout",
     "output_type": "stream",
     "text": [
      "2023-03-28 11:13:12,957:WARNING:matchms:add_precursor_mz:No precursor_mz found in metadata.\n"
     ]
    },
    {
     "name": "stderr",
     "output_type": "stream",
     "text": [
      "2023-03-28 11:13:12,957 - matchms - WARNING - No precursor_mz found in metadata.\n"
     ]
    },
    {
     "name": "stdout",
     "output_type": "stream",
     "text": [
      "2023-03-28 11:13:12,958:WARNING:matchms:add_precursor_mz:No precursor_mz found in metadata.\n"
     ]
    },
    {
     "name": "stderr",
     "output_type": "stream",
     "text": [
      "2023-03-28 11:13:12,958 - matchms - WARNING - No precursor_mz found in metadata.\n"
     ]
    },
    {
     "name": "stdout",
     "output_type": "stream",
     "text": [
      "2023-03-28 11:13:12,959:WARNING:matchms:add_precursor_mz:No precursor_mz found in metadata.\n"
     ]
    },
    {
     "name": "stderr",
     "output_type": "stream",
     "text": [
      "2023-03-28 11:13:12,959 - matchms - WARNING - No precursor_mz found in metadata.\n"
     ]
    },
    {
     "name": "stdout",
     "output_type": "stream",
     "text": [
      "2023-03-28 11:13:12,959:WARNING:matchms:add_precursor_mz:No precursor_mz found in metadata.\n"
     ]
    },
    {
     "name": "stderr",
     "output_type": "stream",
     "text": [
      "2023-03-28 11:13:12,959 - matchms - WARNING - No precursor_mz found in metadata.\n"
     ]
    },
    {
     "name": "stdout",
     "output_type": "stream",
     "text": [
      "2023-03-28 11:13:12,960:WARNING:matchms:add_precursor_mz:No precursor_mz found in metadata.\n"
     ]
    },
    {
     "name": "stderr",
     "output_type": "stream",
     "text": [
      "2023-03-28 11:13:12,960 - matchms - WARNING - No precursor_mz found in metadata.\n"
     ]
    },
    {
     "name": "stdout",
     "output_type": "stream",
     "text": [
      "2023-03-28 11:13:12,961:WARNING:matchms:add_precursor_mz:No precursor_mz found in metadata.\n"
     ]
    },
    {
     "name": "stderr",
     "output_type": "stream",
     "text": [
      "2023-03-28 11:13:12,961 - matchms - WARNING - No precursor_mz found in metadata.\n"
     ]
    },
    {
     "name": "stdout",
     "output_type": "stream",
     "text": [
      "2023-03-28 11:13:12,961:WARNING:matchms:add_precursor_mz:No precursor_mz found in metadata.\n"
     ]
    },
    {
     "name": "stderr",
     "output_type": "stream",
     "text": [
      "2023-03-28 11:13:12,961 - matchms - WARNING - No precursor_mz found in metadata.\n"
     ]
    },
    {
     "name": "stdout",
     "output_type": "stream",
     "text": [
      "2023-03-28 11:13:12,962:WARNING:matchms:add_precursor_mz:No precursor_mz found in metadata.\n"
     ]
    },
    {
     "name": "stderr",
     "output_type": "stream",
     "text": [
      "2023-03-28 11:13:12,962 - matchms - WARNING - No precursor_mz found in metadata.\n"
     ]
    },
    {
     "name": "stdout",
     "output_type": "stream",
     "text": [
      "2023-03-28 11:13:12,962:WARNING:matchms:add_precursor_mz:No precursor_mz found in metadata.\n"
     ]
    },
    {
     "name": "stderr",
     "output_type": "stream",
     "text": [
      "2023-03-28 11:13:12,962 - matchms - WARNING - No precursor_mz found in metadata.\n"
     ]
    },
    {
     "name": "stdout",
     "output_type": "stream",
     "text": [
      "2023-03-28 11:13:12,963:WARNING:matchms:add_precursor_mz:No precursor_mz found in metadata.\n"
     ]
    },
    {
     "name": "stderr",
     "output_type": "stream",
     "text": [
      "2023-03-28 11:13:12,963 - matchms - WARNING - No precursor_mz found in metadata.\n"
     ]
    },
    {
     "name": "stdout",
     "output_type": "stream",
     "text": [
      "2023-03-28 11:13:12,964:WARNING:matchms:add_precursor_mz:No precursor_mz found in metadata.\n"
     ]
    },
    {
     "name": "stderr",
     "output_type": "stream",
     "text": [
      "2023-03-28 11:13:12,964 - matchms - WARNING - No precursor_mz found in metadata.\n"
     ]
    },
    {
     "name": "stdout",
     "output_type": "stream",
     "text": [
      "2023-03-28 11:13:12,964:WARNING:matchms:add_precursor_mz:No precursor_mz found in metadata.\n"
     ]
    },
    {
     "name": "stderr",
     "output_type": "stream",
     "text": [
      "2023-03-28 11:13:12,964 - matchms - WARNING - No precursor_mz found in metadata.\n"
     ]
    },
    {
     "name": "stdout",
     "output_type": "stream",
     "text": [
      "2023-03-28 11:13:12,965:WARNING:matchms:add_precursor_mz:No precursor_mz found in metadata.\n"
     ]
    },
    {
     "name": "stderr",
     "output_type": "stream",
     "text": [
      "2023-03-28 11:13:12,965 - matchms - WARNING - No precursor_mz found in metadata.\n"
     ]
    },
    {
     "name": "stdout",
     "output_type": "stream",
     "text": [
      "2023-03-28 11:13:12,965:WARNING:matchms:add_precursor_mz:No precursor_mz found in metadata.\n"
     ]
    },
    {
     "name": "stderr",
     "output_type": "stream",
     "text": [
      "2023-03-28 11:13:12,965 - matchms - WARNING - No precursor_mz found in metadata.\n"
     ]
    },
    {
     "name": "stdout",
     "output_type": "stream",
     "text": [
      "2023-03-28 11:13:12,966:WARNING:matchms:add_precursor_mz:No precursor_mz found in metadata.\n"
     ]
    },
    {
     "name": "stderr",
     "output_type": "stream",
     "text": [
      "2023-03-28 11:13:12,966 - matchms - WARNING - No precursor_mz found in metadata.\n"
     ]
    },
    {
     "name": "stdout",
     "output_type": "stream",
     "text": [
      "2023-03-28 11:13:12,966:WARNING:matchms:add_precursor_mz:No precursor_mz found in metadata.\n"
     ]
    },
    {
     "name": "stderr",
     "output_type": "stream",
     "text": [
      "2023-03-28 11:13:12,966 - matchms - WARNING - No precursor_mz found in metadata.\n"
     ]
    },
    {
     "name": "stdout",
     "output_type": "stream",
     "text": [
      "2023-03-28 11:13:12,969:WARNING:matchms:add_precursor_mz:No precursor_mz found in metadata.\n"
     ]
    },
    {
     "name": "stderr",
     "output_type": "stream",
     "text": [
      "2023-03-28 11:13:12,969 - matchms - WARNING - No precursor_mz found in metadata.\n"
     ]
    },
    {
     "name": "stdout",
     "output_type": "stream",
     "text": [
      "2023-03-28 11:13:12,970:WARNING:matchms:add_precursor_mz:No precursor_mz found in metadata.\n"
     ]
    },
    {
     "name": "stderr",
     "output_type": "stream",
     "text": [
      "2023-03-28 11:13:12,970 - matchms - WARNING - No precursor_mz found in metadata.\n"
     ]
    },
    {
     "name": "stdout",
     "output_type": "stream",
     "text": [
      "2023-03-28 11:13:12,970:WARNING:matchms:add_precursor_mz:No precursor_mz found in metadata.\n"
     ]
    },
    {
     "name": "stderr",
     "output_type": "stream",
     "text": [
      "2023-03-28 11:13:12,970 - matchms - WARNING - No precursor_mz found in metadata.\n"
     ]
    },
    {
     "name": "stdout",
     "output_type": "stream",
     "text": [
      "2023-03-28 11:13:12,971:WARNING:matchms:add_precursor_mz:No precursor_mz found in metadata.\n"
     ]
    },
    {
     "name": "stderr",
     "output_type": "stream",
     "text": [
      "2023-03-28 11:13:12,971 - matchms - WARNING - No precursor_mz found in metadata.\n"
     ]
    },
    {
     "name": "stdout",
     "output_type": "stream",
     "text": [
      "2023-03-28 11:13:12,972:WARNING:matchms:add_precursor_mz:No precursor_mz found in metadata.\n"
     ]
    },
    {
     "name": "stderr",
     "output_type": "stream",
     "text": [
      "2023-03-28 11:13:12,972 - matchms - WARNING - No precursor_mz found in metadata.\n"
     ]
    },
    {
     "name": "stdout",
     "output_type": "stream",
     "text": [
      "2023-03-28 11:13:12,972:WARNING:matchms:add_precursor_mz:No precursor_mz found in metadata.\n"
     ]
    },
    {
     "name": "stderr",
     "output_type": "stream",
     "text": [
      "2023-03-28 11:13:12,972 - matchms - WARNING - No precursor_mz found in metadata.\n"
     ]
    },
    {
     "name": "stdout",
     "output_type": "stream",
     "text": [
      "2023-03-28 11:13:12,973:WARNING:matchms:add_precursor_mz:No precursor_mz found in metadata.\n"
     ]
    },
    {
     "name": "stderr",
     "output_type": "stream",
     "text": [
      "2023-03-28 11:13:12,973 - matchms - WARNING - No precursor_mz found in metadata.\n"
     ]
    },
    {
     "name": "stdout",
     "output_type": "stream",
     "text": [
      "2023-03-28 11:13:12,974:WARNING:matchms:add_precursor_mz:No precursor_mz found in metadata.\n"
     ]
    },
    {
     "name": "stderr",
     "output_type": "stream",
     "text": [
      "2023-03-28 11:13:12,974 - matchms - WARNING - No precursor_mz found in metadata.\n"
     ]
    },
    {
     "name": "stdout",
     "output_type": "stream",
     "text": [
      "2023-03-28 11:13:12,974:WARNING:matchms:add_precursor_mz:No precursor_mz found in metadata.\n"
     ]
    },
    {
     "name": "stderr",
     "output_type": "stream",
     "text": [
      "2023-03-28 11:13:12,974 - matchms - WARNING - No precursor_mz found in metadata.\n"
     ]
    },
    {
     "name": "stdout",
     "output_type": "stream",
     "text": [
      "2023-03-28 11:13:12,975:WARNING:matchms:add_precursor_mz:No precursor_mz found in metadata.\n"
     ]
    },
    {
     "name": "stderr",
     "output_type": "stream",
     "text": [
      "2023-03-28 11:13:12,975 - matchms - WARNING - No precursor_mz found in metadata.\n"
     ]
    },
    {
     "name": "stdout",
     "output_type": "stream",
     "text": [
      "2023-03-28 11:13:12,976:WARNING:matchms:add_precursor_mz:No precursor_mz found in metadata.\n"
     ]
    },
    {
     "name": "stderr",
     "output_type": "stream",
     "text": [
      "2023-03-28 11:13:12,976 - matchms - WARNING - No precursor_mz found in metadata.\n"
     ]
    },
    {
     "name": "stdout",
     "output_type": "stream",
     "text": [
      "2023-03-28 11:13:12,977:WARNING:matchms:add_precursor_mz:No precursor_mz found in metadata.\n"
     ]
    },
    {
     "name": "stderr",
     "output_type": "stream",
     "text": [
      "2023-03-28 11:13:12,977 - matchms - WARNING - No precursor_mz found in metadata.\n"
     ]
    },
    {
     "name": "stdout",
     "output_type": "stream",
     "text": [
      "2023-03-28 11:13:12,978:WARNING:matchms:add_precursor_mz:No precursor_mz found in metadata.\n"
     ]
    },
    {
     "name": "stderr",
     "output_type": "stream",
     "text": [
      "2023-03-28 11:13:12,978 - matchms - WARNING - No precursor_mz found in metadata.\n"
     ]
    },
    {
     "name": "stdout",
     "output_type": "stream",
     "text": [
      "2023-03-28 11:13:12,978:WARNING:matchms:add_precursor_mz:No precursor_mz found in metadata.\n"
     ]
    },
    {
     "name": "stderr",
     "output_type": "stream",
     "text": [
      "2023-03-28 11:13:12,978 - matchms - WARNING - No precursor_mz found in metadata.\n"
     ]
    },
    {
     "name": "stdout",
     "output_type": "stream",
     "text": [
      "2023-03-28 11:13:12,979:WARNING:matchms:add_precursor_mz:No precursor_mz found in metadata.\n"
     ]
    },
    {
     "name": "stderr",
     "output_type": "stream",
     "text": [
      "2023-03-28 11:13:12,979 - matchms - WARNING - No precursor_mz found in metadata.\n"
     ]
    },
    {
     "name": "stdout",
     "output_type": "stream",
     "text": [
      "2023-03-28 11:13:12,979:WARNING:matchms:add_precursor_mz:No precursor_mz found in metadata.\n"
     ]
    },
    {
     "name": "stderr",
     "output_type": "stream",
     "text": [
      "2023-03-28 11:13:12,979 - matchms - WARNING - No precursor_mz found in metadata.\n"
     ]
    },
    {
     "name": "stdout",
     "output_type": "stream",
     "text": [
      "2023-03-28 11:13:12,981:WARNING:matchms:add_precursor_mz:No precursor_mz found in metadata.\n"
     ]
    },
    {
     "name": "stderr",
     "output_type": "stream",
     "text": [
      "2023-03-28 11:13:12,981 - matchms - WARNING - No precursor_mz found in metadata.\n"
     ]
    },
    {
     "name": "stdout",
     "output_type": "stream",
     "text": [
      "2023-03-28 11:13:12,981:WARNING:matchms:add_precursor_mz:No precursor_mz found in metadata.\n"
     ]
    },
    {
     "name": "stderr",
     "output_type": "stream",
     "text": [
      "2023-03-28 11:13:12,981 - matchms - WARNING - No precursor_mz found in metadata.\n"
     ]
    },
    {
     "name": "stdout",
     "output_type": "stream",
     "text": [
      "2023-03-28 11:13:12,982:WARNING:matchms:add_precursor_mz:No precursor_mz found in metadata.\n"
     ]
    },
    {
     "name": "stderr",
     "output_type": "stream",
     "text": [
      "2023-03-28 11:13:12,982 - matchms - WARNING - No precursor_mz found in metadata.\n"
     ]
    },
    {
     "name": "stdout",
     "output_type": "stream",
     "text": [
      "2023-03-28 11:13:12,983:WARNING:matchms:add_precursor_mz:No precursor_mz found in metadata.\n"
     ]
    },
    {
     "name": "stderr",
     "output_type": "stream",
     "text": [
      "2023-03-28 11:13:12,983 - matchms - WARNING - No precursor_mz found in metadata.\n"
     ]
    },
    {
     "name": "stdout",
     "output_type": "stream",
     "text": [
      "2023-03-28 11:13:12,983:WARNING:matchms:add_precursor_mz:No precursor_mz found in metadata.\n"
     ]
    },
    {
     "name": "stderr",
     "output_type": "stream",
     "text": [
      "2023-03-28 11:13:12,983 - matchms - WARNING - No precursor_mz found in metadata.\n"
     ]
    },
    {
     "name": "stdout",
     "output_type": "stream",
     "text": [
      "2023-03-28 11:13:12,984:WARNING:matchms:add_precursor_mz:No precursor_mz found in metadata.\n"
     ]
    },
    {
     "name": "stderr",
     "output_type": "stream",
     "text": [
      "2023-03-28 11:13:12,984 - matchms - WARNING - No precursor_mz found in metadata.\n"
     ]
    },
    {
     "name": "stdout",
     "output_type": "stream",
     "text": [
      "2023-03-28 11:13:12,986:WARNING:matchms:add_precursor_mz:No precursor_mz found in metadata.\n"
     ]
    },
    {
     "name": "stderr",
     "output_type": "stream",
     "text": [
      "2023-03-28 11:13:12,986 - matchms - WARNING - No precursor_mz found in metadata.\n"
     ]
    },
    {
     "name": "stdout",
     "output_type": "stream",
     "text": [
      "2023-03-28 11:13:12,986:WARNING:matchms:add_precursor_mz:No precursor_mz found in metadata.\n"
     ]
    },
    {
     "name": "stderr",
     "output_type": "stream",
     "text": [
      "2023-03-28 11:13:12,986 - matchms - WARNING - No precursor_mz found in metadata.\n"
     ]
    },
    {
     "name": "stdout",
     "output_type": "stream",
     "text": [
      "2023-03-28 11:13:12,987:WARNING:matchms:add_precursor_mz:No precursor_mz found in metadata.\n"
     ]
    },
    {
     "name": "stderr",
     "output_type": "stream",
     "text": [
      "2023-03-28 11:13:12,987 - matchms - WARNING - No precursor_mz found in metadata.\n"
     ]
    },
    {
     "name": "stdout",
     "output_type": "stream",
     "text": [
      "2023-03-28 11:13:12,987:WARNING:matchms:add_precursor_mz:No precursor_mz found in metadata.\n"
     ]
    },
    {
     "name": "stderr",
     "output_type": "stream",
     "text": [
      "2023-03-28 11:13:12,987 - matchms - WARNING - No precursor_mz found in metadata.\n"
     ]
    },
    {
     "name": "stdout",
     "output_type": "stream",
     "text": [
      "2023-03-28 11:13:12,988:WARNING:matchms:add_precursor_mz:No precursor_mz found in metadata.\n"
     ]
    },
    {
     "name": "stderr",
     "output_type": "stream",
     "text": [
      "2023-03-28 11:13:12,988 - matchms - WARNING - No precursor_mz found in metadata.\n"
     ]
    },
    {
     "name": "stdout",
     "output_type": "stream",
     "text": [
      "2023-03-28 11:13:12,988:WARNING:matchms:add_precursor_mz:No precursor_mz found in metadata.\n"
     ]
    },
    {
     "name": "stderr",
     "output_type": "stream",
     "text": [
      "2023-03-28 11:13:12,988 - matchms - WARNING - No precursor_mz found in metadata.\n"
     ]
    },
    {
     "name": "stdout",
     "output_type": "stream",
     "text": [
      "2023-03-28 11:13:12,990:WARNING:matchms:add_precursor_mz:No precursor_mz found in metadata.\n"
     ]
    },
    {
     "name": "stderr",
     "output_type": "stream",
     "text": [
      "2023-03-28 11:13:12,990 - matchms - WARNING - No precursor_mz found in metadata.\n"
     ]
    },
    {
     "name": "stdout",
     "output_type": "stream",
     "text": [
      "2023-03-28 11:13:12,991:WARNING:matchms:add_precursor_mz:No precursor_mz found in metadata.\n"
     ]
    },
    {
     "name": "stderr",
     "output_type": "stream",
     "text": [
      "2023-03-28 11:13:12,991 - matchms - WARNING - No precursor_mz found in metadata.\n"
     ]
    },
    {
     "name": "stdout",
     "output_type": "stream",
     "text": [
      "2023-03-28 11:13:12,991:WARNING:matchms:add_precursor_mz:No precursor_mz found in metadata.\n"
     ]
    },
    {
     "name": "stderr",
     "output_type": "stream",
     "text": [
      "2023-03-28 11:13:12,991 - matchms - WARNING - No precursor_mz found in metadata.\n"
     ]
    },
    {
     "name": "stdout",
     "output_type": "stream",
     "text": [
      "2023-03-28 11:13:12,992:WARNING:matchms:add_precursor_mz:No precursor_mz found in metadata.\n"
     ]
    },
    {
     "name": "stderr",
     "output_type": "stream",
     "text": [
      "2023-03-28 11:13:12,992 - matchms - WARNING - No precursor_mz found in metadata.\n"
     ]
    },
    {
     "name": "stdout",
     "output_type": "stream",
     "text": [
      "2023-03-28 11:13:12,992:WARNING:matchms:add_precursor_mz:No precursor_mz found in metadata.\n"
     ]
    },
    {
     "name": "stderr",
     "output_type": "stream",
     "text": [
      "2023-03-28 11:13:12,992 - matchms - WARNING - No precursor_mz found in metadata.\n"
     ]
    },
    {
     "name": "stdout",
     "output_type": "stream",
     "text": [
      "2023-03-28 11:13:12,993:WARNING:matchms:add_precursor_mz:No precursor_mz found in metadata.\n"
     ]
    },
    {
     "name": "stderr",
     "output_type": "stream",
     "text": [
      "2023-03-28 11:13:12,993 - matchms - WARNING - No precursor_mz found in metadata.\n"
     ]
    },
    {
     "name": "stdout",
     "output_type": "stream",
     "text": [
      "2023-03-28 11:13:12,994:WARNING:matchms:add_precursor_mz:No precursor_mz found in metadata.\n"
     ]
    },
    {
     "name": "stderr",
     "output_type": "stream",
     "text": [
      "2023-03-28 11:13:12,994 - matchms - WARNING - No precursor_mz found in metadata.\n"
     ]
    },
    {
     "name": "stdout",
     "output_type": "stream",
     "text": [
      "2023-03-28 11:13:12,994:WARNING:matchms:add_precursor_mz:No precursor_mz found in metadata.\n"
     ]
    },
    {
     "name": "stderr",
     "output_type": "stream",
     "text": [
      "2023-03-28 11:13:12,994 - matchms - WARNING - No precursor_mz found in metadata.\n"
     ]
    },
    {
     "name": "stdout",
     "output_type": "stream",
     "text": [
      "2023-03-28 11:13:12,996:WARNING:matchms:add_precursor_mz:No precursor_mz found in metadata.\n"
     ]
    },
    {
     "name": "stderr",
     "output_type": "stream",
     "text": [
      "2023-03-28 11:13:12,996 - matchms - WARNING - No precursor_mz found in metadata.\n"
     ]
    },
    {
     "name": "stdout",
     "output_type": "stream",
     "text": [
      "2023-03-28 11:13:12,997:WARNING:matchms:add_precursor_mz:No precursor_mz found in metadata.\n"
     ]
    },
    {
     "name": "stderr",
     "output_type": "stream",
     "text": [
      "2023-03-28 11:13:12,997 - matchms - WARNING - No precursor_mz found in metadata.\n"
     ]
    },
    {
     "name": "stdout",
     "output_type": "stream",
     "text": [
      "2023-03-28 11:13:12,997:WARNING:matchms:add_precursor_mz:No precursor_mz found in metadata.\n"
     ]
    },
    {
     "name": "stderr",
     "output_type": "stream",
     "text": [
      "2023-03-28 11:13:12,997 - matchms - WARNING - No precursor_mz found in metadata.\n"
     ]
    },
    {
     "name": "stdout",
     "output_type": "stream",
     "text": [
      "2023-03-28 11:13:12,998:WARNING:matchms:add_precursor_mz:No precursor_mz found in metadata.\n"
     ]
    },
    {
     "name": "stderr",
     "output_type": "stream",
     "text": [
      "2023-03-28 11:13:12,998 - matchms - WARNING - No precursor_mz found in metadata.\n"
     ]
    },
    {
     "name": "stdout",
     "output_type": "stream",
     "text": [
      "2023-03-28 11:13:12,998:WARNING:matchms:add_precursor_mz:No precursor_mz found in metadata.\n"
     ]
    },
    {
     "name": "stderr",
     "output_type": "stream",
     "text": [
      "2023-03-28 11:13:12,998 - matchms - WARNING - No precursor_mz found in metadata.\n"
     ]
    },
    {
     "name": "stdout",
     "output_type": "stream",
     "text": [
      "2023-03-28 11:13:12,999:WARNING:matchms:add_precursor_mz:No precursor_mz found in metadata.\n"
     ]
    },
    {
     "name": "stderr",
     "output_type": "stream",
     "text": [
      "2023-03-28 11:13:12,999 - matchms - WARNING - No precursor_mz found in metadata.\n"
     ]
    },
    {
     "name": "stdout",
     "output_type": "stream",
     "text": [
      "2023-03-28 11:13:13,001:WARNING:matchms:add_precursor_mz:No precursor_mz found in metadata.\n"
     ]
    },
    {
     "name": "stderr",
     "output_type": "stream",
     "text": [
      "2023-03-28 11:13:13,001 - matchms - WARNING - No precursor_mz found in metadata.\n"
     ]
    },
    {
     "name": "stdout",
     "output_type": "stream",
     "text": [
      "2023-03-28 11:13:13,001:WARNING:matchms:add_precursor_mz:No precursor_mz found in metadata.\n"
     ]
    },
    {
     "name": "stderr",
     "output_type": "stream",
     "text": [
      "2023-03-28 11:13:13,001 - matchms - WARNING - No precursor_mz found in metadata.\n"
     ]
    },
    {
     "name": "stdout",
     "output_type": "stream",
     "text": [
      "2023-03-28 11:13:13,002:WARNING:matchms:add_precursor_mz:No precursor_mz found in metadata.\n"
     ]
    },
    {
     "name": "stderr",
     "output_type": "stream",
     "text": [
      "2023-03-28 11:13:13,002 - matchms - WARNING - No precursor_mz found in metadata.\n"
     ]
    },
    {
     "name": "stdout",
     "output_type": "stream",
     "text": [
      "2023-03-28 11:13:13,003:WARNING:matchms:add_precursor_mz:No precursor_mz found in metadata.\n"
     ]
    },
    {
     "name": "stderr",
     "output_type": "stream",
     "text": [
      "2023-03-28 11:13:13,003 - matchms - WARNING - No precursor_mz found in metadata.\n"
     ]
    },
    {
     "name": "stdout",
     "output_type": "stream",
     "text": [
      "2023-03-28 11:13:13,003:WARNING:matchms:add_precursor_mz:No precursor_mz found in metadata.\n"
     ]
    },
    {
     "name": "stderr",
     "output_type": "stream",
     "text": [
      "2023-03-28 11:13:13,003 - matchms - WARNING - No precursor_mz found in metadata.\n"
     ]
    },
    {
     "name": "stdout",
     "output_type": "stream",
     "text": [
      "2023-03-28 11:13:13,004:WARNING:matchms:add_precursor_mz:No precursor_mz found in metadata.\n"
     ]
    },
    {
     "name": "stderr",
     "output_type": "stream",
     "text": [
      "2023-03-28 11:13:13,004 - matchms - WARNING - No precursor_mz found in metadata.\n"
     ]
    },
    {
     "name": "stdout",
     "output_type": "stream",
     "text": [
      "2023-03-28 11:13:13,005:WARNING:matchms:add_precursor_mz:No precursor_mz found in metadata.\n"
     ]
    },
    {
     "name": "stderr",
     "output_type": "stream",
     "text": [
      "2023-03-28 11:13:13,005 - matchms - WARNING - No precursor_mz found in metadata.\n"
     ]
    },
    {
     "name": "stdout",
     "output_type": "stream",
     "text": [
      "2023-03-28 11:13:13,006:WARNING:matchms:add_precursor_mz:No precursor_mz found in metadata.\n"
     ]
    },
    {
     "name": "stderr",
     "output_type": "stream",
     "text": [
      "2023-03-28 11:13:13,006 - matchms - WARNING - No precursor_mz found in metadata.\n"
     ]
    },
    {
     "name": "stdout",
     "output_type": "stream",
     "text": [
      "2023-03-28 11:13:13,007:WARNING:matchms:add_precursor_mz:No precursor_mz found in metadata.\n"
     ]
    },
    {
     "name": "stderr",
     "output_type": "stream",
     "text": [
      "2023-03-28 11:13:13,007 - matchms - WARNING - No precursor_mz found in metadata.\n"
     ]
    },
    {
     "name": "stdout",
     "output_type": "stream",
     "text": [
      "2023-03-28 11:13:13,007:WARNING:matchms:add_precursor_mz:No precursor_mz found in metadata.\n"
     ]
    },
    {
     "name": "stderr",
     "output_type": "stream",
     "text": [
      "2023-03-28 11:13:13,007 - matchms - WARNING - No precursor_mz found in metadata.\n"
     ]
    },
    {
     "name": "stdout",
     "output_type": "stream",
     "text": [
      "2023-03-28 11:13:13,008:WARNING:matchms:add_precursor_mz:No precursor_mz found in metadata.\n"
     ]
    },
    {
     "name": "stderr",
     "output_type": "stream",
     "text": [
      "2023-03-28 11:13:13,008 - matchms - WARNING - No precursor_mz found in metadata.\n"
     ]
    },
    {
     "name": "stdout",
     "output_type": "stream",
     "text": [
      "2023-03-28 11:13:13,008:WARNING:matchms:add_precursor_mz:No precursor_mz found in metadata.\n"
     ]
    },
    {
     "name": "stderr",
     "output_type": "stream",
     "text": [
      "2023-03-28 11:13:13,008 - matchms - WARNING - No precursor_mz found in metadata.\n"
     ]
    },
    {
     "name": "stdout",
     "output_type": "stream",
     "text": [
      "2023-03-28 11:13:13,010:WARNING:matchms:add_precursor_mz:No precursor_mz found in metadata.\n"
     ]
    },
    {
     "name": "stderr",
     "output_type": "stream",
     "text": [
      "2023-03-28 11:13:13,010 - matchms - WARNING - No precursor_mz found in metadata.\n"
     ]
    },
    {
     "name": "stdout",
     "output_type": "stream",
     "text": [
      "2023-03-28 11:13:13,010:WARNING:matchms:add_precursor_mz:No precursor_mz found in metadata.\n"
     ]
    },
    {
     "name": "stderr",
     "output_type": "stream",
     "text": [
      "2023-03-28 11:13:13,010 - matchms - WARNING - No precursor_mz found in metadata.\n"
     ]
    },
    {
     "name": "stdout",
     "output_type": "stream",
     "text": [
      "2023-03-28 11:13:13,011:WARNING:matchms:add_precursor_mz:No precursor_mz found in metadata.\n"
     ]
    },
    {
     "name": "stderr",
     "output_type": "stream",
     "text": [
      "2023-03-28 11:13:13,011 - matchms - WARNING - No precursor_mz found in metadata.\n"
     ]
    },
    {
     "name": "stdout",
     "output_type": "stream",
     "text": [
      "2023-03-28 11:13:13,012:WARNING:matchms:add_precursor_mz:No precursor_mz found in metadata.\n"
     ]
    },
    {
     "name": "stderr",
     "output_type": "stream",
     "text": [
      "2023-03-28 11:13:13,012 - matchms - WARNING - No precursor_mz found in metadata.\n"
     ]
    },
    {
     "name": "stdout",
     "output_type": "stream",
     "text": [
      "2023-03-28 11:13:13,013:WARNING:matchms:add_precursor_mz:No precursor_mz found in metadata.\n"
     ]
    },
    {
     "name": "stderr",
     "output_type": "stream",
     "text": [
      "2023-03-28 11:13:13,013 - matchms - WARNING - No precursor_mz found in metadata.\n"
     ]
    },
    {
     "name": "stdout",
     "output_type": "stream",
     "text": [
      "2023-03-28 11:13:13,013:WARNING:matchms:add_precursor_mz:No precursor_mz found in metadata.\n"
     ]
    },
    {
     "name": "stderr",
     "output_type": "stream",
     "text": [
      "2023-03-28 11:13:13,013 - matchms - WARNING - No precursor_mz found in metadata.\n"
     ]
    },
    {
     "name": "stdout",
     "output_type": "stream",
     "text": [
      "2023-03-28 11:13:13,015:WARNING:matchms:add_precursor_mz:No precursor_mz found in metadata.\n"
     ]
    },
    {
     "name": "stderr",
     "output_type": "stream",
     "text": [
      "2023-03-28 11:13:13,015 - matchms - WARNING - No precursor_mz found in metadata.\n"
     ]
    },
    {
     "name": "stdout",
     "output_type": "stream",
     "text": [
      "2023-03-28 11:13:13,015:WARNING:matchms:add_precursor_mz:No precursor_mz found in metadata.\n"
     ]
    },
    {
     "name": "stderr",
     "output_type": "stream",
     "text": [
      "2023-03-28 11:13:13,015 - matchms - WARNING - No precursor_mz found in metadata.\n"
     ]
    },
    {
     "name": "stdout",
     "output_type": "stream",
     "text": [
      "2023-03-28 11:13:13,016:WARNING:matchms:add_precursor_mz:No precursor_mz found in metadata.\n"
     ]
    },
    {
     "name": "stderr",
     "output_type": "stream",
     "text": [
      "2023-03-28 11:13:13,016 - matchms - WARNING - No precursor_mz found in metadata.\n"
     ]
    },
    {
     "name": "stdout",
     "output_type": "stream",
     "text": [
      "2023-03-28 11:13:13,016:WARNING:matchms:add_precursor_mz:No precursor_mz found in metadata.\n"
     ]
    },
    {
     "name": "stderr",
     "output_type": "stream",
     "text": [
      "2023-03-28 11:13:13,016 - matchms - WARNING - No precursor_mz found in metadata.\n"
     ]
    },
    {
     "name": "stdout",
     "output_type": "stream",
     "text": [
      "2023-03-28 11:13:13,017:WARNING:matchms:add_precursor_mz:No precursor_mz found in metadata.\n"
     ]
    },
    {
     "name": "stderr",
     "output_type": "stream",
     "text": [
      "2023-03-28 11:13:13,017 - matchms - WARNING - No precursor_mz found in metadata.\n"
     ]
    },
    {
     "name": "stdout",
     "output_type": "stream",
     "text": [
      "2023-03-28 11:13:13,017:WARNING:matchms:add_precursor_mz:No precursor_mz found in metadata.\n"
     ]
    },
    {
     "name": "stderr",
     "output_type": "stream",
     "text": [
      "2023-03-28 11:13:13,017 - matchms - WARNING - No precursor_mz found in metadata.\n"
     ]
    },
    {
     "name": "stdout",
     "output_type": "stream",
     "text": [
      "2023-03-28 11:13:13,019:WARNING:matchms:add_precursor_mz:No precursor_mz found in metadata.\n"
     ]
    },
    {
     "name": "stderr",
     "output_type": "stream",
     "text": [
      "2023-03-28 11:13:13,019 - matchms - WARNING - No precursor_mz found in metadata.\n"
     ]
    },
    {
     "name": "stdout",
     "output_type": "stream",
     "text": [
      "2023-03-28 11:13:13,020:WARNING:matchms:add_precursor_mz:No precursor_mz found in metadata.\n"
     ]
    },
    {
     "name": "stderr",
     "output_type": "stream",
     "text": [
      "2023-03-28 11:13:13,020 - matchms - WARNING - No precursor_mz found in metadata.\n"
     ]
    },
    {
     "name": "stdout",
     "output_type": "stream",
     "text": [
      "2023-03-28 11:13:13,021:WARNING:matchms:add_precursor_mz:No precursor_mz found in metadata.\n"
     ]
    },
    {
     "name": "stderr",
     "output_type": "stream",
     "text": [
      "2023-03-28 11:13:13,021 - matchms - WARNING - No precursor_mz found in metadata.\n"
     ]
    },
    {
     "name": "stdout",
     "output_type": "stream",
     "text": [
      "2023-03-28 11:13:13,022:WARNING:matchms:add_precursor_mz:No precursor_mz found in metadata.\n"
     ]
    },
    {
     "name": "stderr",
     "output_type": "stream",
     "text": [
      "2023-03-28 11:13:13,022 - matchms - WARNING - No precursor_mz found in metadata.\n"
     ]
    },
    {
     "name": "stdout",
     "output_type": "stream",
     "text": [
      "2023-03-28 11:13:13,023:WARNING:matchms:add_precursor_mz:No precursor_mz found in metadata.\n"
     ]
    },
    {
     "name": "stderr",
     "output_type": "stream",
     "text": [
      "2023-03-28 11:13:13,023 - matchms - WARNING - No precursor_mz found in metadata.\n"
     ]
    },
    {
     "name": "stdout",
     "output_type": "stream",
     "text": [
      "2023-03-28 11:13:13,023:WARNING:matchms:add_precursor_mz:No precursor_mz found in metadata.\n"
     ]
    },
    {
     "name": "stderr",
     "output_type": "stream",
     "text": [
      "2023-03-28 11:13:13,023 - matchms - WARNING - No precursor_mz found in metadata.\n"
     ]
    },
    {
     "name": "stdout",
     "output_type": "stream",
     "text": [
      "2023-03-28 11:13:13,025:WARNING:matchms:add_precursor_mz:No precursor_mz found in metadata.\n"
     ]
    },
    {
     "name": "stderr",
     "output_type": "stream",
     "text": [
      "2023-03-28 11:13:13,025 - matchms - WARNING - No precursor_mz found in metadata.\n"
     ]
    },
    {
     "name": "stdout",
     "output_type": "stream",
     "text": [
      "2023-03-28 11:13:13,025:WARNING:matchms:add_precursor_mz:No precursor_mz found in metadata.\n"
     ]
    },
    {
     "name": "stderr",
     "output_type": "stream",
     "text": [
      "2023-03-28 11:13:13,025 - matchms - WARNING - No precursor_mz found in metadata.\n"
     ]
    },
    {
     "name": "stdout",
     "output_type": "stream",
     "text": [
      "2023-03-28 11:13:13,026:WARNING:matchms:add_precursor_mz:No precursor_mz found in metadata.\n"
     ]
    },
    {
     "name": "stderr",
     "output_type": "stream",
     "text": [
      "2023-03-28 11:13:13,026 - matchms - WARNING - No precursor_mz found in metadata.\n"
     ]
    },
    {
     "name": "stdout",
     "output_type": "stream",
     "text": [
      "2023-03-28 11:13:13,027:WARNING:matchms:add_precursor_mz:No precursor_mz found in metadata.\n"
     ]
    },
    {
     "name": "stderr",
     "output_type": "stream",
     "text": [
      "2023-03-28 11:13:13,027 - matchms - WARNING - No precursor_mz found in metadata.\n"
     ]
    },
    {
     "name": "stdout",
     "output_type": "stream",
     "text": [
      "2023-03-28 11:13:13,028:WARNING:matchms:add_precursor_mz:No precursor_mz found in metadata.\n"
     ]
    },
    {
     "name": "stderr",
     "output_type": "stream",
     "text": [
      "2023-03-28 11:13:13,028 - matchms - WARNING - No precursor_mz found in metadata.\n"
     ]
    },
    {
     "name": "stdout",
     "output_type": "stream",
     "text": [
      "2023-03-28 11:13:13,028:WARNING:matchms:add_precursor_mz:No precursor_mz found in metadata.\n"
     ]
    },
    {
     "name": "stderr",
     "output_type": "stream",
     "text": [
      "2023-03-28 11:13:13,028 - matchms - WARNING - No precursor_mz found in metadata.\n"
     ]
    },
    {
     "name": "stdout",
     "output_type": "stream",
     "text": [
      "2023-03-28 11:13:13,030:WARNING:matchms:add_precursor_mz:No precursor_mz found in metadata.\n"
     ]
    },
    {
     "name": "stderr",
     "output_type": "stream",
     "text": [
      "2023-03-28 11:13:13,030 - matchms - WARNING - No precursor_mz found in metadata.\n"
     ]
    },
    {
     "name": "stdout",
     "output_type": "stream",
     "text": [
      "2023-03-28 11:13:13,030:WARNING:matchms:add_precursor_mz:No precursor_mz found in metadata.\n"
     ]
    },
    {
     "name": "stderr",
     "output_type": "stream",
     "text": [
      "2023-03-28 11:13:13,030 - matchms - WARNING - No precursor_mz found in metadata.\n"
     ]
    },
    {
     "name": "stdout",
     "output_type": "stream",
     "text": [
      "2023-03-28 11:13:13,031:WARNING:matchms:add_precursor_mz:No precursor_mz found in metadata.\n"
     ]
    },
    {
     "name": "stderr",
     "output_type": "stream",
     "text": [
      "2023-03-28 11:13:13,031 - matchms - WARNING - No precursor_mz found in metadata.\n"
     ]
    },
    {
     "name": "stdout",
     "output_type": "stream",
     "text": [
      "2023-03-28 11:13:13,032:WARNING:matchms:add_precursor_mz:No precursor_mz found in metadata.\n"
     ]
    },
    {
     "name": "stderr",
     "output_type": "stream",
     "text": [
      "2023-03-28 11:13:13,032 - matchms - WARNING - No precursor_mz found in metadata.\n"
     ]
    },
    {
     "name": "stdout",
     "output_type": "stream",
     "text": [
      "2023-03-28 11:13:13,033:WARNING:matchms:add_precursor_mz:No precursor_mz found in metadata.\n"
     ]
    },
    {
     "name": "stderr",
     "output_type": "stream",
     "text": [
      "2023-03-28 11:13:13,033 - matchms - WARNING - No precursor_mz found in metadata.\n"
     ]
    },
    {
     "name": "stdout",
     "output_type": "stream",
     "text": [
      "2023-03-28 11:13:13,034:WARNING:matchms:add_precursor_mz:No precursor_mz found in metadata.\n"
     ]
    },
    {
     "name": "stderr",
     "output_type": "stream",
     "text": [
      "2023-03-28 11:13:13,034 - matchms - WARNING - No precursor_mz found in metadata.\n"
     ]
    },
    {
     "name": "stdout",
     "output_type": "stream",
     "text": [
      "2023-03-28 11:13:13,036:WARNING:matchms:add_precursor_mz:No precursor_mz found in metadata.\n"
     ]
    },
    {
     "name": "stderr",
     "output_type": "stream",
     "text": [
      "2023-03-28 11:13:13,036 - matchms - WARNING - No precursor_mz found in metadata.\n"
     ]
    },
    {
     "name": "stdout",
     "output_type": "stream",
     "text": [
      "2023-03-28 11:13:13,036:WARNING:matchms:add_precursor_mz:No precursor_mz found in metadata.\n"
     ]
    },
    {
     "name": "stderr",
     "output_type": "stream",
     "text": [
      "2023-03-28 11:13:13,036 - matchms - WARNING - No precursor_mz found in metadata.\n"
     ]
    },
    {
     "name": "stdout",
     "output_type": "stream",
     "text": [
      "2023-03-28 11:13:13,037:WARNING:matchms:add_precursor_mz:No precursor_mz found in metadata.\n"
     ]
    },
    {
     "name": "stderr",
     "output_type": "stream",
     "text": [
      "2023-03-28 11:13:13,037 - matchms - WARNING - No precursor_mz found in metadata.\n"
     ]
    },
    {
     "name": "stdout",
     "output_type": "stream",
     "text": [
      "2023-03-28 11:13:13,038:WARNING:matchms:add_precursor_mz:No precursor_mz found in metadata.\n"
     ]
    },
    {
     "name": "stderr",
     "output_type": "stream",
     "text": [
      "2023-03-28 11:13:13,038 - matchms - WARNING - No precursor_mz found in metadata.\n"
     ]
    },
    {
     "name": "stdout",
     "output_type": "stream",
     "text": [
      "2023-03-28 11:13:13,040:WARNING:matchms:add_precursor_mz:No precursor_mz found in metadata.\n"
     ]
    },
    {
     "name": "stderr",
     "output_type": "stream",
     "text": [
      "2023-03-28 11:13:13,040 - matchms - WARNING - No precursor_mz found in metadata.\n"
     ]
    },
    {
     "name": "stdout",
     "output_type": "stream",
     "text": [
      "2023-03-28 11:13:13,040:WARNING:matchms:add_precursor_mz:No precursor_mz found in metadata.\n"
     ]
    },
    {
     "name": "stderr",
     "output_type": "stream",
     "text": [
      "2023-03-28 11:13:13,040 - matchms - WARNING - No precursor_mz found in metadata.\n"
     ]
    },
    {
     "name": "stdout",
     "output_type": "stream",
     "text": [
      "2023-03-28 11:13:13,042:WARNING:matchms:add_precursor_mz:No precursor_mz found in metadata.\n"
     ]
    },
    {
     "name": "stderr",
     "output_type": "stream",
     "text": [
      "2023-03-28 11:13:13,042 - matchms - WARNING - No precursor_mz found in metadata.\n"
     ]
    },
    {
     "name": "stdout",
     "output_type": "stream",
     "text": [
      "2023-03-28 11:13:13,043:WARNING:matchms:add_precursor_mz:No precursor_mz found in metadata.\n"
     ]
    },
    {
     "name": "stderr",
     "output_type": "stream",
     "text": [
      "2023-03-28 11:13:13,043 - matchms - WARNING - No precursor_mz found in metadata.\n"
     ]
    },
    {
     "name": "stdout",
     "output_type": "stream",
     "text": [
      "2023-03-28 11:13:13,044:WARNING:matchms:add_precursor_mz:No precursor_mz found in metadata.\n"
     ]
    },
    {
     "name": "stderr",
     "output_type": "stream",
     "text": [
      "2023-03-28 11:13:13,044 - matchms - WARNING - No precursor_mz found in metadata.\n"
     ]
    },
    {
     "name": "stdout",
     "output_type": "stream",
     "text": [
      "2023-03-28 11:13:13,045:WARNING:matchms:add_precursor_mz:No precursor_mz found in metadata.\n"
     ]
    },
    {
     "name": "stderr",
     "output_type": "stream",
     "text": [
      "2023-03-28 11:13:13,045 - matchms - WARNING - No precursor_mz found in metadata.\n"
     ]
    },
    {
     "name": "stdout",
     "output_type": "stream",
     "text": [
      "2023-03-28 11:13:13,046:WARNING:matchms:add_precursor_mz:No precursor_mz found in metadata.\n"
     ]
    },
    {
     "name": "stderr",
     "output_type": "stream",
     "text": [
      "2023-03-28 11:13:13,046 - matchms - WARNING - No precursor_mz found in metadata.\n"
     ]
    },
    {
     "name": "stdout",
     "output_type": "stream",
     "text": [
      "2023-03-28 11:13:13,046:WARNING:matchms:add_precursor_mz:No precursor_mz found in metadata.\n"
     ]
    },
    {
     "name": "stderr",
     "output_type": "stream",
     "text": [
      "2023-03-28 11:13:13,046 - matchms - WARNING - No precursor_mz found in metadata.\n"
     ]
    },
    {
     "name": "stdout",
     "output_type": "stream",
     "text": [
      "2023-03-28 11:13:13,048:WARNING:matchms:add_precursor_mz:No precursor_mz found in metadata.\n"
     ]
    },
    {
     "name": "stderr",
     "output_type": "stream",
     "text": [
      "2023-03-28 11:13:13,048 - matchms - WARNING - No precursor_mz found in metadata.\n"
     ]
    },
    {
     "name": "stdout",
     "output_type": "stream",
     "text": [
      "2023-03-28 11:13:13,048:WARNING:matchms:add_precursor_mz:No precursor_mz found in metadata.\n"
     ]
    },
    {
     "name": "stderr",
     "output_type": "stream",
     "text": [
      "2023-03-28 11:13:13,048 - matchms - WARNING - No precursor_mz found in metadata.\n"
     ]
    },
    {
     "name": "stdout",
     "output_type": "stream",
     "text": [
      "2023-03-28 11:13:13,049:WARNING:matchms:add_precursor_mz:No precursor_mz found in metadata.\n"
     ]
    },
    {
     "name": "stderr",
     "output_type": "stream",
     "text": [
      "2023-03-28 11:13:13,049 - matchms - WARNING - No precursor_mz found in metadata.\n"
     ]
    },
    {
     "name": "stdout",
     "output_type": "stream",
     "text": [
      "2023-03-28 11:13:13,050:WARNING:matchms:add_precursor_mz:No precursor_mz found in metadata.\n"
     ]
    },
    {
     "name": "stderr",
     "output_type": "stream",
     "text": [
      "2023-03-28 11:13:13,050 - matchms - WARNING - No precursor_mz found in metadata.\n"
     ]
    },
    {
     "name": "stdout",
     "output_type": "stream",
     "text": [
      "2023-03-28 11:13:13,051:WARNING:matchms:add_precursor_mz:No precursor_mz found in metadata.\n"
     ]
    },
    {
     "name": "stderr",
     "output_type": "stream",
     "text": [
      "2023-03-28 11:13:13,051 - matchms - WARNING - No precursor_mz found in metadata.\n"
     ]
    },
    {
     "name": "stdout",
     "output_type": "stream",
     "text": [
      "2023-03-28 11:13:13,052:WARNING:matchms:add_precursor_mz:No precursor_mz found in metadata.\n"
     ]
    },
    {
     "name": "stderr",
     "output_type": "stream",
     "text": [
      "2023-03-28 11:13:13,052 - matchms - WARNING - No precursor_mz found in metadata.\n"
     ]
    },
    {
     "name": "stdout",
     "output_type": "stream",
     "text": [
      "2023-03-28 11:13:13,053:WARNING:matchms:add_precursor_mz:No precursor_mz found in metadata.\n"
     ]
    },
    {
     "name": "stderr",
     "output_type": "stream",
     "text": [
      "2023-03-28 11:13:13,053 - matchms - WARNING - No precursor_mz found in metadata.\n"
     ]
    },
    {
     "name": "stdout",
     "output_type": "stream",
     "text": [
      "2023-03-28 11:13:13,054:WARNING:matchms:add_precursor_mz:No precursor_mz found in metadata.\n"
     ]
    },
    {
     "name": "stderr",
     "output_type": "stream",
     "text": [
      "2023-03-28 11:13:13,054 - matchms - WARNING - No precursor_mz found in metadata.\n"
     ]
    },
    {
     "name": "stdout",
     "output_type": "stream",
     "text": [
      "2023-03-28 11:13:13,055:WARNING:matchms:add_precursor_mz:No precursor_mz found in metadata.\n"
     ]
    },
    {
     "name": "stderr",
     "output_type": "stream",
     "text": [
      "2023-03-28 11:13:13,055 - matchms - WARNING - No precursor_mz found in metadata.\n"
     ]
    },
    {
     "name": "stdout",
     "output_type": "stream",
     "text": [
      "2023-03-28 11:13:13,055:WARNING:matchms:add_precursor_mz:No precursor_mz found in metadata.\n"
     ]
    },
    {
     "name": "stderr",
     "output_type": "stream",
     "text": [
      "2023-03-28 11:13:13,055 - matchms - WARNING - No precursor_mz found in metadata.\n"
     ]
    },
    {
     "name": "stdout",
     "output_type": "stream",
     "text": [
      "2023-03-28 11:13:13,057:WARNING:matchms:add_precursor_mz:No precursor_mz found in metadata.\n"
     ]
    },
    {
     "name": "stderr",
     "output_type": "stream",
     "text": [
      "2023-03-28 11:13:13,057 - matchms - WARNING - No precursor_mz found in metadata.\n"
     ]
    },
    {
     "name": "stdout",
     "output_type": "stream",
     "text": [
      "2023-03-28 11:13:13,058:WARNING:matchms:add_precursor_mz:No precursor_mz found in metadata.\n"
     ]
    },
    {
     "name": "stderr",
     "output_type": "stream",
     "text": [
      "2023-03-28 11:13:13,058 - matchms - WARNING - No precursor_mz found in metadata.\n"
     ]
    },
    {
     "name": "stdout",
     "output_type": "stream",
     "text": [
      "2023-03-28 11:13:13,060:WARNING:matchms:add_precursor_mz:No precursor_mz found in metadata.\n"
     ]
    },
    {
     "name": "stderr",
     "output_type": "stream",
     "text": [
      "2023-03-28 11:13:13,060 - matchms - WARNING - No precursor_mz found in metadata.\n"
     ]
    },
    {
     "name": "stdout",
     "output_type": "stream",
     "text": [
      "2023-03-28 11:13:13,060:WARNING:matchms:add_precursor_mz:No precursor_mz found in metadata.\n"
     ]
    },
    {
     "name": "stderr",
     "output_type": "stream",
     "text": [
      "2023-03-28 11:13:13,060 - matchms - WARNING - No precursor_mz found in metadata.\n"
     ]
    },
    {
     "name": "stdout",
     "output_type": "stream",
     "text": [
      "2023-03-28 11:13:13,062:WARNING:matchms:add_precursor_mz:No precursor_mz found in metadata.\n"
     ]
    },
    {
     "name": "stderr",
     "output_type": "stream",
     "text": [
      "2023-03-28 11:13:13,062 - matchms - WARNING - No precursor_mz found in metadata.\n"
     ]
    },
    {
     "name": "stdout",
     "output_type": "stream",
     "text": [
      "2023-03-28 11:13:13,063:WARNING:matchms:add_precursor_mz:No precursor_mz found in metadata.\n"
     ]
    },
    {
     "name": "stderr",
     "output_type": "stream",
     "text": [
      "2023-03-28 11:13:13,063 - matchms - WARNING - No precursor_mz found in metadata.\n"
     ]
    },
    {
     "name": "stdout",
     "output_type": "stream",
     "text": [
      "2023-03-28 11:13:13,064:WARNING:matchms:add_precursor_mz:No precursor_mz found in metadata.\n"
     ]
    },
    {
     "name": "stderr",
     "output_type": "stream",
     "text": [
      "2023-03-28 11:13:13,064 - matchms - WARNING - No precursor_mz found in metadata.\n"
     ]
    },
    {
     "name": "stdout",
     "output_type": "stream",
     "text": [
      "2023-03-28 11:13:13,065:WARNING:matchms:add_precursor_mz:No precursor_mz found in metadata.\n"
     ]
    },
    {
     "name": "stderr",
     "output_type": "stream",
     "text": [
      "2023-03-28 11:13:13,065 - matchms - WARNING - No precursor_mz found in metadata.\n"
     ]
    },
    {
     "name": "stdout",
     "output_type": "stream",
     "text": [
      "2023-03-28 11:13:13,066:WARNING:matchms:add_precursor_mz:No precursor_mz found in metadata.\n"
     ]
    },
    {
     "name": "stderr",
     "output_type": "stream",
     "text": [
      "2023-03-28 11:13:13,066 - matchms - WARNING - No precursor_mz found in metadata.\n"
     ]
    },
    {
     "name": "stdout",
     "output_type": "stream",
     "text": [
      "2023-03-28 11:13:13,066:WARNING:matchms:add_precursor_mz:No precursor_mz found in metadata.\n"
     ]
    },
    {
     "name": "stderr",
     "output_type": "stream",
     "text": [
      "2023-03-28 11:13:13,066 - matchms - WARNING - No precursor_mz found in metadata.\n"
     ]
    },
    {
     "name": "stdout",
     "output_type": "stream",
     "text": [
      "2023-03-28 11:13:13,068:WARNING:matchms:add_precursor_mz:No precursor_mz found in metadata.\n"
     ]
    },
    {
     "name": "stderr",
     "output_type": "stream",
     "text": [
      "2023-03-28 11:13:13,068 - matchms - WARNING - No precursor_mz found in metadata.\n"
     ]
    },
    {
     "name": "stdout",
     "output_type": "stream",
     "text": [
      "2023-03-28 11:13:13,068:WARNING:matchms:add_precursor_mz:No precursor_mz found in metadata.\n"
     ]
    },
    {
     "name": "stderr",
     "output_type": "stream",
     "text": [
      "2023-03-28 11:13:13,068 - matchms - WARNING - No precursor_mz found in metadata.\n"
     ]
    },
    {
     "name": "stdout",
     "output_type": "stream",
     "text": [
      "2023-03-28 11:13:13,070:WARNING:matchms:add_precursor_mz:No precursor_mz found in metadata.\n"
     ]
    },
    {
     "name": "stderr",
     "output_type": "stream",
     "text": [
      "2023-03-28 11:13:13,070 - matchms - WARNING - No precursor_mz found in metadata.\n"
     ]
    },
    {
     "name": "stdout",
     "output_type": "stream",
     "text": [
      "2023-03-28 11:13:13,071:WARNING:matchms:add_precursor_mz:No precursor_mz found in metadata.\n"
     ]
    },
    {
     "name": "stderr",
     "output_type": "stream",
     "text": [
      "2023-03-28 11:13:13,071 - matchms - WARNING - No precursor_mz found in metadata.\n"
     ]
    },
    {
     "name": "stdout",
     "output_type": "stream",
     "text": [
      "2023-03-28 11:13:13,072:WARNING:matchms:add_precursor_mz:No precursor_mz found in metadata.\n"
     ]
    },
    {
     "name": "stderr",
     "output_type": "stream",
     "text": [
      "2023-03-28 11:13:13,072 - matchms - WARNING - No precursor_mz found in metadata.\n"
     ]
    },
    {
     "name": "stdout",
     "output_type": "stream",
     "text": [
      "2023-03-28 11:13:13,073:WARNING:matchms:add_precursor_mz:No precursor_mz found in metadata.\n"
     ]
    },
    {
     "name": "stderr",
     "output_type": "stream",
     "text": [
      "2023-03-28 11:13:13,073 - matchms - WARNING - No precursor_mz found in metadata.\n"
     ]
    },
    {
     "name": "stdout",
     "output_type": "stream",
     "text": [
      "2023-03-28 11:13:13,073:WARNING:matchms:add_precursor_mz:No precursor_mz found in metadata.\n"
     ]
    },
    {
     "name": "stderr",
     "output_type": "stream",
     "text": [
      "2023-03-28 11:13:13,073 - matchms - WARNING - No precursor_mz found in metadata.\n"
     ]
    },
    {
     "name": "stdout",
     "output_type": "stream",
     "text": [
      "2023-03-28 11:13:13,074:WARNING:matchms:add_precursor_mz:No precursor_mz found in metadata.\n"
     ]
    },
    {
     "name": "stderr",
     "output_type": "stream",
     "text": [
      "2023-03-28 11:13:13,074 - matchms - WARNING - No precursor_mz found in metadata.\n"
     ]
    },
    {
     "name": "stdout",
     "output_type": "stream",
     "text": [
      "2023-03-28 11:13:13,075:WARNING:matchms:add_precursor_mz:No precursor_mz found in metadata.\n"
     ]
    },
    {
     "name": "stderr",
     "output_type": "stream",
     "text": [
      "2023-03-28 11:13:13,075 - matchms - WARNING - No precursor_mz found in metadata.\n"
     ]
    },
    {
     "name": "stdout",
     "output_type": "stream",
     "text": [
      "2023-03-28 11:13:13,076:WARNING:matchms:add_precursor_mz:No precursor_mz found in metadata.\n"
     ]
    },
    {
     "name": "stderr",
     "output_type": "stream",
     "text": [
      "2023-03-28 11:13:13,076 - matchms - WARNING - No precursor_mz found in metadata.\n"
     ]
    },
    {
     "name": "stdout",
     "output_type": "stream",
     "text": [
      "2023-03-28 11:13:13,077:WARNING:matchms:add_precursor_mz:No precursor_mz found in metadata.\n"
     ]
    },
    {
     "name": "stderr",
     "output_type": "stream",
     "text": [
      "2023-03-28 11:13:13,077 - matchms - WARNING - No precursor_mz found in metadata.\n"
     ]
    },
    {
     "name": "stdout",
     "output_type": "stream",
     "text": [
      "2023-03-28 11:13:13,078:WARNING:matchms:add_precursor_mz:No precursor_mz found in metadata.\n"
     ]
    },
    {
     "name": "stderr",
     "output_type": "stream",
     "text": [
      "2023-03-28 11:13:13,078 - matchms - WARNING - No precursor_mz found in metadata.\n"
     ]
    },
    {
     "name": "stdout",
     "output_type": "stream",
     "text": [
      "2023-03-28 11:13:13,079:WARNING:matchms:add_precursor_mz:No precursor_mz found in metadata.\n"
     ]
    },
    {
     "name": "stderr",
     "output_type": "stream",
     "text": [
      "2023-03-28 11:13:13,079 - matchms - WARNING - No precursor_mz found in metadata.\n"
     ]
    },
    {
     "name": "stdout",
     "output_type": "stream",
     "text": [
      "2023-03-28 11:13:13,080:WARNING:matchms:add_precursor_mz:No precursor_mz found in metadata.\n"
     ]
    },
    {
     "name": "stderr",
     "output_type": "stream",
     "text": [
      "2023-03-28 11:13:13,080 - matchms - WARNING - No precursor_mz found in metadata.\n"
     ]
    },
    {
     "name": "stdout",
     "output_type": "stream",
     "text": [
      "2023-03-28 11:13:13,081:WARNING:matchms:add_precursor_mz:No precursor_mz found in metadata.\n"
     ]
    },
    {
     "name": "stderr",
     "output_type": "stream",
     "text": [
      "2023-03-28 11:13:13,081 - matchms - WARNING - No precursor_mz found in metadata.\n"
     ]
    },
    {
     "name": "stdout",
     "output_type": "stream",
     "text": [
      "2023-03-28 11:13:13,082:WARNING:matchms:add_precursor_mz:No precursor_mz found in metadata.\n"
     ]
    },
    {
     "name": "stderr",
     "output_type": "stream",
     "text": [
      "2023-03-28 11:13:13,082 - matchms - WARNING - No precursor_mz found in metadata.\n"
     ]
    },
    {
     "name": "stdout",
     "output_type": "stream",
     "text": [
      "2023-03-28 11:13:13,084:WARNING:matchms:add_precursor_mz:No precursor_mz found in metadata.\n"
     ]
    },
    {
     "name": "stderr",
     "output_type": "stream",
     "text": [
      "2023-03-28 11:13:13,084 - matchms - WARNING - No precursor_mz found in metadata.\n"
     ]
    },
    {
     "name": "stdout",
     "output_type": "stream",
     "text": [
      "2023-03-28 11:13:13,084:WARNING:matchms:add_precursor_mz:No precursor_mz found in metadata.\n"
     ]
    },
    {
     "name": "stderr",
     "output_type": "stream",
     "text": [
      "2023-03-28 11:13:13,084 - matchms - WARNING - No precursor_mz found in metadata.\n"
     ]
    },
    {
     "name": "stdout",
     "output_type": "stream",
     "text": [
      "2023-03-28 11:13:13,085:WARNING:matchms:add_precursor_mz:No precursor_mz found in metadata.\n"
     ]
    },
    {
     "name": "stderr",
     "output_type": "stream",
     "text": [
      "2023-03-28 11:13:13,085 - matchms - WARNING - No precursor_mz found in metadata.\n"
     ]
    },
    {
     "name": "stdout",
     "output_type": "stream",
     "text": [
      "2023-03-28 11:13:13,086:WARNING:matchms:add_precursor_mz:No precursor_mz found in metadata.\n"
     ]
    },
    {
     "name": "stderr",
     "output_type": "stream",
     "text": [
      "2023-03-28 11:13:13,086 - matchms - WARNING - No precursor_mz found in metadata.\n"
     ]
    },
    {
     "name": "stdout",
     "output_type": "stream",
     "text": [
      "2023-03-28 11:13:13,088:WARNING:matchms:add_precursor_mz:No precursor_mz found in metadata.\n"
     ]
    },
    {
     "name": "stderr",
     "output_type": "stream",
     "text": [
      "2023-03-28 11:13:13,088 - matchms - WARNING - No precursor_mz found in metadata.\n"
     ]
    },
    {
     "name": "stdout",
     "output_type": "stream",
     "text": [
      "2023-03-28 11:13:13,088:WARNING:matchms:add_precursor_mz:No precursor_mz found in metadata.\n"
     ]
    },
    {
     "name": "stderr",
     "output_type": "stream",
     "text": [
      "2023-03-28 11:13:13,088 - matchms - WARNING - No precursor_mz found in metadata.\n"
     ]
    },
    {
     "name": "stdout",
     "output_type": "stream",
     "text": [
      "2023-03-28 11:13:13,089:WARNING:matchms:add_precursor_mz:No precursor_mz found in metadata.\n"
     ]
    },
    {
     "name": "stderr",
     "output_type": "stream",
     "text": [
      "2023-03-28 11:13:13,089 - matchms - WARNING - No precursor_mz found in metadata.\n"
     ]
    },
    {
     "name": "stdout",
     "output_type": "stream",
     "text": [
      "2023-03-28 11:13:13,090:WARNING:matchms:add_precursor_mz:No precursor_mz found in metadata.\n"
     ]
    },
    {
     "name": "stderr",
     "output_type": "stream",
     "text": [
      "2023-03-28 11:13:13,090 - matchms - WARNING - No precursor_mz found in metadata.\n"
     ]
    },
    {
     "name": "stdout",
     "output_type": "stream",
     "text": [
      "2023-03-28 11:13:13,091:WARNING:matchms:add_precursor_mz:No precursor_mz found in metadata.\n"
     ]
    },
    {
     "name": "stderr",
     "output_type": "stream",
     "text": [
      "2023-03-28 11:13:13,091 - matchms - WARNING - No precursor_mz found in metadata.\n"
     ]
    },
    {
     "name": "stdout",
     "output_type": "stream",
     "text": [
      "2023-03-28 11:13:13,092:WARNING:matchms:add_precursor_mz:No precursor_mz found in metadata.\n"
     ]
    },
    {
     "name": "stderr",
     "output_type": "stream",
     "text": [
      "2023-03-28 11:13:13,092 - matchms - WARNING - No precursor_mz found in metadata.\n"
     ]
    },
    {
     "name": "stdout",
     "output_type": "stream",
     "text": [
      "2023-03-28 11:13:13,093:WARNING:matchms:add_precursor_mz:No precursor_mz found in metadata.\n"
     ]
    },
    {
     "name": "stderr",
     "output_type": "stream",
     "text": [
      "2023-03-28 11:13:13,093 - matchms - WARNING - No precursor_mz found in metadata.\n"
     ]
    },
    {
     "name": "stdout",
     "output_type": "stream",
     "text": [
      "2023-03-28 11:13:13,094:WARNING:matchms:add_precursor_mz:No precursor_mz found in metadata.\n"
     ]
    },
    {
     "name": "stderr",
     "output_type": "stream",
     "text": [
      "2023-03-28 11:13:13,094 - matchms - WARNING - No precursor_mz found in metadata.\n"
     ]
    },
    {
     "name": "stdout",
     "output_type": "stream",
     "text": [
      "2023-03-28 11:13:13,096:WARNING:matchms:add_precursor_mz:No precursor_mz found in metadata.\n"
     ]
    },
    {
     "name": "stderr",
     "output_type": "stream",
     "text": [
      "2023-03-28 11:13:13,096 - matchms - WARNING - No precursor_mz found in metadata.\n"
     ]
    },
    {
     "name": "stdout",
     "output_type": "stream",
     "text": [
      "2023-03-28 11:13:13,096:WARNING:matchms:add_precursor_mz:No precursor_mz found in metadata.\n"
     ]
    },
    {
     "name": "stderr",
     "output_type": "stream",
     "text": [
      "2023-03-28 11:13:13,096 - matchms - WARNING - No precursor_mz found in metadata.\n"
     ]
    },
    {
     "name": "stdout",
     "output_type": "stream",
     "text": [
      "2023-03-28 11:13:13,098:WARNING:matchms:add_precursor_mz:No precursor_mz found in metadata.\n"
     ]
    },
    {
     "name": "stderr",
     "output_type": "stream",
     "text": [
      "2023-03-28 11:13:13,098 - matchms - WARNING - No precursor_mz found in metadata.\n"
     ]
    },
    {
     "name": "stdout",
     "output_type": "stream",
     "text": [
      "2023-03-28 11:13:13,098:WARNING:matchms:add_precursor_mz:No precursor_mz found in metadata.\n"
     ]
    },
    {
     "name": "stderr",
     "output_type": "stream",
     "text": [
      "2023-03-28 11:13:13,098 - matchms - WARNING - No precursor_mz found in metadata.\n"
     ]
    },
    {
     "name": "stdout",
     "output_type": "stream",
     "text": [
      "2023-03-28 11:13:13,099:WARNING:matchms:add_precursor_mz:No precursor_mz found in metadata.\n"
     ]
    },
    {
     "name": "stderr",
     "output_type": "stream",
     "text": [
      "2023-03-28 11:13:13,099 - matchms - WARNING - No precursor_mz found in metadata.\n"
     ]
    },
    {
     "name": "stdout",
     "output_type": "stream",
     "text": [
      "2023-03-28 11:13:13,100:WARNING:matchms:add_precursor_mz:No precursor_mz found in metadata.\n"
     ]
    },
    {
     "name": "stderr",
     "output_type": "stream",
     "text": [
      "2023-03-28 11:13:13,100 - matchms - WARNING - No precursor_mz found in metadata.\n"
     ]
    },
    {
     "name": "stdout",
     "output_type": "stream",
     "text": [
      "2023-03-28 11:13:13,101:WARNING:matchms:add_precursor_mz:No precursor_mz found in metadata.\n"
     ]
    },
    {
     "name": "stderr",
     "output_type": "stream",
     "text": [
      "2023-03-28 11:13:13,101 - matchms - WARNING - No precursor_mz found in metadata.\n"
     ]
    },
    {
     "name": "stdout",
     "output_type": "stream",
     "text": [
      "2023-03-28 11:13:13,102:WARNING:matchms:add_precursor_mz:No precursor_mz found in metadata.\n"
     ]
    },
    {
     "name": "stderr",
     "output_type": "stream",
     "text": [
      "2023-03-28 11:13:13,102 - matchms - WARNING - No precursor_mz found in metadata.\n"
     ]
    },
    {
     "name": "stdout",
     "output_type": "stream",
     "text": [
      "2023-03-28 11:13:13,104:WARNING:matchms:add_precursor_mz:No precursor_mz found in metadata.\n"
     ]
    },
    {
     "name": "stderr",
     "output_type": "stream",
     "text": [
      "2023-03-28 11:13:13,104 - matchms - WARNING - No precursor_mz found in metadata.\n"
     ]
    },
    {
     "name": "stdout",
     "output_type": "stream",
     "text": [
      "2023-03-28 11:13:13,105:WARNING:matchms:add_precursor_mz:No precursor_mz found in metadata.\n"
     ]
    },
    {
     "name": "stderr",
     "output_type": "stream",
     "text": [
      "2023-03-28 11:13:13,105 - matchms - WARNING - No precursor_mz found in metadata.\n"
     ]
    },
    {
     "name": "stdout",
     "output_type": "stream",
     "text": [
      "2023-03-28 11:13:13,106:WARNING:matchms:add_precursor_mz:No precursor_mz found in metadata.\n"
     ]
    },
    {
     "name": "stderr",
     "output_type": "stream",
     "text": [
      "2023-03-28 11:13:13,106 - matchms - WARNING - No precursor_mz found in metadata.\n"
     ]
    },
    {
     "name": "stdout",
     "output_type": "stream",
     "text": [
      "2023-03-28 11:13:13,107:WARNING:matchms:add_precursor_mz:No precursor_mz found in metadata.\n"
     ]
    },
    {
     "name": "stderr",
     "output_type": "stream",
     "text": [
      "2023-03-28 11:13:13,107 - matchms - WARNING - No precursor_mz found in metadata.\n"
     ]
    },
    {
     "name": "stdout",
     "output_type": "stream",
     "text": [
      "2023-03-28 11:13:13,108:WARNING:matchms:add_precursor_mz:No precursor_mz found in metadata.\n"
     ]
    },
    {
     "name": "stderr",
     "output_type": "stream",
     "text": [
      "2023-03-28 11:13:13,108 - matchms - WARNING - No precursor_mz found in metadata.\n"
     ]
    },
    {
     "name": "stdout",
     "output_type": "stream",
     "text": [
      "2023-03-28 11:13:13,109:WARNING:matchms:add_precursor_mz:No precursor_mz found in metadata.\n"
     ]
    },
    {
     "name": "stderr",
     "output_type": "stream",
     "text": [
      "2023-03-28 11:13:13,109 - matchms - WARNING - No precursor_mz found in metadata.\n"
     ]
    },
    {
     "name": "stdout",
     "output_type": "stream",
     "text": [
      "2023-03-28 11:13:13,110:WARNING:matchms:add_precursor_mz:No precursor_mz found in metadata.\n"
     ]
    },
    {
     "name": "stderr",
     "output_type": "stream",
     "text": [
      "2023-03-28 11:13:13,110 - matchms - WARNING - No precursor_mz found in metadata.\n"
     ]
    },
    {
     "name": "stdout",
     "output_type": "stream",
     "text": [
      "2023-03-28 11:13:13,110:WARNING:matchms:add_precursor_mz:No precursor_mz found in metadata.\n"
     ]
    },
    {
     "name": "stderr",
     "output_type": "stream",
     "text": [
      "2023-03-28 11:13:13,110 - matchms - WARNING - No precursor_mz found in metadata.\n"
     ]
    },
    {
     "name": "stdout",
     "output_type": "stream",
     "text": [
      "2023-03-28 11:13:13,111:WARNING:matchms:add_precursor_mz:No precursor_mz found in metadata.\n"
     ]
    },
    {
     "name": "stderr",
     "output_type": "stream",
     "text": [
      "2023-03-28 11:13:13,111 - matchms - WARNING - No precursor_mz found in metadata.\n"
     ]
    },
    {
     "name": "stdout",
     "output_type": "stream",
     "text": [
      "2023-03-28 11:13:13,112:WARNING:matchms:add_precursor_mz:No precursor_mz found in metadata.\n"
     ]
    },
    {
     "name": "stderr",
     "output_type": "stream",
     "text": [
      "2023-03-28 11:13:13,112 - matchms - WARNING - No precursor_mz found in metadata.\n"
     ]
    },
    {
     "name": "stdout",
     "output_type": "stream",
     "text": [
      "2023-03-28 11:13:13,114:WARNING:matchms:add_precursor_mz:No precursor_mz found in metadata.\n"
     ]
    },
    {
     "name": "stderr",
     "output_type": "stream",
     "text": [
      "2023-03-28 11:13:13,114 - matchms - WARNING - No precursor_mz found in metadata.\n"
     ]
    },
    {
     "name": "stdout",
     "output_type": "stream",
     "text": [
      "2023-03-28 11:13:13,114:WARNING:matchms:add_precursor_mz:No precursor_mz found in metadata.\n"
     ]
    },
    {
     "name": "stderr",
     "output_type": "stream",
     "text": [
      "2023-03-28 11:13:13,114 - matchms - WARNING - No precursor_mz found in metadata.\n"
     ]
    },
    {
     "name": "stdout",
     "output_type": "stream",
     "text": [
      "2023-03-28 11:13:13,115:WARNING:matchms:add_precursor_mz:No precursor_mz found in metadata.\n"
     ]
    },
    {
     "name": "stderr",
     "output_type": "stream",
     "text": [
      "2023-03-28 11:13:13,115 - matchms - WARNING - No precursor_mz found in metadata.\n"
     ]
    },
    {
     "name": "stdout",
     "output_type": "stream",
     "text": [
      "2023-03-28 11:13:13,116:WARNING:matchms:add_precursor_mz:No precursor_mz found in metadata.\n"
     ]
    },
    {
     "name": "stderr",
     "output_type": "stream",
     "text": [
      "2023-03-28 11:13:13,116 - matchms - WARNING - No precursor_mz found in metadata.\n"
     ]
    },
    {
     "name": "stdout",
     "output_type": "stream",
     "text": [
      "2023-03-28 11:13:13,118:WARNING:matchms:add_precursor_mz:No precursor_mz found in metadata.\n"
     ]
    },
    {
     "name": "stderr",
     "output_type": "stream",
     "text": [
      "2023-03-28 11:13:13,118 - matchms - WARNING - No precursor_mz found in metadata.\n"
     ]
    },
    {
     "name": "stdout",
     "output_type": "stream",
     "text": [
      "2023-03-28 11:13:13,118:WARNING:matchms:add_precursor_mz:No precursor_mz found in metadata.\n"
     ]
    },
    {
     "name": "stderr",
     "output_type": "stream",
     "text": [
      "2023-03-28 11:13:13,118 - matchms - WARNING - No precursor_mz found in metadata.\n"
     ]
    },
    {
     "name": "stdout",
     "output_type": "stream",
     "text": [
      "2023-03-28 11:13:13,120:WARNING:matchms:add_precursor_mz:No precursor_mz found in metadata.\n"
     ]
    },
    {
     "name": "stderr",
     "output_type": "stream",
     "text": [
      "2023-03-28 11:13:13,120 - matchms - WARNING - No precursor_mz found in metadata.\n"
     ]
    },
    {
     "name": "stdout",
     "output_type": "stream",
     "text": [
      "2023-03-28 11:13:13,120:WARNING:matchms:add_precursor_mz:No precursor_mz found in metadata.\n"
     ]
    },
    {
     "name": "stderr",
     "output_type": "stream",
     "text": [
      "2023-03-28 11:13:13,120 - matchms - WARNING - No precursor_mz found in metadata.\n"
     ]
    },
    {
     "name": "stdout",
     "output_type": "stream",
     "text": [
      "2023-03-28 11:13:13,122:WARNING:matchms:add_precursor_mz:No precursor_mz found in metadata.\n"
     ]
    },
    {
     "name": "stderr",
     "output_type": "stream",
     "text": [
      "2023-03-28 11:13:13,122 - matchms - WARNING - No precursor_mz found in metadata.\n"
     ]
    },
    {
     "name": "stdout",
     "output_type": "stream",
     "text": [
      "2023-03-28 11:13:13,122:WARNING:matchms:add_precursor_mz:No precursor_mz found in metadata.\n"
     ]
    },
    {
     "name": "stderr",
     "output_type": "stream",
     "text": [
      "2023-03-28 11:13:13,122 - matchms - WARNING - No precursor_mz found in metadata.\n"
     ]
    },
    {
     "name": "stdout",
     "output_type": "stream",
     "text": [
      "2023-03-28 11:13:13,124:WARNING:matchms:add_precursor_mz:No precursor_mz found in metadata.\n"
     ]
    },
    {
     "name": "stderr",
     "output_type": "stream",
     "text": [
      "2023-03-28 11:13:13,124 - matchms - WARNING - No precursor_mz found in metadata.\n"
     ]
    },
    {
     "name": "stdout",
     "output_type": "stream",
     "text": [
      "2023-03-28 11:13:13,125:WARNING:matchms:add_precursor_mz:No precursor_mz found in metadata.\n"
     ]
    },
    {
     "name": "stderr",
     "output_type": "stream",
     "text": [
      "2023-03-28 11:13:13,125 - matchms - WARNING - No precursor_mz found in metadata.\n"
     ]
    },
    {
     "name": "stdout",
     "output_type": "stream",
     "text": [
      "2023-03-28 11:13:13,127:WARNING:matchms:add_precursor_mz:No precursor_mz found in metadata.\n"
     ]
    },
    {
     "name": "stderr",
     "output_type": "stream",
     "text": [
      "2023-03-28 11:13:13,127 - matchms - WARNING - No precursor_mz found in metadata.\n"
     ]
    },
    {
     "name": "stdout",
     "output_type": "stream",
     "text": [
      "2023-03-28 11:13:13,128:WARNING:matchms:add_precursor_mz:No precursor_mz found in metadata.\n"
     ]
    },
    {
     "name": "stderr",
     "output_type": "stream",
     "text": [
      "2023-03-28 11:13:13,128 - matchms - WARNING - No precursor_mz found in metadata.\n"
     ]
    },
    {
     "name": "stdout",
     "output_type": "stream",
     "text": [
      "2023-03-28 11:13:13,131:WARNING:matchms:add_precursor_mz:No precursor_mz found in metadata.\n"
     ]
    },
    {
     "name": "stderr",
     "output_type": "stream",
     "text": [
      "2023-03-28 11:13:13,131 - matchms - WARNING - No precursor_mz found in metadata.\n"
     ]
    },
    {
     "name": "stdout",
     "output_type": "stream",
     "text": [
      "2023-03-28 11:13:13,131:WARNING:matchms:add_precursor_mz:No precursor_mz found in metadata.\n"
     ]
    },
    {
     "name": "stderr",
     "output_type": "stream",
     "text": [
      "2023-03-28 11:13:13,131 - matchms - WARNING - No precursor_mz found in metadata.\n"
     ]
    },
    {
     "name": "stdout",
     "output_type": "stream",
     "text": [
      "2023-03-28 11:13:13,133:WARNING:matchms:add_precursor_mz:No precursor_mz found in metadata.\n"
     ]
    },
    {
     "name": "stderr",
     "output_type": "stream",
     "text": [
      "2023-03-28 11:13:13,133 - matchms - WARNING - No precursor_mz found in metadata.\n"
     ]
    },
    {
     "name": "stdout",
     "output_type": "stream",
     "text": [
      "2023-03-28 11:13:13,134:WARNING:matchms:add_precursor_mz:No precursor_mz found in metadata.\n"
     ]
    },
    {
     "name": "stderr",
     "output_type": "stream",
     "text": [
      "2023-03-28 11:13:13,134 - matchms - WARNING - No precursor_mz found in metadata.\n"
     ]
    },
    {
     "name": "stdout",
     "output_type": "stream",
     "text": [
      "2023-03-28 11:13:13,136:WARNING:matchms:add_precursor_mz:No precursor_mz found in metadata.\n"
     ]
    },
    {
     "name": "stderr",
     "output_type": "stream",
     "text": [
      "2023-03-28 11:13:13,136 - matchms - WARNING - No precursor_mz found in metadata.\n"
     ]
    },
    {
     "name": "stdout",
     "output_type": "stream",
     "text": [
      "2023-03-28 11:13:13,136:WARNING:matchms:add_precursor_mz:No precursor_mz found in metadata.\n"
     ]
    },
    {
     "name": "stderr",
     "output_type": "stream",
     "text": [
      "2023-03-28 11:13:13,136 - matchms - WARNING - No precursor_mz found in metadata.\n"
     ]
    },
    {
     "name": "stdout",
     "output_type": "stream",
     "text": [
      "2023-03-28 11:13:13,138:WARNING:matchms:add_precursor_mz:No precursor_mz found in metadata.\n"
     ]
    },
    {
     "name": "stderr",
     "output_type": "stream",
     "text": [
      "2023-03-28 11:13:13,138 - matchms - WARNING - No precursor_mz found in metadata.\n"
     ]
    },
    {
     "name": "stdout",
     "output_type": "stream",
     "text": [
      "2023-03-28 11:13:13,138:WARNING:matchms:add_precursor_mz:No precursor_mz found in metadata.\n"
     ]
    },
    {
     "name": "stderr",
     "output_type": "stream",
     "text": [
      "2023-03-28 11:13:13,138 - matchms - WARNING - No precursor_mz found in metadata.\n"
     ]
    },
    {
     "name": "stdout",
     "output_type": "stream",
     "text": [
      "2023-03-28 11:13:13,140:WARNING:matchms:add_precursor_mz:No precursor_mz found in metadata.\n"
     ]
    },
    {
     "name": "stderr",
     "output_type": "stream",
     "text": [
      "2023-03-28 11:13:13,140 - matchms - WARNING - No precursor_mz found in metadata.\n"
     ]
    },
    {
     "name": "stdout",
     "output_type": "stream",
     "text": [
      "2023-03-28 11:13:13,140:WARNING:matchms:add_precursor_mz:No precursor_mz found in metadata.\n"
     ]
    },
    {
     "name": "stderr",
     "output_type": "stream",
     "text": [
      "2023-03-28 11:13:13,140 - matchms - WARNING - No precursor_mz found in metadata.\n"
     ]
    },
    {
     "name": "stdout",
     "output_type": "stream",
     "text": [
      "2023-03-28 11:13:13,141:WARNING:matchms:add_precursor_mz:No precursor_mz found in metadata.\n"
     ]
    },
    {
     "name": "stderr",
     "output_type": "stream",
     "text": [
      "2023-03-28 11:13:13,141 - matchms - WARNING - No precursor_mz found in metadata.\n"
     ]
    },
    {
     "name": "stdout",
     "output_type": "stream",
     "text": [
      "2023-03-28 11:13:13,142:WARNING:matchms:add_precursor_mz:No precursor_mz found in metadata.\n"
     ]
    },
    {
     "name": "stderr",
     "output_type": "stream",
     "text": [
      "2023-03-28 11:13:13,142 - matchms - WARNING - No precursor_mz found in metadata.\n"
     ]
    },
    {
     "name": "stdout",
     "output_type": "stream",
     "text": [
      "2023-03-28 11:13:13,144:WARNING:matchms:add_precursor_mz:No precursor_mz found in metadata.\n"
     ]
    },
    {
     "name": "stderr",
     "output_type": "stream",
     "text": [
      "2023-03-28 11:13:13,144 - matchms - WARNING - No precursor_mz found in metadata.\n"
     ]
    },
    {
     "name": "stdout",
     "output_type": "stream",
     "text": [
      "2023-03-28 11:13:13,145:WARNING:matchms:add_precursor_mz:No precursor_mz found in metadata.\n"
     ]
    },
    {
     "name": "stderr",
     "output_type": "stream",
     "text": [
      "2023-03-28 11:13:13,145 - matchms - WARNING - No precursor_mz found in metadata.\n"
     ]
    },
    {
     "name": "stdout",
     "output_type": "stream",
     "text": [
      "2023-03-28 11:13:13,146:WARNING:matchms:add_precursor_mz:No precursor_mz found in metadata.\n"
     ]
    },
    {
     "name": "stderr",
     "output_type": "stream",
     "text": [
      "2023-03-28 11:13:13,146 - matchms - WARNING - No precursor_mz found in metadata.\n"
     ]
    },
    {
     "name": "stdout",
     "output_type": "stream",
     "text": [
      "2023-03-28 11:13:13,146:WARNING:matchms:add_precursor_mz:No precursor_mz found in metadata.\n"
     ]
    },
    {
     "name": "stderr",
     "output_type": "stream",
     "text": [
      "2023-03-28 11:13:13,146 - matchms - WARNING - No precursor_mz found in metadata.\n"
     ]
    },
    {
     "name": "stdout",
     "output_type": "stream",
     "text": [
      "2023-03-28 11:13:13,148:WARNING:matchms:add_precursor_mz:No precursor_mz found in metadata.\n"
     ]
    },
    {
     "name": "stderr",
     "output_type": "stream",
     "text": [
      "2023-03-28 11:13:13,148 - matchms - WARNING - No precursor_mz found in metadata.\n"
     ]
    },
    {
     "name": "stdout",
     "output_type": "stream",
     "text": [
      "2023-03-28 11:13:13,148:WARNING:matchms:add_precursor_mz:No precursor_mz found in metadata.\n"
     ]
    },
    {
     "name": "stderr",
     "output_type": "stream",
     "text": [
      "2023-03-28 11:13:13,148 - matchms - WARNING - No precursor_mz found in metadata.\n"
     ]
    },
    {
     "name": "stdout",
     "output_type": "stream",
     "text": [
      "2023-03-28 11:13:13,151:WARNING:matchms:add_precursor_mz:No precursor_mz found in metadata.\n"
     ]
    },
    {
     "name": "stderr",
     "output_type": "stream",
     "text": [
      "2023-03-28 11:13:13,151 - matchms - WARNING - No precursor_mz found in metadata.\n"
     ]
    },
    {
     "name": "stdout",
     "output_type": "stream",
     "text": [
      "2023-03-28 11:13:13,152:WARNING:matchms:add_precursor_mz:No precursor_mz found in metadata.\n"
     ]
    },
    {
     "name": "stderr",
     "output_type": "stream",
     "text": [
      "2023-03-28 11:13:13,152 - matchms - WARNING - No precursor_mz found in metadata.\n"
     ]
    },
    {
     "name": "stdout",
     "output_type": "stream",
     "text": [
      "2023-03-28 11:13:13,152:WARNING:matchms:add_precursor_mz:No precursor_mz found in metadata.\n"
     ]
    },
    {
     "name": "stderr",
     "output_type": "stream",
     "text": [
      "2023-03-28 11:13:13,152 - matchms - WARNING - No precursor_mz found in metadata.\n"
     ]
    },
    {
     "name": "stdout",
     "output_type": "stream",
     "text": [
      "2023-03-28 11:13:13,153:WARNING:matchms:add_precursor_mz:No precursor_mz found in metadata.\n"
     ]
    },
    {
     "name": "stderr",
     "output_type": "stream",
     "text": [
      "2023-03-28 11:13:13,153 - matchms - WARNING - No precursor_mz found in metadata.\n"
     ]
    },
    {
     "name": "stdout",
     "output_type": "stream",
     "text": [
      "2023-03-28 11:13:13,155:WARNING:matchms:add_precursor_mz:No precursor_mz found in metadata.\n"
     ]
    },
    {
     "name": "stderr",
     "output_type": "stream",
     "text": [
      "2023-03-28 11:13:13,155 - matchms - WARNING - No precursor_mz found in metadata.\n"
     ]
    },
    {
     "name": "stdout",
     "output_type": "stream",
     "text": [
      "2023-03-28 11:13:13,155:WARNING:matchms:add_precursor_mz:No precursor_mz found in metadata.\n"
     ]
    },
    {
     "name": "stderr",
     "output_type": "stream",
     "text": [
      "2023-03-28 11:13:13,155 - matchms - WARNING - No precursor_mz found in metadata.\n"
     ]
    },
    {
     "name": "stdout",
     "output_type": "stream",
     "text": [
      "2023-03-28 11:13:13,156:WARNING:matchms:add_precursor_mz:No precursor_mz found in metadata.\n"
     ]
    },
    {
     "name": "stderr",
     "output_type": "stream",
     "text": [
      "2023-03-28 11:13:13,156 - matchms - WARNING - No precursor_mz found in metadata.\n"
     ]
    },
    {
     "name": "stdout",
     "output_type": "stream",
     "text": [
      "2023-03-28 11:13:13,157:WARNING:matchms:add_precursor_mz:No precursor_mz found in metadata.\n"
     ]
    },
    {
     "name": "stderr",
     "output_type": "stream",
     "text": [
      "2023-03-28 11:13:13,157 - matchms - WARNING - No precursor_mz found in metadata.\n"
     ]
    },
    {
     "name": "stdout",
     "output_type": "stream",
     "text": [
      "2023-03-28 11:13:13,158:WARNING:matchms:add_precursor_mz:No precursor_mz found in metadata.\n"
     ]
    },
    {
     "name": "stderr",
     "output_type": "stream",
     "text": [
      "2023-03-28 11:13:13,158 - matchms - WARNING - No precursor_mz found in metadata.\n"
     ]
    },
    {
     "name": "stdout",
     "output_type": "stream",
     "text": [
      "2023-03-28 11:13:13,159:WARNING:matchms:add_precursor_mz:No precursor_mz found in metadata.\n"
     ]
    },
    {
     "name": "stderr",
     "output_type": "stream",
     "text": [
      "2023-03-28 11:13:13,159 - matchms - WARNING - No precursor_mz found in metadata.\n"
     ]
    },
    {
     "name": "stdout",
     "output_type": "stream",
     "text": [
      "2023-03-28 11:13:13,160:WARNING:matchms:add_precursor_mz:No precursor_mz found in metadata.\n"
     ]
    },
    {
     "name": "stderr",
     "output_type": "stream",
     "text": [
      "2023-03-28 11:13:13,160 - matchms - WARNING - No precursor_mz found in metadata.\n"
     ]
    },
    {
     "name": "stdout",
     "output_type": "stream",
     "text": [
      "2023-03-28 11:13:13,161:WARNING:matchms:add_precursor_mz:No precursor_mz found in metadata.\n"
     ]
    },
    {
     "name": "stderr",
     "output_type": "stream",
     "text": [
      "2023-03-28 11:13:13,161 - matchms - WARNING - No precursor_mz found in metadata.\n"
     ]
    },
    {
     "name": "stdout",
     "output_type": "stream",
     "text": [
      "2023-03-28 11:13:13,162:WARNING:matchms:add_precursor_mz:No precursor_mz found in metadata.\n"
     ]
    },
    {
     "name": "stderr",
     "output_type": "stream",
     "text": [
      "2023-03-28 11:13:13,162 - matchms - WARNING - No precursor_mz found in metadata.\n"
     ]
    },
    {
     "name": "stdout",
     "output_type": "stream",
     "text": [
      "2023-03-28 11:13:13,163:WARNING:matchms:add_precursor_mz:No precursor_mz found in metadata.\n"
     ]
    },
    {
     "name": "stderr",
     "output_type": "stream",
     "text": [
      "2023-03-28 11:13:13,163 - matchms - WARNING - No precursor_mz found in metadata.\n"
     ]
    },
    {
     "name": "stdout",
     "output_type": "stream",
     "text": [
      "2023-03-28 11:13:13,164:WARNING:matchms:add_precursor_mz:No precursor_mz found in metadata.\n"
     ]
    },
    {
     "name": "stderr",
     "output_type": "stream",
     "text": [
      "2023-03-28 11:13:13,164 - matchms - WARNING - No precursor_mz found in metadata.\n"
     ]
    },
    {
     "name": "stdout",
     "output_type": "stream",
     "text": [
      "2023-03-28 11:13:13,165:WARNING:matchms:add_precursor_mz:No precursor_mz found in metadata.\n"
     ]
    },
    {
     "name": "stderr",
     "output_type": "stream",
     "text": [
      "2023-03-28 11:13:13,165 - matchms - WARNING - No precursor_mz found in metadata.\n"
     ]
    },
    {
     "name": "stdout",
     "output_type": "stream",
     "text": [
      "2023-03-28 11:13:13,166:WARNING:matchms:add_precursor_mz:No precursor_mz found in metadata.\n"
     ]
    },
    {
     "name": "stderr",
     "output_type": "stream",
     "text": [
      "2023-03-28 11:13:13,166 - matchms - WARNING - No precursor_mz found in metadata.\n"
     ]
    },
    {
     "name": "stdout",
     "output_type": "stream",
     "text": [
      "2023-03-28 11:13:13,167:WARNING:matchms:add_precursor_mz:No precursor_mz found in metadata.\n"
     ]
    },
    {
     "name": "stderr",
     "output_type": "stream",
     "text": [
      "2023-03-28 11:13:13,167 - matchms - WARNING - No precursor_mz found in metadata.\n"
     ]
    },
    {
     "name": "stdout",
     "output_type": "stream",
     "text": [
      "2023-03-28 11:13:13,168:WARNING:matchms:add_precursor_mz:No precursor_mz found in metadata.\n"
     ]
    },
    {
     "name": "stderr",
     "output_type": "stream",
     "text": [
      "2023-03-28 11:13:13,168 - matchms - WARNING - No precursor_mz found in metadata.\n"
     ]
    },
    {
     "name": "stdout",
     "output_type": "stream",
     "text": [
      "2023-03-28 11:13:13,169:WARNING:matchms:add_precursor_mz:No precursor_mz found in metadata.\n"
     ]
    },
    {
     "name": "stderr",
     "output_type": "stream",
     "text": [
      "2023-03-28 11:13:13,169 - matchms - WARNING - No precursor_mz found in metadata.\n"
     ]
    },
    {
     "name": "stdout",
     "output_type": "stream",
     "text": [
      "2023-03-28 11:13:13,170:WARNING:matchms:add_precursor_mz:No precursor_mz found in metadata.\n"
     ]
    },
    {
     "name": "stderr",
     "output_type": "stream",
     "text": [
      "2023-03-28 11:13:13,170 - matchms - WARNING - No precursor_mz found in metadata.\n"
     ]
    },
    {
     "name": "stdout",
     "output_type": "stream",
     "text": [
      "2023-03-28 11:13:13,171:WARNING:matchms:add_precursor_mz:No precursor_mz found in metadata.\n"
     ]
    },
    {
     "name": "stderr",
     "output_type": "stream",
     "text": [
      "2023-03-28 11:13:13,171 - matchms - WARNING - No precursor_mz found in metadata.\n"
     ]
    },
    {
     "name": "stdout",
     "output_type": "stream",
     "text": [
      "2023-03-28 11:13:13,172:WARNING:matchms:add_precursor_mz:No precursor_mz found in metadata.\n"
     ]
    },
    {
     "name": "stderr",
     "output_type": "stream",
     "text": [
      "2023-03-28 11:13:13,172 - matchms - WARNING - No precursor_mz found in metadata.\n"
     ]
    },
    {
     "name": "stdout",
     "output_type": "stream",
     "text": [
      "2023-03-28 11:13:13,173:WARNING:matchms:add_precursor_mz:No precursor_mz found in metadata.\n"
     ]
    },
    {
     "name": "stderr",
     "output_type": "stream",
     "text": [
      "2023-03-28 11:13:13,173 - matchms - WARNING - No precursor_mz found in metadata.\n"
     ]
    },
    {
     "name": "stdout",
     "output_type": "stream",
     "text": [
      "2023-03-28 11:13:13,174:WARNING:matchms:add_precursor_mz:No precursor_mz found in metadata.\n"
     ]
    },
    {
     "name": "stderr",
     "output_type": "stream",
     "text": [
      "2023-03-28 11:13:13,174 - matchms - WARNING - No precursor_mz found in metadata.\n"
     ]
    },
    {
     "name": "stdout",
     "output_type": "stream",
     "text": [
      "2023-03-28 11:13:13,175:WARNING:matchms:add_precursor_mz:No precursor_mz found in metadata.\n"
     ]
    },
    {
     "name": "stderr",
     "output_type": "stream",
     "text": [
      "2023-03-28 11:13:13,175 - matchms - WARNING - No precursor_mz found in metadata.\n"
     ]
    },
    {
     "name": "stdout",
     "output_type": "stream",
     "text": [
      "2023-03-28 11:13:13,176:WARNING:matchms:add_precursor_mz:No precursor_mz found in metadata.\n"
     ]
    },
    {
     "name": "stderr",
     "output_type": "stream",
     "text": [
      "2023-03-28 11:13:13,176 - matchms - WARNING - No precursor_mz found in metadata.\n"
     ]
    },
    {
     "name": "stdout",
     "output_type": "stream",
     "text": [
      "2023-03-28 11:13:13,177:WARNING:matchms:add_precursor_mz:No precursor_mz found in metadata.\n"
     ]
    },
    {
     "name": "stderr",
     "output_type": "stream",
     "text": [
      "2023-03-28 11:13:13,177 - matchms - WARNING - No precursor_mz found in metadata.\n"
     ]
    },
    {
     "name": "stdout",
     "output_type": "stream",
     "text": [
      "2023-03-28 11:13:13,178:WARNING:matchms:add_precursor_mz:No precursor_mz found in metadata.\n"
     ]
    },
    {
     "name": "stderr",
     "output_type": "stream",
     "text": [
      "2023-03-28 11:13:13,178 - matchms - WARNING - No precursor_mz found in metadata.\n"
     ]
    },
    {
     "name": "stdout",
     "output_type": "stream",
     "text": [
      "2023-03-28 11:13:13,178:WARNING:matchms:add_precursor_mz:No precursor_mz found in metadata.\n"
     ]
    },
    {
     "name": "stderr",
     "output_type": "stream",
     "text": [
      "2023-03-28 11:13:13,178 - matchms - WARNING - No precursor_mz found in metadata.\n"
     ]
    },
    {
     "name": "stdout",
     "output_type": "stream",
     "text": [
      "2023-03-28 11:13:13,180:WARNING:matchms:add_precursor_mz:No precursor_mz found in metadata.\n"
     ]
    },
    {
     "name": "stderr",
     "output_type": "stream",
     "text": [
      "2023-03-28 11:13:13,180 - matchms - WARNING - No precursor_mz found in metadata.\n"
     ]
    },
    {
     "name": "stdout",
     "output_type": "stream",
     "text": [
      "2023-03-28 11:13:13,181:WARNING:matchms:add_precursor_mz:No precursor_mz found in metadata.\n"
     ]
    },
    {
     "name": "stderr",
     "output_type": "stream",
     "text": [
      "2023-03-28 11:13:13,181 - matchms - WARNING - No precursor_mz found in metadata.\n"
     ]
    },
    {
     "name": "stdout",
     "output_type": "stream",
     "text": [
      "2023-03-28 11:13:13,182:WARNING:matchms:add_precursor_mz:No precursor_mz found in metadata.\n"
     ]
    },
    {
     "name": "stderr",
     "output_type": "stream",
     "text": [
      "2023-03-28 11:13:13,182 - matchms - WARNING - No precursor_mz found in metadata.\n"
     ]
    },
    {
     "name": "stdout",
     "output_type": "stream",
     "text": [
      "2023-03-28 11:13:13,183:WARNING:matchms:add_precursor_mz:No precursor_mz found in metadata.\n"
     ]
    },
    {
     "name": "stderr",
     "output_type": "stream",
     "text": [
      "2023-03-28 11:13:13,183 - matchms - WARNING - No precursor_mz found in metadata.\n"
     ]
    },
    {
     "name": "stdout",
     "output_type": "stream",
     "text": [
      "2023-03-28 11:13:13,183:WARNING:matchms:add_precursor_mz:No precursor_mz found in metadata.\n"
     ]
    },
    {
     "name": "stderr",
     "output_type": "stream",
     "text": [
      "2023-03-28 11:13:13,183 - matchms - WARNING - No precursor_mz found in metadata.\n"
     ]
    },
    {
     "name": "stdout",
     "output_type": "stream",
     "text": [
      "2023-03-28 11:13:13,184:WARNING:matchms:add_precursor_mz:No precursor_mz found in metadata.\n"
     ]
    },
    {
     "name": "stderr",
     "output_type": "stream",
     "text": [
      "2023-03-28 11:13:13,184 - matchms - WARNING - No precursor_mz found in metadata.\n"
     ]
    },
    {
     "name": "stdout",
     "output_type": "stream",
     "text": [
      "2023-03-28 11:13:13,186:WARNING:matchms:add_precursor_mz:No precursor_mz found in metadata.\n"
     ]
    },
    {
     "name": "stderr",
     "output_type": "stream",
     "text": [
      "2023-03-28 11:13:13,186 - matchms - WARNING - No precursor_mz found in metadata.\n"
     ]
    },
    {
     "name": "stdout",
     "output_type": "stream",
     "text": [
      "2023-03-28 11:13:13,186:WARNING:matchms:add_precursor_mz:No precursor_mz found in metadata.\n"
     ]
    },
    {
     "name": "stderr",
     "output_type": "stream",
     "text": [
      "2023-03-28 11:13:13,186 - matchms - WARNING - No precursor_mz found in metadata.\n"
     ]
    },
    {
     "name": "stdout",
     "output_type": "stream",
     "text": [
      "2023-03-28 11:13:13,188:WARNING:matchms:add_precursor_mz:No precursor_mz found in metadata.\n"
     ]
    },
    {
     "name": "stderr",
     "output_type": "stream",
     "text": [
      "2023-03-28 11:13:13,188 - matchms - WARNING - No precursor_mz found in metadata.\n"
     ]
    },
    {
     "name": "stdout",
     "output_type": "stream",
     "text": [
      "2023-03-28 11:13:13,188:WARNING:matchms:add_precursor_mz:No precursor_mz found in metadata.\n"
     ]
    },
    {
     "name": "stderr",
     "output_type": "stream",
     "text": [
      "2023-03-28 11:13:13,188 - matchms - WARNING - No precursor_mz found in metadata.\n"
     ]
    },
    {
     "name": "stdout",
     "output_type": "stream",
     "text": [
      "2023-03-28 11:13:13,190:WARNING:matchms:add_precursor_mz:No precursor_mz found in metadata.\n"
     ]
    },
    {
     "name": "stderr",
     "output_type": "stream",
     "text": [
      "2023-03-28 11:13:13,190 - matchms - WARNING - No precursor_mz found in metadata.\n"
     ]
    },
    {
     "name": "stdout",
     "output_type": "stream",
     "text": [
      "2023-03-28 11:13:13,190:WARNING:matchms:add_precursor_mz:No precursor_mz found in metadata.\n"
     ]
    },
    {
     "name": "stderr",
     "output_type": "stream",
     "text": [
      "2023-03-28 11:13:13,190 - matchms - WARNING - No precursor_mz found in metadata.\n"
     ]
    },
    {
     "name": "stdout",
     "output_type": "stream",
     "text": [
      "2023-03-28 11:13:13,191:WARNING:matchms:add_precursor_mz:No precursor_mz found in metadata.\n"
     ]
    },
    {
     "name": "stderr",
     "output_type": "stream",
     "text": [
      "2023-03-28 11:13:13,191 - matchms - WARNING - No precursor_mz found in metadata.\n"
     ]
    },
    {
     "name": "stdout",
     "output_type": "stream",
     "text": [
      "2023-03-28 11:13:13,192:WARNING:matchms:add_precursor_mz:No precursor_mz found in metadata.\n"
     ]
    },
    {
     "name": "stderr",
     "output_type": "stream",
     "text": [
      "2023-03-28 11:13:13,192 - matchms - WARNING - No precursor_mz found in metadata.\n"
     ]
    },
    {
     "name": "stdout",
     "output_type": "stream",
     "text": [
      "2023-03-28 11:13:13,193:WARNING:matchms:add_precursor_mz:No precursor_mz found in metadata.\n"
     ]
    },
    {
     "name": "stderr",
     "output_type": "stream",
     "text": [
      "2023-03-28 11:13:13,193 - matchms - WARNING - No precursor_mz found in metadata.\n"
     ]
    },
    {
     "name": "stdout",
     "output_type": "stream",
     "text": [
      "2023-03-28 11:13:13,194:WARNING:matchms:add_precursor_mz:No precursor_mz found in metadata.\n"
     ]
    },
    {
     "name": "stderr",
     "output_type": "stream",
     "text": [
      "2023-03-28 11:13:13,194 - matchms - WARNING - No precursor_mz found in metadata.\n"
     ]
    },
    {
     "name": "stdout",
     "output_type": "stream",
     "text": [
      "2023-03-28 11:13:13,196:WARNING:matchms:add_precursor_mz:No precursor_mz found in metadata.\n"
     ]
    },
    {
     "name": "stderr",
     "output_type": "stream",
     "text": [
      "2023-03-28 11:13:13,196 - matchms - WARNING - No precursor_mz found in metadata.\n"
     ]
    },
    {
     "name": "stdout",
     "output_type": "stream",
     "text": [
      "2023-03-28 11:13:13,197:WARNING:matchms:add_precursor_mz:No precursor_mz found in metadata.\n"
     ]
    },
    {
     "name": "stderr",
     "output_type": "stream",
     "text": [
      "2023-03-28 11:13:13,197 - matchms - WARNING - No precursor_mz found in metadata.\n"
     ]
    },
    {
     "name": "stdout",
     "output_type": "stream",
     "text": [
      "2023-03-28 11:13:13,197:WARNING:matchms:add_precursor_mz:No precursor_mz found in metadata.\n"
     ]
    },
    {
     "name": "stderr",
     "output_type": "stream",
     "text": [
      "2023-03-28 11:13:13,197 - matchms - WARNING - No precursor_mz found in metadata.\n"
     ]
    },
    {
     "name": "stdout",
     "output_type": "stream",
     "text": [
      "2023-03-28 11:13:13,198:WARNING:matchms:add_precursor_mz:No precursor_mz found in metadata.\n"
     ]
    },
    {
     "name": "stderr",
     "output_type": "stream",
     "text": [
      "2023-03-28 11:13:13,198 - matchms - WARNING - No precursor_mz found in metadata.\n"
     ]
    },
    {
     "name": "stdout",
     "output_type": "stream",
     "text": [
      "2023-03-28 11:13:13,200:WARNING:matchms:add_precursor_mz:No precursor_mz found in metadata.\n"
     ]
    },
    {
     "name": "stderr",
     "output_type": "stream",
     "text": [
      "2023-03-28 11:13:13,200 - matchms - WARNING - No precursor_mz found in metadata.\n"
     ]
    },
    {
     "name": "stdout",
     "output_type": "stream",
     "text": [
      "2023-03-28 11:13:13,201:WARNING:matchms:add_precursor_mz:No precursor_mz found in metadata.\n"
     ]
    },
    {
     "name": "stderr",
     "output_type": "stream",
     "text": [
      "2023-03-28 11:13:13,201 - matchms - WARNING - No precursor_mz found in metadata.\n"
     ]
    },
    {
     "name": "stdout",
     "output_type": "stream",
     "text": [
      "2023-03-28 11:13:13,202:WARNING:matchms:add_precursor_mz:No precursor_mz found in metadata.\n"
     ]
    },
    {
     "name": "stderr",
     "output_type": "stream",
     "text": [
      "2023-03-28 11:13:13,202 - matchms - WARNING - No precursor_mz found in metadata.\n"
     ]
    },
    {
     "name": "stdout",
     "output_type": "stream",
     "text": [
      "2023-03-28 11:13:13,203:WARNING:matchms:add_precursor_mz:No precursor_mz found in metadata.\n"
     ]
    },
    {
     "name": "stderr",
     "output_type": "stream",
     "text": [
      "2023-03-28 11:13:13,203 - matchms - WARNING - No precursor_mz found in metadata.\n"
     ]
    },
    {
     "name": "stdout",
     "output_type": "stream",
     "text": [
      "2023-03-28 11:13:13,204:WARNING:matchms:add_precursor_mz:No precursor_mz found in metadata.\n"
     ]
    },
    {
     "name": "stderr",
     "output_type": "stream",
     "text": [
      "2023-03-28 11:13:13,204 - matchms - WARNING - No precursor_mz found in metadata.\n"
     ]
    },
    {
     "name": "stdout",
     "output_type": "stream",
     "text": [
      "2023-03-28 11:13:13,205:WARNING:matchms:add_precursor_mz:No precursor_mz found in metadata.\n"
     ]
    },
    {
     "name": "stderr",
     "output_type": "stream",
     "text": [
      "2023-03-28 11:13:13,205 - matchms - WARNING - No precursor_mz found in metadata.\n"
     ]
    },
    {
     "name": "stdout",
     "output_type": "stream",
     "text": [
      "2023-03-28 11:13:13,206:WARNING:matchms:add_precursor_mz:No precursor_mz found in metadata.\n"
     ]
    },
    {
     "name": "stderr",
     "output_type": "stream",
     "text": [
      "2023-03-28 11:13:13,206 - matchms - WARNING - No precursor_mz found in metadata.\n"
     ]
    },
    {
     "name": "stdout",
     "output_type": "stream",
     "text": [
      "2023-03-28 11:13:13,207:WARNING:matchms:add_precursor_mz:No precursor_mz found in metadata.\n"
     ]
    },
    {
     "name": "stderr",
     "output_type": "stream",
     "text": [
      "2023-03-28 11:13:13,207 - matchms - WARNING - No precursor_mz found in metadata.\n"
     ]
    },
    {
     "name": "stdout",
     "output_type": "stream",
     "text": [
      "2023-03-28 11:13:13,208:WARNING:matchms:add_precursor_mz:No precursor_mz found in metadata.\n"
     ]
    },
    {
     "name": "stderr",
     "output_type": "stream",
     "text": [
      "2023-03-28 11:13:13,208 - matchms - WARNING - No precursor_mz found in metadata.\n"
     ]
    },
    {
     "name": "stdout",
     "output_type": "stream",
     "text": [
      "2023-03-28 11:13:13,209:WARNING:matchms:add_precursor_mz:No precursor_mz found in metadata.\n"
     ]
    },
    {
     "name": "stderr",
     "output_type": "stream",
     "text": [
      "2023-03-28 11:13:13,209 - matchms - WARNING - No precursor_mz found in metadata.\n"
     ]
    },
    {
     "name": "stdout",
     "output_type": "stream",
     "text": [
      "2023-03-28 11:13:13,210:WARNING:matchms:add_precursor_mz:No precursor_mz found in metadata.\n"
     ]
    },
    {
     "name": "stderr",
     "output_type": "stream",
     "text": [
      "2023-03-28 11:13:13,210 - matchms - WARNING - No precursor_mz found in metadata.\n"
     ]
    },
    {
     "name": "stdout",
     "output_type": "stream",
     "text": [
      "2023-03-28 11:13:13,211:WARNING:matchms:add_precursor_mz:No precursor_mz found in metadata.\n"
     ]
    },
    {
     "name": "stderr",
     "output_type": "stream",
     "text": [
      "2023-03-28 11:13:13,211 - matchms - WARNING - No precursor_mz found in metadata.\n"
     ]
    },
    {
     "name": "stdout",
     "output_type": "stream",
     "text": [
      "2023-03-28 11:13:13,212:WARNING:matchms:add_precursor_mz:No precursor_mz found in metadata.\n"
     ]
    },
    {
     "name": "stderr",
     "output_type": "stream",
     "text": [
      "2023-03-28 11:13:13,212 - matchms - WARNING - No precursor_mz found in metadata.\n"
     ]
    },
    {
     "name": "stdout",
     "output_type": "stream",
     "text": [
      "2023-03-28 11:13:13,213:WARNING:matchms:add_precursor_mz:No precursor_mz found in metadata.\n"
     ]
    },
    {
     "name": "stderr",
     "output_type": "stream",
     "text": [
      "2023-03-28 11:13:13,213 - matchms - WARNING - No precursor_mz found in metadata.\n"
     ]
    },
    {
     "name": "stdout",
     "output_type": "stream",
     "text": [
      "2023-03-28 11:13:13,214:WARNING:matchms:add_precursor_mz:No precursor_mz found in metadata.\n"
     ]
    },
    {
     "name": "stderr",
     "output_type": "stream",
     "text": [
      "2023-03-28 11:13:13,214 - matchms - WARNING - No precursor_mz found in metadata.\n"
     ]
    },
    {
     "name": "stdout",
     "output_type": "stream",
     "text": [
      "2023-03-28 11:13:13,214:WARNING:matchms:add_precursor_mz:No precursor_mz found in metadata.\n"
     ]
    },
    {
     "name": "stderr",
     "output_type": "stream",
     "text": [
      "2023-03-28 11:13:13,214 - matchms - WARNING - No precursor_mz found in metadata.\n"
     ]
    },
    {
     "name": "stdout",
     "output_type": "stream",
     "text": [
      "2023-03-28 11:13:13,216:WARNING:matchms:add_precursor_mz:No precursor_mz found in metadata.\n"
     ]
    },
    {
     "name": "stderr",
     "output_type": "stream",
     "text": [
      "2023-03-28 11:13:13,216 - matchms - WARNING - No precursor_mz found in metadata.\n"
     ]
    },
    {
     "name": "stdout",
     "output_type": "stream",
     "text": [
      "2023-03-28 11:13:13,216:WARNING:matchms:add_precursor_mz:No precursor_mz found in metadata.\n"
     ]
    },
    {
     "name": "stderr",
     "output_type": "stream",
     "text": [
      "2023-03-28 11:13:13,216 - matchms - WARNING - No precursor_mz found in metadata.\n"
     ]
    },
    {
     "name": "stdout",
     "output_type": "stream",
     "text": [
      "2023-03-28 11:13:13,218:WARNING:matchms:add_precursor_mz:No precursor_mz found in metadata.\n"
     ]
    },
    {
     "name": "stderr",
     "output_type": "stream",
     "text": [
      "2023-03-28 11:13:13,218 - matchms - WARNING - No precursor_mz found in metadata.\n"
     ]
    },
    {
     "name": "stdout",
     "output_type": "stream",
     "text": [
      "2023-03-28 11:13:13,219:WARNING:matchms:add_precursor_mz:No precursor_mz found in metadata.\n"
     ]
    },
    {
     "name": "stderr",
     "output_type": "stream",
     "text": [
      "2023-03-28 11:13:13,219 - matchms - WARNING - No precursor_mz found in metadata.\n"
     ]
    },
    {
     "name": "stdout",
     "output_type": "stream",
     "text": [
      "2023-03-28 11:13:13,219:WARNING:matchms:add_precursor_mz:No precursor_mz found in metadata.\n"
     ]
    },
    {
     "name": "stderr",
     "output_type": "stream",
     "text": [
      "2023-03-28 11:13:13,219 - matchms - WARNING - No precursor_mz found in metadata.\n"
     ]
    },
    {
     "name": "stdout",
     "output_type": "stream",
     "text": [
      "2023-03-28 11:13:13,220:WARNING:matchms:add_precursor_mz:No precursor_mz found in metadata.\n"
     ]
    },
    {
     "name": "stderr",
     "output_type": "stream",
     "text": [
      "2023-03-28 11:13:13,220 - matchms - WARNING - No precursor_mz found in metadata.\n"
     ]
    },
    {
     "name": "stdout",
     "output_type": "stream",
     "text": [
      "2023-03-28 11:13:13,222:WARNING:matchms:add_precursor_mz:No precursor_mz found in metadata.\n"
     ]
    },
    {
     "name": "stderr",
     "output_type": "stream",
     "text": [
      "2023-03-28 11:13:13,222 - matchms - WARNING - No precursor_mz found in metadata.\n"
     ]
    },
    {
     "name": "stdout",
     "output_type": "stream",
     "text": [
      "2023-03-28 11:13:13,222:WARNING:matchms:add_precursor_mz:No precursor_mz found in metadata.\n"
     ]
    },
    {
     "name": "stderr",
     "output_type": "stream",
     "text": [
      "2023-03-28 11:13:13,222 - matchms - WARNING - No precursor_mz found in metadata.\n"
     ]
    },
    {
     "name": "stdout",
     "output_type": "stream",
     "text": [
      "2023-03-28 11:13:13,223:WARNING:matchms:add_precursor_mz:No precursor_mz found in metadata.\n"
     ]
    },
    {
     "name": "stderr",
     "output_type": "stream",
     "text": [
      "2023-03-28 11:13:13,223 - matchms - WARNING - No precursor_mz found in metadata.\n"
     ]
    },
    {
     "name": "stdout",
     "output_type": "stream",
     "text": [
      "2023-03-28 11:13:13,224:WARNING:matchms:add_precursor_mz:No precursor_mz found in metadata.\n"
     ]
    },
    {
     "name": "stderr",
     "output_type": "stream",
     "text": [
      "2023-03-28 11:13:13,224 - matchms - WARNING - No precursor_mz found in metadata.\n"
     ]
    },
    {
     "name": "stdout",
     "output_type": "stream",
     "text": [
      "2023-03-28 11:13:13,225:WARNING:matchms:add_precursor_mz:No precursor_mz found in metadata.\n"
     ]
    },
    {
     "name": "stderr",
     "output_type": "stream",
     "text": [
      "2023-03-28 11:13:13,225 - matchms - WARNING - No precursor_mz found in metadata.\n"
     ]
    },
    {
     "name": "stdout",
     "output_type": "stream",
     "text": [
      "2023-03-28 11:13:13,226:WARNING:matchms:add_precursor_mz:No precursor_mz found in metadata.\n"
     ]
    },
    {
     "name": "stderr",
     "output_type": "stream",
     "text": [
      "2023-03-28 11:13:13,226 - matchms - WARNING - No precursor_mz found in metadata.\n"
     ]
    },
    {
     "name": "stdout",
     "output_type": "stream",
     "text": [
      "2023-03-28 11:13:13,227:WARNING:matchms:add_precursor_mz:No precursor_mz found in metadata.\n"
     ]
    },
    {
     "name": "stderr",
     "output_type": "stream",
     "text": [
      "2023-03-28 11:13:13,227 - matchms - WARNING - No precursor_mz found in metadata.\n"
     ]
    },
    {
     "name": "stdout",
     "output_type": "stream",
     "text": [
      "2023-03-28 11:13:13,228:WARNING:matchms:add_precursor_mz:No precursor_mz found in metadata.\n"
     ]
    },
    {
     "name": "stderr",
     "output_type": "stream",
     "text": [
      "2023-03-28 11:13:13,228 - matchms - WARNING - No precursor_mz found in metadata.\n"
     ]
    },
    {
     "name": "stdout",
     "output_type": "stream",
     "text": [
      "2023-03-28 11:13:13,229:WARNING:matchms:add_precursor_mz:No precursor_mz found in metadata.\n"
     ]
    },
    {
     "name": "stderr",
     "output_type": "stream",
     "text": [
      "2023-03-28 11:13:13,229 - matchms - WARNING - No precursor_mz found in metadata.\n"
     ]
    },
    {
     "name": "stdout",
     "output_type": "stream",
     "text": [
      "2023-03-28 11:13:13,230:WARNING:matchms:add_precursor_mz:No precursor_mz found in metadata.\n"
     ]
    },
    {
     "name": "stderr",
     "output_type": "stream",
     "text": [
      "2023-03-28 11:13:13,230 - matchms - WARNING - No precursor_mz found in metadata.\n"
     ]
    },
    {
     "name": "stdout",
     "output_type": "stream",
     "text": [
      "2023-03-28 11:13:13,232:WARNING:matchms:add_precursor_mz:No precursor_mz found in metadata.\n"
     ]
    },
    {
     "name": "stderr",
     "output_type": "stream",
     "text": [
      "2023-03-28 11:13:13,232 - matchms - WARNING - No precursor_mz found in metadata.\n"
     ]
    },
    {
     "name": "stdout",
     "output_type": "stream",
     "text": [
      "2023-03-28 11:13:13,232:WARNING:matchms:add_precursor_mz:No precursor_mz found in metadata.\n"
     ]
    },
    {
     "name": "stderr",
     "output_type": "stream",
     "text": [
      "2023-03-28 11:13:13,232 - matchms - WARNING - No precursor_mz found in metadata.\n"
     ]
    },
    {
     "name": "stdout",
     "output_type": "stream",
     "text": [
      "2023-03-28 11:13:13,234:WARNING:matchms:add_precursor_mz:No precursor_mz found in metadata.\n"
     ]
    },
    {
     "name": "stderr",
     "output_type": "stream",
     "text": [
      "2023-03-28 11:13:13,234 - matchms - WARNING - No precursor_mz found in metadata.\n"
     ]
    },
    {
     "name": "stdout",
     "output_type": "stream",
     "text": [
      "2023-03-28 11:13:13,234:WARNING:matchms:add_precursor_mz:No precursor_mz found in metadata.\n"
     ]
    },
    {
     "name": "stderr",
     "output_type": "stream",
     "text": [
      "2023-03-28 11:13:13,234 - matchms - WARNING - No precursor_mz found in metadata.\n"
     ]
    },
    {
     "name": "stdout",
     "output_type": "stream",
     "text": [
      "2023-03-28 11:13:13,236:WARNING:matchms:add_precursor_mz:No precursor_mz found in metadata.\n"
     ]
    },
    {
     "name": "stderr",
     "output_type": "stream",
     "text": [
      "2023-03-28 11:13:13,236 - matchms - WARNING - No precursor_mz found in metadata.\n"
     ]
    },
    {
     "name": "stdout",
     "output_type": "stream",
     "text": [
      "2023-03-28 11:13:13,236:WARNING:matchms:add_precursor_mz:No precursor_mz found in metadata.\n"
     ]
    },
    {
     "name": "stderr",
     "output_type": "stream",
     "text": [
      "2023-03-28 11:13:13,236 - matchms - WARNING - No precursor_mz found in metadata.\n"
     ]
    },
    {
     "name": "stdout",
     "output_type": "stream",
     "text": [
      "2023-03-28 11:13:13,238:WARNING:matchms:add_precursor_mz:No precursor_mz found in metadata.\n"
     ]
    },
    {
     "name": "stderr",
     "output_type": "stream",
     "text": [
      "2023-03-28 11:13:13,238 - matchms - WARNING - No precursor_mz found in metadata.\n"
     ]
    },
    {
     "name": "stdout",
     "output_type": "stream",
     "text": [
      "2023-03-28 11:13:13,238:WARNING:matchms:add_precursor_mz:No precursor_mz found in metadata.\n"
     ]
    },
    {
     "name": "stderr",
     "output_type": "stream",
     "text": [
      "2023-03-28 11:13:13,238 - matchms - WARNING - No precursor_mz found in metadata.\n"
     ]
    },
    {
     "name": "stdout",
     "output_type": "stream",
     "text": [
      "2023-03-28 11:13:13,239:WARNING:matchms:add_precursor_mz:No precursor_mz found in metadata.\n"
     ]
    },
    {
     "name": "stderr",
     "output_type": "stream",
     "text": [
      "2023-03-28 11:13:13,239 - matchms - WARNING - No precursor_mz found in metadata.\n"
     ]
    },
    {
     "name": "stdout",
     "output_type": "stream",
     "text": [
      "2023-03-28 11:13:13,240:WARNING:matchms:add_precursor_mz:No precursor_mz found in metadata.\n"
     ]
    },
    {
     "name": "stderr",
     "output_type": "stream",
     "text": [
      "2023-03-28 11:13:13,240 - matchms - WARNING - No precursor_mz found in metadata.\n"
     ]
    },
    {
     "name": "stdout",
     "output_type": "stream",
     "text": [
      "2023-03-28 11:13:13,242:WARNING:matchms:add_precursor_mz:No precursor_mz found in metadata.\n"
     ]
    },
    {
     "name": "stderr",
     "output_type": "stream",
     "text": [
      "2023-03-28 11:13:13,242 - matchms - WARNING - No precursor_mz found in metadata.\n"
     ]
    },
    {
     "name": "stdout",
     "output_type": "stream",
     "text": [
      "2023-03-28 11:13:13,243:WARNING:matchms:add_precursor_mz:No precursor_mz found in metadata.\n"
     ]
    },
    {
     "name": "stderr",
     "output_type": "stream",
     "text": [
      "2023-03-28 11:13:13,243 - matchms - WARNING - No precursor_mz found in metadata.\n"
     ]
    },
    {
     "name": "stdout",
     "output_type": "stream",
     "text": [
      "2023-03-28 11:13:13,244:WARNING:matchms:add_precursor_mz:No precursor_mz found in metadata.\n"
     ]
    },
    {
     "name": "stderr",
     "output_type": "stream",
     "text": [
      "2023-03-28 11:13:13,244 - matchms - WARNING - No precursor_mz found in metadata.\n"
     ]
    },
    {
     "name": "stdout",
     "output_type": "stream",
     "text": [
      "2023-03-28 11:13:13,245:WARNING:matchms:add_precursor_mz:No precursor_mz found in metadata.\n"
     ]
    },
    {
     "name": "stderr",
     "output_type": "stream",
     "text": [
      "2023-03-28 11:13:13,245 - matchms - WARNING - No precursor_mz found in metadata.\n"
     ]
    },
    {
     "name": "stdout",
     "output_type": "stream",
     "text": [
      "2023-03-28 11:13:13,247:WARNING:matchms:add_precursor_mz:No precursor_mz found in metadata.\n"
     ]
    },
    {
     "name": "stderr",
     "output_type": "stream",
     "text": [
      "2023-03-28 11:13:13,247 - matchms - WARNING - No precursor_mz found in metadata.\n"
     ]
    },
    {
     "name": "stdout",
     "output_type": "stream",
     "text": [
      "2023-03-28 11:13:13,247:WARNING:matchms:add_precursor_mz:No precursor_mz found in metadata.\n"
     ]
    },
    {
     "name": "stderr",
     "output_type": "stream",
     "text": [
      "2023-03-28 11:13:13,247 - matchms - WARNING - No precursor_mz found in metadata.\n"
     ]
    },
    {
     "name": "stdout",
     "output_type": "stream",
     "text": [
      "2023-03-28 11:13:13,249:WARNING:matchms:add_precursor_mz:No precursor_mz found in metadata.\n"
     ]
    },
    {
     "name": "stderr",
     "output_type": "stream",
     "text": [
      "2023-03-28 11:13:13,249 - matchms - WARNING - No precursor_mz found in metadata.\n"
     ]
    },
    {
     "name": "stdout",
     "output_type": "stream",
     "text": [
      "2023-03-28 11:13:13,249:WARNING:matchms:add_precursor_mz:No precursor_mz found in metadata.\n"
     ]
    },
    {
     "name": "stderr",
     "output_type": "stream",
     "text": [
      "2023-03-28 11:13:13,249 - matchms - WARNING - No precursor_mz found in metadata.\n"
     ]
    },
    {
     "name": "stdout",
     "output_type": "stream",
     "text": [
      "2023-03-28 11:13:13,251:WARNING:matchms:add_precursor_mz:No precursor_mz found in metadata.\n"
     ]
    },
    {
     "name": "stderr",
     "output_type": "stream",
     "text": [
      "2023-03-28 11:13:13,251 - matchms - WARNING - No precursor_mz found in metadata.\n"
     ]
    },
    {
     "name": "stdout",
     "output_type": "stream",
     "text": [
      "2023-03-28 11:13:13,251:WARNING:matchms:add_precursor_mz:No precursor_mz found in metadata.\n"
     ]
    },
    {
     "name": "stderr",
     "output_type": "stream",
     "text": [
      "2023-03-28 11:13:13,251 - matchms - WARNING - No precursor_mz found in metadata.\n"
     ]
    },
    {
     "name": "stdout",
     "output_type": "stream",
     "text": [
      "2023-03-28 11:13:13,253:WARNING:matchms:add_precursor_mz:No precursor_mz found in metadata.\n"
     ]
    },
    {
     "name": "stderr",
     "output_type": "stream",
     "text": [
      "2023-03-28 11:13:13,253 - matchms - WARNING - No precursor_mz found in metadata.\n"
     ]
    },
    {
     "name": "stdout",
     "output_type": "stream",
     "text": [
      "2023-03-28 11:13:13,253:WARNING:matchms:add_precursor_mz:No precursor_mz found in metadata.\n"
     ]
    },
    {
     "name": "stderr",
     "output_type": "stream",
     "text": [
      "2023-03-28 11:13:13,253 - matchms - WARNING - No precursor_mz found in metadata.\n"
     ]
    },
    {
     "name": "stdout",
     "output_type": "stream",
     "text": [
      "2023-03-28 11:13:13,254:WARNING:matchms:add_precursor_mz:No precursor_mz found in metadata.\n"
     ]
    },
    {
     "name": "stderr",
     "output_type": "stream",
     "text": [
      "2023-03-28 11:13:13,254 - matchms - WARNING - No precursor_mz found in metadata.\n"
     ]
    },
    {
     "name": "stdout",
     "output_type": "stream",
     "text": [
      "2023-03-28 11:13:13,255:WARNING:matchms:add_precursor_mz:No precursor_mz found in metadata.\n"
     ]
    },
    {
     "name": "stderr",
     "output_type": "stream",
     "text": [
      "2023-03-28 11:13:13,255 - matchms - WARNING - No precursor_mz found in metadata.\n"
     ]
    },
    {
     "name": "stdout",
     "output_type": "stream",
     "text": [
      "2023-03-28 11:13:13,257:WARNING:matchms:add_precursor_mz:No precursor_mz found in metadata.\n"
     ]
    },
    {
     "name": "stderr",
     "output_type": "stream",
     "text": [
      "2023-03-28 11:13:13,257 - matchms - WARNING - No precursor_mz found in metadata.\n"
     ]
    },
    {
     "name": "stdout",
     "output_type": "stream",
     "text": [
      "2023-03-28 11:13:13,257:WARNING:matchms:add_precursor_mz:No precursor_mz found in metadata.\n"
     ]
    },
    {
     "name": "stderr",
     "output_type": "stream",
     "text": [
      "2023-03-28 11:13:13,257 - matchms - WARNING - No precursor_mz found in metadata.\n"
     ]
    },
    {
     "name": "stdout",
     "output_type": "stream",
     "text": [
      "2023-03-28 11:13:13,259:WARNING:matchms:add_precursor_mz:No precursor_mz found in metadata.\n"
     ]
    },
    {
     "name": "stderr",
     "output_type": "stream",
     "text": [
      "2023-03-28 11:13:13,259 - matchms - WARNING - No precursor_mz found in metadata.\n"
     ]
    },
    {
     "name": "stdout",
     "output_type": "stream",
     "text": [
      "2023-03-28 11:13:13,259:WARNING:matchms:add_precursor_mz:No precursor_mz found in metadata.\n"
     ]
    },
    {
     "name": "stderr",
     "output_type": "stream",
     "text": [
      "2023-03-28 11:13:13,259 - matchms - WARNING - No precursor_mz found in metadata.\n"
     ]
    },
    {
     "name": "stdout",
     "output_type": "stream",
     "text": [
      "2023-03-28 11:13:13,261:WARNING:matchms:add_precursor_mz:No precursor_mz found in metadata.\n"
     ]
    },
    {
     "name": "stderr",
     "output_type": "stream",
     "text": [
      "2023-03-28 11:13:13,261 - matchms - WARNING - No precursor_mz found in metadata.\n"
     ]
    },
    {
     "name": "stdout",
     "output_type": "stream",
     "text": [
      "2023-03-28 11:13:13,261:WARNING:matchms:add_precursor_mz:No precursor_mz found in metadata.\n"
     ]
    },
    {
     "name": "stderr",
     "output_type": "stream",
     "text": [
      "2023-03-28 11:13:13,261 - matchms - WARNING - No precursor_mz found in metadata.\n"
     ]
    },
    {
     "name": "stdout",
     "output_type": "stream",
     "text": [
      "2023-03-28 11:13:13,262:WARNING:matchms:add_precursor_mz:No precursor_mz found in metadata.\n"
     ]
    },
    {
     "name": "stderr",
     "output_type": "stream",
     "text": [
      "2023-03-28 11:13:13,262 - matchms - WARNING - No precursor_mz found in metadata.\n"
     ]
    },
    {
     "name": "stdout",
     "output_type": "stream",
     "text": [
      "2023-03-28 11:13:13,263:WARNING:matchms:add_precursor_mz:No precursor_mz found in metadata.\n"
     ]
    },
    {
     "name": "stderr",
     "output_type": "stream",
     "text": [
      "2023-03-28 11:13:13,263 - matchms - WARNING - No precursor_mz found in metadata.\n"
     ]
    },
    {
     "name": "stdout",
     "output_type": "stream",
     "text": [
      "2023-03-28 11:13:13,264:WARNING:matchms:add_precursor_mz:No precursor_mz found in metadata.\n"
     ]
    },
    {
     "name": "stderr",
     "output_type": "stream",
     "text": [
      "2023-03-28 11:13:13,264 - matchms - WARNING - No precursor_mz found in metadata.\n"
     ]
    },
    {
     "name": "stdout",
     "output_type": "stream",
     "text": [
      "2023-03-28 11:13:13,265:WARNING:matchms:add_precursor_mz:No precursor_mz found in metadata.\n"
     ]
    },
    {
     "name": "stderr",
     "output_type": "stream",
     "text": [
      "2023-03-28 11:13:13,265 - matchms - WARNING - No precursor_mz found in metadata.\n"
     ]
    },
    {
     "name": "stdout",
     "output_type": "stream",
     "text": [
      "2023-03-28 11:13:13,266:WARNING:matchms:add_precursor_mz:No precursor_mz found in metadata.\n"
     ]
    },
    {
     "name": "stderr",
     "output_type": "stream",
     "text": [
      "2023-03-28 11:13:13,266 - matchms - WARNING - No precursor_mz found in metadata.\n"
     ]
    },
    {
     "name": "stdout",
     "output_type": "stream",
     "text": [
      "2023-03-28 11:13:13,266:WARNING:matchms:add_precursor_mz:No precursor_mz found in metadata.\n"
     ]
    },
    {
     "name": "stderr",
     "output_type": "stream",
     "text": [
      "2023-03-28 11:13:13,266 - matchms - WARNING - No precursor_mz found in metadata.\n"
     ]
    },
    {
     "name": "stdout",
     "output_type": "stream",
     "text": [
      "2023-03-28 11:13:13,267:WARNING:matchms:add_precursor_mz:No precursor_mz found in metadata.\n"
     ]
    },
    {
     "name": "stderr",
     "output_type": "stream",
     "text": [
      "2023-03-28 11:13:13,267 - matchms - WARNING - No precursor_mz found in metadata.\n"
     ]
    },
    {
     "name": "stdout",
     "output_type": "stream",
     "text": [
      "2023-03-28 11:13:13,268:WARNING:matchms:add_precursor_mz:No precursor_mz found in metadata.\n"
     ]
    },
    {
     "name": "stderr",
     "output_type": "stream",
     "text": [
      "2023-03-28 11:13:13,268 - matchms - WARNING - No precursor_mz found in metadata.\n"
     ]
    },
    {
     "name": "stdout",
     "output_type": "stream",
     "text": [
      "2023-03-28 11:13:13,270:WARNING:matchms:add_precursor_mz:No precursor_mz found in metadata.\n"
     ]
    },
    {
     "name": "stderr",
     "output_type": "stream",
     "text": [
      "2023-03-28 11:13:13,270 - matchms - WARNING - No precursor_mz found in metadata.\n"
     ]
    },
    {
     "name": "stdout",
     "output_type": "stream",
     "text": [
      "2023-03-28 11:13:13,271:WARNING:matchms:add_precursor_mz:No precursor_mz found in metadata.\n"
     ]
    },
    {
     "name": "stderr",
     "output_type": "stream",
     "text": [
      "2023-03-28 11:13:13,271 - matchms - WARNING - No precursor_mz found in metadata.\n"
     ]
    },
    {
     "name": "stdout",
     "output_type": "stream",
     "text": [
      "2023-03-28 11:13:13,272:WARNING:matchms:add_precursor_mz:No precursor_mz found in metadata.\n"
     ]
    },
    {
     "name": "stderr",
     "output_type": "stream",
     "text": [
      "2023-03-28 11:13:13,272 - matchms - WARNING - No precursor_mz found in metadata.\n"
     ]
    },
    {
     "name": "stdout",
     "output_type": "stream",
     "text": [
      "2023-03-28 11:13:13,272:WARNING:matchms:add_precursor_mz:No precursor_mz found in metadata.\n"
     ]
    },
    {
     "name": "stderr",
     "output_type": "stream",
     "text": [
      "2023-03-28 11:13:13,272 - matchms - WARNING - No precursor_mz found in metadata.\n"
     ]
    },
    {
     "name": "stdout",
     "output_type": "stream",
     "text": [
      "2023-03-28 11:13:13,273:WARNING:matchms:add_precursor_mz:No precursor_mz found in metadata.\n"
     ]
    },
    {
     "name": "stderr",
     "output_type": "stream",
     "text": [
      "2023-03-28 11:13:13,273 - matchms - WARNING - No precursor_mz found in metadata.\n"
     ]
    },
    {
     "name": "stdout",
     "output_type": "stream",
     "text": [
      "2023-03-28 11:13:13,274:WARNING:matchms:add_precursor_mz:No precursor_mz found in metadata.\n"
     ]
    },
    {
     "name": "stderr",
     "output_type": "stream",
     "text": [
      "2023-03-28 11:13:13,274 - matchms - WARNING - No precursor_mz found in metadata.\n"
     ]
    },
    {
     "name": "stdout",
     "output_type": "stream",
     "text": [
      "2023-03-28 11:13:13,274:WARNING:matchms:add_precursor_mz:No precursor_mz found in metadata.\n"
     ]
    },
    {
     "name": "stderr",
     "output_type": "stream",
     "text": [
      "2023-03-28 11:13:13,274 - matchms - WARNING - No precursor_mz found in metadata.\n"
     ]
    },
    {
     "name": "stdout",
     "output_type": "stream",
     "text": [
      "2023-03-28 11:13:13,276:WARNING:matchms:add_precursor_mz:No precursor_mz found in metadata.\n"
     ]
    },
    {
     "name": "stderr",
     "output_type": "stream",
     "text": [
      "2023-03-28 11:13:13,276 - matchms - WARNING - No precursor_mz found in metadata.\n"
     ]
    },
    {
     "name": "stdout",
     "output_type": "stream",
     "text": [
      "2023-03-28 11:13:13,277:WARNING:matchms:add_precursor_mz:No precursor_mz found in metadata.\n"
     ]
    },
    {
     "name": "stderr",
     "output_type": "stream",
     "text": [
      "2023-03-28 11:13:13,277 - matchms - WARNING - No precursor_mz found in metadata.\n"
     ]
    },
    {
     "name": "stdout",
     "output_type": "stream",
     "text": [
      "2023-03-28 11:13:13,278:WARNING:matchms:add_precursor_mz:No precursor_mz found in metadata.\n"
     ]
    },
    {
     "name": "stderr",
     "output_type": "stream",
     "text": [
      "2023-03-28 11:13:13,278 - matchms - WARNING - No precursor_mz found in metadata.\n"
     ]
    },
    {
     "name": "stdout",
     "output_type": "stream",
     "text": [
      "2023-03-28 11:13:13,279:WARNING:matchms:add_precursor_mz:No precursor_mz found in metadata.\n"
     ]
    },
    {
     "name": "stderr",
     "output_type": "stream",
     "text": [
      "2023-03-28 11:13:13,279 - matchms - WARNING - No precursor_mz found in metadata.\n"
     ]
    },
    {
     "name": "stdout",
     "output_type": "stream",
     "text": [
      "2023-03-28 11:13:13,280:WARNING:matchms:add_precursor_mz:No precursor_mz found in metadata.\n"
     ]
    },
    {
     "name": "stderr",
     "output_type": "stream",
     "text": [
      "2023-03-28 11:13:13,280 - matchms - WARNING - No precursor_mz found in metadata.\n"
     ]
    },
    {
     "name": "stdout",
     "output_type": "stream",
     "text": [
      "2023-03-28 11:13:13,281:WARNING:matchms:add_precursor_mz:No precursor_mz found in metadata.\n"
     ]
    },
    {
     "name": "stderr",
     "output_type": "stream",
     "text": [
      "2023-03-28 11:13:13,281 - matchms - WARNING - No precursor_mz found in metadata.\n"
     ]
    },
    {
     "name": "stdout",
     "output_type": "stream",
     "text": [
      "2023-03-28 11:13:13,281:WARNING:matchms:add_precursor_mz:No precursor_mz found in metadata.\n"
     ]
    },
    {
     "name": "stderr",
     "output_type": "stream",
     "text": [
      "2023-03-28 11:13:13,281 - matchms - WARNING - No precursor_mz found in metadata.\n"
     ]
    }
   ],
   "source": [
    "#sim = matchms.similarity.CosineGreedy()\n",
    "sim = matchms.similarity.CosineHungarian(mz_power=3., intensity_power=.6)\n",
    "\n",
    "scores = [ sim.pair(to_matchms_spec(true[i]),to_matchms_spec(pred[i])) for i in range(len(true)) ]"
   ]
  },
  {
   "cell_type": "code",
   "execution_count": 19,
   "id": "df593a7e-f559-4f46-8be0-ddd070d59ea1",
   "metadata": {
    "tags": []
   },
   "outputs": [
    {
     "data": {
      "image/png": "[encoded data removed]",
      "text/plain": [
       "<Figure size 640x480 with 1 Axes>"
      ]
     },
     "metadata": {},
     "output_type": "display_data"
    }
   ],
   "source": [
    "scoresonly = np.array([ float(s['score']) for s in scores ])\n",
    "\n",
    "smooth = np.convolve(scoresonly, np.ones(10)/10, mode='valid')\n",
    "\n",
    "plt.plot(smooth)\n",
    "#plt.plot([ float(s['matches']) for s in scores ])\n",
    "plt.show()"
   ]
  },
  {
   "cell_type": "code",
   "execution_count": null,
   "id": "ca37ea43-a081-4f09-bff8-f1f5b7831299",
   "metadata": {},
   "outputs": [],
   "source": []
  }
 ],
 "metadata": {
  "kernelspec": {
   "display_name": "Python 3 (ipykernel)",
   "language": "python",
   "name": "python3"
  },
  "language_info": {
   "codemirror_mode": {
    "name": "ipython",
    "version": 3
   },
   "file_extension": ".py",
   "mimetype": "text/x-python",
   "name": "python",
   "nbconvert_exporter": "python",
   "pygments_lexer": "ipython3",
   "version": "3.8.13"
  }
 },
 "nbformat": 4,
 "nbformat_minor": 5
}
